{
  "nbformat": 4,
  "nbformat_minor": 0,
  "metadata": {
    "kernelspec": {
      "name": "python3",
      "display_name": "Python 3"
    },
    "colab": {
      "name": "2-Model_train2-overfit2_GPU.ipynb",
      "provenance": []
    },
    "language_info": {
      "name": "python"
    },
    "accelerator": "GPU"
  },
  "cells": [
    {
      "cell_type": "markdown",
      "metadata": {
        "id": "so7LGcBSa8EC"
      },
      "source": [
        "## Kue Dataset - Model4_2\n",
        "\n",
        "Model4_2\n"
      ]
    },
    {
      "cell_type": "code",
      "metadata": {
        "id": "HkuDEfDba8EO"
      },
      "source": [
        "# conda install -c conda-forge keras"
      ],
      "execution_count": 141,
      "outputs": []
    },
    {
      "cell_type": "code",
      "metadata": {
        "id": "SvIbOTSWa8EP"
      },
      "source": [
        "import os\n",
        "import re\n",
        "import glob\n",
        "\n",
        "import scipy.io\n",
        "import cv2\n",
        "from PIL import Image\n",
        "import pandas as pd\n",
        "import numpy as np\n",
        "import matplotlib.pyplot as plt\n",
        "import tqdm\n",
        "import shutil\n",
        "\n",
        "from sklearn.model_selection import train_test_split\n",
        "from sklearn.metrics import classification_report\n",
        "from scipy.io import loadmat\n",
        "import random\n",
        "import sklearn\n",
        "import seaborn as sns\n",
        "import matplotlib.pyplot as plt\n"
      ],
      "execution_count": 142,
      "outputs": []
    },
    {
      "cell_type": "code",
      "metadata": {
        "id": "N9_-os7Sbh_c",
        "colab": {
          "base_uri": "https://localhost:8080/"
        },
        "outputId": "8faa29c0-0655-4bf8-e78c-55da0c6f3186"
      },
      "source": [
        "from google.colab import drive\n",
        "drive.mount('/content/drive')"
      ],
      "execution_count": 143,
      "outputs": [
        {
          "output_type": "stream",
          "text": [
            "Drive already mounted at /content/drive; to attempt to forcibly remount, call drive.mount(\"/content/drive\", force_remount=True).\n"
          ],
          "name": "stdout"
        }
      ]
    },
    {
      "cell_type": "code",
      "metadata": {
        "id": "rBaYG307a8EP"
      },
      "source": [
        "# PATH_DATA = '../data/'\n",
        "# PATH_DATA_IMAGES = '../../../../My_Dataset/images/dataset257/'\n",
        "PATH_DATA_IMAGES = 'drive/MyDrive/Repository/Data/dataset257/'\n",
        "PATH_DATA_TRAIN = PATH_DATA_IMAGES+'train/'\n",
        "PATH_DATA_VAL = PATH_DATA_IMAGES+'validation/'\n",
        "PATH_DATA_TEST = PATH_DATA_IMAGES+'test/'\n",
        "PATH_MODEL = 'drive/MyDrive/Repository/Model/'"
      ],
      "execution_count": 144,
      "outputs": []
    },
    {
      "cell_type": "code",
      "metadata": {
        "id": "2HonpXOsa8EQ",
        "colab": {
          "base_uri": "https://localhost:8080/"
        },
        "outputId": "ae1dcaca-2f50-4087-a0a4-1c7bf809422f"
      },
      "source": [
        "os.listdir(PATH_DATA_TRAIN)"
      ],
      "execution_count": 145,
      "outputs": [
        {
          "output_type": "execute_result",
          "data": {
            "text/plain": [
              "['.DS_Store',\n",
              " 'kue_kastengel',\n",
              " 'kue_dadar_gulung',\n",
              " 'kue_risoles',\n",
              " 'kue_klepon',\n",
              " 'kue_putri_salju',\n",
              " 'kue_lumpur',\n",
              " 'kue_lapis',\n",
              " 'kue_serabi']"
            ]
          },
          "metadata": {
            "tags": []
          },
          "execution_count": 145
        }
      ]
    },
    {
      "cell_type": "code",
      "metadata": {
        "id": "Aef6PSaxa8ES"
      },
      "source": [
        ""
      ],
      "execution_count": 145,
      "outputs": []
    },
    {
      "cell_type": "markdown",
      "metadata": {
        "id": "c6iLHlmXa8ES"
      },
      "source": [
        "## Modeling"
      ]
    },
    {
      "cell_type": "code",
      "metadata": {
        "id": "d8tV2RaNa8ES"
      },
      "source": [
        "from keras.models import Sequential\n",
        "from keras.layers import Conv2D, MaxPooling2D, Activation, Dropout, Flatten, Dense\n",
        "from keras.preprocessing.image import ImageDataGenerator\n",
        "from keras import metrics, optimizers\n",
        "import keras\n",
        "import tensorflow as tf\n",
        "from keras.models import load_model\n"
      ],
      "execution_count": 147,
      "outputs": []
    },
    {
      "cell_type": "code",
      "metadata": {
        "id": "mrEGDjjHa8ET",
        "colab": {
          "base_uri": "https://localhost:8080/"
        },
        "outputId": "a17ff2e4-8100-4ea1-cf80-478bb0e74467"
      },
      "source": [
        "# sess = tf.compat.v1.Session(config=tf.compat.v1.ConfigProto(log_device_placement=True))\n",
        "# tf.debugging.set_log_device_placement(True)\n",
        "print(\"Num GPUs Available: \", len(tf.config.experimental.list_physical_devices('GPU')))"
      ],
      "execution_count": 148,
      "outputs": [
        {
          "output_type": "stream",
          "text": [
            "Num GPUs Available:  1\n"
          ],
          "name": "stdout"
        }
      ]
    },
    {
      "cell_type": "code",
      "metadata": {
        "id": "uXuKIpmva8EU",
        "colab": {
          "base_uri": "https://localhost:8080/"
        },
        "outputId": "7eaf9c36-b709-452b-e5d7-a2853e3801d4"
      },
      "source": [
        "## label dict\n",
        "lab = [i for i in os.listdir(PATH_DATA_TRAIN) if '.' not in i]\n",
        "lab.sort()\n",
        "\n",
        "label_dict = dict(zip(lab,[i for i in range(len(lab))]))\n",
        "label_dict"
      ],
      "execution_count": 149,
      "outputs": [
        {
          "output_type": "execute_result",
          "data": {
            "text/plain": [
              "{'kue_dadar_gulung': 0,\n",
              " 'kue_kastengel': 1,\n",
              " 'kue_klepon': 2,\n",
              " 'kue_lapis': 3,\n",
              " 'kue_lumpur': 4,\n",
              " 'kue_putri_salju': 5,\n",
              " 'kue_risoles': 6,\n",
              " 'kue_serabi': 7}"
            ]
          },
          "metadata": {
            "tags": []
          },
          "execution_count": 149
        }
      ]
    },
    {
      "cell_type": "code",
      "metadata": {
        "id": "VZqirKGha8EU"
      },
      "source": [
        "LABEL_SIZE = len(label_dict.keys())\n",
        "IMAGE_SIZE = 128"
      ],
      "execution_count": 150,
      "outputs": []
    },
    {
      "cell_type": "code",
      "metadata": {
        "id": "BeicgeK-IzHV"
      },
      "source": [
        "# ?Conv2D"
      ],
      "execution_count": 151,
      "outputs": []
    },
    {
      "cell_type": "code",
      "metadata": {
        "id": "YzCbCVH8a8EU"
      },
      "source": [
        "just_cake_model = load_model(PATH_MODEL +'just_cake_model-colab3.h5',compile=False)"
      ],
      "execution_count": 153,
      "outputs": []
    },
    {
      "cell_type": "code",
      "metadata": {
        "id": "BeLsYMtua8EV",
        "colab": {
          "base_uri": "https://localhost:8080/"
        },
        "outputId": "14b028e5-2700-4072-a9da-367d1e72f210"
      },
      "source": [
        "just_cake_model.summary()"
      ],
      "execution_count": 154,
      "outputs": [
        {
          "output_type": "stream",
          "text": [
            "Model: \"sequential\"\n",
            "_________________________________________________________________\n",
            "Layer (type)                 Output Shape              Param #   \n",
            "=================================================================\n",
            "conv2d (Conv2D)              (None, 126, 126, 128)     3584      \n",
            "_________________________________________________________________\n",
            "conv2d_1 (Conv2D)            (None, 126, 126, 128)     147584    \n",
            "_________________________________________________________________\n",
            "max_pooling2d (MaxPooling2D) (None, 63, 63, 128)       0         \n",
            "_________________________________________________________________\n",
            "conv2d_2 (Conv2D)            (None, 61, 61, 256)       295168    \n",
            "_________________________________________________________________\n",
            "max_pooling2d_1 (MaxPooling2 (None, 30, 30, 256)       0         \n",
            "_________________________________________________________________\n",
            "conv2d_3 (Conv2D)            (None, 28, 28, 256)       590080    \n",
            "_________________________________________________________________\n",
            "max_pooling2d_2 (MaxPooling2 (None, 14, 14, 256)       0         \n",
            "_________________________________________________________________\n",
            "conv2d_4 (Conv2D)            (None, 12, 12, 256)       590080    \n",
            "_________________________________________________________________\n",
            "max_pooling2d_3 (MaxPooling2 (None, 6, 6, 256)         0         \n",
            "_________________________________________________________________\n",
            "flatten (Flatten)            (None, 9216)              0         \n",
            "_________________________________________________________________\n",
            "dense (Dense)                (None, 64)                589888    \n",
            "_________________________________________________________________\n",
            "dense_1 (Dense)              (None, 16)                1040      \n",
            "_________________________________________________________________\n",
            "dense_2 (Dense)              (None, 8)                 136       \n",
            "_________________________________________________________________\n",
            "dense_3 (Dense)              (None, 8)                 72        \n",
            "=================================================================\n",
            "Total params: 2,217,632\n",
            "Trainable params: 2,217,632\n",
            "Non-trainable params: 0\n",
            "_________________________________________________________________\n"
          ],
          "name": "stdout"
        }
      ]
    },
    {
      "cell_type": "code",
      "metadata": {
        "id": "bcqj7uusa8EV"
      },
      "source": [
        ""
      ],
      "execution_count": 154,
      "outputs": []
    },
    {
      "cell_type": "code",
      "metadata": {
        "id": "I3ghe_Wxa8EV"
      },
      "source": [
        "## compile model\n",
        "opt = optimizers.Adam(learning_rate=0.00001)\n",
        "just_cake_model.compile(\n",
        "              loss='categorical_crossentropy',\n",
        "              #optimizer='rmsprop',\n",
        "              optimizer = opt,\n",
        "              metrics=['accuracy',\n",
        "                      #  metrics.SparseCategoricalAccuracy(),\n",
        "                       metrics.AUC()])"
      ],
      "execution_count": 167,
      "outputs": []
    },
    {
      "cell_type": "code",
      "metadata": {
        "id": "mVaNvqLwa8EW"
      },
      "source": [
        ""
      ],
      "execution_count": 167,
      "outputs": []
    },
    {
      "cell_type": "code",
      "metadata": {
        "id": "vrqkfHQVa8EW",
        "colab": {
          "base_uri": "https://localhost:8080/"
        },
        "outputId": "56968dad-92c8-40c9-b1b2-0df680529afc"
      },
      "source": [
        "## data generator\n",
        "BATCH_SIZE = 32\n",
        "# train_datagen = ImageDataGenerator(\n",
        "#         rescale=1./255,\n",
        "#         zoom_range=0.15,\n",
        "#         rotation_range=40,\n",
        "#         width_shift_range=0.25,\n",
        "#         height_shift_range=0.25,\n",
        "#         # shear_range=0.25,\n",
        "#         # horizontal_flip=True\n",
        "#         )\n",
        "\n",
        "train_datagen = ImageDataGenerator(\n",
        "        rescale=1./255,\n",
        "        zoom_range=0.15,\n",
        "        rotation_range=65,\n",
        "        width_shift_range=0.4,\n",
        "        height_shift_range=0.4,\n",
        "        shear_range=0.5,\n",
        "        # horizontal_flip=True\n",
        "        )\n",
        "\n",
        "val_datagen = ImageDataGenerator(rescale=1./255)\n",
        "test_datagen = ImageDataGenerator(rescale=1./255)\n",
        "\n",
        "## Shuffle = True\n",
        "train_generator = train_datagen.flow_from_directory(\n",
        "        PATH_DATA_TRAIN,  \n",
        "        target_size=(IMAGE_SIZE, IMAGE_SIZE), \n",
        "        batch_size=BATCH_SIZE,\n",
        "        seed=301,\n",
        "        class_mode=\"categorical\" )  \n",
        "\n",
        "val_generator = val_datagen.flow_from_directory(\n",
        "        PATH_DATA_VAL,  \n",
        "        target_size=(IMAGE_SIZE, IMAGE_SIZE), \n",
        "        batch_size=BATCH_SIZE,\n",
        "        seed=301,\n",
        "        class_mode=\"categorical\" )  \n",
        "\n",
        "test_generator = test_datagen.flow_from_directory(\n",
        "        PATH_DATA_TEST,\n",
        "        target_size=(IMAGE_SIZE, IMAGE_SIZE),\n",
        "        batch_size=BATCH_SIZE,\n",
        "        seed=301,\n",
        "        class_mode=\"categorical\" )"
      ],
      "execution_count": 168,
      "outputs": [
        {
          "output_type": "stream",
          "text": [
            "Found 1516 images belonging to 8 classes.\n",
            "Found 160 images belonging to 8 classes.\n",
            "Found 160 images belonging to 8 classes.\n"
          ],
          "name": "stdout"
        }
      ]
    },
    {
      "cell_type": "code",
      "metadata": {
        "id": "uLEvwq7ha8EW"
      },
      "source": [
        ""
      ],
      "execution_count": 168,
      "outputs": []
    },
    {
      "cell_type": "code",
      "metadata": {
        "id": "le97FcMUa8EX",
        "colab": {
          "base_uri": "https://localhost:8080/"
        },
        "outputId": "4cc383bd-c2ae-47c7-b6fb-3cb19c0e8d1d"
      },
      "source": [
        "## save best model and use early stopping\n",
        "early_stop = keras.callbacks.EarlyStopping(\n",
        "        monitor='val_loss',mode='min', patience=8) \n",
        "check_p = keras.callbacks.ModelCheckpoint(\n",
        "        filepath=PATH_MODEL+'just_cake_model-colab4_2.h5',\n",
        "        monitor='val_loss',\n",
        "        mode='min',\n",
        "        save_best_only=True)\n",
        "\n",
        "epoch_hist = just_cake_model.fit(\n",
        "        train_generator,\n",
        "        steps_per_epoch=1516 // BATCH_SIZE,\n",
        "        validation_data=val_generator,\n",
        "        validation_steps=160 // BATCH_SIZE,\n",
        "        callbacks=[early_stop,check_p],\n",
        "        epochs=8)"
      ],
      "execution_count": 175,
      "outputs": [
        {
          "output_type": "stream",
          "text": [
            "Epoch 1/8\n",
            "47/47 [==============================] - 32s 675ms/step - loss: 0.5204 - accuracy: 0.8592 - auc_18: 0.9775 - val_loss: 1.1844 - val_accuracy: 0.7750 - val_auc_18: 0.9411\n",
            "Epoch 2/8\n",
            "47/47 [==============================] - 32s 679ms/step - loss: 0.5951 - accuracy: 0.8477 - auc_18: 0.9718 - val_loss: 1.1743 - val_accuracy: 0.7812 - val_auc_18: 0.9416\n",
            "Epoch 3/8\n",
            "47/47 [==============================] - 32s 673ms/step - loss: 0.5472 - accuracy: 0.8470 - auc_18: 0.9773 - val_loss: 1.1536 - val_accuracy: 0.7875 - val_auc_18: 0.9414\n",
            "Epoch 4/8\n",
            "47/47 [==============================] - 32s 669ms/step - loss: 0.5376 - accuracy: 0.8524 - auc_18: 0.9761 - val_loss: 1.1567 - val_accuracy: 0.7875 - val_auc_18: 0.9416\n",
            "Epoch 5/8\n",
            "47/47 [==============================] - 32s 678ms/step - loss: 0.4839 - accuracy: 0.8625 - auc_18: 0.9784 - val_loss: 1.1534 - val_accuracy: 0.7812 - val_auc_18: 0.9415\n",
            "Epoch 6/8\n",
            "47/47 [==============================] - 32s 677ms/step - loss: 0.5443 - accuracy: 0.8457 - auc_18: 0.9756 - val_loss: 1.1521 - val_accuracy: 0.7812 - val_auc_18: 0.9416\n",
            "Epoch 7/8\n",
            "47/47 [==============================] - 32s 674ms/step - loss: 0.5693 - accuracy: 0.8484 - auc_18: 0.9757 - val_loss: 1.1495 - val_accuracy: 0.7937 - val_auc_18: 0.9416\n",
            "Epoch 8/8\n",
            "47/47 [==============================] - 32s 674ms/step - loss: 0.5527 - accuracy: 0.8538 - auc_18: 0.9740 - val_loss: 1.1520 - val_accuracy: 0.7875 - val_auc_18: 0.9414\n"
          ],
          "name": "stdout"
        }
      ]
    },
    {
      "cell_type": "code",
      "metadata": {
        "id": "f7M0VUjRa8EX"
      },
      "source": [
        " "
      ],
      "execution_count": 175,
      "outputs": []
    },
    {
      "cell_type": "markdown",
      "metadata": {
        "id": "vYNh90-1a8EY"
      },
      "source": [
        "## Evaluations"
      ]
    },
    {
      "cell_type": "code",
      "metadata": {
        "id": "YZVpHz9sa8EY"
      },
      "source": [
        "df_epoch_hist = pd.DataFrame(epoch_hist.history)"
      ],
      "execution_count": 176,
      "outputs": []
    },
    {
      "cell_type": "code",
      "metadata": {
        "id": "Kt-rcVuna8EY",
        "colab": {
          "base_uri": "https://localhost:8080/",
          "height": 282
        },
        "outputId": "e19e2ec0-9ff2-4b25-f6db-17dade960d54"
      },
      "source": [
        "df_epoch_hist[['val_loss','loss']].plot()"
      ],
      "execution_count": 177,
      "outputs": [
        {
          "output_type": "execute_result",
          "data": {
            "text/plain": [
              "<matplotlib.axes._subplots.AxesSubplot at 0x7f1f56d21ed0>"
            ]
          },
          "metadata": {
            "tags": []
          },
          "execution_count": 177
        },
        {
          "output_type": "display_data",
          "data": {
            "image/png": "[encoded data removed]",
            "text/plain": [
              "<Figure size 432x288 with 1 Axes>"
            ]
          },
          "metadata": {
            "tags": [],
            "needs_background": "light"
          }
        }
      ]
    },
    {
      "cell_type": "code",
      "metadata": {
        "id": "S55RWENTa8EZ"
      },
      "source": [
        ""
      ],
      "execution_count": 177,
      "outputs": []
    },
    {
      "cell_type": "code",
      "metadata": {
        "id": "8ZyYSsSaa8EZ"
      },
      "source": [
        "# depd = {'auc_1' : metrics.AUC}\n",
        "model_load4_2 = load_model(PATH_MODEL + 'just_cake_model-colab4_2.h5')\n",
        "model_load3 = load_model(PATH_MODEL + 'just_cake_model-colab3.h5')"
      ],
      "execution_count": 178,
      "outputs": []
    },
    {
      "cell_type": "code",
      "metadata": {
        "id": "V1Xi2fDi2SlG",
        "outputId": "d532bd5e-e7c4-44e9-ef02-49192e755736",
        "colab": {
          "base_uri": "https://localhost:8080/"
        }
      },
      "source": [
        "model_load3.evaluate(val_generator)"
      ],
      "execution_count": 179,
      "outputs": [
        {
          "output_type": "stream",
          "text": [
            "5/5 [==============================] - 2s 397ms/step - loss: 1.3944 - accuracy: 0.7688 - auc_9: 0.9383\n"
          ],
          "name": "stdout"
        },
        {
          "output_type": "execute_result",
          "data": {
            "text/plain": [
              "[1.3944469690322876, 0.768750011920929, 0.9382812976837158]"
            ]
          },
          "metadata": {
            "tags": []
          },
          "execution_count": 179
        }
      ]
    },
    {
      "cell_type": "code",
      "metadata": {
        "colab": {
          "base_uri": "https://localhost:8080/"
        },
        "id": "k3flvFif2Oh5",
        "outputId": "69a29037-7714-4b5a-f79f-ea40950e6b33"
      },
      "source": [
        "model_load4_2.evaluate(val_generator)"
      ],
      "execution_count": 180,
      "outputs": [
        {
          "output_type": "stream",
          "text": [
            "5/5 [==============================] - 2s 398ms/step - loss: 1.1495 - accuracy: 0.7937 - auc_18: 0.9416\n"
          ],
          "name": "stdout"
        },
        {
          "output_type": "execute_result",
          "data": {
            "text/plain": [
              "[1.1495448350906372, 0.793749988079071, 0.9415680170059204]"
            ]
          },
          "metadata": {
            "tags": []
          },
          "execution_count": 180
        }
      ]
    },
    {
      "cell_type": "code",
      "metadata": {
        "id": "aPYSn6PH5e8z"
      },
      "source": [
        "def eval_model(gen_,model_load):\n",
        "  per = np.random.permutation(gen_.n)\n",
        "  gen_.index_array = per\n",
        "  y_true = gen_.classes[per]\n",
        "\n",
        "  predictions = model_load.predict(gen_)\n",
        "  y_pred = np.argmax(predictions, axis=1)\n",
        "\n",
        "  cm = sklearn.metrics.confusion_matrix(y_true, y_pred)\n",
        "  plt.figure(figsize = (12,8))\n",
        "  sns.heatmap(cm, annot= True)\n",
        "  print(classification_report(y_true, y_pred))"
      ],
      "execution_count": 193,
      "outputs": []
    },
    {
      "cell_type": "code",
      "metadata": {
        "id": "r9ORPhvoHJcS"
      },
      "source": [
        ""
      ],
      "execution_count": 193,
      "outputs": []
    },
    {
      "cell_type": "markdown",
      "metadata": {
        "id": "4XLIgNWzHJq8"
      },
      "source": [
        "#### 1. Train"
      ]
    },
    {
      "cell_type": "code",
      "metadata": {
        "id": "-q1p5srg5lUE",
        "outputId": "435f9483-5591-4a72-bfb9-90bb0ef887ca",
        "colab": {
          "base_uri": "https://localhost:8080/",
          "height": 738
        }
      },
      "source": [
        "eval_model(train_generator, model_load4_2)"
      ],
      "execution_count": 194,
      "outputs": [
        {
          "output_type": "stream",
          "text": [
            "              precision    recall  f1-score   support\n",
            "\n",
            "           0       0.78      0.80      0.79       192\n",
            "           1       0.82      0.89      0.85       181\n",
            "           2       0.96      0.93      0.95       197\n",
            "           3       0.82      0.83      0.82       201\n",
            "           4       0.91      0.84      0.87       197\n",
            "           5       0.90      0.88      0.89       172\n",
            "           6       0.85      0.84      0.85       196\n",
            "           7       0.77      0.78      0.77       180\n",
            "\n",
            "    accuracy                           0.85      1516\n",
            "   macro avg       0.85      0.85      0.85      1516\n",
            "weighted avg       0.85      0.85      0.85      1516\n",
            "\n"
          ],
          "name": "stdout"
        },
        {
          "output_type": "display_data",
          "data": {
            "image/png": "[encoded data removed]",
            "text/plain": [
              "<Figure size 864x576 with 2 Axes>"
            ]
          },
          "metadata": {
            "tags": [],
            "needs_background": "light"
          }
        }
      ]
    },
    {
      "cell_type": "code",
      "metadata": {
        "id": "buhwuizga8Eb"
      },
      "source": [
        ""
      ],
      "execution_count": 189,
      "outputs": []
    },
    {
      "cell_type": "markdown",
      "metadata": {
        "id": "KzcEymkyHQIg"
      },
      "source": [
        "#### 2. Validations"
      ]
    },
    {
      "cell_type": "code",
      "metadata": {
        "id": "SI1iniF7HQIg",
        "colab": {
          "base_uri": "https://localhost:8080/",
          "height": 742
        },
        "outputId": "69433411-2dcd-4dcb-f488-de7133925ae5"
      },
      "source": [
        "eval_model(val_generator, model_load4_2)"
      ],
      "execution_count": 195,
      "outputs": [
        {
          "output_type": "stream",
          "text": [
            "              precision    recall  f1-score   support\n",
            "\n",
            "           0       0.71      0.60      0.65        20\n",
            "           1       0.75      0.75      0.75        20\n",
            "           2       0.91      1.00      0.95        20\n",
            "           3       0.72      0.65      0.68        20\n",
            "           4       0.84      0.80      0.82        20\n",
            "           5       1.00      0.90      0.95        20\n",
            "           6       0.81      0.85      0.83        20\n",
            "           7       0.64      0.80      0.71        20\n",
            "\n",
            "    accuracy                           0.79       160\n",
            "   macro avg       0.80      0.79      0.79       160\n",
            "weighted avg       0.80      0.79      0.79       160\n",
            "\n"
          ],
          "name": "stdout"
        },
        {
          "output_type": "display_data",
          "data": {
            "image/png": "[encoded data removed]",
            "text/plain": [
              "<Figure size 864x576 with 2 Axes>"
            ]
          },
          "metadata": {
            "tags": [],
            "needs_background": "light"
          }
        }
      ]
    },
    {
      "cell_type": "code",
      "metadata": {
        "id": "xXX1k6FtHmpz"
      },
      "source": [
        ""
      ],
      "execution_count": 192,
      "outputs": []
    },
    {
      "cell_type": "markdown",
      "metadata": {
        "id": "C9hTA7_I5Akq"
      },
      "source": [
        "#### 3. Test"
      ]
    },
    {
      "cell_type": "code",
      "metadata": {
        "id": "osh2xJav5Akq",
        "outputId": "b33069bd-995f-4eb0-8578-f599c2fd26cd",
        "colab": {
          "base_uri": "https://localhost:8080/",
          "height": 742
        }
      },
      "source": [
        "eval_model(test_generator, model_load4_2)"
      ],
      "execution_count": 196,
      "outputs": [
        {
          "output_type": "stream",
          "text": [
            "              precision    recall  f1-score   support\n",
            "\n",
            "           0       0.82      0.90      0.86        20\n",
            "           1       0.87      0.91      0.89        22\n",
            "           2       0.95      1.00      0.98        20\n",
            "           3       0.82      0.70      0.76        20\n",
            "           4       0.84      0.80      0.82        20\n",
            "           5       0.89      0.94      0.92        18\n",
            "           6       0.78      0.90      0.84        20\n",
            "           7       0.94      0.75      0.83        20\n",
            "\n",
            "    accuracy                           0.86       160\n",
            "   macro avg       0.87      0.86      0.86       160\n",
            "weighted avg       0.86      0.86      0.86       160\n",
            "\n"
          ],
          "name": "stdout"
        },
        {
          "output_type": "display_data",
          "data": {
            "image/png": "[encoded data removed]",
            "text/plain": [
              "<Figure size 864x576 with 2 Axes>"
            ]
          },
          "metadata": {
            "tags": [],
            "needs_background": "light"
          }
        }
      ]
    },
    {
      "cell_type": "code",
      "metadata": {
        "id": "8iO6I6qC5Ak2",
        "outputId": "6548d0c4-8224-4891-bde2-c173fa1c6b3d",
        "colab": {
          "base_uri": "https://localhost:8080/",
          "height": 742
        }
      },
      "source": [
        "eval_model(test_generator, model_load3)"
      ],
      "execution_count": 197,
      "outputs": [
        {
          "output_type": "stream",
          "text": [
            "              precision    recall  f1-score   support\n",
            "\n",
            "           0       0.81      0.85      0.83        20\n",
            "           1       1.00      0.77      0.87        22\n",
            "           2       1.00      1.00      1.00        20\n",
            "           3       0.78      0.70      0.74        20\n",
            "           4       0.80      0.80      0.80        20\n",
            "           5       0.90      1.00      0.95        18\n",
            "           6       0.77      1.00      0.87        20\n",
            "           7       0.83      0.75      0.79        20\n",
            "\n",
            "    accuracy                           0.86       160\n",
            "   macro avg       0.86      0.86      0.86       160\n",
            "weighted avg       0.86      0.86      0.85       160\n",
            "\n"
          ],
          "name": "stdout"
        },
        {
          "output_type": "display_data",
          "data": {
            "image/png": "[encoded data removed]",
            "text/plain": [
              "<Figure size 864x576 with 2 Axes>"
            ]
          },
          "metadata": {
            "tags": [],
            "needs_background": "light"
          }
        }
      ]
    },
    {
      "cell_type": "code",
      "metadata": {
        "id": "JqCrvl236B3q"
      },
      "source": [
        ""
      ],
      "execution_count": null,
      "outputs": []
    }
  ]
}