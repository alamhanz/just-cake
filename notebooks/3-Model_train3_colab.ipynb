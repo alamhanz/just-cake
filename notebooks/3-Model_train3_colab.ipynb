{
  "nbformat": 4,
  "nbformat_minor": 0,
  "metadata": {
    "kernelspec": {
      "name": "python3",
      "display_name": "Python 3"
    },
    "colab": {
      "name": "2-Model_train2-overfit2_GPU.ipynb",
      "provenance": []
    },
    "language_info": {
      "name": "python"
    },
    "accelerator": "GPU"
  },
  "cells": [
    {
      "cell_type": "markdown",
      "metadata": {
        "id": "so7LGcBSa8EC"
      },
      "source": [
        "## Kue Dataset - Model2\n",
        "\n",
        "overfit model2\n"
      ]
    },
    {
      "cell_type": "code",
      "metadata": {
        "id": "HkuDEfDba8EO"
      },
      "source": [
        "# conda install -c conda-forge keras"
      ],
      "execution_count": 83,
      "outputs": []
    },
    {
      "cell_type": "code",
      "metadata": {
        "id": "SvIbOTSWa8EP"
      },
      "source": [
        "import os\n",
        "import re\n",
        "import glob\n",
        "\n",
        "import scipy.io\n",
        "import cv2\n",
        "from PIL import Image\n",
        "import pandas as pd\n",
        "import numpy as np\n",
        "import matplotlib.pyplot as plt\n",
        "import tqdm\n",
        "import shutil\n",
        "\n",
        "from sklearn.model_selection import train_test_split\n",
        "from sklearn.metrics import classification_report\n",
        "from scipy.io import loadmat\n",
        "import random\n",
        "import sklearn\n",
        "import seaborn as sns\n",
        "import matplotlib.pyplot as plt\n"
      ],
      "execution_count": 113,
      "outputs": []
    },
    {
      "cell_type": "code",
      "metadata": {
        "id": "N9_-os7Sbh_c",
        "colab": {
          "base_uri": "https://localhost:8080/"
        },
        "outputId": "c7f4e433-416a-4f3e-9beb-435c7141a4b1"
      },
      "source": [
        "from google.colab import drive\n",
        "drive.mount('/content/drive')"
      ],
      "execution_count": 85,
      "outputs": [
        {
          "output_type": "stream",
          "text": [
            "Drive already mounted at /content/drive; to attempt to forcibly remount, call drive.mount(\"/content/drive\", force_remount=True).\n"
          ],
          "name": "stdout"
        }
      ]
    },
    {
      "cell_type": "code",
      "metadata": {
        "id": "rBaYG307a8EP"
      },
      "source": [
        "# PATH_DATA = '../data/'\n",
        "# PATH_DATA_IMAGES = '../../../../My_Dataset/images/dataset257/'\n",
        "PATH_DATA_IMAGES = 'drive/MyDrive/Repository/Data/dataset257/'\n",
        "PATH_DATA_TRAIN = PATH_DATA_IMAGES+'train/'\n",
        "PATH_DATA_VAL = PATH_DATA_IMAGES+'validation/'\n",
        "PATH_DATA_TEST = PATH_DATA_IMAGES+'test/'\n",
        "PATH_MODEL = 'drive/MyDrive/Repository/Model/'"
      ],
      "execution_count": 86,
      "outputs": []
    },
    {
      "cell_type": "code",
      "metadata": {
        "id": "2HonpXOsa8EQ",
        "colab": {
          "base_uri": "https://localhost:8080/"
        },
        "outputId": "eb2a3b67-0870-4c95-e36e-3a8fc3cda900"
      },
      "source": [
        "os.listdir(PATH_DATA_TRAIN)"
      ],
      "execution_count": 87,
      "outputs": [
        {
          "output_type": "execute_result",
          "data": {
            "text/plain": [
              "['.DS_Store',\n",
              " 'kue_kastengel',\n",
              " 'kue_dadar_gulung',\n",
              " 'kue_risoles',\n",
              " 'kue_klepon',\n",
              " 'kue_putri_salju',\n",
              " 'kue_lumpur',\n",
              " 'kue_lapis',\n",
              " 'kue_serabi']"
            ]
          },
          "metadata": {
            "tags": []
          },
          "execution_count": 87
        }
      ]
    },
    {
      "cell_type": "code",
      "metadata": {
        "id": "Aef6PSaxa8ES"
      },
      "source": [
        ""
      ],
      "execution_count": 5,
      "outputs": []
    },
    {
      "cell_type": "markdown",
      "metadata": {
        "id": "c6iLHlmXa8ES"
      },
      "source": [
        "## Modeling"
      ]
    },
    {
      "cell_type": "code",
      "metadata": {
        "id": "d8tV2RaNa8ES"
      },
      "source": [
        "from keras.models import Sequential\n",
        "from keras.layers import Conv2D, MaxPooling2D, Activation, Dropout, Flatten, Dense\n",
        "from keras.preprocessing.image import ImageDataGenerator\n",
        "from keras import metrics, optimizers\n",
        "import keras\n",
        "import tensorflow as tf\n",
        "from keras.models import load_model\n"
      ],
      "execution_count": 6,
      "outputs": []
    },
    {
      "cell_type": "code",
      "metadata": {
        "id": "mrEGDjjHa8ET",
        "colab": {
          "base_uri": "https://localhost:8080/"
        },
        "outputId": "4c55a7ea-e1a8-4e1a-f705-30efd9f68efd"
      },
      "source": [
        "# sess = tf.compat.v1.Session(config=tf.compat.v1.ConfigProto(log_device_placement=True))\n",
        "# tf.debugging.set_log_device_placement(True)\n",
        "print(\"Num GPUs Available: \", len(tf.config.experimental.list_physical_devices('GPU')))"
      ],
      "execution_count": 7,
      "outputs": [
        {
          "output_type": "stream",
          "text": [
            "Num GPUs Available:  1\n"
          ],
          "name": "stdout"
        }
      ]
    },
    {
      "cell_type": "code",
      "metadata": {
        "id": "HqxsR_CBa8ET"
      },
      "source": [
        "# gpus = tf.config.list_physical_devices('GPU')\n",
        "# if gpus:\n",
        "#     try:\n",
        "#         # Currently, memory growth needs to be the same across GPUs\n",
        "#         for gpu in gpus:\n",
        "#             tf.config.experimental.set_memory_growth(gpu, True)\n",
        "#         logical_gpus = tf.config.experimental.list_logical_devices('GPU')\n",
        "#         print(len(gpus), \"Physical GPUs,\", len(logical_gpus), \"Logical GPUs\")\n",
        "#     except RuntimeError as e:\n",
        "#         # Memory growth must be set before GPUs have been initialized\n",
        "#         print(e)"
      ],
      "execution_count": 8,
      "outputs": []
    },
    {
      "cell_type": "code",
      "metadata": {
        "id": "uXuKIpmva8EU",
        "colab": {
          "base_uri": "https://localhost:8080/"
        },
        "outputId": "1e66d2d0-71d7-42b1-8885-677dbe58882a"
      },
      "source": [
        "## label dict\n",
        "lab = [i for i in os.listdir(PATH_DATA_TRAIN) if '.' not in i]\n",
        "lab.sort()\n",
        "\n",
        "label_dict = dict(zip(lab,[i for i in range(len(lab))]))\n",
        "label_dict"
      ],
      "execution_count": 88,
      "outputs": [
        {
          "output_type": "execute_result",
          "data": {
            "text/plain": [
              "{'kue_dadar_gulung': 0,\n",
              " 'kue_kastengel': 1,\n",
              " 'kue_klepon': 2,\n",
              " 'kue_lapis': 3,\n",
              " 'kue_lumpur': 4,\n",
              " 'kue_putri_salju': 5,\n",
              " 'kue_risoles': 6,\n",
              " 'kue_serabi': 7}"
            ]
          },
          "metadata": {
            "tags": []
          },
          "execution_count": 88
        }
      ]
    },
    {
      "cell_type": "code",
      "metadata": {
        "id": "VZqirKGha8EU"
      },
      "source": [
        "LABEL_SIZE = len(label_dict.keys())\n",
        "IMAGE_SIZE = 128"
      ],
      "execution_count": 89,
      "outputs": []
    },
    {
      "cell_type": "code",
      "metadata": {
        "id": "BeicgeK-IzHV"
      },
      "source": [
        "# ?Conv2D"
      ],
      "execution_count": 90,
      "outputs": []
    },
    {
      "cell_type": "code",
      "metadata": {
        "id": "YzCbCVH8a8EU"
      },
      "source": [
        "# just_cake_model = Sequential()\n",
        "# just_cake_model.add(Conv2D(128, (3, 3), activation ='relu', input_shape=(IMAGE_SIZE, IMAGE_SIZE, 3)))\n",
        "# just_cake_model.add(Conv2D(128, (3, 3), activation ='relu',padding='same'))\n",
        "# just_cake_model.add(MaxPooling2D(pool_size=(2, 2)))\n",
        "# just_cake_model.add(Conv2D(256, (3, 3), activation ='relu'))\n",
        "# just_cake_model.add(MaxPooling2D(pool_size=(2, 2)))\n",
        "# just_cake_model.add(Conv2D(256, (3, 3), activation ='relu'))\n",
        "# just_cake_model.add(MaxPooling2D(pool_size=(2, 2)))\n",
        "# just_cake_model.add(Conv2D(256, (3, 3), activation ='relu'))\n",
        "# just_cake_model.add(MaxPooling2D(pool_size=(2, 2)))\n",
        "# just_cake_model.add(Flatten())  # this converts our 3D feature maps to 1D feature vectors\n",
        "# just_cake_model.add(Dense(64, activation ='relu'))\n",
        "# just_cake_model.add(Dense(16, activation ='relu'))\n",
        "# just_cake_model.add(Dense(8, activation ='relu'))\n",
        "# just_cake_model.add(Dense(LABEL_SIZE,activation ='softmax'))\n",
        "\n",
        "just_cake_model = load_model(PATH_MODEL +'just_cake_model-colab3.h5',compile=False)"
      ],
      "execution_count": 91,
      "outputs": []
    },
    {
      "cell_type": "code",
      "metadata": {
        "id": "BeLsYMtua8EV",
        "colab": {
          "base_uri": "https://localhost:8080/"
        },
        "outputId": "8f93a942-40e1-4b35-df4c-86a57aa1b13f"
      },
      "source": [
        "just_cake_model.summary()"
      ],
      "execution_count": 92,
      "outputs": [
        {
          "output_type": "stream",
          "text": [
            "Model: \"sequential\"\n",
            "_________________________________________________________________\n",
            "Layer (type)                 Output Shape              Param #   \n",
            "=================================================================\n",
            "conv2d (Conv2D)              (None, 126, 126, 128)     3584      \n",
            "_________________________________________________________________\n",
            "conv2d_1 (Conv2D)            (None, 126, 126, 128)     147584    \n",
            "_________________________________________________________________\n",
            "max_pooling2d (MaxPooling2D) (None, 63, 63, 128)       0         \n",
            "_________________________________________________________________\n",
            "conv2d_2 (Conv2D)            (None, 61, 61, 256)       295168    \n",
            "_________________________________________________________________\n",
            "max_pooling2d_1 (MaxPooling2 (None, 30, 30, 256)       0         \n",
            "_________________________________________________________________\n",
            "conv2d_3 (Conv2D)            (None, 28, 28, 256)       590080    \n",
            "_________________________________________________________________\n",
            "max_pooling2d_2 (MaxPooling2 (None, 14, 14, 256)       0         \n",
            "_________________________________________________________________\n",
            "conv2d_4 (Conv2D)            (None, 12, 12, 256)       590080    \n",
            "_________________________________________________________________\n",
            "max_pooling2d_3 (MaxPooling2 (None, 6, 6, 256)         0         \n",
            "_________________________________________________________________\n",
            "flatten (Flatten)            (None, 9216)              0         \n",
            "_________________________________________________________________\n",
            "dense (Dense)                (None, 64)                589888    \n",
            "_________________________________________________________________\n",
            "dense_1 (Dense)              (None, 16)                1040      \n",
            "_________________________________________________________________\n",
            "dense_2 (Dense)              (None, 8)                 136       \n",
            "_________________________________________________________________\n",
            "dense_3 (Dense)              (None, 8)                 72        \n",
            "=================================================================\n",
            "Total params: 2,217,632\n",
            "Trainable params: 2,217,632\n",
            "Non-trainable params: 0\n",
            "_________________________________________________________________\n"
          ],
          "name": "stdout"
        }
      ]
    },
    {
      "cell_type": "code",
      "metadata": {
        "id": "bcqj7uusa8EV"
      },
      "source": [
        ""
      ],
      "execution_count": 92,
      "outputs": []
    },
    {
      "cell_type": "code",
      "metadata": {
        "id": "I3ghe_Wxa8EV"
      },
      "source": [
        "## compile model\n",
        "opt = optimizers.Adam(learning_rate=0.001)\n",
        "# opt = optimizers.SGD(learning_rate=0.0001)\n",
        "just_cake_model.compile(\n",
        "              # loss=keras.losses.SparseCategoricalCrossentropy(),\n",
        "              loss='categorical_crossentropy',\n",
        "              #optimizer='rmsprop',\n",
        "              optimizer = opt,\n",
        "              metrics=['accuracy',\n",
        "                      #  metrics.SparseCategoricalAccuracy(),\n",
        "                       metrics.AUC()])"
      ],
      "execution_count": 95,
      "outputs": []
    },
    {
      "cell_type": "code",
      "metadata": {
        "id": "mVaNvqLwa8EW"
      },
      "source": [
        ""
      ],
      "execution_count": 95,
      "outputs": []
    },
    {
      "cell_type": "code",
      "metadata": {
        "id": "vrqkfHQVa8EW",
        "colab": {
          "base_uri": "https://localhost:8080/"
        },
        "outputId": "dc157188-b41b-4de1-fec0-dab41c1b51a7"
      },
      "source": [
        "## data generator\n",
        "BATCH_SIZE = 32\n",
        "train_datagen = ImageDataGenerator(\n",
        "        rescale=1./255,\n",
        "        # zoom_range=0.2,\n",
        "        # rotation_range=35,\n",
        "        # width_shift_range=0.25,\n",
        "        # height_shift_range=0.25,\n",
        "        shear_range=0.25,\n",
        "        # horizontal_flip=True\n",
        "        )\n",
        "\n",
        "val_datagen = ImageDataGenerator(rescale=1./255)\n",
        "test_datagen = ImageDataGenerator(rescale=1./255)\n",
        "\n",
        "## Shuffle = True\n",
        "train_generator = train_datagen.flow_from_directory(\n",
        "        PATH_DATA_TRAIN,  \n",
        "        target_size=(IMAGE_SIZE, IMAGE_SIZE), \n",
        "        batch_size=BATCH_SIZE,\n",
        "        seed=301,\n",
        "        class_mode=\"categorical\" )  \n",
        "\n",
        "val_generator = val_datagen.flow_from_directory(\n",
        "        PATH_DATA_VAL,  \n",
        "        target_size=(IMAGE_SIZE, IMAGE_SIZE), \n",
        "        batch_size=BATCH_SIZE,\n",
        "        seed=301,\n",
        "        class_mode=\"categorical\" )  \n",
        "\n",
        "test_generator = test_datagen.flow_from_directory(\n",
        "        PATH_DATA_TEST,\n",
        "        target_size=(IMAGE_SIZE, IMAGE_SIZE),\n",
        "        batch_size=BATCH_SIZE,\n",
        "        seed=301,\n",
        "        class_mode=\"categorical\" )"
      ],
      "execution_count": 96,
      "outputs": [
        {
          "output_type": "stream",
          "text": [
            "Found 1516 images belonging to 8 classes.\n",
            "Found 160 images belonging to 8 classes.\n",
            "Found 160 images belonging to 8 classes.\n"
          ],
          "name": "stdout"
        }
      ]
    },
    {
      "cell_type": "code",
      "metadata": {
        "id": "uLEvwq7ha8EW"
      },
      "source": [
        ""
      ],
      "execution_count": 96,
      "outputs": []
    },
    {
      "cell_type": "code",
      "metadata": {
        "id": "le97FcMUa8EX",
        "colab": {
          "base_uri": "https://localhost:8080/",
          "height": 599
        },
        "outputId": "ab42f470-76df-4f5b-ca9e-a39f08a685d8"
      },
      "source": [
        "## save best model and use early stopping\n",
        "early_stop = keras.callbacks.EarlyStopping(\n",
        "        monitor='loss',mode='min', patience=8) \n",
        "check_p = keras.callbacks.ModelCheckpoint(\n",
        "        filepath=PATH_MODEL+'just_cake_model-colab3.h5',\n",
        "        monitor='loss',\n",
        "        mode='min',\n",
        "        save_best_only=True)\n",
        "\n",
        "epoch_hist = just_cake_model.fit(\n",
        "        train_generator,\n",
        "        steps_per_epoch=1516 // BATCH_SIZE,\n",
        "        validation_data=val_generator,\n",
        "        validation_steps=160 // BATCH_SIZE,\n",
        "        callbacks=[early_stop,check_p],\n",
        "        epochs=100)"
      ],
      "execution_count": 97,
      "outputs": [
        {
          "output_type": "stream",
          "text": [
            "Epoch 1/100\n",
            "47/47 [==============================] - 31s 614ms/step - loss: 0.2385 - accuracy: 0.9206 - auc_9: 0.9939 - val_loss: 1.0997 - val_accuracy: 0.7188 - val_auc_9: 0.9375\n",
            "Epoch 2/100\n",
            "47/47 [==============================] - 27s 579ms/step - loss: 0.0880 - accuracy: 0.9689 - auc_9: 0.9994 - val_loss: 1.1165 - val_accuracy: 0.7500 - val_auc_9: 0.9389\n",
            "Epoch 3/100\n",
            "47/47 [==============================] - 27s 581ms/step - loss: 0.0497 - accuracy: 0.9860 - auc_9: 0.9998 - val_loss: 1.3642 - val_accuracy: 0.7437 - val_auc_9: 0.9250\n",
            "Epoch 4/100\n",
            "47/47 [==============================] - 27s 581ms/step - loss: 0.0731 - accuracy: 0.9762 - auc_9: 0.9995 - val_loss: 1.2401 - val_accuracy: 0.7563 - val_auc_9: 0.9456\n",
            "Epoch 5/100\n",
            "47/47 [==============================] - 28s 590ms/step - loss: 0.0289 - accuracy: 0.9901 - auc_9: 0.9999 - val_loss: 1.2922 - val_accuracy: 0.7500 - val_auc_9: 0.9287\n",
            "Epoch 6/100\n",
            "47/47 [==============================] - 29s 611ms/step - loss: 0.0249 - accuracy: 0.9943 - auc_9: 1.0000 - val_loss: 1.3944 - val_accuracy: 0.7688 - val_auc_9: 0.9383\n",
            "Epoch 7/100\n",
            " 1/47 [..............................] - ETA: 31s - loss: 9.8042e-04 - accuracy: 1.0000 - auc_9: 1.0000"
          ],
          "name": "stdout"
        },
        {
          "output_type": "error",
          "ename": "KeyboardInterrupt",
          "evalue": "ignored",
          "traceback": [
            "\u001b[0;31m---------------------------------------------------------------------------\u001b[0m",
            "\u001b[0;31mKeyboardInterrupt\u001b[0m                         Traceback (most recent call last)",
            "\u001b[0;32m<ipython-input-97-2f759a10fd37>\u001b[0m in \u001b[0;36m<module>\u001b[0;34m()\u001b[0m\n\u001b[1;32m     14\u001b[0m         \u001b[0mvalidation_steps\u001b[0m\u001b[0;34m=\u001b[0m\u001b[0;36m160\u001b[0m \u001b[0;34m//\u001b[0m \u001b[0mBATCH_SIZE\u001b[0m\u001b[0;34m,\u001b[0m\u001b[0;34m\u001b[0m\u001b[0;34m\u001b[0m\u001b[0m\n\u001b[1;32m     15\u001b[0m         \u001b[0mcallbacks\u001b[0m\u001b[0;34m=\u001b[0m\u001b[0;34m[\u001b[0m\u001b[0mearly_stop\u001b[0m\u001b[0;34m,\u001b[0m\u001b[0mcheck_p\u001b[0m\u001b[0;34m]\u001b[0m\u001b[0;34m,\u001b[0m\u001b[0;34m\u001b[0m\u001b[0;34m\u001b[0m\u001b[0m\n\u001b[0;32m---> 16\u001b[0;31m         epochs=100)\n\u001b[0m",
            "\u001b[0;32m/usr/local/lib/python3.7/dist-packages/tensorflow/python/keras/engine/training.py\u001b[0m in \u001b[0;36mfit\u001b[0;34m(self, x, y, batch_size, epochs, verbose, callbacks, validation_split, validation_data, shuffle, class_weight, sample_weight, initial_epoch, steps_per_epoch, validation_steps, validation_batch_size, validation_freq, max_queue_size, workers, use_multiprocessing)\u001b[0m\n\u001b[1;32m   1098\u001b[0m                 _r=1):\n\u001b[1;32m   1099\u001b[0m               \u001b[0mcallbacks\u001b[0m\u001b[0;34m.\u001b[0m\u001b[0mon_train_batch_begin\u001b[0m\u001b[0;34m(\u001b[0m\u001b[0mstep\u001b[0m\u001b[0;34m)\u001b[0m\u001b[0;34m\u001b[0m\u001b[0;34m\u001b[0m\u001b[0m\n\u001b[0;32m-> 1100\u001b[0;31m               \u001b[0mtmp_logs\u001b[0m \u001b[0;34m=\u001b[0m \u001b[0mself\u001b[0m\u001b[0;34m.\u001b[0m\u001b[0mtrain_function\u001b[0m\u001b[0;34m(\u001b[0m\u001b[0miterator\u001b[0m\u001b[0;34m)\u001b[0m\u001b[0;34m\u001b[0m\u001b[0;34m\u001b[0m\u001b[0m\n\u001b[0m\u001b[1;32m   1101\u001b[0m               \u001b[0;32mif\u001b[0m \u001b[0mdata_handler\u001b[0m\u001b[0;34m.\u001b[0m\u001b[0mshould_sync\u001b[0m\u001b[0;34m:\u001b[0m\u001b[0;34m\u001b[0m\u001b[0;34m\u001b[0m\u001b[0m\n\u001b[1;32m   1102\u001b[0m                 \u001b[0mcontext\u001b[0m\u001b[0;34m.\u001b[0m\u001b[0masync_wait\u001b[0m\u001b[0;34m(\u001b[0m\u001b[0;34m)\u001b[0m\u001b[0;34m\u001b[0m\u001b[0;34m\u001b[0m\u001b[0m\n",
            "\u001b[0;32m/usr/local/lib/python3.7/dist-packages/tensorflow/python/eager/def_function.py\u001b[0m in \u001b[0;36m__call__\u001b[0;34m(self, *args, **kwds)\u001b[0m\n\u001b[1;32m    826\u001b[0m     \u001b[0mtracing_count\u001b[0m \u001b[0;34m=\u001b[0m \u001b[0mself\u001b[0m\u001b[0;34m.\u001b[0m\u001b[0mexperimental_get_tracing_count\u001b[0m\u001b[0;34m(\u001b[0m\u001b[0;34m)\u001b[0m\u001b[0;34m\u001b[0m\u001b[0;34m\u001b[0m\u001b[0m\n\u001b[1;32m    827\u001b[0m     \u001b[0;32mwith\u001b[0m \u001b[0mtrace\u001b[0m\u001b[0;34m.\u001b[0m\u001b[0mTrace\u001b[0m\u001b[0;34m(\u001b[0m\u001b[0mself\u001b[0m\u001b[0;34m.\u001b[0m\u001b[0m_name\u001b[0m\u001b[0;34m)\u001b[0m \u001b[0;32mas\u001b[0m \u001b[0mtm\u001b[0m\u001b[0;34m:\u001b[0m\u001b[0;34m\u001b[0m\u001b[0;34m\u001b[0m\u001b[0m\n\u001b[0;32m--> 828\u001b[0;31m       \u001b[0mresult\u001b[0m \u001b[0;34m=\u001b[0m \u001b[0mself\u001b[0m\u001b[0;34m.\u001b[0m\u001b[0m_call\u001b[0m\u001b[0;34m(\u001b[0m\u001b[0;34m*\u001b[0m\u001b[0margs\u001b[0m\u001b[0;34m,\u001b[0m \u001b[0;34m**\u001b[0m\u001b[0mkwds\u001b[0m\u001b[0;34m)\u001b[0m\u001b[0;34m\u001b[0m\u001b[0;34m\u001b[0m\u001b[0m\n\u001b[0m\u001b[1;32m    829\u001b[0m       \u001b[0mcompiler\u001b[0m \u001b[0;34m=\u001b[0m \u001b[0;34m\"xla\"\u001b[0m \u001b[0;32mif\u001b[0m \u001b[0mself\u001b[0m\u001b[0;34m.\u001b[0m\u001b[0m_experimental_compile\u001b[0m \u001b[0;32melse\u001b[0m \u001b[0;34m\"nonXla\"\u001b[0m\u001b[0;34m\u001b[0m\u001b[0;34m\u001b[0m\u001b[0m\n\u001b[1;32m    830\u001b[0m       \u001b[0mnew_tracing_count\u001b[0m \u001b[0;34m=\u001b[0m \u001b[0mself\u001b[0m\u001b[0;34m.\u001b[0m\u001b[0mexperimental_get_tracing_count\u001b[0m\u001b[0;34m(\u001b[0m\u001b[0;34m)\u001b[0m\u001b[0;34m\u001b[0m\u001b[0;34m\u001b[0m\u001b[0m\n",
            "\u001b[0;32m/usr/local/lib/python3.7/dist-packages/tensorflow/python/eager/def_function.py\u001b[0m in \u001b[0;36m_call\u001b[0;34m(self, *args, **kwds)\u001b[0m\n\u001b[1;32m    853\u001b[0m       \u001b[0;31m# In this case we have created variables on the first call, so we run the\u001b[0m\u001b[0;34m\u001b[0m\u001b[0;34m\u001b[0m\u001b[0;34m\u001b[0m\u001b[0m\n\u001b[1;32m    854\u001b[0m       \u001b[0;31m# defunned version which is guaranteed to never create variables.\u001b[0m\u001b[0;34m\u001b[0m\u001b[0;34m\u001b[0m\u001b[0;34m\u001b[0m\u001b[0m\n\u001b[0;32m--> 855\u001b[0;31m       \u001b[0;32mreturn\u001b[0m \u001b[0mself\u001b[0m\u001b[0;34m.\u001b[0m\u001b[0m_stateless_fn\u001b[0m\u001b[0;34m(\u001b[0m\u001b[0;34m*\u001b[0m\u001b[0margs\u001b[0m\u001b[0;34m,\u001b[0m \u001b[0;34m**\u001b[0m\u001b[0mkwds\u001b[0m\u001b[0;34m)\u001b[0m  \u001b[0;31m# pylint: disable=not-callable\u001b[0m\u001b[0;34m\u001b[0m\u001b[0;34m\u001b[0m\u001b[0m\n\u001b[0m\u001b[1;32m    856\u001b[0m     \u001b[0;32melif\u001b[0m \u001b[0mself\u001b[0m\u001b[0;34m.\u001b[0m\u001b[0m_stateful_fn\u001b[0m \u001b[0;32mis\u001b[0m \u001b[0;32mnot\u001b[0m \u001b[0;32mNone\u001b[0m\u001b[0;34m:\u001b[0m\u001b[0;34m\u001b[0m\u001b[0;34m\u001b[0m\u001b[0m\n\u001b[1;32m    857\u001b[0m       \u001b[0;31m# Release the lock early so that multiple threads can perform the call\u001b[0m\u001b[0;34m\u001b[0m\u001b[0;34m\u001b[0m\u001b[0;34m\u001b[0m\u001b[0m\n",
            "\u001b[0;32m/usr/local/lib/python3.7/dist-packages/tensorflow/python/eager/function.py\u001b[0m in \u001b[0;36m__call__\u001b[0;34m(self, *args, **kwargs)\u001b[0m\n\u001b[1;32m   2941\u001b[0m        filtered_flat_args) = self._maybe_define_function(args, kwargs)\n\u001b[1;32m   2942\u001b[0m     return graph_function._call_flat(\n\u001b[0;32m-> 2943\u001b[0;31m         filtered_flat_args, captured_inputs=graph_function.captured_inputs)  # pylint: disable=protected-access\n\u001b[0m\u001b[1;32m   2944\u001b[0m \u001b[0;34m\u001b[0m\u001b[0m\n\u001b[1;32m   2945\u001b[0m   \u001b[0;34m@\u001b[0m\u001b[0mproperty\u001b[0m\u001b[0;34m\u001b[0m\u001b[0;34m\u001b[0m\u001b[0m\n",
            "\u001b[0;32m/usr/local/lib/python3.7/dist-packages/tensorflow/python/eager/function.py\u001b[0m in \u001b[0;36m_call_flat\u001b[0;34m(self, args, captured_inputs, cancellation_manager)\u001b[0m\n\u001b[1;32m   1917\u001b[0m       \u001b[0;31m# No tape is watching; skip to running the function.\u001b[0m\u001b[0;34m\u001b[0m\u001b[0;34m\u001b[0m\u001b[0;34m\u001b[0m\u001b[0m\n\u001b[1;32m   1918\u001b[0m       return self._build_call_outputs(self._inference_function.call(\n\u001b[0;32m-> 1919\u001b[0;31m           ctx, args, cancellation_manager=cancellation_manager))\n\u001b[0m\u001b[1;32m   1920\u001b[0m     forward_backward = self._select_forward_and_backward_functions(\n\u001b[1;32m   1921\u001b[0m         \u001b[0margs\u001b[0m\u001b[0;34m,\u001b[0m\u001b[0;34m\u001b[0m\u001b[0;34m\u001b[0m\u001b[0m\n",
            "\u001b[0;32m/usr/local/lib/python3.7/dist-packages/tensorflow/python/eager/function.py\u001b[0m in \u001b[0;36mcall\u001b[0;34m(self, ctx, args, cancellation_manager)\u001b[0m\n\u001b[1;32m    558\u001b[0m               \u001b[0minputs\u001b[0m\u001b[0;34m=\u001b[0m\u001b[0margs\u001b[0m\u001b[0;34m,\u001b[0m\u001b[0;34m\u001b[0m\u001b[0;34m\u001b[0m\u001b[0m\n\u001b[1;32m    559\u001b[0m               \u001b[0mattrs\u001b[0m\u001b[0;34m=\u001b[0m\u001b[0mattrs\u001b[0m\u001b[0;34m,\u001b[0m\u001b[0;34m\u001b[0m\u001b[0;34m\u001b[0m\u001b[0m\n\u001b[0;32m--> 560\u001b[0;31m               ctx=ctx)\n\u001b[0m\u001b[1;32m    561\u001b[0m         \u001b[0;32melse\u001b[0m\u001b[0;34m:\u001b[0m\u001b[0;34m\u001b[0m\u001b[0;34m\u001b[0m\u001b[0m\n\u001b[1;32m    562\u001b[0m           outputs = execute.execute_with_cancellation(\n",
            "\u001b[0;32m/usr/local/lib/python3.7/dist-packages/tensorflow/python/eager/execute.py\u001b[0m in \u001b[0;36mquick_execute\u001b[0;34m(op_name, num_outputs, inputs, attrs, ctx, name)\u001b[0m\n\u001b[1;32m     58\u001b[0m     \u001b[0mctx\u001b[0m\u001b[0;34m.\u001b[0m\u001b[0mensure_initialized\u001b[0m\u001b[0;34m(\u001b[0m\u001b[0;34m)\u001b[0m\u001b[0;34m\u001b[0m\u001b[0;34m\u001b[0m\u001b[0m\n\u001b[1;32m     59\u001b[0m     tensors = pywrap_tfe.TFE_Py_Execute(ctx._handle, device_name, op_name,\n\u001b[0;32m---> 60\u001b[0;31m                                         inputs, attrs, num_outputs)\n\u001b[0m\u001b[1;32m     61\u001b[0m   \u001b[0;32mexcept\u001b[0m \u001b[0mcore\u001b[0m\u001b[0;34m.\u001b[0m\u001b[0m_NotOkStatusException\u001b[0m \u001b[0;32mas\u001b[0m \u001b[0me\u001b[0m\u001b[0;34m:\u001b[0m\u001b[0;34m\u001b[0m\u001b[0;34m\u001b[0m\u001b[0m\n\u001b[1;32m     62\u001b[0m     \u001b[0;32mif\u001b[0m \u001b[0mname\u001b[0m \u001b[0;32mis\u001b[0m \u001b[0;32mnot\u001b[0m \u001b[0;32mNone\u001b[0m\u001b[0;34m:\u001b[0m\u001b[0;34m\u001b[0m\u001b[0;34m\u001b[0m\u001b[0m\n",
            "\u001b[0;31mKeyboardInterrupt\u001b[0m: "
          ]
        }
      ]
    },
    {
      "cell_type": "code",
      "metadata": {
        "id": "f7M0VUjRa8EX"
      },
      "source": [
        ""
      ],
      "execution_count": 97,
      "outputs": []
    },
    {
      "cell_type": "markdown",
      "metadata": {
        "id": "vYNh90-1a8EY"
      },
      "source": [
        "## Evaluations"
      ]
    },
    {
      "cell_type": "code",
      "metadata": {
        "id": "YZVpHz9sa8EY"
      },
      "source": [
        "df_epoch_hist = pd.DataFrame(epoch_hist.history)"
      ],
      "execution_count": 98,
      "outputs": []
    },
    {
      "cell_type": "code",
      "metadata": {
        "id": "Kt-rcVuna8EY",
        "colab": {
          "base_uri": "https://localhost:8080/",
          "height": 282
        },
        "outputId": "ec39c01c-f5dd-4af6-dd9d-38bb71af2a87"
      },
      "source": [
        "df_epoch_hist[['val_loss','loss']].plot()"
      ],
      "execution_count": 99,
      "outputs": [
        {
          "output_type": "execute_result",
          "data": {
            "text/plain": [
              "<matplotlib.axes._subplots.AxesSubplot at 0x7f1902053e50>"
            ]
          },
          "metadata": {
            "tags": []
          },
          "execution_count": 99
        },
        {
          "output_type": "display_data",
          "data": {
            "image/png": "[encoded data removed]",
            "text/plain": [
              "<Figure size 432x288 with 1 Axes>"
            ]
          },
          "metadata": {
            "tags": [],
            "needs_background": "light"
          }
        }
      ]
    },
    {
      "cell_type": "code",
      "metadata": {
        "id": "S55RWENTa8EZ"
      },
      "source": [
        ""
      ],
      "execution_count": 99,
      "outputs": []
    },
    {
      "cell_type": "code",
      "metadata": {
        "id": "WzmVQAMta8EZ"
      },
      "source": [
        "# df_epoch_hist.to_csv('../artifact/epoch_hist_2-overfit2.csv')"
      ],
      "execution_count": 100,
      "outputs": []
    },
    {
      "cell_type": "code",
      "metadata": {
        "id": "VLy4x-tha8EZ"
      },
      "source": [
        ""
      ],
      "execution_count": 100,
      "outputs": []
    },
    {
      "cell_type": "code",
      "metadata": {
        "id": "8ZyYSsSaa8EZ",
        "colab": {
          "base_uri": "https://localhost:8080/"
        },
        "outputId": "97db6578-980f-4288-819c-f5f04fb840e8"
      },
      "source": [
        "# depd = {'auc_1' : metrics.AUC}\n",
        "model_load = load_model(PATH_MODEL + 'just_cake_model-colab3.h5')\n",
        "# model_load = load_model(PATH_MODEL + 'just_cake_model-colab2.h5')\n",
        "\n",
        "model_load.evaluate(train_generator)"
      ],
      "execution_count": 147,
      "outputs": [
        {
          "output_type": "stream",
          "text": [
            "48/48 [==============================] - 25s 519ms/step - loss: 0.0150 - accuracy: 0.9954 - auc_9: 1.0000\n"
          ],
          "name": "stdout"
        },
        {
          "output_type": "execute_result",
          "data": {
            "text/plain": [
              "[0.014951899647712708, 0.9953826069831848, 0.9999884366989136]"
            ]
          },
          "metadata": {
            "tags": []
          },
          "execution_count": 147
        }
      ]
    },
    {
      "cell_type": "code",
      "metadata": {
        "id": "r9ORPhvoHJcS"
      },
      "source": [
        ""
      ],
      "execution_count": null,
      "outputs": []
    },
    {
      "cell_type": "markdown",
      "metadata": {
        "id": "4XLIgNWzHJq8"
      },
      "source": [
        "#### 1. Train"
      ]
    },
    {
      "cell_type": "code",
      "metadata": {
        "id": "J88_yuqma8Ea"
      },
      "source": [
        "per = np.random.permutation(train_generator.n)\n",
        "train_generator.index_array = per\n",
        "# classes = generator.classes[per]\n",
        "\n",
        "y_true = train_generator.classes[per]\n",
        "predictions = model_load.predict(train_generator)\n",
        "\n",
        "# y_true = pd.Series(true_labels)[train_generator.index_array].values\n",
        "y_pred = np.argmax(predictions, axis=1)\n",
        "\n",
        "cm = sklearn.metrics.confusion_matrix(y_true, y_pred)"
      ],
      "execution_count": 225,
      "outputs": []
    },
    {
      "cell_type": "code",
      "metadata": {
        "colab": {
          "base_uri": "https://localhost:8080/"
        },
        "id": "EZL2_0cE86uN",
        "outputId": "69139683-9165-4b8d-8d46-bf32616ec5ab"
      },
      "source": [
        "# labels_true = []\n",
        "# for batch_x, batch_y in train_generator:\n",
        "#   labels_true.append(batch_y)\n",
        "# train_generator.index_array\n",
        "y_true"
      ],
      "execution_count": 226,
      "outputs": [
        {
          "output_type": "execute_result",
          "data": {
            "text/plain": [
              "array([7, 2, 0, ..., 3, 0, 1], dtype=int32)"
            ]
          },
          "metadata": {
            "tags": []
          },
          "execution_count": 226
        }
      ]
    },
    {
      "cell_type": "code",
      "metadata": {
        "colab": {
          "base_uri": "https://localhost:8080/"
        },
        "id": "FwyyvZMdGHPm",
        "outputId": "5d107ee6-414a-4feb-8e90-6ebfa055cf1c"
      },
      "source": [
        "y_pred"
      ],
      "execution_count": 227,
      "outputs": [
        {
          "output_type": "execute_result",
          "data": {
            "text/plain": [
              "array([7, 2, 0, ..., 3, 0, 1])"
            ]
          },
          "metadata": {
            "tags": []
          },
          "execution_count": 227
        }
      ]
    },
    {
      "cell_type": "code",
      "metadata": {
        "id": "9A0J5O-gDv_u"
      },
      "source": [
        "# labels_true = np.array(labels_true)\n",
        "# len(labels_true[10])\n"
      ],
      "execution_count": 229,
      "outputs": []
    },
    {
      "cell_type": "code",
      "metadata": {
        "id": "7dECsKYt861_"
      },
      "source": [
        "# np.argmax(predictions[1])\n",
        "# imgs, labels = next(val_generator)\n",
        "# train_generator.labels"
      ],
      "execution_count": 230,
      "outputs": []
    },
    {
      "cell_type": "code",
      "metadata": {
        "id": "7lkxp21DBCk8"
      },
      "source": [
        "# labels[3]"
      ],
      "execution_count": 231,
      "outputs": []
    },
    {
      "cell_type": "code",
      "metadata": {
        "id": "qFa5-CuN9Lcz"
      },
      "source": [
        "# plt.imshow(imgs[3])"
      ],
      "execution_count": 232,
      "outputs": []
    },
    {
      "cell_type": "code",
      "metadata": {
        "id": "WPo_uhf5a8Ea",
        "colab": {
          "base_uri": "https://localhost:8080/",
          "height": 502
        },
        "outputId": "15a09917-e59f-4f71-81fe-a0aa39454f4c"
      },
      "source": [
        "plt.figure(figsize = (12,8))\n",
        "sns.heatmap(cm, annot= True)"
      ],
      "execution_count": 233,
      "outputs": [
        {
          "output_type": "execute_result",
          "data": {
            "text/plain": [
              "<matplotlib.axes._subplots.AxesSubplot at 0x7f171da9eb90>"
            ]
          },
          "metadata": {
            "tags": []
          },
          "execution_count": 233
        },
        {
          "output_type": "display_data",
          "data": {
            "image/png": "[encoded data removed]",
            "text/plain": [
              "<Figure size 864x576 with 2 Axes>"
            ]
          },
          "metadata": {
            "tags": [],
            "needs_background": "light"
          }
        }
      ]
    },
    {
      "cell_type": "code",
      "metadata": {
        "id": "1ZynYNAAa8Ea",
        "colab": {
          "base_uri": "https://localhost:8080/"
        },
        "outputId": "aa92c2f8-c78e-4131-ed36-5715d8f73e0e"
      },
      "source": [
        "print(classification_report(y_true, y_pred))"
      ],
      "execution_count": 234,
      "outputs": [
        {
          "output_type": "stream",
          "text": [
            "              precision    recall  f1-score   support\n",
            "\n",
            "           0       1.00      0.97      0.98       192\n",
            "           1       1.00      0.99      1.00       181\n",
            "           2       1.00      1.00      1.00       197\n",
            "           3       1.00      1.00      1.00       201\n",
            "           4       0.99      1.00      1.00       197\n",
            "           5       1.00      1.00      1.00       172\n",
            "           6       1.00      1.00      1.00       196\n",
            "           7       0.97      1.00      0.99       180\n",
            "\n",
            "    accuracy                           1.00      1516\n",
            "   macro avg       1.00      1.00      1.00      1516\n",
            "weighted avg       1.00      1.00      1.00      1516\n",
            "\n"
          ],
          "name": "stdout"
        }
      ]
    },
    {
      "cell_type": "code",
      "metadata": {
        "id": "buhwuizga8Eb"
      },
      "source": [
        ""
      ],
      "execution_count": 23,
      "outputs": []
    },
    {
      "cell_type": "markdown",
      "metadata": {
        "id": "KzcEymkyHQIg"
      },
      "source": [
        "#### 2. Validations"
      ]
    },
    {
      "cell_type": "code",
      "metadata": {
        "id": "SI1iniF7HQIg"
      },
      "source": [
        "per = np.random.permutation(val_generator.n)\n",
        "val_generator.index_array = per\n",
        "\n",
        "y_true_val = val_generator.classes[per]\n",
        "predictions_val = model_load.predict(val_generator)\n",
        "y_pred_val = np.argmax(predictions_val, axis=1)\n",
        "\n",
        "cm_val = sklearn.metrics.confusion_matrix(y_true_val, y_pred_val)"
      ],
      "execution_count": 236,
      "outputs": []
    },
    {
      "cell_type": "code",
      "metadata": {
        "colab": {
          "base_uri": "https://localhost:8080/",
          "height": 500
        },
        "id": "EyBBMBTmHQIk",
        "outputId": "5739a7bf-f923-4a07-bbbf-2c16f946b09b"
      },
      "source": [
        "plt.figure(figsize = (12,8))\n",
        "sns.heatmap(cm_val, annot= True)"
      ],
      "execution_count": 237,
      "outputs": [
        {
          "output_type": "execute_result",
          "data": {
            "text/plain": [
              "<matplotlib.axes._subplots.AxesSubplot at 0x7f18eec298d0>"
            ]
          },
          "metadata": {
            "tags": []
          },
          "execution_count": 237
        },
        {
          "output_type": "display_data",
          "data": {
            "image/png": "[encoded data removed]",
            "text/plain": [
              "<Figure size 864x576 with 2 Axes>"
            ]
          },
          "metadata": {
            "tags": [],
            "needs_background": "light"
          }
        }
      ]
    },
    {
      "cell_type": "code",
      "metadata": {
        "colab": {
          "base_uri": "https://localhost:8080/"
        },
        "id": "JWJzD8uWHQIk",
        "outputId": "87f2a1ec-863e-40bc-b0be-0ac1874f069a"
      },
      "source": [
        "print(classification_report(y_true_val, y_pred_val))"
      ],
      "execution_count": 238,
      "outputs": [
        {
          "output_type": "stream",
          "text": [
            "              precision    recall  f1-score   support\n",
            "\n",
            "           0       0.67      0.60      0.63        20\n",
            "           1       0.77      0.50      0.61        20\n",
            "           2       0.90      0.95      0.93        20\n",
            "           3       0.68      0.75      0.71        20\n",
            "           4       0.77      0.85      0.81        20\n",
            "           5       1.00      0.85      0.92        20\n",
            "           6       0.76      0.80      0.78        20\n",
            "           7       0.65      0.85      0.74        20\n",
            "\n",
            "    accuracy                           0.77       160\n",
            "   macro avg       0.78      0.77      0.77       160\n",
            "weighted avg       0.78      0.77      0.77       160\n",
            "\n"
          ],
          "name": "stdout"
        }
      ]
    },
    {
      "cell_type": "code",
      "metadata": {
        "id": "xXX1k6FtHmpz"
      },
      "source": [
        ""
      ],
      "execution_count": null,
      "outputs": []
    }
  ]
}