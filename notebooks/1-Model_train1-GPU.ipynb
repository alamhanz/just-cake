{
 "cells": [
  {
   "cell_type": "markdown",
   "metadata": {},
   "source": [
    "## Kue Dataset - Model1\n"
   ]
  },
  {
   "cell_type": "code",
   "execution_count": 1,
   "metadata": {},
   "outputs": [],
   "source": [
    "# conda install -c conda-forge keras"
   ]
  },
  {
   "cell_type": "code",
   "execution_count": 2,
   "metadata": {},
   "outputs": [],
   "source": [
    "import os\n",
    "import re\n",
    "import glob\n",
    "\n",
    "import scipy.io\n",
    "import cv2\n",
    "from PIL import Image\n",
    "import pandas as pd\n",
    "import numpy as np\n",
    "import matplotlib.pyplot as plt\n",
    "import tqdm\n",
    "import shutil\n",
    "\n",
    "from sklearn.model_selection import train_test_split\n",
    "from sklearn.metrics import classification_report\n",
    "from scipy.io import loadmat\n",
    "import random\n",
    "import sklearn\n",
    "import seaborn as sns"
   ]
  },
  {
   "cell_type": "code",
   "execution_count": 3,
   "metadata": {},
   "outputs": [],
   "source": [
    "# PATH_DATA = '../data/'\n",
    "PATH_DATA_IMAGES = '../../../../My_Dataset/images/dataset257/'\n",
    "PATH_DATA_TRAIN = PATH_DATA_IMAGES+'train/'\n",
    "PATH_DATA_VAL = PATH_DATA_IMAGES+'validation/'\n",
    "PATH_DATA_TEST = PATH_DATA_IMAGES+'test/'\n",
    "PATH_MODEL = '../../tmp/'"
   ]
  },
  {
   "cell_type": "code",
   "execution_count": 4,
   "metadata": {},
   "outputs": [
    {
     "data": {
      "text/plain": [
       "['.DS_Store',\n",
       " 'kue_dadar_gulung',\n",
       " 'kue_kastengel',\n",
       " 'kue_klepon',\n",
       " 'kue_lapis',\n",
       " 'kue_lumpur',\n",
       " 'kue_putri_salju',\n",
       " 'kue_risoles',\n",
       " 'kue_serabi']"
      ]
     },
     "execution_count": 4,
     "metadata": {},
     "output_type": "execute_result"
    }
   ],
   "source": [
    "os.listdir(PATH_DATA_TRAIN)"
   ]
  },
  {
   "cell_type": "code",
   "execution_count": null,
   "metadata": {},
   "outputs": [],
   "source": []
  },
  {
   "cell_type": "markdown",
   "metadata": {},
   "source": [
    "## Modeling"
   ]
  },
  {
   "cell_type": "code",
   "execution_count": 5,
   "metadata": {},
   "outputs": [
    {
     "name": "stderr",
     "output_type": "stream",
     "text": [
      "Using TensorFlow backend.\n"
     ]
    }
   ],
   "source": [
    "from keras.models import Sequential\n",
    "from keras.layers import Conv2D, MaxPooling2D, Activation, Dropout, Flatten, Dense\n",
    "from keras.preprocessing.image import ImageDataGenerator\n",
    "from keras import metrics, optimizers\n",
    "import keras\n",
    "import tensorflow as tf\n",
    "from keras.models import load_model\n"
   ]
  },
  {
   "cell_type": "code",
   "execution_count": 6,
   "metadata": {},
   "outputs": [
    {
     "name": "stdout",
     "output_type": "stream",
     "text": [
      "Num GPUs Available:  1\n"
     ]
    }
   ],
   "source": [
    "# sess = tf.compat.v1.Session(config=tf.compat.v1.ConfigProto(log_device_placement=True))\n",
    "# tf.debugging.set_log_device_placement(True)\n",
    "print(\"Num GPUs Available: \", len(tf.config.experimental.list_physical_devices('GPU')))"
   ]
  },
  {
   "cell_type": "code",
   "execution_count": 7,
   "metadata": {},
   "outputs": [
    {
     "data": {
      "text/plain": [
       "'/device:GPU:0'"
      ]
     },
     "execution_count": 7,
     "metadata": {},
     "output_type": "execute_result"
    }
   ],
   "source": [
    "tf.test.gpu_device_name()"
   ]
  },
  {
   "cell_type": "code",
   "execution_count": 8,
   "metadata": {},
   "outputs": [],
   "source": [
    "# gpus = tf.config.list_physical_devices('GPU')\n",
    "# if gpus:\n",
    "#     try:\n",
    "#   # Restrict TensorFlow to only use the first GPU\n",
    "#         tf.config.experimental.set_visible_devices(gpus[0], 'GPU')\n",
    "#         logical_gpus = tf.config.experimental.list_logical_devices('GPU')\n",
    "#         print(len(gpus), \"Physical GPUs,\", len(logical_gpus), \"Logical GPU\")\n",
    "#     except RuntimeError as e:\n",
    "#         # Visible devices must be set before GPUs have been initialized\n",
    "#         print(e)"
   ]
  },
  {
   "cell_type": "code",
   "execution_count": 9,
   "metadata": {},
   "outputs": [
    {
     "name": "stdout",
     "output_type": "stream",
     "text": [
      "1 Physical GPUs, 1 Logical GPUs\n"
     ]
    }
   ],
   "source": [
    "gpus = tf.config.list_physical_devices('GPU')\n",
    "if gpus:\n",
    "    try:\n",
    "        # Currently, memory growth needs to be the same across GPUs\n",
    "        for gpu in gpus:\n",
    "            tf.config.experimental.set_memory_growth(gpu, True)\n",
    "        logical_gpus = tf.config.experimental.list_logical_devices('GPU')\n",
    "        print(len(gpus), \"Physical GPUs,\", len(logical_gpus), \"Logical GPUs\")\n",
    "    except RuntimeError as e:\n",
    "        # Memory growth must be set before GPUs have been initialized\n",
    "        print(e)"
   ]
  },
  {
   "cell_type": "code",
   "execution_count": null,
   "metadata": {},
   "outputs": [],
   "source": []
  },
  {
   "cell_type": "code",
   "execution_count": 10,
   "metadata": {},
   "outputs": [
    {
     "data": {
      "text/plain": [
       "{'kue_dadar_gulung': 0,\n",
       " 'kue_kastengel': 1,\n",
       " 'kue_klepon': 2,\n",
       " 'kue_lapis': 3,\n",
       " 'kue_lumpur': 4,\n",
       " 'kue_putri_salju': 5,\n",
       " 'kue_risoles': 6,\n",
       " 'kue_serabi': 7}"
      ]
     },
     "execution_count": 10,
     "metadata": {},
     "output_type": "execute_result"
    }
   ],
   "source": [
    "## label dict\n",
    "lab = [i for i in os.listdir(PATH_DATA_TRAIN) if '.' not in i]\n",
    "lab.sort()\n",
    "\n",
    "label_dict = dict(zip(lab,[i for i in range(len(lab))]))\n",
    "label_dict"
   ]
  },
  {
   "cell_type": "code",
   "execution_count": 11,
   "metadata": {},
   "outputs": [],
   "source": [
    "LABEL_SIZE = len(label_dict.keys())\n",
    "IMAGE_SIZE = 128"
   ]
  },
  {
   "cell_type": "code",
   "execution_count": 12,
   "metadata": {},
   "outputs": [],
   "source": [
    "just_cake_model = Sequential()\n",
    "just_cake_model.add(Conv2D(32, (3, 3), activation ='relu', input_shape=(IMAGE_SIZE, IMAGE_SIZE, 3)))\n",
    "just_cake_model.add(MaxPooling2D(pool_size=(2, 2)))\n",
    "\n",
    "just_cake_model.add(Conv2D(64, (3, 3), activation ='relu'))\n",
    "just_cake_model.add(MaxPooling2D(pool_size=(3, 3)))\n",
    "just_cake_model.add(MaxPooling2D(pool_size=(2, 2)))\n",
    "just_cake_model.add(MaxPooling2D(pool_size=(2, 2)))\n",
    "\n",
    "just_cake_model.add(Flatten())  # this converts our 3D feature maps to 1D feature vectors\n",
    "just_cake_model.add(Dense(512, activation ='relu'))\n",
    "just_cake_model.add(Dense(256, activation ='relu'))\n",
    "# just_cake_model.add(Dropout(0.5))\n",
    "just_cake_model.add(Dense(LABEL_SIZE,activation ='softmax'))"
   ]
  },
  {
   "cell_type": "code",
   "execution_count": 13,
   "metadata": {},
   "outputs": [
    {
     "name": "stdout",
     "output_type": "stream",
     "text": [
      "Model: \"sequential_1\"\n",
      "_________________________________________________________________\n",
      "Layer (type)                 Output Shape              Param #   \n",
      "=================================================================\n",
      "conv2d_1 (Conv2D)            (None, 126, 126, 32)      896       \n",
      "_________________________________________________________________\n",
      "max_pooling2d_1 (MaxPooling2 (None, 63, 63, 32)        0         \n",
      "_________________________________________________________________\n",
      "conv2d_2 (Conv2D)            (None, 61, 61, 64)        18496     \n",
      "_________________________________________________________________\n",
      "max_pooling2d_2 (MaxPooling2 (None, 20, 20, 64)        0         \n",
      "_________________________________________________________________\n",
      "max_pooling2d_3 (MaxPooling2 (None, 10, 10, 64)        0         \n",
      "_________________________________________________________________\n",
      "max_pooling2d_4 (MaxPooling2 (None, 5, 5, 64)          0         \n",
      "_________________________________________________________________\n",
      "flatten_1 (Flatten)          (None, 1600)              0         \n",
      "_________________________________________________________________\n",
      "dense_1 (Dense)              (None, 512)               819712    \n",
      "_________________________________________________________________\n",
      "dense_2 (Dense)              (None, 256)               131328    \n",
      "_________________________________________________________________\n",
      "dense_3 (Dense)              (None, 8)                 2056      \n",
      "=================================================================\n",
      "Total params: 972,488\n",
      "Trainable params: 972,488\n",
      "Non-trainable params: 0\n",
      "_________________________________________________________________\n"
     ]
    }
   ],
   "source": [
    "just_cake_model.summary()"
   ]
  },
  {
   "cell_type": "code",
   "execution_count": 14,
   "metadata": {},
   "outputs": [],
   "source": [
    "## compile model\n",
    "opt = optimizers.Adam(learning_rate=0.0001)\n",
    "just_cake_model.compile(loss='categorical_crossentropy',\n",
    "              #optimizer='rmsprop',\n",
    "              optimizer = opt,\n",
    "              metrics=['accuracy',metrics.AUC()])"
   ]
  },
  {
   "cell_type": "code",
   "execution_count": null,
   "metadata": {},
   "outputs": [],
   "source": []
  },
  {
   "cell_type": "code",
   "execution_count": 15,
   "metadata": {},
   "outputs": [
    {
     "name": "stdout",
     "output_type": "stream",
     "text": [
      "Found 1516 images belonging to 8 classes.\n",
      "Found 160 images belonging to 8 classes.\n",
      "Found 160 images belonging to 8 classes.\n"
     ]
    }
   ],
   "source": [
    "## data generator\n",
    "BATCH_SIZE = 128\n",
    "train_datagen = ImageDataGenerator(\n",
    "        rescale=1./255,\n",
    "        zoom_range=0.2,\n",
    "        rotation_range=35,\n",
    "        width_shift_range=0.25,\n",
    "        height_shift_range=0.25,\n",
    "        shear_range=0.25,\n",
    "        horizontal_flip=True)\n",
    "\n",
    "val_datagen = ImageDataGenerator(rescale=1./255)\n",
    "test_datagen = ImageDataGenerator(rescale=1./255)\n",
    "\n",
    "\n",
    "train_generator = train_datagen.flow_from_directory(\n",
    "        PATH_DATA_TRAIN,  \n",
    "        target_size=(IMAGE_SIZE, IMAGE_SIZE), \n",
    "        batch_size=BATCH_SIZE,\n",
    "        class_mode=\"categorical\" )  \n",
    "\n",
    "val_generator = val_datagen.flow_from_directory(\n",
    "        PATH_DATA_VAL,  \n",
    "        target_size=(IMAGE_SIZE, IMAGE_SIZE), \n",
    "        batch_size=BATCH_SIZE,\n",
    "        class_mode=\"categorical\" )  \n",
    "\n",
    "test_generator = test_datagen.flow_from_directory(\n",
    "        PATH_DATA_TEST,\n",
    "        target_size=(IMAGE_SIZE, IMAGE_SIZE),\n",
    "        batch_size=BATCH_SIZE,\n",
    "        class_mode=\"categorical\" )"
   ]
  },
  {
   "cell_type": "code",
   "execution_count": null,
   "metadata": {},
   "outputs": [],
   "source": []
  },
  {
   "cell_type": "code",
   "execution_count": 16,
   "metadata": {},
   "outputs": [
    {
     "name": "stdout",
     "output_type": "stream",
     "text": [
      "Epoch 1/250\n",
      " 6/11 [===============>..............] - ETA: 43s - loss: 2.0877 - accuracy: 0.1250 - auc_1: 0.5021"
     ]
    },
    {
     "name": "stderr",
     "output_type": "stream",
     "text": [
      "c:\\users\\aska\\anaconda3\\envs\\onoenv\\lib\\site-packages\\keras\\utils\\data_utils.py:616: UserWarning: The input 8 could not be retrieved. It could be because a worker has died.\n",
      "  UserWarning)\n"
     ]
    },
    {
     "name": "stdout",
     "output_type": "stream",
     "text": [
      "11/11 [==============================] - 131s 12s/step - loss: 2.0763 - accuracy: 0.1520 - auc_1: 0.5282 - val_loss: 2.0539 - val_accuracy: 0.2344 - val_auc_1: 0.5851\n",
      "Epoch 2/250\n",
      "11/11 [==============================] - 49s 4s/step - loss: 2.0406 - accuracy: 0.2104 - auc_1: 0.6125 - val_loss: 2.0010 - val_accuracy: 0.3125 - val_auc_1: 0.6778\n",
      "Epoch 3/250\n",
      "11/11 [==============================] - 46s 4s/step - loss: 2.0021 - accuracy: 0.2514 - auc_1: 0.6924 - val_loss: 1.9604 - val_accuracy: 0.2891 - val_auc_1: 0.7315\n",
      "Epoch 4/250\n",
      "11/11 [==============================] - 47s 4s/step - loss: 1.9615 - accuracy: 0.2702 - auc_1: 0.7234 - val_loss: 1.9126 - val_accuracy: 0.2812 - val_auc_1: 0.7478\n",
      "Epoch 5/250\n",
      "11/11 [==============================] - 44s 4s/step - loss: 1.9058 - accuracy: 0.3026 - auc_1: 0.7322 - val_loss: 1.8245 - val_accuracy: 0.2969 - val_auc_1: 0.7732\n",
      "Epoch 6/250\n",
      "11/11 [==============================] - 47s 4s/step - loss: 1.8446 - accuracy: 0.2876 - auc_1: 0.7482 - val_loss: 1.8034 - val_accuracy: 0.4688 - val_auc_1: 0.7934\n",
      "Epoch 7/250\n",
      "11/11 [==============================] - 47s 4s/step - loss: 1.7882 - accuracy: 0.3278 - auc_1: 0.7592 - val_loss: 1.7548 - val_accuracy: 0.3125 - val_auc_1: 0.7602\n",
      "Epoch 8/250\n",
      "11/11 [==============================] - 43s 4s/step - loss: 1.7533 - accuracy: 0.3163 - auc_1: 0.7608 - val_loss: 1.6546 - val_accuracy: 0.3438 - val_auc_1: 0.8118\n",
      "Epoch 9/250\n",
      "11/11 [==============================] - 48s 4s/step - loss: 1.7228 - accuracy: 0.3293 - auc_1: 0.7709 - val_loss: 1.6563 - val_accuracy: 0.4062 - val_auc_1: 0.8003\n",
      "Epoch 10/250\n",
      "11/11 [==============================] - 59s 5s/step - loss: 1.6850 - accuracy: 0.3797 - auc_1: 0.7785 - val_loss: 1.6831 - val_accuracy: 0.3750 - val_auc_1: 0.7551\n",
      "Epoch 11/250\n",
      "11/11 [==============================] - 45s 4s/step - loss: 1.6635 - accuracy: 0.3573 - auc_1: 0.7837 - val_loss: 1.5913 - val_accuracy: 0.4141 - val_auc_1: 0.8134\n",
      "Epoch 12/250\n",
      "11/11 [==============================] - 43s 4s/step - loss: 1.6371 - accuracy: 0.3638 - auc_1: 0.7937 - val_loss: 1.6318 - val_accuracy: 0.2812 - val_auc_1: 0.7827\n",
      "Epoch 13/250\n",
      "11/11 [==============================] - 45s 4s/step - loss: 1.5877 - accuracy: 0.3905 - auc_1: 0.8092 - val_loss: 1.5197 - val_accuracy: 0.4375 - val_auc_1: 0.8296\n",
      "Epoch 14/250\n",
      "11/11 [==============================] - 45s 4s/step - loss: 1.6179 - accuracy: 0.3682 - auc_1: 0.7952 - val_loss: 1.4553 - val_accuracy: 0.4375 - val_auc_1: 0.8424\n",
      "Epoch 15/250\n",
      "11/11 [==============================] - 47s 4s/step - loss: 1.5863 - accuracy: 0.3955 - auc_1: 0.8086 - val_loss: 1.5448 - val_accuracy: 0.3828 - val_auc_1: 0.8208\n",
      "Epoch 16/250\n",
      "11/11 [==============================] - 47s 4s/step - loss: 1.5606 - accuracy: 0.3905 - auc_1: 0.8131 - val_loss: 1.5444 - val_accuracy: 0.3438 - val_auc_1: 0.8130\n",
      "Epoch 17/250\n",
      "11/11 [==============================] - 48s 4s/step - loss: 1.5435 - accuracy: 0.4098 - auc_1: 0.8195 - val_loss: 1.4442 - val_accuracy: 0.4375 - val_auc_1: 0.8483\n",
      "Epoch 18/250\n",
      "11/11 [==============================] - 45s 4s/step - loss: 1.5124 - accuracy: 0.4308 - auc_1: 0.8291 - val_loss: 1.5114 - val_accuracy: 0.5000 - val_auc_1: 0.8249\n",
      "Epoch 19/250\n",
      "11/11 [==============================] - 48s 4s/step - loss: 1.5459 - accuracy: 0.4186 - auc_1: 0.8192 - val_loss: 1.4883 - val_accuracy: 0.4375 - val_auc_1: 0.8335\n",
      "Epoch 20/250\n",
      "11/11 [==============================] - 45s 4s/step - loss: 1.5107 - accuracy: 0.4229 - auc_1: 0.8281 - val_loss: 1.4566 - val_accuracy: 0.4688 - val_auc_1: 0.8497\n",
      "Epoch 21/250\n",
      "11/11 [==============================] - 50s 5s/step - loss: 1.4744 - accuracy: 0.4467 - auc_1: 0.8395 - val_loss: 1.4625 - val_accuracy: 0.4219 - val_auc_1: 0.8378\n",
      "Epoch 22/250\n",
      "11/11 [==============================] - 47s 4s/step - loss: 1.4883 - accuracy: 0.4408 - auc_1: 0.8340 - val_loss: 1.3191 - val_accuracy: 0.6250 - val_auc_1: 0.8839\n",
      "Epoch 23/250\n",
      "11/11 [==============================] - 48s 4s/step - loss: 1.4556 - accuracy: 0.4531 - auc_1: 0.8445 - val_loss: 1.3861 - val_accuracy: 0.4922 - val_auc_1: 0.8608\n",
      "Epoch 24/250\n",
      "11/11 [==============================] - 45s 4s/step - loss: 1.4462 - accuracy: 0.4575 - auc_1: 0.8464 - val_loss: 1.4709 - val_accuracy: 0.4375 - val_auc_1: 0.8338\n",
      "Epoch 25/250\n",
      "11/11 [==============================] - 43s 4s/step - loss: 1.4455 - accuracy: 0.4690 - auc_1: 0.8451 - val_loss: 1.4133 - val_accuracy: 0.4375 - val_auc_1: 0.8551\n",
      "Epoch 26/250\n",
      "11/11 [==============================] - 43s 4s/step - loss: 1.4121 - accuracy: 0.4915 - auc_1: 0.8561 - val_loss: 1.1719 - val_accuracy: 0.5625 - val_auc_1: 0.9137\n",
      "Epoch 27/250\n",
      "11/11 [==============================] - 43s 4s/step - loss: 1.3918 - accuracy: 0.4964 - auc_1: 0.8583 - val_loss: 1.3831 - val_accuracy: 0.4688 - val_auc_1: 0.8602\n",
      "Epoch 28/250\n",
      "11/11 [==============================] - 43s 4s/step - loss: 1.4255 - accuracy: 0.4708 - auc_1: 0.8500 - val_loss: 1.2570 - val_accuracy: 0.6250 - val_auc_1: 0.8860\n",
      "Epoch 29/250\n",
      "11/11 [==============================] - 42s 4s/step - loss: 1.3819 - accuracy: 0.5007 - auc_1: 0.8607 - val_loss: 1.2376 - val_accuracy: 0.5234 - val_auc_1: 0.8934\n",
      "Epoch 30/250\n",
      "11/11 [==============================] - 44s 4s/step - loss: 1.3870 - accuracy: 0.4647 - auc_1: 0.8578 - val_loss: 1.3962 - val_accuracy: 0.3750 - val_auc_1: 0.8546\n",
      "Epoch 31/250\n",
      "11/11 [==============================] - 45s 4s/step - loss: 1.3428 - accuracy: 0.4993 - auc_1: 0.8694 - val_loss: 1.2753 - val_accuracy: 0.5312 - val_auc_1: 0.8846\n",
      "Epoch 32/250\n",
      "11/11 [==============================] - 49s 4s/step - loss: 1.3893 - accuracy: 0.4993 - auc_1: 0.8588 - val_loss: 1.2260 - val_accuracy: 0.4688 - val_auc_1: 0.8913\n",
      "Epoch 33/250\n",
      "11/11 [==============================] - 42s 4s/step - loss: 1.3561 - accuracy: 0.4899 - auc_1: 0.8654 - val_loss: 1.2717 - val_accuracy: 0.5156 - val_auc_1: 0.8842\n",
      "Epoch 34/250\n",
      "11/11 [==============================] - 43s 4s/step - loss: 1.3392 - accuracy: 0.5043 - auc_1: 0.8691 - val_loss: 1.2873 - val_accuracy: 0.5000 - val_auc_1: 0.8751\n",
      "Epoch 35/250\n",
      "11/11 [==============================] - 45s 4s/step - loss: 1.3098 - accuracy: 0.5339 - auc_1: 0.8761 - val_loss: 1.2211 - val_accuracy: 0.5234 - val_auc_1: 0.8947\n",
      "Epoch 36/250\n",
      "11/11 [==============================] - 43s 4s/step - loss: 1.3248 - accuracy: 0.5108 - auc_1: 0.8728 - val_loss: 1.3711 - val_accuracy: 0.4375 - val_auc_1: 0.8592\n",
      "Epoch 37/250\n",
      "11/11 [==============================] - 46s 4s/step - loss: 1.2910 - accuracy: 0.5353 - auc_1: 0.8792 - val_loss: 1.2243 - val_accuracy: 0.5391 - val_auc_1: 0.8931\n",
      "Epoch 38/250\n",
      "11/11 [==============================] - 43s 4s/step - loss: 1.3208 - accuracy: 0.5137 - auc_1: 0.8728 - val_loss: 1.2237 - val_accuracy: 0.5625 - val_auc_1: 0.8953\n",
      "Epoch 39/250\n",
      "11/11 [==============================] - 45s 4s/step - loss: 1.3406 - accuracy: 0.5014 - auc_1: 0.8681 - val_loss: 1.2546 - val_accuracy: 0.4844 - val_auc_1: 0.8871\n",
      "Epoch 40/250\n",
      "11/11 [==============================] - 44s 4s/step - loss: 1.2862 - accuracy: 0.5382 - auc_1: 0.8787 - val_loss: 1.1751 - val_accuracy: 0.5312 - val_auc_1: 0.8989\n",
      "Epoch 41/250\n",
      "11/11 [==============================] - 41s 4s/step - loss: 1.3155 - accuracy: 0.5288 - auc_1: 0.8744 - val_loss: 1.1901 - val_accuracy: 0.5859 - val_auc_1: 0.8988\n"
     ]
    }
   ],
   "source": [
    "## save best model and use early stopping\n",
    "early_stop = keras.callbacks.EarlyStopping(\n",
    "        monitor='val_loss',mode='min', patience=15) \n",
    "check_p = keras.callbacks.ModelCheckpoint(\n",
    "        filepath=PATH_MODEL+'just_cake_model_checkpoint0-gpu.h5',\n",
    "        monitor='val_loss',\n",
    "        mode='min',\n",
    "        save_best_only=True)\n",
    "\n",
    "epoch_hist = just_cake_model.fit(\n",
    "        train_generator,\n",
    "        steps_per_epoch=1516 // BATCH_SIZE,\n",
    "        validation_data=val_generator,\n",
    "        validation_steps=160 // BATCH_SIZE,\n",
    "        callbacks=[early_stop,check_p],\n",
    "        epochs=250)"
   ]
  },
  {
   "cell_type": "code",
   "execution_count": null,
   "metadata": {},
   "outputs": [],
   "source": []
  },
  {
   "cell_type": "markdown",
   "metadata": {},
   "source": [
    "## Evaluations"
   ]
  },
  {
   "cell_type": "code",
   "execution_count": 17,
   "metadata": {},
   "outputs": [],
   "source": [
    "df_epoch_hist = pd.DataFrame(epoch_hist.history)"
   ]
  },
  {
   "cell_type": "code",
   "execution_count": 18,
   "metadata": {},
   "outputs": [
    {
     "data": {
      "text/plain": [
       "<AxesSubplot:>"
      ]
     },
     "execution_count": 18,
     "metadata": {},
     "output_type": "execute_result"
    },
    {
     "data": {
      "image/png": "[encoded data removed]",
      "text/plain": [
       "<Figure size 432x288 with 1 Axes>"
      ]
     },
     "metadata": {
      "needs_background": "light"
     },
     "output_type": "display_data"
    }
   ],
   "source": [
    "df_epoch_hist[['loss','val_loss']].plot()"
   ]
  },
  {
   "cell_type": "code",
   "execution_count": 19,
   "metadata": {},
   "outputs": [],
   "source": [
    "df_epoch_hist.to_csv('../artifact/epoch_hist_1-gpu.csv')"
   ]
  },
  {
   "cell_type": "code",
   "execution_count": null,
   "metadata": {},
   "outputs": [],
   "source": []
  },
  {
   "cell_type": "code",
   "execution_count": 20,
   "metadata": {},
   "outputs": [],
   "source": [
    "# depd = {'auc_1' : metrics.AUC}\n",
    "model_load = load_model(PATH_MODEL + 'just_cake_model_checkpoint0-gpu.h5',compile=False)"
   ]
  },
  {
   "cell_type": "code",
   "execution_count": 21,
   "metadata": {},
   "outputs": [],
   "source": [
    "true_labels = val_generator.classes\n",
    "predictions = model_load.predict(val_generator)\n",
    "\n",
    "y_true = true_labels\n",
    "y_pred = np.array([np.argmax(x) for x in predictions])\n",
    "\n",
    "cm = sklearn.metrics.confusion_matrix(y_true, y_pred)"
   ]
  },
  {
   "cell_type": "code",
   "execution_count": 22,
   "metadata": {},
   "outputs": [
    {
     "data": {
      "text/plain": [
       "<AxesSubplot:>"
      ]
     },
     "execution_count": 22,
     "metadata": {},
     "output_type": "execute_result"
    },
    {
     "data": {
      "image/png": "[encoded data removed]",
      "text/plain": [
       "<Figure size 864x576 with 2 Axes>"
      ]
     },
     "metadata": {
      "needs_background": "light"
     },
     "output_type": "display_data"
    }
   ],
   "source": [
    "plt.figure(figsize = (12,8))\n",
    "sns.heatmap(cm, annot= True)"
   ]
  },
  {
   "cell_type": "code",
   "execution_count": 24,
   "metadata": {},
   "outputs": [
    {
     "name": "stdout",
     "output_type": "stream",
     "text": [
      "              precision    recall  f1-score   support\n",
      "\n",
      "           0       0.10      0.10      0.10        20\n",
      "           1       0.00      0.00      0.00        20\n",
      "           2       0.07      0.10      0.08        20\n",
      "           3       0.00      0.00      0.00        20\n",
      "           4       0.00      0.00      0.00        20\n",
      "           5       0.22      0.20      0.21        20\n",
      "           6       0.12      0.20      0.15        20\n",
      "           7       0.08      0.05      0.06        20\n",
      "\n",
      "    accuracy                           0.08       160\n",
      "   macro avg       0.07      0.08      0.08       160\n",
      "weighted avg       0.07      0.08      0.08       160\n",
      "\n"
     ]
    }
   ],
   "source": [
    "print(classification_report(y_true, y_pred))"
   ]
  },
  {
   "cell_type": "code",
   "execution_count": null,
   "metadata": {},
   "outputs": [],
   "source": []
  }
 ],
 "metadata": {
  "kernelspec": {
   "display_name": "p37",
   "language": "python",
   "name": "p37"
  },
  "language_info": {
   "codemirror_mode": {
    "name": "ipython",
    "version": 3
   },
   "file_extension": ".py",
   "mimetype": "text/x-python",
   "name": "python",
   "nbconvert_exporter": "python",
   "pygments_lexer": "ipython3",
   "version": "3.7.9"
  }
 },
 "nbformat": 4,
 "nbformat_minor": 4
}
