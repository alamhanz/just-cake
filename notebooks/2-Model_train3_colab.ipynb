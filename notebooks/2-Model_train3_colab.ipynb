{
  "nbformat": 4,
  "nbformat_minor": 0,
  "metadata": {
    "kernelspec": {
      "name": "python3",
      "display_name": "Python 3"
    },
    "colab": {
      "name": "2-Model_train2-overfit2_GPU.ipynb",
      "provenance": []
    },
    "language_info": {
      "name": "python"
    },
    "accelerator": "GPU"
  },
  "cells": [
    {
      "cell_type": "markdown",
      "metadata": {
        "id": "so7LGcBSa8EC"
      },
      "source": [
        "## Kue Dataset - Model2\n",
        "\n",
        "overfit model2\n"
      ]
    },
    {
      "cell_type": "code",
      "metadata": {
        "id": "HkuDEfDba8EO"
      },
      "source": [
        "# conda install -c conda-forge keras"
      ],
      "execution_count": 1,
      "outputs": []
    },
    {
      "cell_type": "code",
      "metadata": {
        "id": "SvIbOTSWa8EP"
      },
      "source": [
        "import os\n",
        "import re\n",
        "import glob\n",
        "\n",
        "import scipy.io\n",
        "import cv2\n",
        "from PIL import Image\n",
        "import pandas as pd\n",
        "import numpy as np\n",
        "import matplotlib.pyplot as plt\n",
        "import tqdm\n",
        "import shutil\n",
        "\n",
        "from sklearn.model_selection import train_test_split\n",
        "from sklearn.metrics import classification_report\n",
        "from scipy.io import loadmat\n",
        "import random\n",
        "import sklearn\n",
        "import seaborn as sns"
      ],
      "execution_count": 2,
      "outputs": []
    },
    {
      "cell_type": "code",
      "metadata": {
        "id": "N9_-os7Sbh_c",
        "colab": {
          "base_uri": "https://localhost:8080/"
        },
        "outputId": "2b913bc8-c630-436c-8674-6bfa8dd754c9"
      },
      "source": [
        "from google.colab import drive\n",
        "drive.mount('/content/drive')"
      ],
      "execution_count": 3,
      "outputs": [
        {
          "output_type": "stream",
          "text": [
            "Mounted at /content/drive\n"
          ],
          "name": "stdout"
        }
      ]
    },
    {
      "cell_type": "code",
      "metadata": {
        "id": "rBaYG307a8EP"
      },
      "source": [
        "# PATH_DATA = '../data/'\n",
        "# PATH_DATA_IMAGES = '../../../../My_Dataset/images/dataset257/'\n",
        "PATH_DATA_IMAGES = 'drive/MyDrive/Repository/Data/dataset257/'\n",
        "PATH_DATA_TRAIN = PATH_DATA_IMAGES+'train/'\n",
        "PATH_DATA_VAL = PATH_DATA_IMAGES+'validation/'\n",
        "PATH_DATA_TEST = PATH_DATA_IMAGES+'test/'\n",
        "PATH_MODEL = 'drive/MyDrive/Repository/Model/'"
      ],
      "execution_count": 4,
      "outputs": []
    },
    {
      "cell_type": "code",
      "metadata": {
        "id": "2HonpXOsa8EQ",
        "colab": {
          "base_uri": "https://localhost:8080/"
        },
        "outputId": "edb69269-349b-483c-9be1-14be86ff8e9b"
      },
      "source": [
        "os.listdir(PATH_DATA_TRAIN)"
      ],
      "execution_count": 5,
      "outputs": [
        {
          "output_type": "execute_result",
          "data": {
            "text/plain": [
              "['.DS_Store',\n",
              " 'kue_kastengel',\n",
              " 'kue_dadar_gulung',\n",
              " 'kue_risoles',\n",
              " 'kue_klepon',\n",
              " 'kue_putri_salju',\n",
              " 'kue_lumpur',\n",
              " 'kue_lapis',\n",
              " 'kue_serabi']"
            ]
          },
          "metadata": {
            "tags": []
          },
          "execution_count": 5
        }
      ]
    },
    {
      "cell_type": "code",
      "metadata": {
        "id": "Aef6PSaxa8ES"
      },
      "source": [
        ""
      ],
      "execution_count": 5,
      "outputs": []
    },
    {
      "cell_type": "markdown",
      "metadata": {
        "id": "c6iLHlmXa8ES"
      },
      "source": [
        "## Modeling"
      ]
    },
    {
      "cell_type": "code",
      "metadata": {
        "id": "d8tV2RaNa8ES"
      },
      "source": [
        "from keras.models import Sequential\n",
        "from keras.layers import Conv2D, MaxPooling2D, Activation, Dropout, Flatten, Dense\n",
        "from keras.preprocessing.image import ImageDataGenerator\n",
        "from keras import metrics, optimizers\n",
        "import keras\n",
        "import tensorflow as tf\n",
        "from keras.models import load_model\n"
      ],
      "execution_count": 6,
      "outputs": []
    },
    {
      "cell_type": "code",
      "metadata": {
        "id": "mrEGDjjHa8ET",
        "colab": {
          "base_uri": "https://localhost:8080/"
        },
        "outputId": "22288999-023c-48d1-f95b-560ea12f3c11"
      },
      "source": [
        "# sess = tf.compat.v1.Session(config=tf.compat.v1.ConfigProto(log_device_placement=True))\n",
        "# tf.debugging.set_log_device_placement(True)\n",
        "print(\"Num GPUs Available: \", len(tf.config.experimental.list_physical_devices('GPU')))"
      ],
      "execution_count": 7,
      "outputs": [
        {
          "output_type": "stream",
          "text": [
            "Num GPUs Available:  1\n"
          ],
          "name": "stdout"
        }
      ]
    },
    {
      "cell_type": "code",
      "metadata": {
        "id": "HqxsR_CBa8ET",
        "colab": {
          "base_uri": "https://localhost:8080/"
        },
        "outputId": "07524434-1f14-4e52-951b-373c6aadc774"
      },
      "source": [
        "gpus = tf.config.list_physical_devices('GPU')\n",
        "if gpus:\n",
        "    try:\n",
        "        # Currently, memory growth needs to be the same across GPUs\n",
        "        for gpu in gpus:\n",
        "            tf.config.experimental.set_memory_growth(gpu, True)\n",
        "        logical_gpus = tf.config.experimental.list_logical_devices('GPU')\n",
        "        print(len(gpus), \"Physical GPUs,\", len(logical_gpus), \"Logical GPUs\")\n",
        "    except RuntimeError as e:\n",
        "        # Memory growth must be set before GPUs have been initialized\n",
        "        print(e)"
      ],
      "execution_count": 8,
      "outputs": [
        {
          "output_type": "stream",
          "text": [
            "1 Physical GPUs, 1 Logical GPUs\n"
          ],
          "name": "stdout"
        }
      ]
    },
    {
      "cell_type": "code",
      "metadata": {
        "id": "uXuKIpmva8EU",
        "colab": {
          "base_uri": "https://localhost:8080/"
        },
        "outputId": "705779bb-45f9-4e81-9faf-672732df5dd5"
      },
      "source": [
        "## label dict\n",
        "lab = [i for i in os.listdir(PATH_DATA_TRAIN) if '.' not in i]\n",
        "lab.sort()\n",
        "\n",
        "label_dict = dict(zip(lab,[i for i in range(len(lab))]))\n",
        "label_dict"
      ],
      "execution_count": 9,
      "outputs": [
        {
          "output_type": "execute_result",
          "data": {
            "text/plain": [
              "{'kue_dadar_gulung': 0,\n",
              " 'kue_kastengel': 1,\n",
              " 'kue_klepon': 2,\n",
              " 'kue_lapis': 3,\n",
              " 'kue_lumpur': 4,\n",
              " 'kue_putri_salju': 5,\n",
              " 'kue_risoles': 6,\n",
              " 'kue_serabi': 7}"
            ]
          },
          "metadata": {
            "tags": []
          },
          "execution_count": 9
        }
      ]
    },
    {
      "cell_type": "code",
      "metadata": {
        "id": "VZqirKGha8EU"
      },
      "source": [
        "LABEL_SIZE = len(label_dict.keys())\n",
        "IMAGE_SIZE = 200"
      ],
      "execution_count": 63,
      "outputs": []
    },
    {
      "cell_type": "code",
      "metadata": {
        "id": "YzCbCVH8a8EU"
      },
      "source": [
        "just_cake_model = Sequential()\n",
        "just_cake_model.add(Conv2D(180, (3, 3), activation ='relu', input_shape=(IMAGE_SIZE, IMAGE_SIZE, 3)))\n",
        "just_cake_model.add(MaxPooling2D(pool_size=(2, 2)))\n",
        "just_cake_model.add(Conv2D(180, (3, 3), activation ='relu'))\n",
        "just_cake_model.add(MaxPooling2D(pool_size=(2, 2)))\n",
        "just_cake_model.add(Dropout(0.2))\n",
        "just_cake_model.add(Conv2D(360, (3, 3), activation ='relu'))\n",
        "just_cake_model.add(Conv2D(360, (3, 3), activation ='relu'))\n",
        "just_cake_model.add(MaxPooling2D(pool_size=(2, 2)))\n",
        "just_cake_model.add(Dropout(0.2))\n",
        "just_cake_model.add(Conv2D(90, (3, 3), activation ='relu'))\n",
        "just_cake_model.add(Conv2D(90, (3, 3), activation ='relu'))\n",
        "just_cake_model.add(MaxPooling2D(pool_size=(2, 2)))\n",
        "just_cake_model.add(Conv2D(45, (3, 3), activation ='relu'))\n",
        "just_cake_model.add(MaxPooling2D(pool_size=(2, 2)))\n",
        "\n",
        "\n",
        "just_cake_model.add(Flatten())  # this converts our 3D feature maps to 1D feature vectors\n",
        "just_cake_model.add(Dense(256, activation ='relu'))\n",
        "just_cake_model.add(Dense(32, activation ='relu'))\n",
        "just_cake_model.add(Dense(LABEL_SIZE,activation ='softmax'))"
      ],
      "execution_count": 64,
      "outputs": []
    },
    {
      "cell_type": "code",
      "metadata": {
        "id": "BeLsYMtua8EV",
        "colab": {
          "base_uri": "https://localhost:8080/"
        },
        "outputId": "583bc0a3-c74b-4cb9-fe23-e2c54270093e"
      },
      "source": [
        "just_cake_model.summary()"
      ],
      "execution_count": 65,
      "outputs": [
        {
          "output_type": "stream",
          "text": [
            "Model: \"sequential_8\"\n",
            "_________________________________________________________________\n",
            "Layer (type)                 Output Shape              Param #   \n",
            "=================================================================\n",
            "conv2d_50 (Conv2D)           (None, 198, 198, 180)     5040      \n",
            "_________________________________________________________________\n",
            "max_pooling2d_30 (MaxPooling (None, 99, 99, 180)       0         \n",
            "_________________________________________________________________\n",
            "conv2d_51 (Conv2D)           (None, 97, 97, 180)       291780    \n",
            "_________________________________________________________________\n",
            "max_pooling2d_31 (MaxPooling (None, 48, 48, 180)       0         \n",
            "_________________________________________________________________\n",
            "dropout_8 (Dropout)          (None, 48, 48, 180)       0         \n",
            "_________________________________________________________________\n",
            "conv2d_52 (Conv2D)           (None, 46, 46, 360)       583560    \n",
            "_________________________________________________________________\n",
            "conv2d_53 (Conv2D)           (None, 44, 44, 360)       1166760   \n",
            "_________________________________________________________________\n",
            "max_pooling2d_32 (MaxPooling (None, 22, 22, 360)       0         \n",
            "_________________________________________________________________\n",
            "dropout_9 (Dropout)          (None, 22, 22, 360)       0         \n",
            "_________________________________________________________________\n",
            "conv2d_54 (Conv2D)           (None, 20, 20, 90)        291690    \n",
            "_________________________________________________________________\n",
            "conv2d_55 (Conv2D)           (None, 18, 18, 90)        72990     \n",
            "_________________________________________________________________\n",
            "max_pooling2d_33 (MaxPooling (None, 9, 9, 90)          0         \n",
            "_________________________________________________________________\n",
            "conv2d_56 (Conv2D)           (None, 7, 7, 45)          36495     \n",
            "_________________________________________________________________\n",
            "max_pooling2d_34 (MaxPooling (None, 3, 3, 45)          0         \n",
            "_________________________________________________________________\n",
            "flatten_8 (Flatten)          (None, 405)               0         \n",
            "_________________________________________________________________\n",
            "dense_34 (Dense)             (None, 256)               103936    \n",
            "_________________________________________________________________\n",
            "dense_35 (Dense)             (None, 32)                8224      \n",
            "_________________________________________________________________\n",
            "dense_36 (Dense)             (None, 8)                 264       \n",
            "=================================================================\n",
            "Total params: 2,560,739\n",
            "Trainable params: 2,560,739\n",
            "Non-trainable params: 0\n",
            "_________________________________________________________________\n"
          ],
          "name": "stdout"
        }
      ]
    },
    {
      "cell_type": "code",
      "metadata": {
        "id": "bcqj7uusa8EV"
      },
      "source": [
        ""
      ],
      "execution_count": 65,
      "outputs": []
    },
    {
      "cell_type": "code",
      "metadata": {
        "id": "I3ghe_Wxa8EV"
      },
      "source": [
        "## compile model\n",
        "opt = optimizers.Adam(learning_rate=0.001)\n",
        "just_cake_model.compile(loss='categorical_crossentropy',\n",
        "              #optimizer='rmsprop',\n",
        "              optimizer = opt,\n",
        "              metrics=['accuracy',metrics.AUC()])"
      ],
      "execution_count": 66,
      "outputs": []
    },
    {
      "cell_type": "code",
      "metadata": {
        "id": "mVaNvqLwa8EW"
      },
      "source": [
        ""
      ],
      "execution_count": 66,
      "outputs": []
    },
    {
      "cell_type": "code",
      "metadata": {
        "id": "vrqkfHQVa8EW",
        "colab": {
          "base_uri": "https://localhost:8080/"
        },
        "outputId": "2613f5e6-5b22-4085-e8f3-a9f9e5eff617"
      },
      "source": [
        "## data generator\n",
        "BATCH_SIZE = 64\n",
        "train_datagen = ImageDataGenerator(\n",
        "        rescale=1./255,\n",
        "        zoom_range=0.2,\n",
        "        rotation_range=35,\n",
        "        width_shift_range=0.25,\n",
        "        height_shift_range=0.25,\n",
        "        shear_range=0.25,\n",
        "        horizontal_flip=True)\n",
        "\n",
        "val_datagen = ImageDataGenerator(rescale=1./255)\n",
        "test_datagen = ImageDataGenerator(rescale=1./255)\n",
        "\n",
        "\n",
        "train_generator = train_datagen.flow_from_directory(\n",
        "        PATH_DATA_TRAIN,  \n",
        "        target_size=(IMAGE_SIZE, IMAGE_SIZE), \n",
        "        batch_size=BATCH_SIZE,\n",
        "        class_mode=\"categorical\" )  \n",
        "\n",
        "val_generator = val_datagen.flow_from_directory(\n",
        "        PATH_DATA_VAL,  \n",
        "        target_size=(IMAGE_SIZE, IMAGE_SIZE), \n",
        "        batch_size=BATCH_SIZE,\n",
        "        class_mode=\"categorical\" )  \n",
        "\n",
        "test_generator = test_datagen.flow_from_directory(\n",
        "        PATH_DATA_TEST,\n",
        "        target_size=(IMAGE_SIZE, IMAGE_SIZE),\n",
        "        batch_size=BATCH_SIZE,\n",
        "        class_mode=\"categorical\" )"
      ],
      "execution_count": 67,
      "outputs": [
        {
          "output_type": "stream",
          "text": [
            "Found 1516 images belonging to 8 classes.\n",
            "Found 160 images belonging to 8 classes.\n",
            "Found 160 images belonging to 8 classes.\n"
          ],
          "name": "stdout"
        }
      ]
    },
    {
      "cell_type": "code",
      "metadata": {
        "id": "uLEvwq7ha8EW"
      },
      "source": [
        ""
      ],
      "execution_count": 67,
      "outputs": []
    },
    {
      "cell_type": "code",
      "metadata": {
        "id": "le97FcMUa8EX",
        "colab": {
          "base_uri": "https://localhost:8080/"
        },
        "outputId": "d8ff7140-5072-4ef0-df1f-b2ecd577659a"
      },
      "source": [
        "## save best model and use early stopping\n",
        "early_stop = keras.callbacks.EarlyStopping(\n",
        "        monitor='val_loss',mode='min', patience=8) \n",
        "check_p = keras.callbacks.ModelCheckpoint(\n",
        "        filepath=PATH_MODEL+'just_cake_model-colab2.h5',\n",
        "        monitor='val_loss',\n",
        "        mode='min',\n",
        "        save_best_only=True)\n",
        "\n",
        "epoch_hist = just_cake_model.fit(\n",
        "        train_generator,\n",
        "        steps_per_epoch=1516 // BATCH_SIZE,\n",
        "        validation_data=val_generator,\n",
        "        validation_steps=160 // BATCH_SIZE,\n",
        "        callbacks=[early_stop,check_p],\n",
        "        epochs=100)"
      ],
      "execution_count": 68,
      "outputs": [
        {
          "output_type": "stream",
          "text": [
            "Epoch 1/100\n",
            "23/23 [==============================] - 37s 1s/step - loss: 2.0807 - accuracy: 0.1208 - auc_5: 0.5123 - val_loss: 1.9024 - val_accuracy: 0.2109 - val_auc_5: 0.6367\n",
            "Epoch 2/100\n",
            "23/23 [==============================] - 34s 1s/step - loss: 1.9752 - accuracy: 0.1971 - auc_5: 0.6299 - val_loss: 1.9024 - val_accuracy: 0.2812 - val_auc_5: 0.6738\n",
            "Epoch 3/100\n",
            "23/23 [==============================] - 34s 1s/step - loss: 1.8834 - accuracy: 0.2422 - auc_5: 0.6956 - val_loss: 1.7758 - val_accuracy: 0.2344 - val_auc_5: 0.7492\n",
            "Epoch 4/100\n",
            "23/23 [==============================] - 34s 1s/step - loss: 1.8074 - accuracy: 0.2325 - auc_5: 0.7268 - val_loss: 1.6565 - val_accuracy: 0.2500 - val_auc_5: 0.7802\n",
            "Epoch 5/100\n",
            "23/23 [==============================] - 34s 1s/step - loss: 1.7646 - accuracy: 0.2350 - auc_5: 0.7436 - val_loss: 1.6286 - val_accuracy: 0.3047 - val_auc_5: 0.8070\n",
            "Epoch 6/100\n",
            "23/23 [==============================] - 33s 1s/step - loss: 1.7528 - accuracy: 0.2845 - auc_5: 0.7564 - val_loss: 1.5316 - val_accuracy: 0.3750 - val_auc_5: 0.8188\n",
            "Epoch 7/100\n",
            "23/23 [==============================] - 34s 1s/step - loss: 1.7274 - accuracy: 0.2867 - auc_5: 0.7744 - val_loss: 1.5301 - val_accuracy: 0.3672 - val_auc_5: 0.8244\n",
            "Epoch 8/100\n",
            "23/23 [==============================] - 34s 1s/step - loss: 1.6279 - accuracy: 0.3344 - auc_5: 0.7955 - val_loss: 1.5496 - val_accuracy: 0.3281 - val_auc_5: 0.8339\n",
            "Epoch 9/100\n",
            "23/23 [==============================] - 34s 1s/step - loss: 1.6340 - accuracy: 0.3596 - auc_5: 0.7946 - val_loss: 1.5596 - val_accuracy: 0.3594 - val_auc_5: 0.8163\n",
            "Epoch 10/100\n",
            "23/23 [==============================] - 33s 1s/step - loss: 1.6017 - accuracy: 0.3464 - auc_5: 0.8033 - val_loss: 1.4262 - val_accuracy: 0.3672 - val_auc_5: 0.8534\n",
            "Epoch 11/100\n",
            "23/23 [==============================] - 34s 1s/step - loss: 1.5942 - accuracy: 0.3360 - auc_5: 0.8063 - val_loss: 1.4570 - val_accuracy: 0.4141 - val_auc_5: 0.8473\n",
            "Epoch 12/100\n",
            "23/23 [==============================] - 34s 1s/step - loss: 1.5393 - accuracy: 0.3586 - auc_5: 0.8233 - val_loss: 1.5937 - val_accuracy: 0.3438 - val_auc_5: 0.8144\n",
            "Epoch 13/100\n",
            "23/23 [==============================] - 33s 1s/step - loss: 1.5875 - accuracy: 0.3822 - auc_5: 0.8093 - val_loss: 1.4871 - val_accuracy: 0.3750 - val_auc_5: 0.8482\n",
            "Epoch 14/100\n",
            "23/23 [==============================] - 33s 1s/step - loss: 1.5724 - accuracy: 0.3545 - auc_5: 0.8146 - val_loss: 1.3667 - val_accuracy: 0.4453 - val_auc_5: 0.8627\n",
            "Epoch 15/100\n",
            "23/23 [==============================] - 34s 1s/step - loss: 1.5030 - accuracy: 0.4039 - auc_5: 0.8309 - val_loss: 1.4315 - val_accuracy: 0.4141 - val_auc_5: 0.8573\n",
            "Epoch 16/100\n",
            "23/23 [==============================] - 34s 1s/step - loss: 1.5137 - accuracy: 0.3792 - auc_5: 0.8308 - val_loss: 1.3683 - val_accuracy: 0.4531 - val_auc_5: 0.8645\n",
            "Epoch 17/100\n",
            "23/23 [==============================] - 33s 1s/step - loss: 1.4826 - accuracy: 0.3780 - auc_5: 0.8362 - val_loss: 1.4445 - val_accuracy: 0.4219 - val_auc_5: 0.8453\n",
            "Epoch 18/100\n",
            "23/23 [==============================] - 33s 1s/step - loss: 1.4854 - accuracy: 0.4112 - auc_5: 0.8351 - val_loss: 1.3456 - val_accuracy: 0.4297 - val_auc_5: 0.8762\n",
            "Epoch 19/100\n",
            "23/23 [==============================] - 34s 1s/step - loss: 1.4825 - accuracy: 0.4163 - auc_5: 0.8371 - val_loss: 1.3047 - val_accuracy: 0.4844 - val_auc_5: 0.8814\n",
            "Epoch 20/100\n",
            "23/23 [==============================] - 33s 1s/step - loss: 1.5224 - accuracy: 0.4075 - auc_5: 0.8246 - val_loss: 1.3059 - val_accuracy: 0.5000 - val_auc_5: 0.8852\n",
            "Epoch 21/100\n",
            "23/23 [==============================] - 34s 1s/step - loss: 1.4848 - accuracy: 0.4132 - auc_5: 0.8337 - val_loss: 1.3007 - val_accuracy: 0.4688 - val_auc_5: 0.8755\n",
            "Epoch 22/100\n",
            "23/23 [==============================] - 33s 1s/step - loss: 1.4813 - accuracy: 0.4534 - auc_5: 0.8393 - val_loss: 1.3223 - val_accuracy: 0.4688 - val_auc_5: 0.8745\n",
            "Epoch 23/100\n",
            "23/23 [==============================] - 33s 1s/step - loss: 1.4461 - accuracy: 0.4637 - auc_5: 0.8459 - val_loss: 1.3004 - val_accuracy: 0.4531 - val_auc_5: 0.8764\n",
            "Epoch 24/100\n",
            "23/23 [==============================] - 33s 1s/step - loss: 1.3914 - accuracy: 0.4872 - auc_5: 0.8574 - val_loss: 1.3063 - val_accuracy: 0.4609 - val_auc_5: 0.8738\n",
            "Epoch 25/100\n",
            "23/23 [==============================] - 34s 1s/step - loss: 1.4714 - accuracy: 0.4545 - auc_5: 0.8368 - val_loss: 1.3612 - val_accuracy: 0.4609 - val_auc_5: 0.8641\n",
            "Epoch 26/100\n",
            "23/23 [==============================] - 34s 1s/step - loss: 1.3621 - accuracy: 0.5076 - auc_5: 0.8636 - val_loss: 1.2434 - val_accuracy: 0.5391 - val_auc_5: 0.8906\n",
            "Epoch 27/100\n",
            "23/23 [==============================] - 34s 1s/step - loss: 1.3883 - accuracy: 0.4774 - auc_5: 0.8565 - val_loss: 1.2251 - val_accuracy: 0.5156 - val_auc_5: 0.8957\n",
            "Epoch 28/100\n",
            "23/23 [==============================] - 34s 1s/step - loss: 1.3095 - accuracy: 0.5035 - auc_5: 0.8757 - val_loss: 1.3335 - val_accuracy: 0.5000 - val_auc_5: 0.8794\n",
            "Epoch 29/100\n",
            "23/23 [==============================] - 33s 1s/step - loss: 1.3252 - accuracy: 0.5257 - auc_5: 0.8733 - val_loss: 1.1669 - val_accuracy: 0.5547 - val_auc_5: 0.9024\n",
            "Epoch 30/100\n",
            "23/23 [==============================] - 34s 1s/step - loss: 1.2798 - accuracy: 0.5100 - auc_5: 0.8809 - val_loss: 1.0898 - val_accuracy: 0.6016 - val_auc_5: 0.9146\n",
            "Epoch 31/100\n",
            "23/23 [==============================] - 34s 1s/step - loss: 1.2606 - accuracy: 0.5346 - auc_5: 0.8849 - val_loss: 1.2812 - val_accuracy: 0.4922 - val_auc_5: 0.8887\n",
            "Epoch 32/100\n",
            "23/23 [==============================] - 34s 1s/step - loss: 1.2870 - accuracy: 0.5143 - auc_5: 0.8816 - val_loss: 1.1700 - val_accuracy: 0.5391 - val_auc_5: 0.9048\n",
            "Epoch 33/100\n",
            "23/23 [==============================] - 34s 1s/step - loss: 1.2012 - accuracy: 0.5657 - auc_5: 0.8955 - val_loss: 1.1811 - val_accuracy: 0.5781 - val_auc_5: 0.8993\n",
            "Epoch 34/100\n",
            "23/23 [==============================] - 33s 1s/step - loss: 1.2727 - accuracy: 0.5467 - auc_5: 0.8818 - val_loss: 1.1034 - val_accuracy: 0.5625 - val_auc_5: 0.9120\n",
            "Epoch 35/100\n",
            "23/23 [==============================] - 34s 1s/step - loss: 1.2538 - accuracy: 0.5509 - auc_5: 0.8852 - val_loss: 1.2358 - val_accuracy: 0.5391 - val_auc_5: 0.8893\n",
            "Epoch 36/100\n",
            "23/23 [==============================] - 33s 1s/step - loss: 1.2650 - accuracy: 0.5413 - auc_5: 0.8818 - val_loss: 1.3132 - val_accuracy: 0.4844 - val_auc_5: 0.8772\n",
            "Epoch 37/100\n",
            "23/23 [==============================] - 34s 1s/step - loss: 1.3022 - accuracy: 0.5285 - auc_5: 0.8756 - val_loss: 1.1578 - val_accuracy: 0.5938 - val_auc_5: 0.9007\n",
            "Epoch 38/100\n",
            "23/23 [==============================] - 34s 1s/step - loss: 1.1412 - accuracy: 0.5993 - auc_5: 0.9050 - val_loss: 1.0741 - val_accuracy: 0.5859 - val_auc_5: 0.9164\n",
            "Epoch 39/100\n",
            "23/23 [==============================] - 33s 1s/step - loss: 1.1637 - accuracy: 0.5704 - auc_5: 0.9016 - val_loss: 1.1094 - val_accuracy: 0.5781 - val_auc_5: 0.9145\n",
            "Epoch 40/100\n",
            "23/23 [==============================] - 33s 1s/step - loss: 1.0991 - accuracy: 0.6017 - auc_5: 0.9135 - val_loss: 1.0805 - val_accuracy: 0.5938 - val_auc_5: 0.9143\n",
            "Epoch 41/100\n",
            "23/23 [==============================] - 33s 1s/step - loss: 1.2125 - accuracy: 0.5405 - auc_5: 0.8934 - val_loss: 1.0556 - val_accuracy: 0.5859 - val_auc_5: 0.9203\n",
            "Epoch 42/100\n",
            "23/23 [==============================] - 34s 1s/step - loss: 1.1498 - accuracy: 0.5805 - auc_5: 0.9046 - val_loss: 1.1378 - val_accuracy: 0.6016 - val_auc_5: 0.9054\n",
            "Epoch 43/100\n",
            "23/23 [==============================] - 33s 1s/step - loss: 1.0995 - accuracy: 0.5773 - auc_5: 0.9147 - val_loss: 1.0791 - val_accuracy: 0.5938 - val_auc_5: 0.9173\n",
            "Epoch 44/100\n",
            "23/23 [==============================] - 33s 1s/step - loss: 1.2155 - accuracy: 0.5627 - auc_5: 0.8928 - val_loss: 1.1765 - val_accuracy: 0.6250 - val_auc_5: 0.8998\n",
            "Epoch 45/100\n",
            "23/23 [==============================] - 33s 1s/step - loss: 1.1421 - accuracy: 0.5803 - auc_5: 0.9055 - val_loss: 1.1218 - val_accuracy: 0.5547 - val_auc_5: 0.9084\n",
            "Epoch 46/100\n",
            "23/23 [==============================] - 34s 1s/step - loss: 1.0726 - accuracy: 0.6106 - auc_5: 0.9174 - val_loss: 1.1207 - val_accuracy: 0.5859 - val_auc_5: 0.9085\n",
            "Epoch 47/100\n",
            "23/23 [==============================] - 34s 1s/step - loss: 1.0329 - accuracy: 0.6426 - auc_5: 0.9229 - val_loss: 1.1273 - val_accuracy: 0.5703 - val_auc_5: 0.9071\n",
            "Epoch 48/100\n",
            "23/23 [==============================] - 33s 1s/step - loss: 1.1127 - accuracy: 0.6061 - auc_5: 0.9096 - val_loss: 1.0587 - val_accuracy: 0.5625 - val_auc_5: 0.9206\n",
            "Epoch 49/100\n",
            "23/23 [==============================] - 34s 1s/step - loss: 1.0615 - accuracy: 0.6170 - auc_5: 0.9190 - val_loss: 1.0671 - val_accuracy: 0.6172 - val_auc_5: 0.9169\n"
          ],
          "name": "stdout"
        }
      ]
    },
    {
      "cell_type": "code",
      "metadata": {
        "id": "f7M0VUjRa8EX"
      },
      "source": [
        ""
      ],
      "execution_count": 68,
      "outputs": []
    },
    {
      "cell_type": "markdown",
      "metadata": {
        "id": "vYNh90-1a8EY"
      },
      "source": [
        "## Evaluations"
      ]
    },
    {
      "cell_type": "code",
      "metadata": {
        "id": "YZVpHz9sa8EY"
      },
      "source": [
        "df_epoch_hist = pd.DataFrame(epoch_hist.history)"
      ],
      "execution_count": 69,
      "outputs": []
    },
    {
      "cell_type": "code",
      "metadata": {
        "id": "Kt-rcVuna8EY",
        "colab": {
          "base_uri": "https://localhost:8080/",
          "height": 282
        },
        "outputId": "3cc77ad8-c8ab-4fad-9ed3-af3f305ae8e8"
      },
      "source": [
        "df_epoch_hist[['val_loss','loss']].plot()"
      ],
      "execution_count": 70,
      "outputs": [
        {
          "output_type": "execute_result",
          "data": {
            "text/plain": [
              "<matplotlib.axes._subplots.AxesSubplot at 0x7febc97e9d50>"
            ]
          },
          "metadata": {
            "tags": []
          },
          "execution_count": 70
        },
        {
          "output_type": "display_data",
          "data": {
            "image/png": "[encoded data removed]",
            "text/plain": [
              "<Figure size 432x288 with 1 Axes>"
            ]
          },
          "metadata": {
            "tags": [],
            "needs_background": "light"
          }
        }
      ]
    },
    {
      "cell_type": "code",
      "metadata": {
        "id": "S55RWENTa8EZ"
      },
      "source": [
        ""
      ],
      "execution_count": 70,
      "outputs": []
    },
    {
      "cell_type": "code",
      "metadata": {
        "id": "WzmVQAMta8EZ"
      },
      "source": [
        "# df_epoch_hist.to_csv('../artifact/epoch_hist_2-overfit2.csv')"
      ],
      "execution_count": 71,
      "outputs": []
    },
    {
      "cell_type": "code",
      "metadata": {
        "id": "VLy4x-tha8EZ"
      },
      "source": [
        ""
      ],
      "execution_count": 71,
      "outputs": []
    },
    {
      "cell_type": "code",
      "metadata": {
        "id": "8ZyYSsSaa8EZ"
      },
      "source": [
        "# depd = {'auc_1' : metrics.AUC}\n",
        "model_load = load_model(PATH_MODEL + 'just_cake_model-colab2.h5',compile=False)\n",
        "# model_load = load_model(PATH_MODEL + 'just_cake_model-colab2.h5')\n",
        "\n"
      ],
      "execution_count": 72,
      "outputs": []
    },
    {
      "cell_type": "code",
      "metadata": {
        "id": "J88_yuqma8Ea"
      },
      "source": [
        "true_labels = val_generator.classes\n",
        "predictions = model_load.predict(val_generator)\n",
        "\n",
        "# true_labels = train_generator.classes\n",
        "# predictions = model_load.predict(train_generator)\n",
        "\n",
        "y_true = true_labels\n",
        "y_pred = np.array([np.argmax(x) for x in predictions])\n",
        "\n",
        "cm = sklearn.metrics.confusion_matrix(y_true, y_pred)"
      ],
      "execution_count": 73,
      "outputs": []
    },
    {
      "cell_type": "code",
      "metadata": {
        "id": "WPo_uhf5a8Ea",
        "colab": {
          "base_uri": "https://localhost:8080/",
          "height": 504
        },
        "outputId": "aef069f1-5474-4230-ca1b-2a2f57dcad74"
      },
      "source": [
        "plt.figure(figsize = (12,8))\n",
        "sns.heatmap(cm, annot= True)"
      ],
      "execution_count": 74,
      "outputs": [
        {
          "output_type": "execute_result",
          "data": {
            "text/plain": [
              "<matplotlib.axes._subplots.AxesSubplot at 0x7febc9286dd0>"
            ]
          },
          "metadata": {
            "tags": []
          },
          "execution_count": 74
        },
        {
          "output_type": "display_data",
          "data": {
            "image/png": "[encoded data removed]",
            "text/plain": [
              "<Figure size 864x576 with 2 Axes>"
            ]
          },
          "metadata": {
            "tags": [],
            "needs_background": "light"
          }
        }
      ]
    },
    {
      "cell_type": "code",
      "metadata": {
        "id": "1ZynYNAAa8Ea",
        "colab": {
          "base_uri": "https://localhost:8080/"
        },
        "outputId": "21d9256f-ab61-448e-cc42-af9e440ff1e2"
      },
      "source": [
        "print(classification_report(y_true, y_pred))"
      ],
      "execution_count": 75,
      "outputs": [
        {
          "output_type": "stream",
          "text": [
            "              precision    recall  f1-score   support\n",
            "\n",
            "           0       0.14      0.10      0.12        20\n",
            "           1       0.14      0.10      0.12        20\n",
            "           2       0.10      0.10      0.10        20\n",
            "           3       0.18      0.15      0.16        20\n",
            "           4       0.14      0.20      0.16        20\n",
            "           5       0.09      0.10      0.09        20\n",
            "           6       0.15      0.15      0.15        20\n",
            "           7       0.17      0.20      0.19        20\n",
            "\n",
            "    accuracy                           0.14       160\n",
            "   macro avg       0.14      0.14      0.14       160\n",
            "weighted avg       0.14      0.14      0.14       160\n",
            "\n"
          ],
          "name": "stdout"
        }
      ]
    },
    {
      "cell_type": "code",
      "metadata": {
        "id": "buhwuizga8Eb"
      },
      "source": [
        ""
      ],
      "execution_count": null,
      "outputs": []
    }
  ]
}