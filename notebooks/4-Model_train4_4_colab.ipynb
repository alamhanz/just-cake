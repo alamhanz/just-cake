{
  "nbformat": 4,
  "nbformat_minor": 0,
  "metadata": {
    "kernelspec": {
      "name": "python3",
      "display_name": "Python 3"
    },
    "colab": {
      "name": "2-Model_train2-overfit2_GPU.ipynb",
      "provenance": []
    },
    "language_info": {
      "name": "python"
    },
    "accelerator": "GPU"
  },
  "cells": [
    {
      "cell_type": "markdown",
      "metadata": {
        "id": "so7LGcBSa8EC"
      },
      "source": [
        "## Kue Dataset - Model4_4\n",
        "Model4_4 --> continue train 4_3\n"
      ]
    },
    {
      "cell_type": "code",
      "metadata": {
        "id": "HkuDEfDba8EO"
      },
      "source": [
        "# conda install -c conda-forge keras"
      ],
      "execution_count": null,
      "outputs": []
    },
    {
      "cell_type": "code",
      "metadata": {
        "id": "SvIbOTSWa8EP"
      },
      "source": [
        "import os\n",
        "import re\n",
        "import glob\n",
        "\n",
        "import scipy.io\n",
        "import cv2\n",
        "from PIL import Image\n",
        "import pandas as pd\n",
        "import numpy as np\n",
        "import matplotlib.pyplot as plt\n",
        "import tqdm\n",
        "import shutil\n",
        "\n",
        "from sklearn.model_selection import train_test_split\n",
        "from sklearn.metrics import classification_report\n",
        "from scipy.io import loadmat\n",
        "import random\n",
        "import sklearn\n",
        "import seaborn as sns\n",
        "import matplotlib.pyplot as plt\n"
      ],
      "execution_count": 62,
      "outputs": []
    },
    {
      "cell_type": "code",
      "metadata": {
        "id": "N9_-os7Sbh_c",
        "colab": {
          "base_uri": "https://localhost:8080/"
        },
        "outputId": "d9e07b27-b3eb-441a-86e6-02deb157ea7f"
      },
      "source": [
        "from google.colab import drive\n",
        "drive.mount('/content/drive')"
      ],
      "execution_count": 63,
      "outputs": [
        {
          "output_type": "stream",
          "text": [
            "Drive already mounted at /content/drive; to attempt to forcibly remount, call drive.mount(\"/content/drive\", force_remount=True).\n"
          ],
          "name": "stdout"
        }
      ]
    },
    {
      "cell_type": "code",
      "metadata": {
        "id": "rBaYG307a8EP"
      },
      "source": [
        "# PATH_DATA = '../data/'\n",
        "# PATH_DATA_IMAGES = '../../../../My_Dataset/images/dataset257/'\n",
        "PATH_DATA_IMAGES = 'drive/MyDrive/Repository/Data/dataset257/'\n",
        "PATH_DATA_TRAIN = PATH_DATA_IMAGES+'train/'\n",
        "PATH_DATA_VAL = PATH_DATA_IMAGES+'validation/'\n",
        "PATH_DATA_TEST = PATH_DATA_IMAGES+'test/'\n",
        "PATH_MODEL = 'drive/MyDrive/Repository/Model/'"
      ],
      "execution_count": 64,
      "outputs": []
    },
    {
      "cell_type": "code",
      "metadata": {
        "id": "2HonpXOsa8EQ",
        "colab": {
          "base_uri": "https://localhost:8080/"
        },
        "outputId": "c19ec554-505b-49b3-d96b-bd87710d16e9"
      },
      "source": [
        "os.listdir(PATH_DATA_TRAIN)"
      ],
      "execution_count": 65,
      "outputs": [
        {
          "output_type": "execute_result",
          "data": {
            "text/plain": [
              "['.DS_Store',\n",
              " 'kue_kastengel',\n",
              " 'kue_dadar_gulung',\n",
              " 'kue_risoles',\n",
              " 'kue_klepon',\n",
              " 'kue_putri_salju',\n",
              " 'kue_lumpur',\n",
              " 'kue_lapis',\n",
              " 'kue_serabi']"
            ]
          },
          "metadata": {
            "tags": []
          },
          "execution_count": 65
        }
      ]
    },
    {
      "cell_type": "code",
      "metadata": {
        "id": "Aef6PSaxa8ES"
      },
      "source": [
        ""
      ],
      "execution_count": 65,
      "outputs": []
    },
    {
      "cell_type": "markdown",
      "metadata": {
        "id": "c6iLHlmXa8ES"
      },
      "source": [
        "## Modeling"
      ]
    },
    {
      "cell_type": "code",
      "metadata": {
        "id": "d8tV2RaNa8ES"
      },
      "source": [
        "from keras.models import Sequential\n",
        "from keras.layers import Conv2D, MaxPooling2D, Activation, Dropout, Flatten, Dense\n",
        "from keras.preprocessing.image import ImageDataGenerator\n",
        "from keras import metrics, optimizers\n",
        "import keras\n",
        "import tensorflow as tf\n",
        "from keras.models import load_model\n"
      ],
      "execution_count": 66,
      "outputs": []
    },
    {
      "cell_type": "code",
      "metadata": {
        "id": "mrEGDjjHa8ET",
        "colab": {
          "base_uri": "https://localhost:8080/"
        },
        "outputId": "ea1b6476-d77e-49fc-d598-d6652abc422a"
      },
      "source": [
        "# sess = tf.compat.v1.Session(config=tf.compat.v1.ConfigProto(log_device_placement=True))\n",
        "# tf.debugging.set_log_device_placement(True)\n",
        "print(\"Num GPUs Available: \", len(tf.config.experimental.list_physical_devices('GPU')))"
      ],
      "execution_count": 67,
      "outputs": [
        {
          "output_type": "stream",
          "text": [
            "Num GPUs Available:  1\n"
          ],
          "name": "stdout"
        }
      ]
    },
    {
      "cell_type": "code",
      "metadata": {
        "id": "uXuKIpmva8EU",
        "colab": {
          "base_uri": "https://localhost:8080/"
        },
        "outputId": "d1c7f0ce-237a-4c23-8afe-b34f851f9a51"
      },
      "source": [
        "## label dict\n",
        "lab = [i for i in os.listdir(PATH_DATA_TRAIN) if '.' not in i]\n",
        "lab.sort()\n",
        "\n",
        "label_dict = dict(zip(lab,[i for i in range(len(lab))]))\n",
        "label_dict"
      ],
      "execution_count": 68,
      "outputs": [
        {
          "output_type": "execute_result",
          "data": {
            "text/plain": [
              "{'kue_dadar_gulung': 0,\n",
              " 'kue_kastengel': 1,\n",
              " 'kue_klepon': 2,\n",
              " 'kue_lapis': 3,\n",
              " 'kue_lumpur': 4,\n",
              " 'kue_putri_salju': 5,\n",
              " 'kue_risoles': 6,\n",
              " 'kue_serabi': 7}"
            ]
          },
          "metadata": {
            "tags": []
          },
          "execution_count": 68
        }
      ]
    },
    {
      "cell_type": "code",
      "metadata": {
        "id": "VZqirKGha8EU"
      },
      "source": [
        "LABEL_SIZE = len(label_dict.keys())\n",
        "IMAGE_SIZE = 128"
      ],
      "execution_count": 69,
      "outputs": []
    },
    {
      "cell_type": "code",
      "metadata": {
        "id": "BeicgeK-IzHV"
      },
      "source": [
        "# ?Conv2D"
      ],
      "execution_count": 70,
      "outputs": []
    },
    {
      "cell_type": "code",
      "metadata": {
        "id": "YzCbCVH8a8EU"
      },
      "source": [
        "just_cake_model = load_model(PATH_MODEL +'just_cake_model-colab4_3.h5',compile=False)"
      ],
      "execution_count": 72,
      "outputs": []
    },
    {
      "cell_type": "code",
      "metadata": {
        "id": "BeLsYMtua8EV",
        "colab": {
          "base_uri": "https://localhost:8080/"
        },
        "outputId": "85b9b594-0938-4eed-ce4c-8cedbe6fde2f"
      },
      "source": [
        "just_cake_model.summary()"
      ],
      "execution_count": 73,
      "outputs": [
        {
          "output_type": "stream",
          "text": [
            "Model: \"sequential\"\n",
            "_________________________________________________________________\n",
            "Layer (type)                 Output Shape              Param #   \n",
            "=================================================================\n",
            "conv2d (Conv2D)              (None, 126, 126, 128)     3584      \n",
            "_________________________________________________________________\n",
            "conv2d_1 (Conv2D)            (None, 126, 126, 128)     147584    \n",
            "_________________________________________________________________\n",
            "max_pooling2d (MaxPooling2D) (None, 63, 63, 128)       0         \n",
            "_________________________________________________________________\n",
            "conv2d_2 (Conv2D)            (None, 61, 61, 256)       295168    \n",
            "_________________________________________________________________\n",
            "max_pooling2d_1 (MaxPooling2 (None, 30, 30, 256)       0         \n",
            "_________________________________________________________________\n",
            "conv2d_3 (Conv2D)            (None, 28, 28, 256)       590080    \n",
            "_________________________________________________________________\n",
            "max_pooling2d_2 (MaxPooling2 (None, 14, 14, 256)       0         \n",
            "_________________________________________________________________\n",
            "conv2d_4 (Conv2D)            (None, 12, 12, 256)       590080    \n",
            "_________________________________________________________________\n",
            "max_pooling2d_3 (MaxPooling2 (None, 6, 6, 256)         0         \n",
            "_________________________________________________________________\n",
            "flatten (Flatten)            (None, 9216)              0         \n",
            "_________________________________________________________________\n",
            "dense (Dense)                (None, 64)                589888    \n",
            "_________________________________________________________________\n",
            "dense_1 (Dense)              (None, 16)                1040      \n",
            "_________________________________________________________________\n",
            "dense_2 (Dense)              (None, 8)                 136       \n",
            "_________________________________________________________________\n",
            "dense_3 (Dense)              (None, 8)                 72        \n",
            "=================================================================\n",
            "Total params: 2,217,632\n",
            "Trainable params: 2,217,632\n",
            "Non-trainable params: 0\n",
            "_________________________________________________________________\n"
          ],
          "name": "stdout"
        }
      ]
    },
    {
      "cell_type": "code",
      "metadata": {
        "id": "bcqj7uusa8EV"
      },
      "source": [
        ""
      ],
      "execution_count": 73,
      "outputs": []
    },
    {
      "cell_type": "code",
      "metadata": {
        "id": "I3ghe_Wxa8EV"
      },
      "source": [
        "## compile model\n",
        "opt = optimizers.Adam(learning_rate=0.00001)\n",
        "just_cake_model.compile(\n",
        "              loss='categorical_crossentropy',\n",
        "              #optimizer='rmsprop',\n",
        "              optimizer = opt,\n",
        "              metrics=['accuracy',\n",
        "                      #  metrics.SparseCategoricalAccuracy(),\n",
        "                       metrics.AUC()])"
      ],
      "execution_count": 74,
      "outputs": []
    },
    {
      "cell_type": "code",
      "metadata": {
        "id": "mVaNvqLwa8EW"
      },
      "source": [
        ""
      ],
      "execution_count": 74,
      "outputs": []
    },
    {
      "cell_type": "code",
      "metadata": {
        "id": "vrqkfHQVa8EW",
        "colab": {
          "base_uri": "https://localhost:8080/"
        },
        "outputId": "4a7a6ed3-cc6e-487e-8b32-bf47efe3a8cc"
      },
      "source": [
        "## data generator\n",
        "BATCH_SIZE = 32\n",
        "train_datagen = ImageDataGenerator(\n",
        "        rescale=1./255,\n",
        "        zoom_range=0.3,\n",
        "        rotation_range=75,\n",
        "        width_shift_range=0.4,\n",
        "        height_shift_range=0.4,\n",
        "        shear_range=0.75,\n",
        "        # horizontal_flip=True\n",
        "        )\n",
        "\n",
        "val_datagen = ImageDataGenerator(rescale=1./255)\n",
        "test_datagen = ImageDataGenerator(rescale=1./255)\n",
        "\n",
        "## Shuffle = True\n",
        "train_generator = train_datagen.flow_from_directory(\n",
        "        PATH_DATA_TRAIN,  \n",
        "        target_size=(IMAGE_SIZE, IMAGE_SIZE), \n",
        "        batch_size=BATCH_SIZE,\n",
        "        seed=301,\n",
        "        class_mode=\"categorical\" )  \n",
        "\n",
        "val_generator = val_datagen.flow_from_directory(\n",
        "        PATH_DATA_VAL,  \n",
        "        target_size=(IMAGE_SIZE, IMAGE_SIZE), \n",
        "        batch_size=BATCH_SIZE,\n",
        "        seed=301,\n",
        "        class_mode=\"categorical\" )  \n",
        "\n",
        "test_generator = test_datagen.flow_from_directory(\n",
        "        PATH_DATA_TEST,\n",
        "        target_size=(IMAGE_SIZE, IMAGE_SIZE),\n",
        "        batch_size=BATCH_SIZE,\n",
        "        seed=301,\n",
        "        class_mode=\"categorical\" )"
      ],
      "execution_count": 77,
      "outputs": [
        {
          "output_type": "stream",
          "text": [
            "Found 1516 images belonging to 8 classes.\n",
            "Found 160 images belonging to 8 classes.\n",
            "Found 160 images belonging to 8 classes.\n"
          ],
          "name": "stdout"
        }
      ]
    },
    {
      "cell_type": "code",
      "metadata": {
        "id": "uLEvwq7ha8EW"
      },
      "source": [
        ""
      ],
      "execution_count": 77,
      "outputs": []
    },
    {
      "cell_type": "code",
      "metadata": {
        "id": "le97FcMUa8EX",
        "colab": {
          "base_uri": "https://localhost:8080/"
        },
        "outputId": "49362ca0-b446-4800-f6ba-6a228e103279"
      },
      "source": [
        "## save best model and use early stopping\n",
        "early_stop = keras.callbacks.EarlyStopping(\n",
        "        monitor='val_loss',mode='min', patience=8) \n",
        "check_p = keras.callbacks.ModelCheckpoint(\n",
        "        filepath=PATH_MODEL+'just_cake_model-colab4_4.h5',\n",
        "        monitor='val_loss',\n",
        "        mode='min',\n",
        "        save_best_only=True)\n",
        "\n",
        "epoch_hist = just_cake_model.fit(\n",
        "        train_generator,\n",
        "        steps_per_epoch=1516 // BATCH_SIZE,\n",
        "        validation_data=val_generator,\n",
        "        validation_steps=160 // BATCH_SIZE,\n",
        "        callbacks=[early_stop,check_p],\n",
        "        epochs=55)"
      ],
      "execution_count": 79,
      "outputs": [
        {
          "output_type": "stream",
          "text": [
            "Epoch 1/55\n",
            "47/47 [==============================] - 28s 595ms/step - loss: 0.5473 - accuracy: 0.8194 - auc_8: 0.9760 - val_loss: 1.0300 - val_accuracy: 0.7812 - val_auc_8: 0.9412\n",
            "Epoch 2/55\n",
            "47/47 [==============================] - 28s 584ms/step - loss: 0.5146 - accuracy: 0.8389 - auc_8: 0.9786 - val_loss: 1.0261 - val_accuracy: 0.7875 - val_auc_8: 0.9415\n",
            "Epoch 3/55\n",
            "47/47 [==============================] - 28s 591ms/step - loss: 0.5137 - accuracy: 0.8450 - auc_8: 0.9781 - val_loss: 1.0179 - val_accuracy: 0.7875 - val_auc_8: 0.9441\n",
            "Epoch 4/55\n",
            "47/47 [==============================] - 28s 588ms/step - loss: 0.4782 - accuracy: 0.8619 - auc_8: 0.9791 - val_loss: 1.0092 - val_accuracy: 0.7875 - val_auc_8: 0.9445\n",
            "Epoch 5/55\n",
            "47/47 [==============================] - 28s 590ms/step - loss: 0.5428 - accuracy: 0.8369 - auc_8: 0.9760 - val_loss: 1.0094 - val_accuracy: 0.7875 - val_auc_8: 0.9446\n",
            "Epoch 6/55\n",
            "47/47 [==============================] - 28s 593ms/step - loss: 0.5415 - accuracy: 0.8342 - auc_8: 0.9758 - val_loss: 1.0046 - val_accuracy: 0.7875 - val_auc_8: 0.9445\n",
            "Epoch 7/55\n",
            "47/47 [==============================] - 28s 595ms/step - loss: 0.5209 - accuracy: 0.8403 - auc_8: 0.9778 - val_loss: 1.0062 - val_accuracy: 0.7937 - val_auc_8: 0.9441\n",
            "Epoch 8/55\n",
            "47/47 [==============================] - 28s 585ms/step - loss: 0.5105 - accuracy: 0.8356 - auc_8: 0.9774 - val_loss: 1.0100 - val_accuracy: 0.7875 - val_auc_8: 0.9441\n",
            "Epoch 9/55\n",
            "47/47 [==============================] - 28s 586ms/step - loss: 0.5245 - accuracy: 0.8376 - auc_8: 0.9770 - val_loss: 1.0068 - val_accuracy: 0.7875 - val_auc_8: 0.9466\n",
            "Epoch 10/55\n",
            "47/47 [==============================] - 28s 588ms/step - loss: 0.5601 - accuracy: 0.8497 - auc_8: 0.9721 - val_loss: 1.0068 - val_accuracy: 0.7875 - val_auc_8: 0.9462\n",
            "Epoch 11/55\n",
            "47/47 [==============================] - 27s 584ms/step - loss: 0.4692 - accuracy: 0.8571 - auc_8: 0.9818 - val_loss: 1.0076 - val_accuracy: 0.7812 - val_auc_8: 0.9461\n",
            "Epoch 12/55\n",
            "47/47 [==============================] - 27s 586ms/step - loss: 0.5160 - accuracy: 0.8551 - auc_8: 0.9765 - val_loss: 1.0044 - val_accuracy: 0.7750 - val_auc_8: 0.9463\n",
            "Epoch 13/55\n",
            "47/47 [==============================] - 27s 584ms/step - loss: 0.5186 - accuracy: 0.8477 - auc_8: 0.9778 - val_loss: 1.0085 - val_accuracy: 0.7750 - val_auc_8: 0.9436\n",
            "Epoch 14/55\n",
            "47/47 [==============================] - 28s 585ms/step - loss: 0.4951 - accuracy: 0.8450 - auc_8: 0.9783 - val_loss: 0.9965 - val_accuracy: 0.7812 - val_auc_8: 0.9441\n",
            "Epoch 15/55\n",
            "47/47 [==============================] - 28s 586ms/step - loss: 0.4988 - accuracy: 0.8511 - auc_8: 0.9787 - val_loss: 0.9996 - val_accuracy: 0.7812 - val_auc_8: 0.9441\n",
            "Epoch 16/55\n",
            "47/47 [==============================] - 28s 587ms/step - loss: 0.5165 - accuracy: 0.8431 - auc_8: 0.9768 - val_loss: 0.9939 - val_accuracy: 0.7812 - val_auc_8: 0.9441\n",
            "Epoch 17/55\n",
            "47/47 [==============================] - 28s 584ms/step - loss: 0.5178 - accuracy: 0.8356 - auc_8: 0.9766 - val_loss: 0.9931 - val_accuracy: 0.7750 - val_auc_8: 0.9469\n",
            "Epoch 18/55\n",
            "47/47 [==============================] - 28s 586ms/step - loss: 0.5092 - accuracy: 0.8544 - auc_8: 0.9790 - val_loss: 0.9873 - val_accuracy: 0.7750 - val_auc_8: 0.9472\n",
            "Epoch 19/55\n",
            "47/47 [==============================] - 28s 599ms/step - loss: 0.4797 - accuracy: 0.8544 - auc_8: 0.9811 - val_loss: 0.9843 - val_accuracy: 0.7750 - val_auc_8: 0.9469\n",
            "Epoch 20/55\n",
            "47/47 [==============================] - 28s 589ms/step - loss: 0.5492 - accuracy: 0.8342 - auc_8: 0.9761 - val_loss: 0.9824 - val_accuracy: 0.7750 - val_auc_8: 0.9473\n",
            "Epoch 21/55\n",
            "47/47 [==============================] - 28s 582ms/step - loss: 0.4739 - accuracy: 0.8551 - auc_8: 0.9808 - val_loss: 0.9807 - val_accuracy: 0.7812 - val_auc_8: 0.9444\n",
            "Epoch 22/55\n",
            "47/47 [==============================] - 28s 590ms/step - loss: 0.5074 - accuracy: 0.8518 - auc_8: 0.9771 - val_loss: 0.9859 - val_accuracy: 0.7750 - val_auc_8: 0.9439\n",
            "Epoch 23/55\n",
            "47/47 [==============================] - 28s 585ms/step - loss: 0.4982 - accuracy: 0.8511 - auc_8: 0.9799 - val_loss: 0.9765 - val_accuracy: 0.7750 - val_auc_8: 0.9467\n",
            "Epoch 24/55\n",
            "47/47 [==============================] - 28s 590ms/step - loss: 0.4826 - accuracy: 0.8477 - auc_8: 0.9802 - val_loss: 0.9721 - val_accuracy: 0.7750 - val_auc_8: 0.9443\n",
            "Epoch 25/55\n",
            "47/47 [==============================] - 28s 590ms/step - loss: 0.4907 - accuracy: 0.8538 - auc_8: 0.9799 - val_loss: 0.9746 - val_accuracy: 0.7750 - val_auc_8: 0.9467\n",
            "Epoch 26/55\n",
            "47/47 [==============================] - 28s 593ms/step - loss: 0.4818 - accuracy: 0.8443 - auc_8: 0.9807 - val_loss: 0.9770 - val_accuracy: 0.7812 - val_auc_8: 0.9464\n",
            "Epoch 27/55\n",
            "47/47 [==============================] - 28s 582ms/step - loss: 0.4888 - accuracy: 0.8484 - auc_8: 0.9794 - val_loss: 0.9748 - val_accuracy: 0.7812 - val_auc_8: 0.9436\n",
            "Epoch 28/55\n",
            "47/47 [==============================] - 28s 592ms/step - loss: 0.4553 - accuracy: 0.8612 - auc_8: 0.9817 - val_loss: 0.9843 - val_accuracy: 0.7750 - val_auc_8: 0.9461\n",
            "Epoch 29/55\n",
            "47/47 [==============================] - 28s 593ms/step - loss: 0.4898 - accuracy: 0.8544 - auc_8: 0.9799 - val_loss: 0.9770 - val_accuracy: 0.7750 - val_auc_8: 0.9462\n",
            "Epoch 30/55\n",
            "47/47 [==============================] - 28s 578ms/step - loss: 0.5122 - accuracy: 0.8416 - auc_8: 0.9795 - val_loss: 0.9694 - val_accuracy: 0.7812 - val_auc_8: 0.9491\n",
            "Epoch 31/55\n",
            "47/47 [==============================] - 28s 584ms/step - loss: 0.4660 - accuracy: 0.8619 - auc_8: 0.9804 - val_loss: 0.9697 - val_accuracy: 0.7750 - val_auc_8: 0.9491\n",
            "Epoch 32/55\n",
            "47/47 [==============================] - 28s 588ms/step - loss: 0.4786 - accuracy: 0.8585 - auc_8: 0.9775 - val_loss: 0.9748 - val_accuracy: 0.7688 - val_auc_8: 0.9486\n",
            "Epoch 33/55\n",
            "47/47 [==============================] - 28s 584ms/step - loss: 0.4132 - accuracy: 0.8733 - auc_8: 0.9853 - val_loss: 0.9697 - val_accuracy: 0.7750 - val_auc_8: 0.9463\n",
            "Epoch 34/55\n",
            "47/47 [==============================] - 28s 575ms/step - loss: 0.4604 - accuracy: 0.8484 - auc_8: 0.9818 - val_loss: 0.9691 - val_accuracy: 0.7750 - val_auc_8: 0.9461\n",
            "Epoch 35/55\n",
            "47/47 [==============================] - 28s 592ms/step - loss: 0.4394 - accuracy: 0.8544 - auc_8: 0.9840 - val_loss: 0.9641 - val_accuracy: 0.7750 - val_auc_8: 0.9467\n",
            "Epoch 36/55\n",
            "47/47 [==============================] - 28s 585ms/step - loss: 0.4387 - accuracy: 0.8612 - auc_8: 0.9838 - val_loss: 0.9679 - val_accuracy: 0.7812 - val_auc_8: 0.9487\n",
            "Epoch 37/55\n",
            "47/47 [==============================] - 28s 589ms/step - loss: 0.4803 - accuracy: 0.8457 - auc_8: 0.9806 - val_loss: 0.9660 - val_accuracy: 0.7750 - val_auc_8: 0.9487\n",
            "Epoch 38/55\n",
            "47/47 [==============================] - 28s 583ms/step - loss: 0.4393 - accuracy: 0.8706 - auc_8: 0.9823 - val_loss: 0.9619 - val_accuracy: 0.7750 - val_auc_8: 0.9489\n",
            "Epoch 39/55\n",
            "47/47 [==============================] - 28s 589ms/step - loss: 0.4724 - accuracy: 0.8565 - auc_8: 0.9815 - val_loss: 0.9667 - val_accuracy: 0.7750 - val_auc_8: 0.9485\n",
            "Epoch 40/55\n",
            "47/47 [==============================] - 28s 589ms/step - loss: 0.4179 - accuracy: 0.8605 - auc_8: 0.9851 - val_loss: 0.9604 - val_accuracy: 0.7688 - val_auc_8: 0.9464\n",
            "Epoch 41/55\n",
            "47/47 [==============================] - 28s 587ms/step - loss: 0.4500 - accuracy: 0.8585 - auc_8: 0.9811 - val_loss: 0.9663 - val_accuracy: 0.7625 - val_auc_8: 0.9483\n",
            "Epoch 42/55\n",
            "47/47 [==============================] - 27s 586ms/step - loss: 0.4977 - accuracy: 0.8457 - auc_8: 0.9799 - val_loss: 0.9558 - val_accuracy: 0.7688 - val_auc_8: 0.9462\n",
            "Epoch 43/55\n",
            "47/47 [==============================] - 28s 589ms/step - loss: 0.5204 - accuracy: 0.8410 - auc_8: 0.9784 - val_loss: 0.9593 - val_accuracy: 0.7625 - val_auc_8: 0.9459\n",
            "Epoch 44/55\n",
            "47/47 [==============================] - 28s 578ms/step - loss: 0.4450 - accuracy: 0.8639 - auc_8: 0.9829 - val_loss: 0.9666 - val_accuracy: 0.7625 - val_auc_8: 0.9455\n",
            "Epoch 45/55\n",
            "47/47 [==============================] - 27s 578ms/step - loss: 0.4994 - accuracy: 0.8538 - auc_8: 0.9796 - val_loss: 0.9584 - val_accuracy: 0.7688 - val_auc_8: 0.9461\n",
            "Epoch 46/55\n",
            "47/47 [==============================] - 28s 588ms/step - loss: 0.4211 - accuracy: 0.8646 - auc_8: 0.9851 - val_loss: 0.9551 - val_accuracy: 0.7625 - val_auc_8: 0.9462\n",
            "Epoch 47/55\n",
            "47/47 [==============================] - 28s 582ms/step - loss: 0.4958 - accuracy: 0.8470 - auc_8: 0.9780 - val_loss: 0.9525 - val_accuracy: 0.7625 - val_auc_8: 0.9461\n",
            "Epoch 48/55\n",
            "47/47 [==============================] - 28s 589ms/step - loss: 0.4610 - accuracy: 0.8713 - auc_8: 0.9820 - val_loss: 0.9521 - val_accuracy: 0.7625 - val_auc_8: 0.9486\n",
            "Epoch 49/55\n",
            "47/47 [==============================] - 28s 583ms/step - loss: 0.4286 - accuracy: 0.8740 - auc_8: 0.9842 - val_loss: 0.9547 - val_accuracy: 0.7750 - val_auc_8: 0.9484\n",
            "Epoch 50/55\n",
            "47/47 [==============================] - 28s 589ms/step - loss: 0.4564 - accuracy: 0.8497 - auc_8: 0.9824 - val_loss: 0.9567 - val_accuracy: 0.7750 - val_auc_8: 0.9506\n",
            "Epoch 51/55\n",
            "47/47 [==============================] - 28s 586ms/step - loss: 0.4684 - accuracy: 0.8598 - auc_8: 0.9820 - val_loss: 0.9592 - val_accuracy: 0.7750 - val_auc_8: 0.9482\n",
            "Epoch 52/55\n",
            "47/47 [==============================] - 28s 586ms/step - loss: 0.4281 - accuracy: 0.8558 - auc_8: 0.9841 - val_loss: 0.9583 - val_accuracy: 0.7688 - val_auc_8: 0.9483\n",
            "Epoch 53/55\n",
            "47/47 [==============================] - 28s 586ms/step - loss: 0.4484 - accuracy: 0.8625 - auc_8: 0.9828 - val_loss: 0.9517 - val_accuracy: 0.7688 - val_auc_8: 0.9485\n",
            "Epoch 54/55\n",
            "47/47 [==============================] - 28s 590ms/step - loss: 0.4014 - accuracy: 0.8686 - auc_8: 0.9861 - val_loss: 0.9449 - val_accuracy: 0.7688 - val_auc_8: 0.9493\n",
            "Epoch 55/55\n",
            "47/47 [==============================] - 28s 593ms/step - loss: 0.4586 - accuracy: 0.8531 - auc_8: 0.9818 - val_loss: 0.9454 - val_accuracy: 0.7750 - val_auc_8: 0.9492\n"
          ],
          "name": "stdout"
        }
      ]
    },
    {
      "cell_type": "code",
      "metadata": {
        "id": "f7M0VUjRa8EX"
      },
      "source": [
        " "
      ],
      "execution_count": 79,
      "outputs": []
    },
    {
      "cell_type": "markdown",
      "metadata": {
        "id": "vYNh90-1a8EY"
      },
      "source": [
        "## Evaluations"
      ]
    },
    {
      "cell_type": "code",
      "metadata": {
        "id": "YZVpHz9sa8EY"
      },
      "source": [
        "df_epoch_hist = pd.DataFrame(epoch_hist.history)"
      ],
      "execution_count": 80,
      "outputs": []
    },
    {
      "cell_type": "code",
      "metadata": {
        "id": "Kt-rcVuna8EY",
        "colab": {
          "base_uri": "https://localhost:8080/",
          "height": 282
        },
        "outputId": "d0771edf-6b0e-4331-fade-a63e4aa1f64f"
      },
      "source": [
        "df_epoch_hist[['val_loss','loss']].plot()"
      ],
      "execution_count": 81,
      "outputs": [
        {
          "output_type": "execute_result",
          "data": {
            "text/plain": [
              "<matplotlib.axes._subplots.AxesSubplot at 0x7f78c3c68110>"
            ]
          },
          "metadata": {
            "tags": []
          },
          "execution_count": 81
        },
        {
          "output_type": "display_data",
          "data": {
            "image/png": "[encoded data removed]",
            "text/plain": [
              "<Figure size 432x288 with 1 Axes>"
            ]
          },
          "metadata": {
            "tags": [],
            "needs_background": "light"
          }
        }
      ]
    },
    {
      "cell_type": "code",
      "metadata": {
        "id": "S55RWENTa8EZ"
      },
      "source": [
        ""
      ],
      "execution_count": 81,
      "outputs": []
    },
    {
      "cell_type": "code",
      "metadata": {
        "id": "8ZyYSsSaa8EZ"
      },
      "source": [
        "# depd = {'auc_1' : metrics.AUC}\n",
        "model_load4_4 = load_model(PATH_MODEL + 'just_cake_model-colab4_4.h5')\n",
        "model_load4_3 = load_model(PATH_MODEL + 'just_cake_model-colab4_3.h5')\n",
        "model_load3 = load_model(PATH_MODEL + 'just_cake_model-colab3.h5')"
      ],
      "execution_count": 86,
      "outputs": []
    },
    {
      "cell_type": "code",
      "metadata": {
        "colab": {
          "base_uri": "https://localhost:8080/"
        },
        "id": "V1Xi2fDi2SlG",
        "outputId": "d73a75fa-9508-440a-9184-259574f02dae"
      },
      "source": [
        "model_load3.evaluate(val_generator)"
      ],
      "execution_count": 87,
      "outputs": [
        {
          "output_type": "stream",
          "text": [
            "5/5 [==============================] - 2s 323ms/step - loss: 1.3944 - accuracy: 0.7688 - auc_9: 0.9383\n"
          ],
          "name": "stdout"
        },
        {
          "output_type": "execute_result",
          "data": {
            "text/plain": [
              "[1.3944470882415771, 0.768750011920929, 0.9382812976837158]"
            ]
          },
          "metadata": {
            "tags": []
          },
          "execution_count": 87
        }
      ]
    },
    {
      "cell_type": "code",
      "metadata": {
        "colab": {
          "base_uri": "https://localhost:8080/"
        },
        "id": "k3flvFif2Oh5",
        "outputId": "72815744-23bc-47f2-8626-2a6c5ce2f80d"
      },
      "source": [
        "model_load4_4.evaluate(val_generator)"
      ],
      "execution_count": 88,
      "outputs": [
        {
          "output_type": "stream",
          "text": [
            "5/5 [==============================] - 2s 309ms/step - loss: 0.9449 - accuracy: 0.7688 - auc_8: 0.9493\n"
          ],
          "name": "stdout"
        },
        {
          "output_type": "execute_result",
          "data": {
            "text/plain": [
              "[0.9449148178100586, 0.768750011920929, 0.949310839176178]"
            ]
          },
          "metadata": {
            "tags": []
          },
          "execution_count": 88
        }
      ]
    },
    {
      "cell_type": "code",
      "metadata": {
        "colab": {
          "base_uri": "https://localhost:8080/"
        },
        "id": "PXIXf_XpHSFk",
        "outputId": "f50ce0fe-9638-48af-b73d-b6c9ac007613"
      },
      "source": [
        "model_load4_3.evaluate(val_generator)"
      ],
      "execution_count": 89,
      "outputs": [
        {
          "output_type": "stream",
          "text": [
            "5/5 [==============================] - 2s 320ms/step - loss: 1.1012 - accuracy: 0.7875 - auc_19: 0.9439\n"
          ],
          "name": "stdout"
        },
        {
          "output_type": "execute_result",
          "data": {
            "text/plain": [
              "[1.1012080907821655, 0.7875000238418579, 0.9439398050308228]"
            ]
          },
          "metadata": {
            "tags": []
          },
          "execution_count": 89
        }
      ]
    },
    {
      "cell_type": "code",
      "metadata": {
        "id": "aPYSn6PH5e8z"
      },
      "source": [
        "def eval_model(gen_,model_load):\n",
        "  per = np.random.permutation(gen_.n)\n",
        "  gen_.index_array = per\n",
        "  y_true = gen_.classes[per]\n",
        "\n",
        "  predictions = model_load.predict(gen_)\n",
        "  y_pred = np.argmax(predictions, axis=1)\n",
        "\n",
        "  cm = sklearn.metrics.confusion_matrix(y_true, y_pred)\n",
        "  plt.figure(figsize = (12,8))\n",
        "  sns.heatmap(cm, annot= True)\n",
        "  print(classification_report(y_true, y_pred))"
      ],
      "execution_count": 90,
      "outputs": []
    },
    {
      "cell_type": "code",
      "metadata": {
        "id": "r9ORPhvoHJcS"
      },
      "source": [
        ""
      ],
      "execution_count": 90,
      "outputs": []
    },
    {
      "cell_type": "markdown",
      "metadata": {
        "id": "4XLIgNWzHJq8"
      },
      "source": [
        "#### 1. Train"
      ]
    },
    {
      "cell_type": "code",
      "metadata": {
        "colab": {
          "base_uri": "https://localhost:8080/",
          "height": 738
        },
        "id": "-q1p5srg5lUE",
        "outputId": "69b383b3-455a-4af5-ba84-2f4ab93675e3"
      },
      "source": [
        "eval_model(train_generator, model_load4_4)"
      ],
      "execution_count": 91,
      "outputs": [
        {
          "output_type": "stream",
          "text": [
            "              precision    recall  f1-score   support\n",
            "\n",
            "           0       0.83      0.85      0.84       192\n",
            "           1       0.88      0.88      0.88       181\n",
            "           2       0.94      0.94      0.94       197\n",
            "           3       0.81      0.85      0.83       201\n",
            "           4       0.89      0.85      0.87       197\n",
            "           5       0.92      0.90      0.91       172\n",
            "           6       0.85      0.84      0.85       196\n",
            "           7       0.77      0.80      0.79       180\n",
            "\n",
            "    accuracy                           0.86      1516\n",
            "   macro avg       0.86      0.86      0.86      1516\n",
            "weighted avg       0.86      0.86      0.86      1516\n",
            "\n"
          ],
          "name": "stdout"
        },
        {
          "output_type": "display_data",
          "data": {
            "image/png": "[encoded data removed]",
            "text/plain": [
              "<Figure size 864x576 with 2 Axes>"
            ]
          },
          "metadata": {
            "tags": [],
            "needs_background": "light"
          }
        }
      ]
    },
    {
      "cell_type": "code",
      "metadata": {
        "id": "buhwuizga8Eb"
      },
      "source": [
        ""
      ],
      "execution_count": 91,
      "outputs": []
    },
    {
      "cell_type": "markdown",
      "metadata": {
        "id": "KzcEymkyHQIg"
      },
      "source": [
        "#### 2. Validations"
      ]
    },
    {
      "cell_type": "code",
      "metadata": {
        "id": "SI1iniF7HQIg",
        "colab": {
          "base_uri": "https://localhost:8080/",
          "height": 738
        },
        "outputId": "9c88cad5-d916-406e-aa4e-c7f0eb805463"
      },
      "source": [
        "eval_model(val_generator, model_load4_4)"
      ],
      "execution_count": 92,
      "outputs": [
        {
          "output_type": "stream",
          "text": [
            "              precision    recall  f1-score   support\n",
            "\n",
            "           0       0.63      0.60      0.62        20\n",
            "           1       0.78      0.70      0.74        20\n",
            "           2       0.90      0.95      0.93        20\n",
            "           3       0.72      0.65      0.68        20\n",
            "           4       0.75      0.75      0.75        20\n",
            "           5       1.00      0.90      0.95        20\n",
            "           6       0.74      0.85      0.79        20\n",
            "           7       0.65      0.75      0.70        20\n",
            "\n",
            "    accuracy                           0.77       160\n",
            "   macro avg       0.77      0.77      0.77       160\n",
            "weighted avg       0.77      0.77      0.77       160\n",
            "\n"
          ],
          "name": "stdout"
        },
        {
          "output_type": "display_data",
          "data": {
            "image/png": "[encoded data removed]",
            "text/plain": [
              "<Figure size 864x576 with 2 Axes>"
            ]
          },
          "metadata": {
            "tags": [],
            "needs_background": "light"
          }
        }
      ]
    },
    {
      "cell_type": "code",
      "metadata": {
        "id": "xXX1k6FtHmpz"
      },
      "source": [
        ""
      ],
      "execution_count": null,
      "outputs": []
    },
    {
      "cell_type": "markdown",
      "metadata": {
        "id": "C9hTA7_I5Akq"
      },
      "source": [
        "#### 3. Test"
      ]
    },
    {
      "cell_type": "code",
      "metadata": {
        "colab": {
          "base_uri": "https://localhost:8080/",
          "height": 742
        },
        "id": "osh2xJav5Akq",
        "outputId": "8342e38d-14e0-4a48-9700-571eba9ff2af"
      },
      "source": [
        "eval_model(test_generator, model_load4_4)"
      ],
      "execution_count": 94,
      "outputs": [
        {
          "output_type": "stream",
          "text": [
            "              precision    recall  f1-score   support\n",
            "\n",
            "           0       0.86      0.90      0.88        20\n",
            "           1       0.83      0.91      0.87        22\n",
            "           2       0.87      1.00      0.93        20\n",
            "           3       0.92      0.60      0.73        20\n",
            "           4       0.89      0.85      0.87        20\n",
            "           5       0.94      0.94      0.94        18\n",
            "           6       0.77      0.85      0.81        20\n",
            "           7       0.80      0.80      0.80        20\n",
            "\n",
            "    accuracy                           0.86       160\n",
            "   macro avg       0.86      0.86      0.85       160\n",
            "weighted avg       0.86      0.86      0.85       160\n",
            "\n"
          ],
          "name": "stdout"
        },
        {
          "output_type": "display_data",
          "data": {
            "image/png": "[encoded data removed]",
            "text/plain": [
              "<Figure size 864x576 with 2 Axes>"
            ]
          },
          "metadata": {
            "tags": [],
            "needs_background": "light"
          }
        }
      ]
    },
    {
      "cell_type": "code",
      "metadata": {
        "colab": {
          "base_uri": "https://localhost:8080/",
          "height": 742
        },
        "id": "8iO6I6qC5Ak2",
        "outputId": "6548d0c4-8224-4891-bde2-c173fa1c6b3d"
      },
      "source": [
        "eval_model(test_generator, model_load3)"
      ],
      "execution_count": null,
      "outputs": [
        {
          "output_type": "stream",
          "text": [
            "              precision    recall  f1-score   support\n",
            "\n",
            "           0       0.81      0.85      0.83        20\n",
            "           1       1.00      0.77      0.87        22\n",
            "           2       1.00      1.00      1.00        20\n",
            "           3       0.78      0.70      0.74        20\n",
            "           4       0.80      0.80      0.80        20\n",
            "           5       0.90      1.00      0.95        18\n",
            "           6       0.77      1.00      0.87        20\n",
            "           7       0.83      0.75      0.79        20\n",
            "\n",
            "    accuracy                           0.86       160\n",
            "   macro avg       0.86      0.86      0.86       160\n",
            "weighted avg       0.86      0.86      0.85       160\n",
            "\n"
          ],
          "name": "stdout"
        },
        {
          "output_type": "display_data",
          "data": {
            "image/png": "[encoded data removed]",
            "text/plain": [
              "<Figure size 864x576 with 2 Axes>"
            ]
          },
          "metadata": {
            "tags": [],
            "needs_background": "light"
          }
        }
      ]
    },
    {
      "cell_type": "code",
      "metadata": {
        "id": "JqCrvl236B3q"
      },
      "source": [
        ""
      ],
      "execution_count": null,
      "outputs": []
    }
  ]
}