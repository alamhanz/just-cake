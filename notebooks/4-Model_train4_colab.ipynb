{
  "nbformat": 4,
  "nbformat_minor": 0,
  "metadata": {
    "kernelspec": {
      "name": "python3",
      "display_name": "Python 3"
    },
    "colab": {
      "name": "2-Model_train2-overfit2_GPU.ipynb",
      "provenance": []
    },
    "language_info": {
      "name": "python"
    },
    "accelerator": "GPU"
  },
  "cells": [
    {
      "cell_type": "markdown",
      "metadata": {
        "id": "so7LGcBSa8EC"
      },
      "source": [
        "## Kue Dataset - Model4\n",
        "\n",
        "Model4\n"
      ]
    },
    {
      "cell_type": "code",
      "metadata": {
        "id": "HkuDEfDba8EO"
      },
      "source": [
        "# conda install -c conda-forge keras"
      ],
      "execution_count": 1,
      "outputs": []
    },
    {
      "cell_type": "code",
      "metadata": {
        "id": "SvIbOTSWa8EP"
      },
      "source": [
        "import os\n",
        "import re\n",
        "import glob\n",
        "\n",
        "import scipy.io\n",
        "import cv2\n",
        "from PIL import Image\n",
        "import pandas as pd\n",
        "import numpy as np\n",
        "import matplotlib.pyplot as plt\n",
        "import tqdm\n",
        "import shutil\n",
        "\n",
        "from sklearn.model_selection import train_test_split\n",
        "from sklearn.metrics import classification_report\n",
        "from scipy.io import loadmat\n",
        "import random\n",
        "import sklearn\n",
        "import seaborn as sns\n",
        "import matplotlib.pyplot as plt\n"
      ],
      "execution_count": 2,
      "outputs": []
    },
    {
      "cell_type": "code",
      "metadata": {
        "id": "N9_-os7Sbh_c",
        "colab": {
          "base_uri": "https://localhost:8080/"
        },
        "outputId": "226e06b1-d18c-4cd9-c478-89c22d40cf48"
      },
      "source": [
        "from google.colab import drive\n",
        "drive.mount('/content/drive')"
      ],
      "execution_count": 3,
      "outputs": [
        {
          "output_type": "stream",
          "text": [
            "Mounted at /content/drive\n"
          ],
          "name": "stdout"
        }
      ]
    },
    {
      "cell_type": "code",
      "metadata": {
        "id": "rBaYG307a8EP"
      },
      "source": [
        "# PATH_DATA = '../data/'\n",
        "# PATH_DATA_IMAGES = '../../../../My_Dataset/images/dataset257/'\n",
        "PATH_DATA_IMAGES = 'drive/MyDrive/Repository/Data/dataset257/'\n",
        "PATH_DATA_TRAIN = PATH_DATA_IMAGES+'train/'\n",
        "PATH_DATA_VAL = PATH_DATA_IMAGES+'validation/'\n",
        "PATH_DATA_TEST = PATH_DATA_IMAGES+'test/'\n",
        "PATH_MODEL = 'drive/MyDrive/Repository/Model/'"
      ],
      "execution_count": 4,
      "outputs": []
    },
    {
      "cell_type": "code",
      "metadata": {
        "id": "2HonpXOsa8EQ",
        "colab": {
          "base_uri": "https://localhost:8080/"
        },
        "outputId": "666cc40d-5145-4f45-806e-3397749a1f2a"
      },
      "source": [
        "os.listdir(PATH_DATA_TRAIN)"
      ],
      "execution_count": 5,
      "outputs": [
        {
          "output_type": "execute_result",
          "data": {
            "text/plain": [
              "['.DS_Store',\n",
              " 'kue_kastengel',\n",
              " 'kue_dadar_gulung',\n",
              " 'kue_risoles',\n",
              " 'kue_klepon',\n",
              " 'kue_putri_salju',\n",
              " 'kue_lumpur',\n",
              " 'kue_lapis',\n",
              " 'kue_serabi']"
            ]
          },
          "metadata": {
            "tags": []
          },
          "execution_count": 5
        }
      ]
    },
    {
      "cell_type": "code",
      "metadata": {
        "id": "Aef6PSaxa8ES"
      },
      "source": [
        ""
      ],
      "execution_count": 5,
      "outputs": []
    },
    {
      "cell_type": "markdown",
      "metadata": {
        "id": "c6iLHlmXa8ES"
      },
      "source": [
        "## Modeling"
      ]
    },
    {
      "cell_type": "code",
      "metadata": {
        "id": "d8tV2RaNa8ES"
      },
      "source": [
        "from keras.models import Sequential\n",
        "from keras.layers import Conv2D, MaxPooling2D, Activation, Dropout, Flatten, Dense\n",
        "from keras.preprocessing.image import ImageDataGenerator\n",
        "from keras import metrics, optimizers\n",
        "import keras\n",
        "import tensorflow as tf\n",
        "from keras.models import load_model\n"
      ],
      "execution_count": 6,
      "outputs": []
    },
    {
      "cell_type": "code",
      "metadata": {
        "id": "mrEGDjjHa8ET",
        "colab": {
          "base_uri": "https://localhost:8080/"
        },
        "outputId": "8ea158f0-b9c4-4725-a822-5f05f7279939"
      },
      "source": [
        "# sess = tf.compat.v1.Session(config=tf.compat.v1.ConfigProto(log_device_placement=True))\n",
        "# tf.debugging.set_log_device_placement(True)\n",
        "print(\"Num GPUs Available: \", len(tf.config.experimental.list_physical_devices('GPU')))"
      ],
      "execution_count": 7,
      "outputs": [
        {
          "output_type": "stream",
          "text": [
            "Num GPUs Available:  1\n"
          ],
          "name": "stdout"
        }
      ]
    },
    {
      "cell_type": "code",
      "metadata": {
        "id": "uXuKIpmva8EU",
        "colab": {
          "base_uri": "https://localhost:8080/"
        },
        "outputId": "b4207c52-3a43-4c16-b575-83896ad3e4b1"
      },
      "source": [
        "## label dict\n",
        "lab = [i for i in os.listdir(PATH_DATA_TRAIN) if '.' not in i]\n",
        "lab.sort()\n",
        "\n",
        "label_dict = dict(zip(lab,[i for i in range(len(lab))]))\n",
        "label_dict"
      ],
      "execution_count": 8,
      "outputs": [
        {
          "output_type": "execute_result",
          "data": {
            "text/plain": [
              "{'kue_dadar_gulung': 0,\n",
              " 'kue_kastengel': 1,\n",
              " 'kue_klepon': 2,\n",
              " 'kue_lapis': 3,\n",
              " 'kue_lumpur': 4,\n",
              " 'kue_putri_salju': 5,\n",
              " 'kue_risoles': 6,\n",
              " 'kue_serabi': 7}"
            ]
          },
          "metadata": {
            "tags": []
          },
          "execution_count": 8
        }
      ]
    },
    {
      "cell_type": "code",
      "metadata": {
        "id": "VZqirKGha8EU"
      },
      "source": [
        "LABEL_SIZE = len(label_dict.keys())\n",
        "IMAGE_SIZE = 128"
      ],
      "execution_count": 77,
      "outputs": []
    },
    {
      "cell_type": "code",
      "metadata": {
        "id": "BeicgeK-IzHV"
      },
      "source": [
        "# ?Conv2D"
      ],
      "execution_count": 78,
      "outputs": []
    },
    {
      "cell_type": "code",
      "metadata": {
        "id": "YzCbCVH8a8EU"
      },
      "source": [
        "just_cake_model = Sequential()\n",
        "just_cake_model.add(Conv2D(128, (3, 3), activation ='relu', input_shape=(IMAGE_SIZE, IMAGE_SIZE, 3)))\n",
        "just_cake_model.add(Conv2D(128, (3, 3), activation ='relu'))\n",
        "just_cake_model.add(MaxPooling2D(pool_size=(2, 2)))\n",
        "just_cake_model.add(Dropout(0.3))\n",
        "just_cake_model.add(Conv2D(128, (3, 3), activation ='relu'))\n",
        "just_cake_model.add(MaxPooling2D(pool_size=(2, 2)))\n",
        "just_cake_model.add(Conv2D(256, (3, 3), activation ='relu',padding = 'same'))\n",
        "just_cake_model.add(MaxPooling2D(pool_size=(2, 2)))\n",
        "just_cake_model.add(Dropout(0.2))\n",
        "just_cake_model.add(Conv2D(256, (3, 3), activation ='relu',padding = 'same'))\n",
        "just_cake_model.add(MaxPooling2D(pool_size=(2, 2)))\n",
        "just_cake_model.add(Dropout(0.1))\n",
        "just_cake_model.add(Conv2D(256, (3, 3), activation ='relu',padding = 'same'))\n",
        "just_cake_model.add(MaxPooling2D(pool_size=(2, 2)))\n",
        "just_cake_model.add(Dropout(0.1))\n",
        "\n",
        "just_cake_model.add(Flatten())\n",
        "just_cake_model.add(Dense(32,activation ='relu'))\n",
        "just_cake_model.add(Dropout(0.1))\n",
        "just_cake_model.add(Dense(16,activation ='relu'))\n",
        "just_cake_model.add(Dense(LABEL_SIZE,activation ='softmax'))\n",
        "\n",
        "# just_cake_model = load_model(PATH_MODEL +'just_cake_model-colab3.h5',compile=False)"
      ],
      "execution_count": 115,
      "outputs": []
    },
    {
      "cell_type": "code",
      "metadata": {
        "id": "BeLsYMtua8EV",
        "colab": {
          "base_uri": "https://localhost:8080/"
        },
        "outputId": "826f6580-4d70-46c7-cd95-8da13f6b47a9"
      },
      "source": [
        "just_cake_model.summary()"
      ],
      "execution_count": 116,
      "outputs": [
        {
          "output_type": "stream",
          "text": [
            "Model: \"sequential_30\"\n",
            "_________________________________________________________________\n",
            "Layer (type)                 Output Shape              Param #   \n",
            "=================================================================\n",
            "conv2d_198 (Conv2D)          (None, 126, 126, 128)     3584      \n",
            "_________________________________________________________________\n",
            "conv2d_199 (Conv2D)          (None, 124, 124, 128)     147584    \n",
            "_________________________________________________________________\n",
            "max_pooling2d_167 (MaxPoolin (None, 62, 62, 128)       0         \n",
            "_________________________________________________________________\n",
            "dropout_101 (Dropout)        (None, 62, 62, 128)       0         \n",
            "_________________________________________________________________\n",
            "conv2d_200 (Conv2D)          (None, 60, 60, 128)       147584    \n",
            "_________________________________________________________________\n",
            "max_pooling2d_168 (MaxPoolin (None, 30, 30, 128)       0         \n",
            "_________________________________________________________________\n",
            "conv2d_201 (Conv2D)          (None, 30, 30, 256)       295168    \n",
            "_________________________________________________________________\n",
            "max_pooling2d_169 (MaxPoolin (None, 15, 15, 256)       0         \n",
            "_________________________________________________________________\n",
            "dropout_102 (Dropout)        (None, 15, 15, 256)       0         \n",
            "_________________________________________________________________\n",
            "conv2d_202 (Conv2D)          (None, 15, 15, 256)       590080    \n",
            "_________________________________________________________________\n",
            "max_pooling2d_170 (MaxPoolin (None, 7, 7, 256)         0         \n",
            "_________________________________________________________________\n",
            "dropout_103 (Dropout)        (None, 7, 7, 256)         0         \n",
            "_________________________________________________________________\n",
            "conv2d_203 (Conv2D)          (None, 7, 7, 256)         590080    \n",
            "_________________________________________________________________\n",
            "max_pooling2d_171 (MaxPoolin (None, 3, 3, 256)         0         \n",
            "_________________________________________________________________\n",
            "dropout_104 (Dropout)        (None, 3, 3, 256)         0         \n",
            "_________________________________________________________________\n",
            "flatten_26 (Flatten)         (None, 2304)              0         \n",
            "_________________________________________________________________\n",
            "dense_77 (Dense)             (None, 32)                73760     \n",
            "_________________________________________________________________\n",
            "dropout_105 (Dropout)        (None, 32)                0         \n",
            "_________________________________________________________________\n",
            "dense_78 (Dense)             (None, 16)                528       \n",
            "_________________________________________________________________\n",
            "dense_79 (Dense)             (None, 8)                 136       \n",
            "=================================================================\n",
            "Total params: 1,848,504\n",
            "Trainable params: 1,848,504\n",
            "Non-trainable params: 0\n",
            "_________________________________________________________________\n"
          ],
          "name": "stdout"
        }
      ]
    },
    {
      "cell_type": "code",
      "metadata": {
        "id": "bcqj7uusa8EV"
      },
      "source": [
        ""
      ],
      "execution_count": 116,
      "outputs": []
    },
    {
      "cell_type": "code",
      "metadata": {
        "id": "I3ghe_Wxa8EV"
      },
      "source": [
        "## compile model\n",
        "opt = optimizers.Adam(learning_rate=0.00001)\n",
        "just_cake_model.compile(\n",
        "              loss='categorical_crossentropy',\n",
        "              #optimizer='rmsprop',\n",
        "              optimizer = opt,\n",
        "              metrics=['accuracy',\n",
        "                      #  metrics.SparseCategoricalAccuracy(),\n",
        "                       metrics.AUC()])"
      ],
      "execution_count": 122,
      "outputs": []
    },
    {
      "cell_type": "code",
      "metadata": {
        "id": "mVaNvqLwa8EW"
      },
      "source": [
        ""
      ],
      "execution_count": 122,
      "outputs": []
    },
    {
      "cell_type": "code",
      "metadata": {
        "id": "vrqkfHQVa8EW",
        "colab": {
          "base_uri": "https://localhost:8080/"
        },
        "outputId": "fcfa0356-09ee-4c52-f200-59ab83cbf120"
      },
      "source": [
        "## data generator\n",
        "BATCH_SIZE = 32\n",
        "train_datagen = ImageDataGenerator(\n",
        "        rescale=1./255,\n",
        "        zoom_range=0.3,\n",
        "        rotation_range=10,\n",
        "        # width_shift_range=0.25,\n",
        "        # height_shift_range=0.25,\n",
        "        # shear_range=0.25,\n",
        "        # horizontal_flip=True\n",
        "        )\n",
        "\n",
        "val_datagen = ImageDataGenerator(rescale=1./255)\n",
        "test_datagen = ImageDataGenerator(rescale=1./255)\n",
        "\n",
        "## Shuffle = True\n",
        "train_generator = train_datagen.flow_from_directory(\n",
        "        PATH_DATA_TRAIN,  \n",
        "        target_size=(IMAGE_SIZE, IMAGE_SIZE), \n",
        "        batch_size=BATCH_SIZE,\n",
        "        seed=301,\n",
        "        class_mode=\"categorical\" )  \n",
        "\n",
        "val_generator = val_datagen.flow_from_directory(\n",
        "        PATH_DATA_VAL,  \n",
        "        target_size=(IMAGE_SIZE, IMAGE_SIZE), \n",
        "        batch_size=BATCH_SIZE,\n",
        "        seed=301,\n",
        "        class_mode=\"categorical\" )  \n",
        "\n",
        "test_generator = test_datagen.flow_from_directory(\n",
        "        PATH_DATA_TEST,\n",
        "        target_size=(IMAGE_SIZE, IMAGE_SIZE),\n",
        "        batch_size=BATCH_SIZE,\n",
        "        seed=301,\n",
        "        class_mode=\"categorical\" )"
      ],
      "execution_count": 123,
      "outputs": [
        {
          "output_type": "stream",
          "text": [
            "Found 1516 images belonging to 8 classes.\n",
            "Found 160 images belonging to 8 classes.\n",
            "Found 160 images belonging to 8 classes.\n"
          ],
          "name": "stdout"
        }
      ]
    },
    {
      "cell_type": "code",
      "metadata": {
        "id": "uLEvwq7ha8EW"
      },
      "source": [
        ""
      ],
      "execution_count": 123,
      "outputs": []
    },
    {
      "cell_type": "code",
      "metadata": {
        "id": "le97FcMUa8EX",
        "colab": {
          "base_uri": "https://localhost:8080/"
        },
        "outputId": "e227d80a-5a04-499f-ad84-7d9d31b58b4e"
      },
      "source": [
        "## save best model and use early stopping\n",
        "early_stop = keras.callbacks.EarlyStopping(\n",
        "        monitor='val_loss',mode='min', patience=8) \n",
        "check_p = keras.callbacks.ModelCheckpoint(\n",
        "        filepath=PATH_MODEL+'just_cake_model-colab4.h5',\n",
        "        monitor='val_loss',\n",
        "        mode='min',\n",
        "        save_best_only=True)\n",
        "\n",
        "epoch_hist = just_cake_model.fit(\n",
        "        train_generator,\n",
        "        steps_per_epoch=1516 // BATCH_SIZE,\n",
        "        validation_data=val_generator,\n",
        "        validation_steps=160 // BATCH_SIZE,\n",
        "        callbacks=[early_stop,check_p],\n",
        "        epochs=25)"
      ],
      "execution_count": 124,
      "outputs": [
        {
          "output_type": "stream",
          "text": [
            "Epoch 1/25\n",
            "47/47 [==============================] - 35s 704ms/step - loss: 0.7339 - accuracy: 0.7199 - auc_15: 0.9612 - val_loss: 0.9762 - val_accuracy: 0.6938 - val_auc_15: 0.9312\n",
            "Epoch 2/25\n",
            "47/47 [==============================] - 32s 686ms/step - loss: 0.7025 - accuracy: 0.7672 - auc_15: 0.9628 - val_loss: 0.9611 - val_accuracy: 0.6875 - val_auc_15: 0.9330\n",
            "Epoch 3/25\n",
            "47/47 [==============================] - 33s 701ms/step - loss: 0.7247 - accuracy: 0.7466 - auc_15: 0.9608 - val_loss: 0.9706 - val_accuracy: 0.6812 - val_auc_15: 0.9315\n",
            "Epoch 4/25\n",
            "47/47 [==============================] - 33s 695ms/step - loss: 0.6535 - accuracy: 0.7709 - auc_15: 0.9691 - val_loss: 0.9942 - val_accuracy: 0.6812 - val_auc_15: 0.9300\n",
            "Epoch 5/25\n",
            "47/47 [==============================] - 33s 695ms/step - loss: 0.6097 - accuracy: 0.7915 - auc_15: 0.9735 - val_loss: 0.9774 - val_accuracy: 0.6750 - val_auc_15: 0.9320\n",
            "Epoch 6/25\n",
            "47/47 [==============================] - 33s 699ms/step - loss: 0.6599 - accuracy: 0.7665 - auc_15: 0.9687 - val_loss: 0.9758 - val_accuracy: 0.6812 - val_auc_15: 0.9318\n",
            "Epoch 7/25\n",
            "47/47 [==============================] - 33s 699ms/step - loss: 0.5960 - accuracy: 0.7963 - auc_15: 0.9749 - val_loss: 0.9659 - val_accuracy: 0.6750 - val_auc_15: 0.9334\n",
            "Epoch 8/25\n",
            "47/47 [==============================] - 33s 704ms/step - loss: 0.6207 - accuracy: 0.7771 - auc_15: 0.9722 - val_loss: 0.9799 - val_accuracy: 0.6750 - val_auc_15: 0.9319\n",
            "Epoch 9/25\n",
            "47/47 [==============================] - 33s 692ms/step - loss: 0.5747 - accuracy: 0.7983 - auc_15: 0.9759 - val_loss: 0.9839 - val_accuracy: 0.6687 - val_auc_15: 0.9316\n",
            "Epoch 10/25\n",
            "47/47 [==============================] - 33s 699ms/step - loss: 0.6699 - accuracy: 0.7703 - auc_15: 0.9667 - val_loss: 0.9684 - val_accuracy: 0.6750 - val_auc_15: 0.9326\n"
          ],
          "name": "stdout"
        }
      ]
    },
    {
      "cell_type": "code",
      "metadata": {
        "id": "f7M0VUjRa8EX"
      },
      "source": [
        " "
      ],
      "execution_count": 124,
      "outputs": []
    },
    {
      "cell_type": "markdown",
      "metadata": {
        "id": "vYNh90-1a8EY"
      },
      "source": [
        "## Evaluations"
      ]
    },
    {
      "cell_type": "code",
      "metadata": {
        "id": "YZVpHz9sa8EY"
      },
      "source": [
        "df_epoch_hist = pd.DataFrame(epoch_hist.history)"
      ],
      "execution_count": 125,
      "outputs": []
    },
    {
      "cell_type": "code",
      "metadata": {
        "id": "Kt-rcVuna8EY",
        "colab": {
          "base_uri": "https://localhost:8080/",
          "height": 282
        },
        "outputId": "e2a34479-1ade-4b11-8c39-e12a534bbf77"
      },
      "source": [
        "df_epoch_hist[['val_loss','loss']].plot()"
      ],
      "execution_count": 126,
      "outputs": [
        {
          "output_type": "execute_result",
          "data": {
            "text/plain": [
              "<matplotlib.axes._subplots.AxesSubplot at 0x7f1d93109bd0>"
            ]
          },
          "metadata": {
            "tags": []
          },
          "execution_count": 126
        },
        {
          "output_type": "display_data",
          "data": {
            "image/png": "[encoded data removed]",
            "text/plain": [
              "<Figure size 432x288 with 1 Axes>"
            ]
          },
          "metadata": {
            "tags": [],
            "needs_background": "light"
          }
        }
      ]
    },
    {
      "cell_type": "code",
      "metadata": {
        "id": "S55RWENTa8EZ"
      },
      "source": [
        ""
      ],
      "execution_count": 126,
      "outputs": []
    },
    {
      "cell_type": "code",
      "metadata": {
        "id": "WzmVQAMta8EZ"
      },
      "source": [
        "# df_epoch_hist.to_csv('../artifact/epoch_hist_2-overfit2.csv')"
      ],
      "execution_count": 127,
      "outputs": []
    },
    {
      "cell_type": "code",
      "metadata": {
        "id": "8ZyYSsSaa8EZ",
        "colab": {
          "base_uri": "https://localhost:8080/"
        },
        "outputId": "f681a55d-f8c3-4316-b675-4f2e20e0ade1"
      },
      "source": [
        "# depd = {'auc_1' : metrics.AUC}\n",
        "model_load = load_model(PATH_MODEL + 'just_cake_model-colab4.h5')\n",
        "# model_load = load_model(PATH_MODEL + 'just_cake_model-colab2.h5')\n",
        "model_load.evaluate(train_generator)"
      ],
      "execution_count": 128,
      "outputs": [
        {
          "output_type": "stream",
          "text": [
            "48/48 [==============================] - 30s 623ms/step - loss: 0.5571 - accuracy: 0.8292 - auc_15: 0.9819\n"
          ],
          "name": "stdout"
        },
        {
          "output_type": "execute_result",
          "data": {
            "text/plain": [
              "[0.557061493396759, 0.829155683517456, 0.9818568825721741]"
            ]
          },
          "metadata": {
            "tags": []
          },
          "execution_count": 128
        }
      ]
    },
    {
      "cell_type": "code",
      "metadata": {
        "id": "r9ORPhvoHJcS"
      },
      "source": [
        ""
      ],
      "execution_count": 128,
      "outputs": []
    },
    {
      "cell_type": "markdown",
      "metadata": {
        "id": "4XLIgNWzHJq8"
      },
      "source": [
        "#### 1. Train"
      ]
    },
    {
      "cell_type": "code",
      "metadata": {
        "id": "J88_yuqma8Ea"
      },
      "source": [
        "per = np.random.permutation(train_generator.n)\n",
        "train_generator.index_array = per\n",
        "# classes = generator.classes[per]\n",
        "\n",
        "y_true = train_generator.classes[per]\n",
        "predictions = model_load.predict(train_generator)\n",
        "\n",
        "# y_true = pd.Series(true_labels)[train_generator.index_array].values\n",
        "y_pred = np.argmax(predictions, axis=1)\n",
        "\n",
        "cm = sklearn.metrics.confusion_matrix(y_true, y_pred)"
      ],
      "execution_count": 129,
      "outputs": []
    },
    {
      "cell_type": "code",
      "metadata": {
        "colab": {
          "base_uri": "https://localhost:8080/"
        },
        "id": "EZL2_0cE86uN",
        "outputId": "722b5f36-31cd-433f-ab7e-9c6b754508bb"
      },
      "source": [
        "# labels_true = []\n",
        "# for batch_x, batch_y in train_generator:\n",
        "#   labels_true.append(batch_y)\n",
        "# train_generator.index_array\n",
        "y_true"
      ],
      "execution_count": 130,
      "outputs": [
        {
          "output_type": "execute_result",
          "data": {
            "text/plain": [
              "array([6, 5, 4, ..., 7, 5, 0], dtype=int32)"
            ]
          },
          "metadata": {
            "tags": []
          },
          "execution_count": 130
        }
      ]
    },
    {
      "cell_type": "code",
      "metadata": {
        "colab": {
          "base_uri": "https://localhost:8080/"
        },
        "id": "FwyyvZMdGHPm",
        "outputId": "d9cd2bb3-8a59-432b-8b9c-9dab161cb1e9"
      },
      "source": [
        "y_pred"
      ],
      "execution_count": 131,
      "outputs": [
        {
          "output_type": "execute_result",
          "data": {
            "text/plain": [
              "array([6, 5, 4, ..., 7, 5, 0])"
            ]
          },
          "metadata": {
            "tags": []
          },
          "execution_count": 131
        }
      ]
    },
    {
      "cell_type": "code",
      "metadata": {
        "id": "9A0J5O-gDv_u"
      },
      "source": [
        "# labels_true = np.array(labels_true)\n",
        "# len(labels_true[10])\n"
      ],
      "execution_count": 132,
      "outputs": []
    },
    {
      "cell_type": "code",
      "metadata": {
        "id": "7dECsKYt861_"
      },
      "source": [
        "# np.argmax(predictions[1])\n",
        "# imgs, labels = next(val_generator)\n",
        "# train_generator.labels"
      ],
      "execution_count": 133,
      "outputs": []
    },
    {
      "cell_type": "code",
      "metadata": {
        "id": "7lkxp21DBCk8"
      },
      "source": [
        "# labels[3]"
      ],
      "execution_count": 134,
      "outputs": []
    },
    {
      "cell_type": "code",
      "metadata": {
        "id": "qFa5-CuN9Lcz"
      },
      "source": [
        "# plt.imshow(imgs[3])"
      ],
      "execution_count": 135,
      "outputs": []
    },
    {
      "cell_type": "code",
      "metadata": {
        "id": "WPo_uhf5a8Ea",
        "colab": {
          "base_uri": "https://localhost:8080/",
          "height": 500
        },
        "outputId": "025bb150-98ae-4fad-9f40-b942996adf6b"
      },
      "source": [
        "plt.figure(figsize = (12,8))\n",
        "sns.heatmap(cm, annot= True)"
      ],
      "execution_count": 136,
      "outputs": [
        {
          "output_type": "execute_result",
          "data": {
            "text/plain": [
              "<matplotlib.axes._subplots.AxesSubplot at 0x7f1d92f46dd0>"
            ]
          },
          "metadata": {
            "tags": []
          },
          "execution_count": 136
        },
        {
          "output_type": "display_data",
          "data": {
            "image/png": "[encoded data removed]",
            "text/plain": [
              "<Figure size 864x576 with 2 Axes>"
            ]
          },
          "metadata": {
            "tags": [],
            "needs_background": "light"
          }
        }
      ]
    },
    {
      "cell_type": "code",
      "metadata": {
        "id": "1ZynYNAAa8Ea",
        "colab": {
          "base_uri": "https://localhost:8080/"
        },
        "outputId": "5bca9228-b9d1-4ebf-deb5-fe3c62d4e91c"
      },
      "source": [
        "print(classification_report(y_true, y_pred))"
      ],
      "execution_count": 137,
      "outputs": [
        {
          "output_type": "stream",
          "text": [
            "              precision    recall  f1-score   support\n",
            "\n",
            "           0       0.77      0.82      0.79       192\n",
            "           1       0.78      0.82      0.80       181\n",
            "           2       0.92      0.93      0.92       197\n",
            "           3       0.83      0.69      0.75       201\n",
            "           4       0.78      0.80      0.79       197\n",
            "           5       0.90      0.91      0.90       172\n",
            "           6       0.81      0.87      0.84       196\n",
            "           7       0.79      0.76      0.77       180\n",
            "\n",
            "    accuracy                           0.82      1516\n",
            "   macro avg       0.82      0.82      0.82      1516\n",
            "weighted avg       0.82      0.82      0.82      1516\n",
            "\n"
          ],
          "name": "stdout"
        }
      ]
    },
    {
      "cell_type": "code",
      "metadata": {
        "id": "buhwuizga8Eb"
      },
      "source": [
        ""
      ],
      "execution_count": 137,
      "outputs": []
    },
    {
      "cell_type": "markdown",
      "metadata": {
        "id": "KzcEymkyHQIg"
      },
      "source": [
        "#### 2. Validations"
      ]
    },
    {
      "cell_type": "code",
      "metadata": {
        "id": "SI1iniF7HQIg"
      },
      "source": [
        "per = np.random.permutation(val_generator.n)\n",
        "val_generator.index_array = per\n",
        "\n",
        "y_true_val = val_generator.classes[per]\n",
        "predictions_val = model_load.predict(val_generator)\n",
        "y_pred_val = np.argmax(predictions_val, axis=1)\n",
        "\n",
        "cm_val = sklearn.metrics.confusion_matrix(y_true_val, y_pred_val)"
      ],
      "execution_count": 138,
      "outputs": []
    },
    {
      "cell_type": "code",
      "metadata": {
        "colab": {
          "base_uri": "https://localhost:8080/",
          "height": 504
        },
        "id": "EyBBMBTmHQIk",
        "outputId": "e23d5fe0-1e7c-4288-863d-e407247a0b36"
      },
      "source": [
        "plt.figure(figsize = (12,8))\n",
        "sns.heatmap(cm_val, annot= True)"
      ],
      "execution_count": 139,
      "outputs": [
        {
          "output_type": "execute_result",
          "data": {
            "text/plain": [
              "<matplotlib.axes._subplots.AxesSubplot at 0x7f1d929cbed0>"
            ]
          },
          "metadata": {
            "tags": []
          },
          "execution_count": 139
        },
        {
          "output_type": "display_data",
          "data": {
            "image/png": "[encoded data removed]",
            "text/plain": [
              "<Figure size 864x576 with 2 Axes>"
            ]
          },
          "metadata": {
            "tags": [],
            "needs_background": "light"
          }
        }
      ]
    },
    {
      "cell_type": "code",
      "metadata": {
        "colab": {
          "base_uri": "https://localhost:8080/"
        },
        "id": "JWJzD8uWHQIk",
        "outputId": "4dffde0e-de9f-4f28-fd85-59ddc71f60fb"
      },
      "source": [
        "print(classification_report(y_true_val, y_pred_val))"
      ],
      "execution_count": 140,
      "outputs": [
        {
          "output_type": "stream",
          "text": [
            "              precision    recall  f1-score   support\n",
            "\n",
            "           0       0.61      0.55      0.58        20\n",
            "           1       0.58      0.55      0.56        20\n",
            "           2       0.90      0.90      0.90        20\n",
            "           3       0.58      0.55      0.56        20\n",
            "           4       0.52      0.60      0.56        20\n",
            "           5       0.90      0.90      0.90        20\n",
            "           6       0.80      0.80      0.80        20\n",
            "           7       0.62      0.65      0.63        20\n",
            "\n",
            "    accuracy                           0.69       160\n",
            "   macro avg       0.69      0.69      0.69       160\n",
            "weighted avg       0.69      0.69      0.69       160\n",
            "\n"
          ],
          "name": "stdout"
        }
      ]
    },
    {
      "cell_type": "code",
      "metadata": {
        "id": "xXX1k6FtHmpz"
      },
      "source": [
        ""
      ],
      "execution_count": 140,
      "outputs": []
    }
  ]
}