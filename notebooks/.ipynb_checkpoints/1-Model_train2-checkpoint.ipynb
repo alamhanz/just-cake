{
 "cells": [
  {
   "cell_type": "markdown",
   "metadata": {},
   "source": [
    "## Kue Dataset - Model2\n"
   ]
  },
  {
   "cell_type": "code",
   "execution_count": 1,
   "metadata": {},
   "outputs": [],
   "source": [
    "# conda install -c conda-forge keras"
   ]
  },
  {
   "cell_type": "code",
   "execution_count": 2,
   "metadata": {},
   "outputs": [],
   "source": [
    "import os\n",
    "import re\n",
    "import glob\n",
    "\n",
    "import scipy.io\n",
    "import cv2\n",
    "from PIL import Image\n",
    "import pandas as pd\n",
    "import numpy as np\n",
    "import matplotlib.pyplot as plt\n",
    "import tqdm\n",
    "import shutil\n",
    "\n",
    "from sklearn.model_selection import train_test_split\n",
    "from sklearn.metrics import classification_report\n",
    "from scipy.io import loadmat\n",
    "import random\n",
    "import sklearn\n",
    "import seaborn as sns"
   ]
  },
  {
   "cell_type": "code",
   "execution_count": 3,
   "metadata": {},
   "outputs": [],
   "source": [
    "# PATH_DATA = '../data/'\n",
    "PATH_DATA_IMAGES = '../../dataset257/'\n",
    "PATH_DATA_TRAIN = PATH_DATA_IMAGES+'train/'\n",
    "PATH_DATA_VAL = PATH_DATA_IMAGES+'validation/'\n",
    "PATH_DATA_TEST = PATH_DATA_IMAGES+'test/'\n",
    "PATH_MODEL = '../../tmp/'"
   ]
  },
  {
   "cell_type": "code",
   "execution_count": 4,
   "metadata": {},
   "outputs": [
    {
     "data": {
      "text/plain": [
       "['kue_kastengel',\n",
       " 'kue_dadar_gulung',\n",
       " 'kue_klepon',\n",
       " 'kue_risoles',\n",
       " 'kue_lumpur',\n",
       " 'kue_serabi',\n",
       " 'kue_lapis',\n",
       " 'kue_putri_salju']"
      ]
     },
     "execution_count": 4,
     "metadata": {},
     "output_type": "execute_result"
    }
   ],
   "source": [
    "os.listdir(PATH_DATA_TRAIN)"
   ]
  },
  {
   "cell_type": "code",
   "execution_count": null,
   "metadata": {},
   "outputs": [],
   "source": []
  },
  {
   "cell_type": "markdown",
   "metadata": {},
   "source": [
    "## Modeling"
   ]
  },
  {
   "cell_type": "code",
   "execution_count": 5,
   "metadata": {},
   "outputs": [
    {
     "name": "stderr",
     "output_type": "stream",
     "text": [
      "Using TensorFlow backend.\n"
     ]
    }
   ],
   "source": [
    "from keras.models import Sequential\n",
    "from keras.layers import Conv2D, MaxPooling2D, Activation, Dropout, Flatten, Dense\n",
    "from keras.preprocessing.image import ImageDataGenerator\n",
    "from keras import metrics, optimizers\n",
    "import keras\n",
    "import tensorflow as tf\n",
    "from keras.models import load_model\n"
   ]
  },
  {
   "cell_type": "code",
   "execution_count": 6,
   "metadata": {},
   "outputs": [
    {
     "name": "stdout",
     "output_type": "stream",
     "text": [
      "Num GPUs Available:  0\n"
     ]
    }
   ],
   "source": [
    "# sess = tf.compat.v1.Session(config=tf.compat.v1.ConfigProto(log_device_placement=True))\n",
    "# tf.debugging.set_log_device_placement(True)\n",
    "print(\"Num GPUs Available: \", len(tf.config.experimental.list_physical_devices('GPU')))"
   ]
  },
  {
   "cell_type": "code",
   "execution_count": 7,
   "metadata": {},
   "outputs": [
    {
     "data": {
      "text/plain": [
       "{'kue_dadar_gulung': 0,\n",
       " 'kue_kastengel': 1,\n",
       " 'kue_klepon': 2,\n",
       " 'kue_lapis': 3,\n",
       " 'kue_lumpur': 4,\n",
       " 'kue_putri_salju': 5,\n",
       " 'kue_risoles': 6,\n",
       " 'kue_serabi': 7}"
      ]
     },
     "execution_count": 7,
     "metadata": {},
     "output_type": "execute_result"
    }
   ],
   "source": [
    "## label dict\n",
    "lab = [i for i in os.listdir(PATH_DATA_TRAIN) if '.' not in i]\n",
    "lab.sort()\n",
    "\n",
    "label_dict = dict(zip(lab,[i for i in range(len(lab))]))\n",
    "label_dict"
   ]
  },
  {
   "cell_type": "code",
   "execution_count": 8,
   "metadata": {},
   "outputs": [],
   "source": [
    "LABEL_SIZE = len(label_dict.keys())\n",
    "IMAGE_SIZE = 150"
   ]
  },
  {
   "cell_type": "code",
   "execution_count": 9,
   "metadata": {},
   "outputs": [],
   "source": [
    "just_cake_model = Sequential()\n",
    "just_cake_model.add(Conv2D(32, (3, 3), activation ='relu', input_shape=(IMAGE_SIZE, IMAGE_SIZE, 3)))\n",
    "just_cake_model.add(Conv2D(64, (4, 4), activation ='relu'))\n",
    "just_cake_model.add(MaxPooling2D(pool_size=(2, 2)))\n",
    "just_cake_model.add(Conv2D(64, (3, 3), activation ='relu'))\n",
    "just_cake_model.add(MaxPooling2D(pool_size=(2, 2)))\n",
    "just_cake_model.add(Conv2D(16, (3, 3), activation ='relu'))\n",
    "just_cake_model.add(MaxPooling2D(pool_size=(2, 2)))\n",
    "\n",
    "just_cake_model.add(Flatten())  # this converts our 3D feature maps to 1D feature vectors\n",
    "just_cake_model.add(Dense(512, activation ='relu'))\n",
    "just_cake_model.add(Dense(256, activation ='relu'))\n",
    "just_cake_model.add(Dense(128, activation ='relu'))\n",
    "just_cake_model.add(Dense(LABEL_SIZE,activation ='softmax'))"
   ]
  },
  {
   "cell_type": "code",
   "execution_count": 10,
   "metadata": {},
   "outputs": [
    {
     "name": "stdout",
     "output_type": "stream",
     "text": [
      "Model: \"sequential_1\"\n",
      "_________________________________________________________________\n",
      "Layer (type)                 Output Shape              Param #   \n",
      "=================================================================\n",
      "conv2d_1 (Conv2D)            (None, 148, 148, 32)      896       \n",
      "_________________________________________________________________\n",
      "conv2d_2 (Conv2D)            (None, 145, 145, 64)      32832     \n",
      "_________________________________________________________________\n",
      "max_pooling2d_1 (MaxPooling2 (None, 72, 72, 64)        0         \n",
      "_________________________________________________________________\n",
      "conv2d_3 (Conv2D)            (None, 70, 70, 64)        36928     \n",
      "_________________________________________________________________\n",
      "max_pooling2d_2 (MaxPooling2 (None, 35, 35, 64)        0         \n",
      "_________________________________________________________________\n",
      "conv2d_4 (Conv2D)            (None, 33, 33, 16)        9232      \n",
      "_________________________________________________________________\n",
      "max_pooling2d_3 (MaxPooling2 (None, 16, 16, 16)        0         \n",
      "_________________________________________________________________\n",
      "flatten_1 (Flatten)          (None, 4096)              0         \n",
      "_________________________________________________________________\n",
      "dense_1 (Dense)              (None, 512)               2097664   \n",
      "_________________________________________________________________\n",
      "dense_2 (Dense)              (None, 256)               131328    \n",
      "_________________________________________________________________\n",
      "dense_3 (Dense)              (None, 128)               32896     \n",
      "_________________________________________________________________\n",
      "dense_4 (Dense)              (None, 8)                 1032      \n",
      "=================================================================\n",
      "Total params: 2,342,808\n",
      "Trainable params: 2,342,808\n",
      "Non-trainable params: 0\n",
      "_________________________________________________________________\n"
     ]
    }
   ],
   "source": [
    "just_cake_model.summary()"
   ]
  },
  {
   "cell_type": "code",
   "execution_count": 11,
   "metadata": {},
   "outputs": [],
   "source": [
    "## compile model\n",
    "opt = optimizers.Adam(learning_rate=0.001)\n",
    "just_cake_model.compile(loss='categorical_crossentropy',\n",
    "              #optimizer='rmsprop',\n",
    "              optimizer = opt,\n",
    "              metrics=['accuracy',metrics.AUC()])"
   ]
  },
  {
   "cell_type": "code",
   "execution_count": null,
   "metadata": {},
   "outputs": [],
   "source": []
  },
  {
   "cell_type": "code",
   "execution_count": 12,
   "metadata": {},
   "outputs": [
    {
     "name": "stdout",
     "output_type": "stream",
     "text": [
      "Found 1516 images belonging to 8 classes.\n",
      "Found 160 images belonging to 8 classes.\n",
      "Found 160 images belonging to 8 classes.\n"
     ]
    }
   ],
   "source": [
    "## data generator\n",
    "BATCH_SIZE = 64\n",
    "train_datagen = ImageDataGenerator(\n",
    "        rescale=1./255,\n",
    "        zoom_range=0.2,\n",
    "        rotation_range=35,\n",
    "        width_shift_range=0.25,\n",
    "        height_shift_range=0.25,\n",
    "        shear_range=0.25,\n",
    "        horizontal_flip=True)\n",
    "\n",
    "val_datagen = ImageDataGenerator(rescale=1./255)\n",
    "test_datagen = ImageDataGenerator(rescale=1./255)\n",
    "\n",
    "\n",
    "train_generator = train_datagen.flow_from_directory(\n",
    "        PATH_DATA_TRAIN,  \n",
    "        target_size=(IMAGE_SIZE, IMAGE_SIZE), \n",
    "        batch_size=BATCH_SIZE,\n",
    "        class_mode=\"categorical\" )  \n",
    "\n",
    "val_generator = val_datagen.flow_from_directory(\n",
    "        PATH_DATA_VAL,  \n",
    "        target_size=(IMAGE_SIZE, IMAGE_SIZE), \n",
    "        batch_size=BATCH_SIZE,\n",
    "        class_mode=\"categorical\" )  \n",
    "\n",
    "test_generator = test_datagen.flow_from_directory(\n",
    "        PATH_DATA_TEST,\n",
    "        target_size=(IMAGE_SIZE, IMAGE_SIZE),\n",
    "        batch_size=BATCH_SIZE,\n",
    "        class_mode=\"categorical\" )"
   ]
  },
  {
   "cell_type": "code",
   "execution_count": null,
   "metadata": {},
   "outputs": [],
   "source": []
  },
  {
   "cell_type": "code",
   "execution_count": 13,
   "metadata": {},
   "outputs": [
    {
     "name": "stdout",
     "output_type": "stream",
     "text": [
      "Epoch 1/250\n",
      "23/23 [==============================] - 114s 5s/step - loss: 1.9616 - accuracy: 0.2163 - auc_1: 0.6500 - val_loss: 1.7329 - val_accuracy: 0.2578 - val_auc_1: 0.7602\n",
      "Epoch 2/250\n",
      "23/23 [==============================] - 102s 4s/step - loss: 1.7683 - accuracy: 0.2541 - auc_1: 0.7416 - val_loss: 1.6348 - val_accuracy: 0.2500 - val_auc_1: 0.7732\n",
      "Epoch 3/250\n",
      "23/23 [==============================] - 103s 4s/step - loss: 1.7098 - accuracy: 0.2913 - auc_1: 0.7635 - val_loss: 1.5936 - val_accuracy: 0.3021 - val_auc_1: 0.8127\n",
      "Epoch 4/250\n",
      "23/23 [==============================] - 103s 4s/step - loss: 1.7236 - accuracy: 0.2837 - auc_1: 0.7645 - val_loss: 1.5625 - val_accuracy: 0.2734 - val_auc_1: 0.8123\n",
      "Epoch 5/250\n",
      "23/23 [==============================] - 104s 5s/step - loss: 1.7044 - accuracy: 0.2996 - auc_1: 0.7728 - val_loss: 1.4760 - val_accuracy: 0.4271 - val_auc_1: 0.8417\n",
      "Epoch 6/250\n",
      "23/23 [==============================] - 109s 5s/step - loss: 1.6453 - accuracy: 0.3223 - auc_1: 0.7931 - val_loss: 1.5784 - val_accuracy: 0.2812 - val_auc_1: 0.7787\n",
      "Epoch 7/250\n",
      "23/23 [==============================] - 109s 5s/step - loss: 1.6087 - accuracy: 0.3602 - auc_1: 0.8042 - val_loss: 1.2560 - val_accuracy: 0.4062 - val_auc_1: 0.8625\n",
      "Epoch 8/250\n",
      "23/23 [==============================] - 114s 5s/step - loss: 1.5150 - accuracy: 0.3994 - auc_1: 0.8292 - val_loss: 1.3310 - val_accuracy: 0.4062 - val_auc_1: 0.8687\n",
      "Epoch 9/250\n",
      "23/23 [==============================] - 108s 5s/step - loss: 1.4308 - accuracy: 0.4545 - auc_1: 0.8480 - val_loss: 1.5269 - val_accuracy: 0.3646 - val_auc_1: 0.8317\n",
      "Epoch 10/250\n",
      "23/23 [==============================] - 106s 5s/step - loss: 1.4911 - accuracy: 0.4401 - auc_1: 0.8356 - val_loss: 1.4098 - val_accuracy: 0.3984 - val_auc_1: 0.8525\n",
      "Epoch 11/250\n",
      "23/23 [==============================] - 106s 5s/step - loss: 1.4476 - accuracy: 0.4470 - auc_1: 0.8441 - val_loss: 1.2915 - val_accuracy: 0.5208 - val_auc_1: 0.8774\n",
      "Epoch 12/250\n",
      "23/23 [==============================] - 107s 5s/step - loss: 1.3498 - accuracy: 0.4770 - auc_1: 0.8670 - val_loss: 1.3873 - val_accuracy: 0.5208 - val_auc_1: 0.8724\n",
      "Epoch 13/250\n",
      "23/23 [==============================] - 110s 5s/step - loss: 1.3706 - accuracy: 0.4972 - auc_1: 0.8611 - val_loss: 0.9863 - val_accuracy: 0.5547 - val_auc_1: 0.8929\n",
      "Epoch 14/250\n",
      "23/23 [==============================] - 108s 5s/step - loss: 1.2280 - accuracy: 0.5579 - auc_1: 0.8900 - val_loss: 1.0669 - val_accuracy: 0.6146 - val_auc_1: 0.8992\n",
      "Epoch 15/250\n",
      "23/23 [==============================] - 111s 5s/step - loss: 1.3559 - accuracy: 0.4885 - auc_1: 0.8673 - val_loss: 1.3604 - val_accuracy: 0.4688 - val_auc_1: 0.8730\n",
      "Epoch 16/250\n",
      "23/23 [==============================] - 111s 5s/step - loss: 1.2840 - accuracy: 0.5258 - auc_1: 0.8783 - val_loss: 1.1696 - val_accuracy: 0.5078 - val_auc_1: 0.8937\n",
      "Epoch 17/250\n",
      "23/23 [==============================] - 114s 5s/step - loss: 1.1913 - accuracy: 0.5577 - auc_1: 0.8969 - val_loss: 1.2611 - val_accuracy: 0.5417 - val_auc_1: 0.8892\n",
      "Epoch 18/250\n",
      "23/23 [==============================] - 112s 5s/step - loss: 1.2943 - accuracy: 0.5317 - auc_1: 0.8778 - val_loss: 1.1806 - val_accuracy: 0.5000 - val_auc_1: 0.9079\n",
      "Epoch 19/250\n",
      "23/23 [==============================] - 111s 5s/step - loss: 1.2311 - accuracy: 0.5656 - auc_1: 0.8901 - val_loss: 0.9784 - val_accuracy: 0.6250 - val_auc_1: 0.9102\n",
      "Epoch 20/250\n",
      "23/23 [==============================] - 117s 5s/step - loss: 1.1931 - accuracy: 0.5700 - auc_1: 0.8970 - val_loss: 1.0748 - val_accuracy: 0.5833 - val_auc_1: 0.9219\n",
      "Epoch 21/250\n",
      "23/23 [==============================] - 113s 5s/step - loss: 1.1538 - accuracy: 0.5868 - auc_1: 0.9028 - val_loss: 1.3506 - val_accuracy: 0.4688 - val_auc_1: 0.8768\n",
      "Epoch 22/250\n",
      "23/23 [==============================] - 122s 5s/step - loss: 1.1455 - accuracy: 0.5909 - auc_1: 0.9045 - val_loss: 1.0481 - val_accuracy: 0.5938 - val_auc_1: 0.9127\n",
      "Epoch 23/250\n",
      "23/23 [==============================] - 115s 5s/step - loss: 1.1529 - accuracy: 0.5820 - auc_1: 0.9049 - val_loss: 1.1530 - val_accuracy: 0.5938 - val_auc_1: 0.9125\n",
      "Epoch 24/250\n",
      "23/23 [==============================] - 115s 5s/step - loss: 1.0924 - accuracy: 0.6033 - auc_1: 0.9134 - val_loss: 1.0183 - val_accuracy: 0.5729 - val_auc_1: 0.9142\n",
      "Epoch 25/250\n",
      "23/23 [==============================] - 120s 5s/step - loss: 1.1039 - accuracy: 0.5978 - auc_1: 0.9115 - val_loss: 1.1055 - val_accuracy: 0.6250 - val_auc_1: 0.9192\n",
      "Epoch 26/250\n",
      "23/23 [==============================] - 116s 5s/step - loss: 1.0494 - accuracy: 0.6205 - auc_1: 0.9208 - val_loss: 1.0494 - val_accuracy: 0.5521 - val_auc_1: 0.9185\n",
      "Epoch 27/250\n",
      "23/23 [==============================] - 118s 5s/step - loss: 1.0676 - accuracy: 0.6178 - auc_1: 0.9171 - val_loss: 1.1177 - val_accuracy: 0.6458 - val_auc_1: 0.9010\n",
      "Epoch 28/250\n",
      "23/23 [==============================] - 120s 5s/step - loss: 1.0401 - accuracy: 0.6219 - auc_1: 0.9219 - val_loss: 1.1507 - val_accuracy: 0.5625 - val_auc_1: 0.9024\n",
      "Epoch 29/250\n",
      "23/23 [==============================] - 119s 5s/step - loss: 1.0805 - accuracy: 0.6191 - auc_1: 0.9153 - val_loss: 1.0497 - val_accuracy: 0.6354 - val_auc_1: 0.9245\n",
      "Epoch 30/250\n",
      "23/23 [==============================] - 124s 5s/step - loss: 0.9927 - accuracy: 0.6322 - auc_1: 0.9291 - val_loss: 1.0715 - val_accuracy: 0.6250 - val_auc_1: 0.9253\n",
      "Epoch 31/250\n",
      "23/23 [==============================] - 119s 5s/step - loss: 1.0165 - accuracy: 0.6291 - auc_1: 0.9250 - val_loss: 1.1026 - val_accuracy: 0.5625 - val_auc_1: 0.9179\n",
      "Epoch 32/250\n",
      "23/23 [==============================] - 118s 5s/step - loss: 0.9744 - accuracy: 0.6550 - auc_1: 0.9319 - val_loss: 1.0663 - val_accuracy: 0.6562 - val_auc_1: 0.9255\n",
      "Epoch 33/250\n",
      "23/23 [==============================] - 121s 5s/step - loss: 0.9979 - accuracy: 0.6460 - auc_1: 0.9281 - val_loss: 1.0645 - val_accuracy: 0.6458 - val_auc_1: 0.9224\n",
      "Epoch 34/250\n",
      "23/23 [==============================] - 123s 5s/step - loss: 0.9646 - accuracy: 0.6630 - auc_1: 0.9326 - val_loss: 0.9180 - val_accuracy: 0.6641 - val_auc_1: 0.9360\n",
      "Epoch 35/250\n",
      "23/23 [==============================] - 123s 5s/step - loss: 0.9558 - accuracy: 0.6522 - auc_1: 0.9345 - val_loss: 0.9816 - val_accuracy: 0.6562 - val_auc_1: 0.9223\n",
      "Epoch 36/250\n",
      "23/23 [==============================] - 124s 5s/step - loss: 0.9946 - accuracy: 0.6481 - auc_1: 0.9293 - val_loss: 1.0638 - val_accuracy: 0.6354 - val_auc_1: 0.9040\n",
      "Epoch 37/250\n",
      "23/23 [==============================] - 121s 5s/step - loss: 1.0120 - accuracy: 0.6350 - auc_1: 0.9269 - val_loss: 0.8378 - val_accuracy: 0.6875 - val_auc_1: 0.9471\n",
      "Epoch 38/250\n",
      "23/23 [==============================] - 109s 5s/step - loss: 0.9108 - accuracy: 0.6795 - auc_1: 0.9404 - val_loss: 0.9754 - val_accuracy: 0.6250 - val_auc_1: 0.9234\n",
      "Epoch 39/250\n",
      "23/23 [==============================] - 129s 6s/step - loss: 0.9787 - accuracy: 0.6610 - auc_1: 0.9307 - val_loss: 1.0906 - val_accuracy: 0.6250 - val_auc_1: 0.9154\n",
      "Epoch 40/250\n",
      "23/23 [==============================] - 117s 5s/step - loss: 0.9196 - accuracy: 0.6557 - auc_1: 0.9396 - val_loss: 0.9910 - val_accuracy: 0.6797 - val_auc_1: 0.9359\n",
      "Epoch 41/250\n",
      "23/23 [==============================] - 115s 5s/step - loss: 0.9357 - accuracy: 0.6692 - auc_1: 0.9367 - val_loss: 1.0086 - val_accuracy: 0.6250 - val_auc_1: 0.9285\n",
      "Epoch 42/250\n",
      "23/23 [==============================] - 112s 5s/step - loss: 0.8659 - accuracy: 0.6949 - auc_1: 0.9461 - val_loss: 0.8016 - val_accuracy: 0.6875 - val_auc_1: 0.9372\n",
      "Epoch 43/250\n",
      "23/23 [==============================] - 114s 5s/step - loss: 0.8861 - accuracy: 0.6625 - auc_1: 0.9438 - val_loss: 1.0449 - val_accuracy: 0.6406 - val_auc_1: 0.9244\n",
      "Epoch 44/250\n",
      "23/23 [==============================] - 110s 5s/step - loss: 0.8716 - accuracy: 0.6804 - auc_1: 0.9448 - val_loss: 1.0115 - val_accuracy: 0.6250 - val_auc_1: 0.9233\n",
      "Epoch 45/250\n",
      "23/23 [==============================] - 109s 5s/step - loss: 0.8693 - accuracy: 0.6832 - auc_1: 0.9457 - val_loss: 1.2803 - val_accuracy: 0.6354 - val_auc_1: 0.9244\n",
      "Epoch 46/250\n",
      "23/23 [==============================] - 110s 5s/step - loss: 0.8034 - accuracy: 0.7066 - auc_1: 0.9531 - val_loss: 0.8968 - val_accuracy: 0.6641 - val_auc_1: 0.9253\n",
      "Epoch 47/250\n",
      "23/23 [==============================] - 110s 5s/step - loss: 0.8434 - accuracy: 0.6970 - auc_1: 0.9485 - val_loss: 1.0451 - val_accuracy: 0.6667 - val_auc_1: 0.9390\n",
      "Epoch 48/250\n",
      "23/23 [==============================] - 108s 5s/step - loss: 0.8046 - accuracy: 0.7094 - auc_1: 0.9534 - val_loss: 0.7126 - val_accuracy: 0.6771 - val_auc_1: 0.9354\n",
      "Epoch 49/250\n",
      "23/23 [==============================] - 112s 5s/step - loss: 0.8700 - accuracy: 0.6818 - auc_1: 0.9450 - val_loss: 0.9471 - val_accuracy: 0.6328 - val_auc_1: 0.9252\n",
      "Epoch 50/250\n",
      "23/23 [==============================] - 110s 5s/step - loss: 0.8024 - accuracy: 0.7156 - auc_1: 0.9534 - val_loss: 0.9376 - val_accuracy: 0.6250 - val_auc_1: 0.9284\n",
      "Epoch 51/250\n",
      "23/23 [==============================] - 116s 5s/step - loss: 0.8530 - accuracy: 0.6880 - auc_1: 0.9469 - val_loss: 1.1082 - val_accuracy: 0.6146 - val_auc_1: 0.9166\n",
      "Epoch 52/250\n",
      "23/23 [==============================] - 121s 5s/step - loss: 0.7706 - accuracy: 0.7225 - auc_1: 0.9566 - val_loss: 0.8046 - val_accuracy: 0.6953 - val_auc_1: 0.9537\n",
      "Epoch 53/250\n",
      "23/23 [==============================] - 121s 5s/step - loss: 0.7705 - accuracy: 0.7225 - auc_1: 0.9565 - val_loss: 1.0615 - val_accuracy: 0.6146 - val_auc_1: 0.9197\n",
      "Epoch 54/250\n",
      "23/23 [==============================] - 112s 5s/step - loss: 0.7710 - accuracy: 0.7385 - auc_1: 0.9558 - val_loss: 1.0642 - val_accuracy: 0.6562 - val_auc_1: 0.9303\n",
      "Epoch 55/250\n",
      "23/23 [==============================] - 108s 5s/step - loss: 0.8012 - accuracy: 0.7207 - auc_1: 0.9542 - val_loss: 1.1469 - val_accuracy: 0.5781 - val_auc_1: 0.9300\n",
      "Epoch 56/250\n",
      "23/23 [==============================] - 116s 5s/step - loss: 0.7120 - accuracy: 0.7431 - auc_1: 0.9633 - val_loss: 0.9911 - val_accuracy: 0.6562 - val_auc_1: 0.9402\n",
      "Epoch 57/250\n",
      "23/23 [==============================] - 112s 5s/step - loss: 0.7849 - accuracy: 0.7149 - auc_1: 0.9551 - val_loss: 1.0520 - val_accuracy: 0.6667 - val_auc_1: 0.9203\n",
      "Epoch 58/250\n",
      "23/23 [==============================] - 112s 5s/step - loss: 0.7085 - accuracy: 0.7418 - auc_1: 0.9637 - val_loss: 1.0007 - val_accuracy: 0.6641 - val_auc_1: 0.9330\n",
      "Epoch 59/250\n",
      "23/23 [==============================] - 120s 5s/step - loss: 0.7389 - accuracy: 0.7325 - auc_1: 0.9603 - val_loss: 1.0594 - val_accuracy: 0.7083 - val_auc_1: 0.9357\n",
      "Epoch 60/250\n",
      "23/23 [==============================] - 113s 5s/step - loss: 0.6707 - accuracy: 0.7609 - auc_1: 0.9670 - val_loss: 0.8439 - val_accuracy: 0.7083 - val_auc_1: 0.9445\n",
      "Epoch 61/250\n",
      "23/23 [==============================] - 111s 5s/step - loss: 0.7443 - accuracy: 0.7235 - auc_1: 0.9598 - val_loss: 1.1155 - val_accuracy: 0.6562 - val_auc_1: 0.9358\n",
      "Epoch 62/250\n",
      "23/23 [==============================] - 114s 5s/step - loss: 0.6546 - accuracy: 0.7507 - auc_1: 0.9687 - val_loss: 0.9935 - val_accuracy: 0.6667 - val_auc_1: 0.9323\n",
      "Epoch 63/250\n",
      "23/23 [==============================] - 113s 5s/step - loss: 0.6914 - accuracy: 0.7479 - auc_1: 0.9656 - val_loss: 1.0373 - val_accuracy: 0.6354 - val_auc_1: 0.9268\n",
      "Epoch 64/250\n",
      "23/23 [==============================] - 117s 5s/step - loss: 0.6786 - accuracy: 0.7668 - auc_1: 0.9664 - val_loss: 1.1800 - val_accuracy: 0.7109 - val_auc_1: 0.9375\n",
      "Epoch 65/250\n",
      "23/23 [==============================] - 118s 5s/step - loss: 0.7018 - accuracy: 0.7391 - auc_1: 0.9636 - val_loss: 0.9983 - val_accuracy: 0.7188 - val_auc_1: 0.9368\n",
      "Epoch 66/250\n",
      "23/23 [==============================] - 118s 5s/step - loss: 0.6666 - accuracy: 0.7658 - auc_1: 0.9674 - val_loss: 1.0112 - val_accuracy: 0.6667 - val_auc_1: 0.9404\n",
      "Epoch 67/250\n",
      "23/23 [==============================] - 119s 5s/step - loss: 0.6549 - accuracy: 0.7638 - auc_1: 0.9682 - val_loss: 0.9028 - val_accuracy: 0.6797 - val_auc_1: 0.9313\n",
      "Epoch 68/250\n",
      "23/23 [==============================] - 118s 5s/step - loss: 0.6859 - accuracy: 0.7507 - auc_1: 0.9651 - val_loss: 1.0041 - val_accuracy: 0.6667 - val_auc_1: 0.9392\n",
      "Epoch 69/250\n",
      "23/23 [==============================] - 120s 5s/step - loss: 0.5888 - accuracy: 0.7913 - auc_1: 0.9738 - val_loss: 1.2439 - val_accuracy: 0.6562 - val_auc_1: 0.9346\n",
      "Epoch 70/250\n",
      "23/23 [==============================] - 118s 5s/step - loss: 0.6320 - accuracy: 0.7755 - auc_1: 0.9702 - val_loss: 1.1327 - val_accuracy: 0.6641 - val_auc_1: 0.9291\n",
      "Epoch 71/250\n",
      "23/23 [==============================] - 120s 5s/step - loss: 0.6373 - accuracy: 0.7782 - auc_1: 0.9698 - val_loss: 0.8185 - val_accuracy: 0.7292 - val_auc_1: 0.9514\n",
      "Epoch 72/250\n",
      "23/23 [==============================] - 115s 5s/step - loss: 0.6520 - accuracy: 0.7700 - auc_1: 0.9677 - val_loss: 1.3569 - val_accuracy: 0.6458 - val_auc_1: 0.9278\n",
      "Epoch 73/250\n",
      "23/23 [==============================] - 115s 5s/step - loss: 0.5899 - accuracy: 0.7879 - auc_1: 0.9738 - val_loss: 1.1933 - val_accuracy: 0.6719 - val_auc_1: 0.9295\n",
      "Epoch 74/250\n",
      "23/23 [==============================] - 119s 5s/step - loss: 0.6082 - accuracy: 0.7872 - auc_1: 0.9725 - val_loss: 1.0123 - val_accuracy: 0.6771 - val_auc_1: 0.9365\n",
      "Epoch 75/250\n",
      "23/23 [==============================] - 119s 5s/step - loss: 0.5948 - accuracy: 0.7934 - auc_1: 0.9728 - val_loss: 1.4859 - val_accuracy: 0.6562 - val_auc_1: 0.9279\n",
      "Epoch 76/250\n",
      "23/23 [==============================] - 118s 5s/step - loss: 0.6358 - accuracy: 0.7672 - auc_1: 0.9699 - val_loss: 0.8827 - val_accuracy: 0.7031 - val_auc_1: 0.9425\n",
      "Epoch 77/250\n",
      "23/23 [==============================] - 116s 5s/step - loss: 0.6372 - accuracy: 0.7665 - auc_1: 0.9698 - val_loss: 1.0333 - val_accuracy: 0.6562 - val_auc_1: 0.9205\n",
      "Epoch 78/250\n",
      "23/23 [==============================] - 118s 5s/step - loss: 0.5745 - accuracy: 0.7906 - auc_1: 0.9750 - val_loss: 1.2155 - val_accuracy: 0.7292 - val_auc_1: 0.9378\n",
      "Epoch 79/250\n",
      "23/23 [==============================] - 120s 5s/step - loss: 0.5564 - accuracy: 0.8030 - auc_1: 0.9770 - val_loss: 1.0916 - val_accuracy: 0.6406 - val_auc_1: 0.9211\n",
      "Epoch 80/250\n",
      "23/23 [==============================] - 123s 5s/step - loss: 0.5629 - accuracy: 0.7968 - auc_1: 0.9765 - val_loss: 0.9157 - val_accuracy: 0.7500 - val_auc_1: 0.9369\n",
      "Epoch 81/250\n",
      "23/23 [==============================] - 117s 5s/step - loss: 0.5354 - accuracy: 0.8127 - auc_1: 0.9778 - val_loss: 1.4900 - val_accuracy: 0.5833 - val_auc_1: 0.9025\n",
      "Epoch 82/250\n",
      "23/23 [==============================] - 117s 5s/step - loss: 0.5887 - accuracy: 0.7955 - auc_1: 0.9733 - val_loss: 0.9140 - val_accuracy: 0.6953 - val_auc_1: 0.9433\n",
      "Epoch 83/250\n",
      "23/23 [==============================] - 118s 5s/step - loss: 0.5316 - accuracy: 0.7982 - auc_1: 0.9785 - val_loss: 1.0435 - val_accuracy: 0.6875 - val_auc_1: 0.9319\n",
      "Epoch 84/250\n",
      "23/23 [==============================] - 117s 5s/step - loss: 0.5505 - accuracy: 0.7954 - auc_1: 0.9772 - val_loss: 1.0943 - val_accuracy: 0.6667 - val_auc_1: 0.9231\n",
      "Epoch 85/250\n",
      "23/23 [==============================] - 129s 6s/step - loss: 0.5211 - accuracy: 0.8118 - auc_1: 0.9791 - val_loss: 0.8546 - val_accuracy: 0.6953 - val_auc_1: 0.9351\n",
      "Epoch 86/250\n",
      "23/23 [==============================] - 121s 5s/step - loss: 0.5771 - accuracy: 0.7824 - auc_1: 0.9750 - val_loss: 0.9706 - val_accuracy: 0.7292 - val_auc_1: 0.9289\n",
      "Epoch 87/250\n",
      "23/23 [==============================] - 118s 5s/step - loss: 0.4924 - accuracy: 0.8189 - auc_1: 0.9816 - val_loss: 1.3170 - val_accuracy: 0.6250 - val_auc_1: 0.9027\n",
      "Epoch 88/250\n",
      "23/23 [==============================] - 118s 5s/step - loss: 0.5627 - accuracy: 0.8058 - auc_1: 0.9761 - val_loss: 1.2679 - val_accuracy: 0.6719 - val_auc_1: 0.9226\n",
      "Epoch 89/250\n",
      "23/23 [==============================] - 117s 5s/step - loss: 0.5789 - accuracy: 0.7961 - auc_1: 0.9746 - val_loss: 0.9140 - val_accuracy: 0.7083 - val_auc_1: 0.9373\n",
      "Epoch 90/250\n",
      "23/23 [==============================] - 117s 5s/step - loss: 0.5058 - accuracy: 0.8216 - auc_1: 0.9809 - val_loss: 1.0198 - val_accuracy: 0.6979 - val_auc_1: 0.9002\n",
      "Epoch 91/250\n",
      "23/23 [==============================] - 118s 5s/step - loss: 0.5079 - accuracy: 0.8237 - auc_1: 0.9810 - val_loss: 1.1016 - val_accuracy: 0.6953 - val_auc_1: 0.9298\n",
      "Epoch 92/250\n",
      "23/23 [==============================] - 116s 5s/step - loss: 0.5055 - accuracy: 0.8209 - auc_1: 0.9805 - val_loss: 0.9230 - val_accuracy: 0.7083 - val_auc_1: 0.9284\n",
      "Epoch 93/250\n",
      "23/23 [==============================] - 114s 5s/step - loss: 0.5086 - accuracy: 0.8182 - auc_1: 0.9806 - val_loss: 0.8762 - val_accuracy: 0.6875 - val_auc_1: 0.9162\n",
      "Epoch 94/250\n",
      "23/23 [==============================] - 117s 5s/step - loss: 0.5112 - accuracy: 0.8113 - auc_1: 0.9802 - val_loss: 0.7649 - val_accuracy: 0.7109 - val_auc_1: 0.9504\n",
      "Epoch 95/250\n",
      "23/23 [==============================] - 124s 5s/step - loss: 0.4907 - accuracy: 0.8292 - auc_1: 0.9813 - val_loss: 1.0887 - val_accuracy: 0.6771 - val_auc_1: 0.9223\n",
      "Epoch 96/250\n",
      "23/23 [==============================] - 118s 5s/step - loss: 0.4398 - accuracy: 0.8464 - auc_1: 0.9849 - val_loss: 1.3872 - val_accuracy: 0.6875 - val_auc_1: 0.9388\n",
      "Epoch 97/250\n",
      "23/23 [==============================] - 116s 5s/step - loss: 0.4571 - accuracy: 0.8306 - auc_1: 0.9834 - val_loss: 0.9251 - val_accuracy: 0.7422 - val_auc_1: 0.9515\n",
      "Epoch 98/250\n",
      "23/23 [==============================] - 112s 5s/step - loss: 0.5099 - accuracy: 0.8051 - auc_1: 0.9808 - val_loss: 0.8673 - val_accuracy: 0.7188 - val_auc_1: 0.9329\n"
     ]
    }
   ],
   "source": [
    "## save best model and use early stopping\n",
    "early_stop = tf.keras.callbacks.EarlyStopping(\n",
    "        monitor='val_loss',mode='min', patience=50) \n",
    "check_p = tf.keras.callbacks.ModelCheckpoint(\n",
    "        filepath=PATH_MODEL+'just_cake_model_checkpoint2.h5',\n",
    "        monitor='val_loss',\n",
    "        mode='min',\n",
    "        save_best_only=True)\n",
    "\n",
    "epoch_hist = just_cake_model.fit(\n",
    "        train_generator,\n",
    "        steps_per_epoch=1516 // BATCH_SIZE,\n",
    "        validation_data=val_generator,\n",
    "        validation_steps=160 // BATCH_SIZE,\n",
    "        callbacks=[early_stop,check_p],\n",
    "        epochs=250)"
   ]
  },
  {
   "cell_type": "code",
   "execution_count": null,
   "metadata": {},
   "outputs": [],
   "source": []
  },
  {
   "cell_type": "code",
   "execution_count": null,
   "metadata": {},
   "outputs": [],
   "source": []
  },
  {
   "cell_type": "markdown",
   "metadata": {},
   "source": [
    "## Evaluations"
   ]
  },
  {
   "cell_type": "code",
   "execution_count": 14,
   "metadata": {},
   "outputs": [],
   "source": [
    "df_epoch_hist = pd.DataFrame(epoch_hist.history)"
   ]
  },
  {
   "cell_type": "code",
   "execution_count": 15,
   "metadata": {},
   "outputs": [
    {
     "data": {
      "text/plain": [
       "<matplotlib.axes._subplots.AxesSubplot at 0x14b221b90>"
      ]
     },
     "execution_count": 15,
     "metadata": {},
     "output_type": "execute_result"
    },
    {
     "data": {
      "image/png": "[encoded data removed]",
      "text/plain": [
       "<Figure size 432x288 with 1 Axes>"
      ]
     },
     "metadata": {
      "needs_background": "light"
     },
     "output_type": "display_data"
    }
   ],
   "source": [
    "df_epoch_hist[['loss','val_loss']].plot()"
   ]
  },
  {
   "cell_type": "code",
   "execution_count": 16,
   "metadata": {},
   "outputs": [],
   "source": [
    "df_epoch_hist.to_csv('../artifact/epoch_hist_2.csv')"
   ]
  },
  {
   "cell_type": "code",
   "execution_count": null,
   "metadata": {},
   "outputs": [],
   "source": []
  },
  {
   "cell_type": "code",
   "execution_count": 17,
   "metadata": {},
   "outputs": [],
   "source": [
    "# depd = {'auc_1' : metrics.AUC}\n",
    "model_load = load_model(PATH_MODEL + 'just_cake_model_checkpoint0.h5',compile=False)"
   ]
  },
  {
   "cell_type": "code",
   "execution_count": 18,
   "metadata": {},
   "outputs": [],
   "source": [
    "true_labels = val_generator.classes\n",
    "predictions = model_load.predict(val_generator)\n",
    "\n",
    "y_true = true_labels\n",
    "y_pred = np.array([np.argmax(x) for x in predictions])\n",
    "\n",
    "cm = sklearn.metrics.confusion_matrix(y_true, y_pred)"
   ]
  },
  {
   "cell_type": "code",
   "execution_count": 19,
   "metadata": {},
   "outputs": [
    {
     "data": {
      "text/plain": [
       "<matplotlib.axes._subplots.AxesSubplot at 0x157616bd0>"
      ]
     },
     "execution_count": 19,
     "metadata": {},
     "output_type": "execute_result"
    },
    {
     "data": {
      "image/png": "[encoded data removed]",
      "text/plain": [
       "<Figure size 864x576 with 2 Axes>"
      ]
     },
     "metadata": {
      "needs_background": "light"
     },
     "output_type": "display_data"
    }
   ],
   "source": [
    "plt.figure(figsize = (12,8))\n",
    "sns.heatmap(cm, annot= True)"
   ]
  },
  {
   "cell_type": "code",
   "execution_count": 20,
   "metadata": {},
   "outputs": [
    {
     "name": "stdout",
     "output_type": "stream",
     "text": [
      "              precision    recall  f1-score   support\n",
      "\n",
      "           0       0.21      0.20      0.21        20\n",
      "           1       0.11      0.09      0.10        22\n",
      "           2       0.04      0.05      0.04        20\n",
      "           3       0.14      0.15      0.15        20\n",
      "           4       0.06      0.05      0.05        20\n",
      "           5       0.07      0.06      0.06        18\n",
      "           6       0.17      0.25      0.20        20\n",
      "           7       0.00      0.00      0.00        20\n",
      "\n",
      "    accuracy                           0.11       160\n",
      "   macro avg       0.10      0.11      0.10       160\n",
      "weighted avg       0.10      0.11      0.10       160\n",
      "\n"
     ]
    }
   ],
   "source": [
    "print(classification_report(y_true, y_pred))"
   ]
  },
  {
   "cell_type": "code",
   "execution_count": null,
   "metadata": {},
   "outputs": [],
   "source": []
  }
 ],
 "metadata": {
  "kernelspec": {
   "display_name": "p37",
   "language": "python",
   "name": "p37"
  },
  "language_info": {
   "codemirror_mode": {
    "name": "ipython",
    "version": 3
   },
   "file_extension": ".py",
   "mimetype": "text/x-python",
   "name": "python",
   "nbconvert_exporter": "python",
   "pygments_lexer": "ipython3",
   "version": "3.7.9"
  }
 },
 "nbformat": 4,
 "nbformat_minor": 4
}
