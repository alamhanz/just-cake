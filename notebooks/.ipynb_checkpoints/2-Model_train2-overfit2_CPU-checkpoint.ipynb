{
 "cells": [
  {
   "cell_type": "markdown",
   "metadata": {},
   "source": [
    "## Kue Dataset - Model2\n",
    "\n",
    "overfit model2\n"
   ]
  },
  {
   "cell_type": "code",
   "execution_count": 1,
   "metadata": {},
   "outputs": [],
   "source": [
    "# conda install -c conda-forge keras"
   ]
  },
  {
   "cell_type": "code",
   "execution_count": 2,
   "metadata": {},
   "outputs": [],
   "source": [
    "import os\n",
    "import re\n",
    "import glob\n",
    "\n",
    "import scipy.io\n",
    "import cv2\n",
    "from PIL import Image\n",
    "import pandas as pd\n",
    "import numpy as np\n",
    "import matplotlib.pyplot as plt\n",
    "import tqdm\n",
    "import shutil\n",
    "\n",
    "from sklearn.model_selection import train_test_split\n",
    "from sklearn.metrics import classification_report\n",
    "from scipy.io import loadmat\n",
    "import random\n",
    "import sklearn\n",
    "import seaborn as sns"
   ]
  },
  {
   "cell_type": "code",
   "execution_count": 3,
   "metadata": {},
   "outputs": [],
   "source": [
    "# # PATH_DATA = '../data/'\n",
    "# PATH_DATA_IMAGES = '../../../../My_Dataset/images/dataset257/'\n",
    "# PATH_DATA_TRAIN = PATH_DATA_IMAGES+'train/'\n",
    "# PATH_DATA_VAL = PATH_DATA_IMAGES+'validation/'\n",
    "# PATH_DATA_TEST = PATH_DATA_IMAGES+'test/'\n",
    "# PATH_MODEL = '../../tmp/'\n",
    "\n",
    "\n",
    "PATH_DATA_IMAGES = '../../My-Dataset/Images-Dataset/dataset257/'\n",
    "# PATH_DATA_IMAGES = 'drive/MyDrive/Repository/Data/dataset257/'\n",
    "PATH_DATA_TRAIN = PATH_DATA_IMAGES+'train/'\n",
    "PATH_DATA_VAL = PATH_DATA_IMAGES+'validation/'\n",
    "PATH_DATA_TEST = PATH_DATA_IMAGES+'test/'\n",
    "PATH_MODEL = '../artifact/'"
   ]
  },
  {
   "cell_type": "code",
   "execution_count": 4,
   "metadata": {},
   "outputs": [
    {
     "data": {
      "text/plain": [
       "['.DS_Store',\n",
       " 'kue_kastengel',\n",
       " 'kue_dadar_gulung',\n",
       " 'kue_klepon',\n",
       " 'kue_risoles',\n",
       " 'kue_lumpur',\n",
       " 'kue_serabi',\n",
       " 'kue_lapis',\n",
       " 'kue_putri_salju']"
      ]
     },
     "execution_count": 4,
     "metadata": {},
     "output_type": "execute_result"
    }
   ],
   "source": [
    "os.listdir(PATH_DATA_TRAIN)"
   ]
  },
  {
   "cell_type": "code",
   "execution_count": null,
   "metadata": {},
   "outputs": [],
   "source": []
  },
  {
   "cell_type": "markdown",
   "metadata": {},
   "source": [
    "## Modeling"
   ]
  },
  {
   "cell_type": "code",
   "execution_count": 7,
   "metadata": {},
   "outputs": [],
   "source": [
    "os.environ[\"CUDA_VISIBLE_DEVICES\"] = \"-1\""
   ]
  },
  {
   "cell_type": "code",
   "execution_count": 6,
   "metadata": {},
   "outputs": [],
   "source": [
    "from keras.models import Sequential\n",
    "from keras.layers import Conv2D, MaxPooling2D, Activation, Dropout, Flatten, Dense\n",
    "from keras.preprocessing.image import ImageDataGenerator\n",
    "from keras import metrics, optimizers\n",
    "import keras\n",
    "import tensorflow as tf\n",
    "from keras.models import load_model\n"
   ]
  },
  {
   "cell_type": "code",
   "execution_count": 9,
   "metadata": {},
   "outputs": [
    {
     "name": "stdout",
     "output_type": "stream",
     "text": [
      "Num GPUs Available:  0\n"
     ]
    }
   ],
   "source": [
    "# sess = tf.compat.v1.Session(config=tf.compat.v1.ConfigProto(log_device_placement=True))\n",
    "# tf.debugging.set_log_device_placement(True)\n",
    "print(\"Num GPUs Available: \", len(tf.config.experimental.list_physical_devices('GPU')))"
   ]
  },
  {
   "cell_type": "code",
   "execution_count": 10,
   "metadata": {},
   "outputs": [],
   "source": [
    "gpus = tf.config.list_physical_devices('GPU')\n",
    "if gpus:\n",
    "    try:\n",
    "        # Currently, memory growth needs to be the same across GPUs\n",
    "        for gpu in gpus:\n",
    "            tf.config.experimental.set_memory_growth(gpu, True)\n",
    "        logical_gpus = tf.config.experimental.list_logical_devices('GPU')\n",
    "        print(len(gpus), \"Physical GPUs,\", len(logical_gpus), \"Logical GPUs\")\n",
    "    except RuntimeError as e:\n",
    "        # Memory growth must be set before GPUs have been initialized\n",
    "        print(e)"
   ]
  },
  {
   "cell_type": "code",
   "execution_count": 9,
   "metadata": {},
   "outputs": [
    {
     "data": {
      "text/plain": [
       "{'kue_dadar_gulung': 0,\n",
       " 'kue_kastengel': 1,\n",
       " 'kue_klepon': 2,\n",
       " 'kue_lapis': 3,\n",
       " 'kue_lumpur': 4,\n",
       " 'kue_putri_salju': 5,\n",
       " 'kue_risoles': 6,\n",
       " 'kue_serabi': 7}"
      ]
     },
     "execution_count": 9,
     "metadata": {},
     "output_type": "execute_result"
    }
   ],
   "source": [
    "## label dict\n",
    "lab = [i for i in os.listdir(PATH_DATA_TRAIN) if '.' not in i]\n",
    "lab.sort()\n",
    "\n",
    "label_dict = dict(zip(lab,[i for i in range(len(lab))]))\n",
    "label_dict"
   ]
  },
  {
   "cell_type": "code",
   "execution_count": 10,
   "metadata": {},
   "outputs": [],
   "source": [
    "LABEL_SIZE = len(label_dict.keys())\n",
    "IMAGE_SIZE = 128"
   ]
  },
  {
   "cell_type": "code",
   "execution_count": 13,
   "metadata": {},
   "outputs": [],
   "source": [
    "just_cake_model = Sequential()\n",
    "just_cake_model.add(Conv2D(128, (3, 3), activation ='relu', input_shape=(IMAGE_SIZE, IMAGE_SIZE, 3)))\n",
    "just_cake_model.add(Conv2D(64, (3, 3), activation ='relu'))\n",
    "just_cake_model.add(Conv2D(32, (3, 3), activation ='relu'))\n",
    "just_cake_model.add(Conv2D(16, (3, 3), activation ='relu'))\n",
    "just_cake_model.add(MaxPooling2D(pool_size=(2, 2)))\n",
    "just_cake_model.add(Conv2D(16, (3, 3), activation ='relu'))\n",
    "just_cake_model.add(MaxPooling2D(pool_size=(2, 2)))\n",
    "\n",
    "just_cake_model.add(Flatten())  # this converts our 3D feature maps to 1D feature vectors\n",
    "just_cake_model.add(Dense(512, activation ='relu'))\n",
    "just_cake_model.add(Dense(256, activation ='relu'))\n",
    "just_cake_model.add(Dense(128, activation ='relu'))\n",
    "just_cake_model.add(Dense(32, activation ='relu'))\n",
    "just_cake_model.add(Dense(LABEL_SIZE,activation ='softmax'))"
   ]
  },
  {
   "cell_type": "code",
   "execution_count": 14,
   "metadata": {},
   "outputs": [
    {
     "name": "stdout",
     "output_type": "stream",
     "text": [
      "Model: \"sequential_1\"\n",
      "_________________________________________________________________\n",
      "Layer (type)                 Output Shape              Param #   \n",
      "=================================================================\n",
      "conv2d_1 (Conv2D)            (None, 126, 126, 128)     3584      \n",
      "_________________________________________________________________\n",
      "conv2d_2 (Conv2D)            (None, 124, 124, 64)      73792     \n",
      "_________________________________________________________________\n",
      "conv2d_3 (Conv2D)            (None, 122, 122, 32)      18464     \n",
      "_________________________________________________________________\n",
      "conv2d_4 (Conv2D)            (None, 120, 120, 16)      4624      \n",
      "_________________________________________________________________\n",
      "max_pooling2d_1 (MaxPooling2 (None, 60, 60, 16)        0         \n",
      "_________________________________________________________________\n",
      "conv2d_5 (Conv2D)            (None, 58, 58, 16)        2320      \n",
      "_________________________________________________________________\n",
      "max_pooling2d_2 (MaxPooling2 (None, 29, 29, 16)        0         \n",
      "_________________________________________________________________\n",
      "flatten_1 (Flatten)          (None, 13456)             0         \n",
      "_________________________________________________________________\n",
      "dense_1 (Dense)              (None, 512)               6889984   \n",
      "_________________________________________________________________\n",
      "dense_2 (Dense)              (None, 256)               131328    \n",
      "_________________________________________________________________\n",
      "dense_3 (Dense)              (None, 128)               32896     \n",
      "_________________________________________________________________\n",
      "dense_4 (Dense)              (None, 32)                4128      \n",
      "_________________________________________________________________\n",
      "dense_5 (Dense)              (None, 8)                 264       \n",
      "=================================================================\n",
      "Total params: 7,161,384\n",
      "Trainable params: 7,161,384\n",
      "Non-trainable params: 0\n",
      "_________________________________________________________________\n"
     ]
    }
   ],
   "source": [
    "just_cake_model.summary()"
   ]
  },
  {
   "cell_type": "code",
   "execution_count": null,
   "metadata": {},
   "outputs": [],
   "source": []
  },
  {
   "cell_type": "code",
   "execution_count": 15,
   "metadata": {},
   "outputs": [],
   "source": [
    "## compile model\n",
    "opt = optimizers.Adam(learning_rate=0.001)\n",
    "just_cake_model.compile(loss='categorical_crossentropy',\n",
    "              #optimizer='rmsprop',\n",
    "              optimizer = opt,\n",
    "              metrics=['accuracy',metrics.AUC()])"
   ]
  },
  {
   "cell_type": "code",
   "execution_count": null,
   "metadata": {},
   "outputs": [],
   "source": []
  },
  {
   "cell_type": "code",
   "execution_count": 11,
   "metadata": {},
   "outputs": [
    {
     "name": "stdout",
     "output_type": "stream",
     "text": [
      "Found 1516 images belonging to 8 classes.\n",
      "Found 160 images belonging to 8 classes.\n",
      "Found 160 images belonging to 8 classes.\n"
     ]
    }
   ],
   "source": [
    "## data generator\n",
    "BATCH_SIZE = 64\n",
    "train_datagen = ImageDataGenerator(\n",
    "        rescale=1./255,\n",
    "        zoom_range=0.2,\n",
    "        rotation_range=35,\n",
    "        width_shift_range=0.25,\n",
    "        height_shift_range=0.25,\n",
    "        shear_range=0.25,\n",
    "        horizontal_flip=True)\n",
    "\n",
    "val_datagen = ImageDataGenerator(rescale=1./255)\n",
    "test_datagen = ImageDataGenerator(rescale=1./255)\n",
    "\n",
    "\n",
    "train_generator = train_datagen.flow_from_directory(\n",
    "        PATH_DATA_TRAIN,  \n",
    "        target_size=(IMAGE_SIZE, IMAGE_SIZE), \n",
    "        batch_size=BATCH_SIZE,\n",
    "        class_mode=\"categorical\" )  \n",
    "\n",
    "val_generator = val_datagen.flow_from_directory(\n",
    "        PATH_DATA_VAL,  \n",
    "        target_size=(IMAGE_SIZE, IMAGE_SIZE), \n",
    "        batch_size=BATCH_SIZE,\n",
    "        class_mode=\"categorical\" )  \n",
    "\n",
    "test_generator = test_datagen.flow_from_directory(\n",
    "        PATH_DATA_TEST,\n",
    "        target_size=(IMAGE_SIZE, IMAGE_SIZE),\n",
    "        batch_size=BATCH_SIZE,\n",
    "        class_mode=\"categorical\" )"
   ]
  },
  {
   "cell_type": "code",
   "execution_count": null,
   "metadata": {},
   "outputs": [],
   "source": []
  },
  {
   "cell_type": "code",
   "execution_count": 17,
   "metadata": {},
   "outputs": [
    {
     "name": "stdout",
     "output_type": "stream",
     "text": [
      "Epoch 1/250\n",
      "23/23 [==============================] - 379s 16s/step - loss: 2.0687 - accuracy: 0.1639 - auc_1: 0.5442\n",
      "Epoch 2/250\n",
      "23/23 [==============================] - 362s 16s/step - loss: 1.8851 - accuracy: 0.2362 - auc_1: 0.6996\n",
      "Epoch 3/250\n",
      "23/23 [==============================] - 363s 16s/step - loss: 1.7429 - accuracy: 0.2837 - auc_1: 0.7561\n",
      "Epoch 4/250\n",
      "23/23 [==============================] - 378s 16s/step - loss: 1.6863 - accuracy: 0.3166 - auc_1: 0.7779\n",
      "Epoch 5/250\n",
      "23/23 [==============================] - 361s 16s/step - loss: 1.6268 - accuracy: 0.3519 - auc_1: 0.7948\n",
      "Epoch 6/250\n",
      "23/23 [==============================] - 354s 15s/step - loss: 1.5457 - accuracy: 0.3806 - auc_1: 0.8179\n",
      "Epoch 7/250\n",
      "23/23 [==============================] - 366s 16s/step - loss: 1.5440 - accuracy: 0.3865 - auc_1: 0.8178\n",
      "Epoch 8/250\n",
      "23/23 [==============================] - 365s 16s/step - loss: 1.5120 - accuracy: 0.4015 - auc_1: 0.8277\n",
      "Epoch 9/250\n",
      "23/23 [==============================] - 356s 15s/step - loss: 1.5320 - accuracy: 0.4085 - auc_1: 0.8249\n",
      "Epoch 10/250\n",
      "23/23 [==============================] - 362s 16s/step - loss: 1.5051 - accuracy: 0.3995 - auc_1: 0.8298\n",
      "Epoch 11/250\n",
      "23/23 [==============================] - 354s 15s/step - loss: 1.4439 - accuracy: 0.4448 - auc_1: 0.8478\n",
      "Epoch 12/250\n",
      "23/23 [==============================] - 366s 16s/step - loss: 1.4549 - accuracy: 0.4409 - auc_1: 0.8428\n",
      "Epoch 13/250\n",
      "23/23 [==============================] - 360s 16s/step - loss: 1.4133 - accuracy: 0.4504 - auc_1: 0.8521\n",
      "Epoch 14/250\n",
      "23/23 [==============================] - 370s 16s/step - loss: 1.4231 - accuracy: 0.4399 - auc_1: 0.8495\n",
      "Epoch 15/250\n",
      "23/23 [==============================] - 366s 16s/step - loss: 1.3653 - accuracy: 0.4688 - auc_1: 0.8630\n",
      "Epoch 16/250\n",
      "23/23 [==============================] - 366s 16s/step - loss: 1.3946 - accuracy: 0.4594 - auc_1: 0.8573\n",
      "Epoch 17/250\n",
      "23/23 [==============================] - 356s 15s/step - loss: 1.3802 - accuracy: 0.4811 - auc_1: 0.8594\n",
      "Epoch 18/250\n",
      "23/23 [==============================] - 370s 16s/step - loss: 1.3682 - accuracy: 0.4728 - auc_1: 0.8630\n",
      "Epoch 19/250\n",
      "23/23 [==============================] - 361s 16s/step - loss: 1.3946 - accuracy: 0.4814 - auc_1: 0.8569\n",
      "Epoch 20/250\n",
      "23/23 [==============================] - 350s 15s/step - loss: 1.3556 - accuracy: 0.4832 - auc_1: 0.8659\n",
      "Epoch 21/250\n",
      "23/23 [==============================] - 369s 16s/step - loss: 1.2699 - accuracy: 0.5163 - auc_1: 0.8826\n",
      "Epoch 22/250\n",
      "23/23 [==============================] - 361s 16s/step - loss: 1.2915 - accuracy: 0.5193 - auc_1: 0.8776\n",
      "Epoch 23/250\n",
      "23/23 [==============================] - 358s 16s/step - loss: 1.3818 - accuracy: 0.4614 - auc_1: 0.8579\n",
      "Epoch 24/250\n",
      "23/23 [==============================] - 362s 16s/step - loss: 1.2685 - accuracy: 0.5303 - auc_1: 0.8825\n",
      "Epoch 25/250\n",
      "23/23 [==============================] - 367s 16s/step - loss: 1.2733 - accuracy: 0.5131 - auc_1: 0.8825\n",
      "Epoch 26/250\n",
      "23/23 [==============================] - 364s 16s/step - loss: 1.2575 - accuracy: 0.5489 - auc_1: 0.8855\n",
      "Epoch 27/250\n",
      "23/23 [==============================] - 362s 16s/step - loss: 1.2945 - accuracy: 0.5262 - auc_1: 0.8783\n",
      "Epoch 28/250\n",
      "23/23 [==============================] - 360s 16s/step - loss: 1.2549 - accuracy: 0.5351 - auc_1: 0.8868\n",
      "Epoch 29/250\n",
      "23/23 [==============================] - 359s 16s/step - loss: 1.2754 - accuracy: 0.5310 - auc_1: 0.8807\n",
      "Epoch 30/250\n",
      "23/23 [==============================] - 361s 16s/step - loss: 1.2064 - accuracy: 0.5585 - auc_1: 0.8943\n",
      "Epoch 31/250\n",
      "23/23 [==============================] - 360s 16s/step - loss: 1.2157 - accuracy: 0.5393 - auc_1: 0.8926\n",
      "Epoch 32/250\n",
      "23/23 [==============================] - 366s 16s/step - loss: 1.1806 - accuracy: 0.5693 - auc_1: 0.8993\n",
      "Epoch 33/250\n",
      "23/23 [==============================] - 358s 16s/step - loss: 1.1974 - accuracy: 0.5796 - auc_1: 0.8973\n",
      "Epoch 34/250\n",
      "23/23 [==============================] - 373s 16s/step - loss: 1.1858 - accuracy: 0.5713 - auc_1: 0.8977\n",
      "Epoch 35/250\n",
      "23/23 [==============================] - 363s 16s/step - loss: 1.1173 - accuracy: 0.5852 - auc_1: 0.9105\n",
      "Epoch 36/250\n",
      "23/23 [==============================] - 362s 16s/step - loss: 1.1417 - accuracy: 0.5785 - auc_1: 0.9058\n",
      "Epoch 37/250\n",
      "23/23 [==============================] - 370s 16s/step - loss: 1.1424 - accuracy: 0.5822 - auc_1: 0.9059\n",
      "Epoch 38/250\n",
      "23/23 [==============================] - 361s 16s/step - loss: 1.1077 - accuracy: 0.6026 - auc_1: 0.9117\n",
      "Epoch 39/250\n",
      "23/23 [==============================] - 352s 15s/step - loss: 1.0775 - accuracy: 0.6013 - auc_1: 0.9165\n",
      "Epoch 40/250\n",
      "23/23 [==============================] - 366s 16s/step - loss: 1.1005 - accuracy: 0.5992 - auc_1: 0.9127\n",
      "Epoch 41/250\n",
      "23/23 [==============================] - 361s 16s/step - loss: 1.1120 - accuracy: 0.6033 - auc_1: 0.9110\n",
      "Epoch 42/250\n",
      "23/23 [==============================] - 362s 16s/step - loss: 1.1153 - accuracy: 0.6123 - auc_1: 0.9092\n",
      "Epoch 43/250\n",
      "23/23 [==============================] - 358s 16s/step - loss: 1.0895 - accuracy: 0.6117 - auc_1: 0.9145\n",
      "Epoch 44/250\n",
      "23/23 [==============================] - 371s 16s/step - loss: 1.0210 - accuracy: 0.6304 - auc_1: 0.9250\n",
      "Epoch 45/250\n",
      "23/23 [==============================] - 360s 16s/step - loss: 0.9956 - accuracy: 0.6446 - auc_1: 0.9280\n",
      "Epoch 46/250\n",
      "23/23 [==============================] - 359s 16s/step - loss: 0.9824 - accuracy: 0.6357 - auc_1: 0.9310\n",
      "Epoch 47/250\n",
      "23/23 [==============================] - 361s 16s/step - loss: 1.0472 - accuracy: 0.6226 - auc_1: 0.9221\n",
      "Epoch 48/250\n",
      "23/23 [==============================] - 360s 16s/step - loss: 1.0034 - accuracy: 0.6412 - auc_1: 0.9274\n",
      "Epoch 49/250\n",
      "23/23 [==============================] - 365s 16s/step - loss: 0.9810 - accuracy: 0.6454 - auc_1: 0.9308\n",
      "Epoch 50/250\n",
      "23/23 [==============================] - 360s 16s/step - loss: 1.0022 - accuracy: 0.6341 - auc_1: 0.9266\n",
      "Epoch 51/250\n",
      "23/23 [==============================] - 363s 16s/step - loss: 1.0398 - accuracy: 0.6371 - auc_1: 0.9226\n",
      "Epoch 52/250\n",
      "23/23 [==============================] - 363s 16s/step - loss: 0.9662 - accuracy: 0.6522 - auc_1: 0.9328\n",
      "Epoch 53/250\n",
      "23/23 [==============================] - 363s 16s/step - loss: 0.9672 - accuracy: 0.6433 - auc_1: 0.9322\n",
      "Epoch 54/250\n",
      "23/23 [==============================] - 376s 16s/step - loss: 0.9250 - accuracy: 0.6685 - auc_1: 0.9382\n",
      "Epoch 55/250\n",
      "23/23 [==============================] - 356s 15s/step - loss: 0.9299 - accuracy: 0.6655 - auc_1: 0.9386\n",
      "Epoch 56/250\n",
      "23/23 [==============================] - 362s 16s/step - loss: 0.9044 - accuracy: 0.6763 - auc_1: 0.9406\n",
      "Epoch 57/250\n",
      "23/23 [==============================] - 362s 16s/step - loss: 0.8960 - accuracy: 0.6777 - auc_1: 0.9411\n",
      "Epoch 58/250\n",
      "23/23 [==============================] - 362s 16s/step - loss: 0.9513 - accuracy: 0.6687 - auc_1: 0.9343\n",
      "Epoch 59/250\n",
      "23/23 [==============================] - 362s 16s/step - loss: 0.9068 - accuracy: 0.6651 - auc_1: 0.9401\n",
      "Epoch 60/250\n",
      "23/23 [==============================] - 368s 16s/step - loss: 0.9178 - accuracy: 0.6598 - auc_1: 0.9390\n",
      "Epoch 61/250\n",
      "23/23 [==============================] - 357s 16s/step - loss: 0.8546 - accuracy: 0.6823 - auc_1: 0.9463\n",
      "Epoch 62/250\n",
      "23/23 [==============================] - 367s 16s/step - loss: 0.8532 - accuracy: 0.6977 - auc_1: 0.9476\n",
      "Epoch 63/250\n",
      "23/23 [==============================] - 362s 16s/step - loss: 0.8884 - accuracy: 0.6701 - auc_1: 0.9433\n",
      "Epoch 64/250\n",
      "23/23 [==============================] - 367s 16s/step - loss: 0.8552 - accuracy: 0.6915 - auc_1: 0.9464\n",
      "Epoch 65/250\n",
      "23/23 [==============================] - 356s 15s/step - loss: 0.8234 - accuracy: 0.6948 - auc_1: 0.9513\n",
      "Epoch 66/250\n",
      "23/23 [==============================] - 363s 16s/step - loss: 0.8331 - accuracy: 0.6970 - auc_1: 0.9498\n",
      "Epoch 67/250\n",
      "23/23 [==============================] - 366s 16s/step - loss: 0.8196 - accuracy: 0.7038 - auc_1: 0.9513\n",
      "Epoch 68/250\n",
      "23/23 [==============================] - 360s 16s/step - loss: 0.8731 - accuracy: 0.6770 - auc_1: 0.9455\n",
      "Epoch 69/250\n",
      "23/23 [==============================] - 365s 16s/step - loss: 0.8203 - accuracy: 0.7066 - auc_1: 0.9522\n",
      "Epoch 70/250\n",
      "23/23 [==============================] - 360s 16s/step - loss: 0.7942 - accuracy: 0.7004 - auc_1: 0.9542\n",
      "Epoch 71/250\n",
      "23/23 [==============================] - 364s 16s/step - loss: 0.8610 - accuracy: 0.6846 - auc_1: 0.9462\n",
      "Epoch 72/250\n",
      "23/23 [==============================] - 363s 16s/step - loss: 0.8813 - accuracy: 0.6763 - auc_1: 0.9438\n",
      "Epoch 73/250\n",
      "23/23 [==============================] - 363s 16s/step - loss: 0.8282 - accuracy: 0.6977 - auc_1: 0.9503\n",
      "Epoch 74/250\n",
      "23/23 [==============================] - 368s 16s/step - loss: 0.7516 - accuracy: 0.7259 - auc_1: 0.9588\n",
      "Epoch 75/250\n",
      "23/23 [==============================] - 363s 16s/step - loss: 0.7633 - accuracy: 0.7342 - auc_1: 0.9573\n",
      "Epoch 76/250\n",
      "23/23 [==============================] - 367s 16s/step - loss: 0.8326 - accuracy: 0.7120 - auc_1: 0.9490\n",
      "Epoch 77/250\n",
      "23/23 [==============================] - 358s 16s/step - loss: 0.6924 - accuracy: 0.7486 - auc_1: 0.9647\n",
      "Epoch 78/250\n",
      "23/23 [==============================] - 364s 16s/step - loss: 0.7716 - accuracy: 0.7238 - auc_1: 0.9563\n",
      "Epoch 79/250\n",
      "23/23 [==============================] - 366s 16s/step - loss: 0.8384 - accuracy: 0.6841 - auc_1: 0.9490\n",
      "Epoch 80/250\n",
      "23/23 [==============================] - 361s 16s/step - loss: 0.7610 - accuracy: 0.7123 - auc_1: 0.9582\n",
      "Epoch 81/250\n",
      "23/23 [==============================] - 370s 16s/step - loss: 0.7243 - accuracy: 0.7296 - auc_1: 0.9622\n",
      "Epoch 82/250\n",
      "23/23 [==============================] - 364s 16s/step - loss: 0.7158 - accuracy: 0.7410 - auc_1: 0.9625\n",
      "Epoch 83/250\n",
      "23/23 [==============================] - 362s 16s/step - loss: 0.7163 - accuracy: 0.7402 - auc_1: 0.9620\n",
      "Epoch 84/250\n",
      "23/23 [==============================] - 370s 16s/step - loss: 0.7011 - accuracy: 0.7663 - auc_1: 0.9636\n",
      "Epoch 85/250\n",
      "23/23 [==============================] - 357s 16s/step - loss: 0.7449 - accuracy: 0.7332 - auc_1: 0.9598\n"
     ]
    }
   ],
   "source": [
    "## save best model and use early stopping\n",
    "early_stop = keras.callbacks.EarlyStopping(\n",
    "        monitor='loss',mode='min', patience=8) \n",
    "check_p = keras.callbacks.ModelCheckpoint(\n",
    "        filepath=PATH_MODEL+'just_cake_model_checkpoint2-overfit2.h5',\n",
    "        monitor='loss',\n",
    "        mode='min',\n",
    "        save_best_only=True)\n",
    "\n",
    "epoch_hist = just_cake_model.fit(\n",
    "        train_generator,\n",
    "        steps_per_epoch=1516 // BATCH_SIZE,\n",
    "#         validation_data=val_generator,\n",
    "#         validation_steps=160 // BATCH_SIZE,\n",
    "        callbacks=[early_stop,check_p],\n",
    "        epochs=250)"
   ]
  },
  {
   "cell_type": "code",
   "execution_count": null,
   "metadata": {},
   "outputs": [],
   "source": []
  },
  {
   "cell_type": "markdown",
   "metadata": {},
   "source": [
    "## Evaluations"
   ]
  },
  {
   "cell_type": "code",
   "execution_count": 18,
   "metadata": {},
   "outputs": [],
   "source": [
    "df_epoch_hist = pd.DataFrame(epoch_hist.history)"
   ]
  },
  {
   "cell_type": "code",
   "execution_count": 19,
   "metadata": {},
   "outputs": [
    {
     "data": {
      "text/plain": [
       "<AxesSubplot:>"
      ]
     },
     "execution_count": 19,
     "metadata": {},
     "output_type": "execute_result"
    },
    {
     "data": {
      "image/png": "[encoded data removed]",
      "text/plain": [
       "<Figure size 432x288 with 1 Axes>"
      ]
     },
     "metadata": {
      "needs_background": "light"
     },
     "output_type": "display_data"
    }
   ],
   "source": [
    "df_epoch_hist[['loss','accuracy']].plot()"
   ]
  },
  {
   "cell_type": "code",
   "execution_count": null,
   "metadata": {},
   "outputs": [],
   "source": []
  },
  {
   "cell_type": "code",
   "execution_count": 20,
   "metadata": {},
   "outputs": [],
   "source": [
    "df_epoch_hist.to_csv('../artifact/epoch_hist_2-overfit2.csv')"
   ]
  },
  {
   "cell_type": "code",
   "execution_count": null,
   "metadata": {},
   "outputs": [],
   "source": []
  },
  {
   "cell_type": "code",
   "execution_count": 30,
   "metadata": {},
   "outputs": [],
   "source": [
    "# depd = {'auc_1' : metrics.AUC}\n",
    "model_load = load_model(PATH_MODEL + 'just_cake_model_checkpoint2-overfit2.h5')"
   ]
  },
  {
   "cell_type": "code",
   "execution_count": 35,
   "metadata": {},
   "outputs": [],
   "source": [
    "# true_labels = val_generator.classes\n",
    "# predictions = model_load.predict(val_generator)\n",
    "\n",
    "# y_true = true_labels\n",
    "# y_pred = np.array([np.argmax(x) for x in predictions])\n",
    "\n",
    "# cm = sklearn.metrics.confusion_matrix(y_true, y_pred)"
   ]
  },
  {
   "cell_type": "code",
   "execution_count": 20,
   "metadata": {},
   "outputs": [
    {
     "data": {
      "text/plain": [
       "<AxesSubplot:>"
      ]
     },
     "execution_count": 20,
     "metadata": {},
     "output_type": "execute_result"
    },
    {
     "data": {
      "image/png": "[encoded data removed]",
      "text/plain": [
       "<Figure size 864x576 with 2 Axes>"
      ]
     },
     "metadata": {
      "needs_background": "light"
     },
     "output_type": "display_data"
    }
   ],
   "source": [
    "plt.figure(figsize = (12,8))\n",
    "sns.heatmap(cm, annot= True)"
   ]
  },
  {
   "cell_type": "code",
   "execution_count": 21,
   "metadata": {},
   "outputs": [
    {
     "name": "stdout",
     "output_type": "stream",
     "text": [
      "              precision    recall  f1-score   support\n",
      "\n",
      "           0       0.06      0.10      0.08        20\n",
      "           1       0.17      0.05      0.08        20\n",
      "           2       0.12      0.15      0.13        20\n",
      "           3       0.31      0.20      0.24        20\n",
      "           4       0.00      0.00      0.00        20\n",
      "           5       0.11      0.10      0.10        20\n",
      "           6       0.17      0.45      0.25        20\n",
      "           7       0.07      0.05      0.06        20\n",
      "\n",
      "    accuracy                           0.14       160\n",
      "   macro avg       0.13      0.14      0.12       160\n",
      "weighted avg       0.13      0.14      0.12       160\n",
      "\n"
     ]
    },
    {
     "name": "stderr",
     "output_type": "stream",
     "text": [
      "c:\\users\\aska\\anaconda3\\envs\\onoenv\\lib\\site-packages\\sklearn\\metrics\\_classification.py:1221: UndefinedMetricWarning: Precision and F-score are ill-defined and being set to 0.0 in labels with no predicted samples. Use `zero_division` parameter to control this behavior.\n",
      "  _warn_prf(average, modifier, msg_start, len(result))\n"
     ]
    }
   ],
   "source": [
    "print(classification_report(y_true, y_pred))"
   ]
  },
  {
   "cell_type": "code",
   "execution_count": null,
   "metadata": {},
   "outputs": [],
   "source": []
  }
 ],
 "metadata": {
  "kernelspec": {
   "display_name": "p37",
   "language": "python",
   "name": "p37"
  },
  "language_info": {
   "codemirror_mode": {
    "name": "ipython",
    "version": 3
   },
   "file_extension": ".py",
   "mimetype": "text/x-python",
   "name": "python",
   "nbconvert_exporter": "python",
   "pygments_lexer": "ipython3",
   "version": "3.7.9"
  }
 },
 "nbformat": 4,
 "nbformat_minor": 4
}
