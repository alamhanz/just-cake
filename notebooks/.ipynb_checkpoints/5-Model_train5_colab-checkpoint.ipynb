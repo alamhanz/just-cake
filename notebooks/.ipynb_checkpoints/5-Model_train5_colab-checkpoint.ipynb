{
  "nbformat": 4,
  "nbformat_minor": 0,
  "metadata": {
    "kernelspec": {
      "name": "python3",
      "display_name": "Python 3"
    },
    "colab": {
      "name": "2-Model_train2-overfit2_GPU.ipynb",
      "provenance": []
    },
    "language_info": {
      "name": "python"
    },
    "accelerator": "GPU"
  },
  "cells": [
    {
      "cell_type": "markdown",
      "metadata": {
        "id": "so7LGcBSa8EC"
      },
      "source": [
        "## Kue Dataset - Model5\n",
        "Model5 --> vgg16\n"
      ]
    },
    {
      "cell_type": "code",
      "metadata": {
        "id": "HkuDEfDba8EO"
      },
      "source": [
        "# conda install -c conda-forge keras"
      ],
      "execution_count": 95,
      "outputs": []
    },
    {
      "cell_type": "code",
      "metadata": {
        "id": "SvIbOTSWa8EP"
      },
      "source": [
        "import os\n",
        "import re\n",
        "import glob\n",
        "\n",
        "import scipy.io\n",
        "import cv2\n",
        "from PIL import Image\n",
        "import pandas as pd\n",
        "import numpy as np\n",
        "import matplotlib.pyplot as plt\n",
        "import tqdm\n",
        "import shutil\n",
        "\n",
        "from sklearn.model_selection import train_test_split\n",
        "from sklearn.metrics import classification_report\n",
        "from scipy.io import loadmat\n",
        "import random\n",
        "import sklearn\n",
        "import seaborn as sns\n",
        "import matplotlib.pyplot as plt\n"
      ],
      "execution_count": 96,
      "outputs": []
    },
    {
      "cell_type": "code",
      "metadata": {
        "id": "N9_-os7Sbh_c",
        "colab": {
          "base_uri": "https://localhost:8080/"
        },
        "outputId": "f96b73f0-f805-4217-f583-b747ed715af3"
      },
      "source": [
        "from google.colab import drive\n",
        "drive.mount('/content/drive')"
      ],
      "execution_count": 97,
      "outputs": [
        {
          "output_type": "stream",
          "text": [
            "Drive already mounted at /content/drive; to attempt to forcibly remount, call drive.mount(\"/content/drive\", force_remount=True).\n"
          ],
          "name": "stdout"
        }
      ]
    },
    {
      "cell_type": "code",
      "metadata": {
        "id": "rBaYG307a8EP"
      },
      "source": [
        "# PATH_DATA = '../data/'\n",
        "# PATH_DATA_IMAGES = '../../../../My_Dataset/images/dataset257/'\n",
        "PATH_DATA_IMAGES = 'drive/MyDrive/Repository/Data/dataset257/'\n",
        "PATH_DATA_TRAIN = PATH_DATA_IMAGES+'train/'\n",
        "PATH_DATA_VAL = PATH_DATA_IMAGES+'validation/'\n",
        "PATH_DATA_TEST = PATH_DATA_IMAGES+'test/'\n",
        "PATH_MODEL = 'drive/MyDrive/Repository/Model/'"
      ],
      "execution_count": 98,
      "outputs": []
    },
    {
      "cell_type": "code",
      "metadata": {
        "id": "2HonpXOsa8EQ",
        "colab": {
          "base_uri": "https://localhost:8080/"
        },
        "outputId": "a8feb893-fced-43b1-e2a9-b1b6bb40ae32"
      },
      "source": [
        "os.listdir(PATH_DATA_TRAIN)"
      ],
      "execution_count": 99,
      "outputs": [
        {
          "output_type": "execute_result",
          "data": {
            "text/plain": [
              "['.DS_Store',\n",
              " 'kue_kastengel',\n",
              " 'kue_dadar_gulung',\n",
              " 'kue_risoles',\n",
              " 'kue_klepon',\n",
              " 'kue_putri_salju',\n",
              " 'kue_lumpur',\n",
              " 'kue_lapis',\n",
              " 'kue_serabi']"
            ]
          },
          "metadata": {
            "tags": []
          },
          "execution_count": 99
        }
      ]
    },
    {
      "cell_type": "code",
      "metadata": {
        "id": "Aef6PSaxa8ES"
      },
      "source": [
        ""
      ],
      "execution_count": 99,
      "outputs": []
    },
    {
      "cell_type": "markdown",
      "metadata": {
        "id": "c6iLHlmXa8ES"
      },
      "source": [
        "## Modeling"
      ]
    },
    {
      "cell_type": "code",
      "metadata": {
        "id": "d8tV2RaNa8ES"
      },
      "source": [
        "from keras.models import Sequential, Model\n",
        "from keras.layers import Conv2D, MaxPooling2D, Activation, Dropout, Flatten, Dense\n",
        "from keras.preprocessing.image import ImageDataGenerator\n",
        "from keras import metrics, optimizers\n",
        "import keras\n",
        "import tensorflow as tf\n",
        "from keras.models import load_model\n",
        "from keras.applications import vgg16\n"
      ],
      "execution_count": 106,
      "outputs": []
    },
    {
      "cell_type": "code",
      "metadata": {
        "id": "mrEGDjjHa8ET",
        "colab": {
          "base_uri": "https://localhost:8080/"
        },
        "outputId": "613397d6-3c05-4168-9027-0b1e9e2ba1ba"
      },
      "source": [
        "# sess = tf.compat.v1.Session(config=tf.compat.v1.ConfigProto(log_device_placement=True))\n",
        "# tf.debugging.set_log_device_placement(True)\n",
        "print(\"Num GPUs Available: \", len(tf.config.experimental.list_physical_devices('GPU')))"
      ],
      "execution_count": 101,
      "outputs": [
        {
          "output_type": "stream",
          "text": [
            "Num GPUs Available:  1\n"
          ],
          "name": "stdout"
        }
      ]
    },
    {
      "cell_type": "code",
      "metadata": {
        "id": "uXuKIpmva8EU",
        "colab": {
          "base_uri": "https://localhost:8080/"
        },
        "outputId": "6c7af059-ea39-46c1-ace0-37cee3648e3c"
      },
      "source": [
        "## label dict\n",
        "lab = [i for i in os.listdir(PATH_DATA_TRAIN) if '.' not in i]\n",
        "lab.sort()\n",
        "\n",
        "label_dict = dict(zip(lab,[i for i in range(len(lab))]))\n",
        "label_dict"
      ],
      "execution_count": 102,
      "outputs": [
        {
          "output_type": "execute_result",
          "data": {
            "text/plain": [
              "{'kue_dadar_gulung': 0,\n",
              " 'kue_kastengel': 1,\n",
              " 'kue_klepon': 2,\n",
              " 'kue_lapis': 3,\n",
              " 'kue_lumpur': 4,\n",
              " 'kue_putri_salju': 5,\n",
              " 'kue_risoles': 6,\n",
              " 'kue_serabi': 7}"
            ]
          },
          "metadata": {
            "tags": []
          },
          "execution_count": 102
        }
      ]
    },
    {
      "cell_type": "code",
      "metadata": {
        "id": "VZqirKGha8EU"
      },
      "source": [
        "LABEL_SIZE = len(label_dict.keys())\n",
        "IMAGE_SIZE = 144"
      ],
      "execution_count": 103,
      "outputs": []
    },
    {
      "cell_type": "code",
      "metadata": {
        "id": "BeicgeK-IzHV"
      },
      "source": [
        "# ?Conv2D"
      ],
      "execution_count": 104,
      "outputs": []
    },
    {
      "cell_type": "code",
      "metadata": {
        "id": "YzCbCVH8a8EU"
      },
      "source": [
        "basic = vgg16.VGG16(weights='imagenet', include_top=False, \n",
        "                        input_shape=(144,144,3))\n",
        "\n",
        "flatten = Flatten()\n",
        "new_layer2 = Dense(LABEL_SIZE, activation='softmax', name='my_dense_cake')\n",
        "\n",
        "inp2 = basic.input\n",
        "out2 = flatten(basic.output)\n",
        "out2 = new_layer2(out2)\n",
        "\n",
        "just_cake_model = Model(inp2, out2)"
      ],
      "execution_count": 109,
      "outputs": []
    },
    {
      "cell_type": "code",
      "metadata": {
        "id": "BeLsYMtua8EV",
        "colab": {
          "base_uri": "https://localhost:8080/"
        },
        "outputId": "3f387a7d-2e95-4d83-e1f6-42def29ee990"
      },
      "source": [
        "just_cake_model.summary()"
      ],
      "execution_count": 110,
      "outputs": [
        {
          "output_type": "stream",
          "text": [
            "Model: \"model_1\"\n",
            "_________________________________________________________________\n",
            "Layer (type)                 Output Shape              Param #   \n",
            "=================================================================\n",
            "input_3 (InputLayer)         [(None, 144, 144, 3)]     0         \n",
            "_________________________________________________________________\n",
            "block1_conv1 (Conv2D)        (None, 144, 144, 64)      1792      \n",
            "_________________________________________________________________\n",
            "block1_conv2 (Conv2D)        (None, 144, 144, 64)      36928     \n",
            "_________________________________________________________________\n",
            "block1_pool (MaxPooling2D)   (None, 72, 72, 64)        0         \n",
            "_________________________________________________________________\n",
            "block2_conv1 (Conv2D)        (None, 72, 72, 128)       73856     \n",
            "_________________________________________________________________\n",
            "block2_conv2 (Conv2D)        (None, 72, 72, 128)       147584    \n",
            "_________________________________________________________________\n",
            "block2_pool (MaxPooling2D)   (None, 36, 36, 128)       0         \n",
            "_________________________________________________________________\n",
            "block3_conv1 (Conv2D)        (None, 36, 36, 256)       295168    \n",
            "_________________________________________________________________\n",
            "block3_conv2 (Conv2D)        (None, 36, 36, 256)       590080    \n",
            "_________________________________________________________________\n",
            "block3_conv3 (Conv2D)        (None, 36, 36, 256)       590080    \n",
            "_________________________________________________________________\n",
            "block3_pool (MaxPooling2D)   (None, 18, 18, 256)       0         \n",
            "_________________________________________________________________\n",
            "block4_conv1 (Conv2D)        (None, 18, 18, 512)       1180160   \n",
            "_________________________________________________________________\n",
            "block4_conv2 (Conv2D)        (None, 18, 18, 512)       2359808   \n",
            "_________________________________________________________________\n",
            "block4_conv3 (Conv2D)        (None, 18, 18, 512)       2359808   \n",
            "_________________________________________________________________\n",
            "block4_pool (MaxPooling2D)   (None, 9, 9, 512)         0         \n",
            "_________________________________________________________________\n",
            "block5_conv1 (Conv2D)        (None, 9, 9, 512)         2359808   \n",
            "_________________________________________________________________\n",
            "block5_conv2 (Conv2D)        (None, 9, 9, 512)         2359808   \n",
            "_________________________________________________________________\n",
            "block5_conv3 (Conv2D)        (None, 9, 9, 512)         2359808   \n",
            "_________________________________________________________________\n",
            "block5_pool (MaxPooling2D)   (None, 4, 4, 512)         0         \n",
            "_________________________________________________________________\n",
            "flatten_2 (Flatten)          (None, 8192)              0         \n",
            "_________________________________________________________________\n",
            "my_dense_cake (Dense)        (None, 8)                 65544     \n",
            "=================================================================\n",
            "Total params: 14,780,232\n",
            "Trainable params: 14,780,232\n",
            "Non-trainable params: 0\n",
            "_________________________________________________________________\n"
          ],
          "name": "stdout"
        }
      ]
    },
    {
      "cell_type": "code",
      "metadata": {
        "id": "bcqj7uusa8EV"
      },
      "source": [
        ""
      ],
      "execution_count": 110,
      "outputs": []
    },
    {
      "cell_type": "code",
      "metadata": {
        "id": "I3ghe_Wxa8EV"
      },
      "source": [
        "## compile model\n",
        "opt = optimizers.Adam(learning_rate=0.0001)\n",
        "just_cake_model.compile(\n",
        "              loss='categorical_crossentropy',\n",
        "              #optimizer='rmsprop',\n",
        "              optimizer = opt,\n",
        "              metrics=['accuracy',\n",
        "                      #  metrics.SparseCategoricalAccuracy(),\n",
        "                       metrics.AUC()])"
      ],
      "execution_count": 111,
      "outputs": []
    },
    {
      "cell_type": "code",
      "metadata": {
        "id": "mVaNvqLwa8EW"
      },
      "source": [
        ""
      ],
      "execution_count": 111,
      "outputs": []
    },
    {
      "cell_type": "code",
      "metadata": {
        "id": "vrqkfHQVa8EW",
        "colab": {
          "base_uri": "https://localhost:8080/"
        },
        "outputId": "ea48fbdf-fea9-4cb8-a44d-b789a91be009"
      },
      "source": [
        "## data generator\n",
        "BATCH_SIZE = 32\n",
        "train_datagen = ImageDataGenerator(\n",
        "        rescale=1./255,\n",
        "        zoom_range=0.3,\n",
        "        rotation_range=75,\n",
        "        width_shift_range=0.4,\n",
        "        height_shift_range=0.4,\n",
        "        shear_range=0.75,\n",
        "        # horizontal_flip=True\n",
        "        )\n",
        "\n",
        "val_datagen = ImageDataGenerator(rescale=1./255)\n",
        "test_datagen = ImageDataGenerator(rescale=1./255)\n",
        "\n",
        "## Shuffle = True\n",
        "train_generator = train_datagen.flow_from_directory(\n",
        "        PATH_DATA_TRAIN,  \n",
        "        target_size=(IMAGE_SIZE, IMAGE_SIZE), \n",
        "        batch_size=BATCH_SIZE,\n",
        "        seed=301,\n",
        "        class_mode=\"categorical\" )  \n",
        "\n",
        "val_generator = val_datagen.flow_from_directory(\n",
        "        PATH_DATA_VAL,  \n",
        "        target_size=(IMAGE_SIZE, IMAGE_SIZE), \n",
        "        batch_size=BATCH_SIZE,\n",
        "        seed=301,\n",
        "        class_mode=\"categorical\" )  \n",
        "\n",
        "test_generator = test_datagen.flow_from_directory(\n",
        "        PATH_DATA_TEST,\n",
        "        target_size=(IMAGE_SIZE, IMAGE_SIZE),\n",
        "        batch_size=BATCH_SIZE,\n",
        "        seed=301,\n",
        "        class_mode=\"categorical\" )"
      ],
      "execution_count": 112,
      "outputs": [
        {
          "output_type": "stream",
          "text": [
            "Found 1516 images belonging to 8 classes.\n",
            "Found 160 images belonging to 8 classes.\n",
            "Found 160 images belonging to 8 classes.\n"
          ],
          "name": "stdout"
        }
      ]
    },
    {
      "cell_type": "code",
      "metadata": {
        "id": "uLEvwq7ha8EW"
      },
      "source": [
        ""
      ],
      "execution_count": 112,
      "outputs": []
    },
    {
      "cell_type": "code",
      "metadata": {
        "id": "le97FcMUa8EX",
        "colab": {
          "base_uri": "https://localhost:8080/"
        },
        "outputId": "f99d570d-e3d7-4703-e3c8-28562101f56c"
      },
      "source": [
        "## save best model and use early stopping\n",
        "early_stop = keras.callbacks.EarlyStopping(\n",
        "        monitor='val_loss',mode='min', patience=8) \n",
        "check_p = keras.callbacks.ModelCheckpoint(\n",
        "        filepath=PATH_MODEL+'just_cake_model-colab5.h5',\n",
        "        monitor='val_loss',\n",
        "        mode='min',\n",
        "        save_best_only=True)\n",
        "\n",
        "epoch_hist = just_cake_model.fit(\n",
        "        train_generator,\n",
        "        steps_per_epoch=1516 // BATCH_SIZE,\n",
        "        validation_data=val_generator,\n",
        "        validation_steps=160 // BATCH_SIZE,\n",
        "        callbacks=[early_stop,check_p],\n",
        "        epochs=55)"
      ],
      "execution_count": 113,
      "outputs": [
        {
          "output_type": "stream",
          "text": [
            "Epoch 1/55\n",
            "47/47 [==============================] - 39s 695ms/step - loss: 1.9831 - accuracy: 0.2130 - auc_9: 0.6219 - val_loss: 1.4676 - val_accuracy: 0.4437 - val_auc_9: 0.8547\n",
            "Epoch 2/55\n",
            "47/47 [==============================] - 30s 647ms/step - loss: 1.2200 - accuracy: 0.5548 - auc_9: 0.8898 - val_loss: 0.7365 - val_accuracy: 0.7750 - val_auc_9: 0.9604\n",
            "Epoch 3/55\n",
            "47/47 [==============================] - 30s 633ms/step - loss: 0.9570 - accuracy: 0.6670 - auc_9: 0.9333 - val_loss: 0.5469 - val_accuracy: 0.8125 - val_auc_9: 0.9734\n",
            "Epoch 4/55\n",
            "47/47 [==============================] - 31s 645ms/step - loss: 0.7305 - accuracy: 0.7382 - auc_9: 0.9611 - val_loss: 0.5461 - val_accuracy: 0.8313 - val_auc_9: 0.9746\n",
            "Epoch 5/55\n",
            "47/47 [==============================] - 30s 634ms/step - loss: 0.7086 - accuracy: 0.7607 - auc_9: 0.9626 - val_loss: 0.5919 - val_accuracy: 0.8313 - val_auc_9: 0.9704\n",
            "Epoch 6/55\n",
            "47/47 [==============================] - 30s 641ms/step - loss: 0.6389 - accuracy: 0.7822 - auc_9: 0.9683 - val_loss: 0.6426 - val_accuracy: 0.8000 - val_auc_9: 0.9636\n",
            "Epoch 7/55\n",
            "47/47 [==============================] - 30s 634ms/step - loss: 0.6615 - accuracy: 0.7893 - auc_9: 0.9661 - val_loss: 0.3250 - val_accuracy: 0.8750 - val_auc_9: 0.9924\n",
            "Epoch 8/55\n",
            "47/47 [==============================] - 30s 635ms/step - loss: 0.4815 - accuracy: 0.8386 - auc_9: 0.9825 - val_loss: 0.4937 - val_accuracy: 0.8687 - val_auc_9: 0.9727\n",
            "Epoch 9/55\n",
            "47/47 [==============================] - 30s 630ms/step - loss: 0.5678 - accuracy: 0.8095 - auc_9: 0.9744 - val_loss: 0.5109 - val_accuracy: 0.8438 - val_auc_9: 0.9760\n",
            "Epoch 10/55\n",
            "47/47 [==============================] - 30s 632ms/step - loss: 0.4869 - accuracy: 0.8394 - auc_9: 0.9810 - val_loss: 0.3060 - val_accuracy: 0.9000 - val_auc_9: 0.9905\n",
            "Epoch 11/55\n",
            "47/47 [==============================] - 30s 633ms/step - loss: 0.4155 - accuracy: 0.8631 - auc_9: 0.9867 - val_loss: 0.5663 - val_accuracy: 0.8625 - val_auc_9: 0.9780\n",
            "Epoch 12/55\n",
            "47/47 [==============================] - 30s 634ms/step - loss: 0.3567 - accuracy: 0.8775 - auc_9: 0.9892 - val_loss: 0.3280 - val_accuracy: 0.9000 - val_auc_9: 0.9908\n",
            "Epoch 13/55\n",
            "47/47 [==============================] - 30s 625ms/step - loss: 0.3588 - accuracy: 0.8857 - auc_9: 0.9888 - val_loss: 0.2832 - val_accuracy: 0.9000 - val_auc_9: 0.9944\n",
            "Epoch 14/55\n",
            "47/47 [==============================] - 30s 643ms/step - loss: 0.3881 - accuracy: 0.8735 - auc_9: 0.9875 - val_loss: 0.4367 - val_accuracy: 0.8687 - val_auc_9: 0.9868\n",
            "Epoch 15/55\n",
            "47/47 [==============================] - 30s 636ms/step - loss: 0.3231 - accuracy: 0.8965 - auc_9: 0.9902 - val_loss: 0.4057 - val_accuracy: 0.8938 - val_auc_9: 0.9825\n",
            "Epoch 16/55\n",
            "47/47 [==============================] - 30s 632ms/step - loss: 0.3954 - accuracy: 0.8774 - auc_9: 0.9860 - val_loss: 0.5885 - val_accuracy: 0.7875 - val_auc_9: 0.9707\n",
            "Epoch 17/55\n",
            "47/47 [==============================] - 30s 634ms/step - loss: 0.3368 - accuracy: 0.8925 - auc_9: 0.9905 - val_loss: 0.5295 - val_accuracy: 0.8813 - val_auc_9: 0.9685\n",
            "Epoch 18/55\n",
            "47/47 [==============================] - 30s 632ms/step - loss: 0.3152 - accuracy: 0.8946 - auc_9: 0.9906 - val_loss: 0.6591 - val_accuracy: 0.8250 - val_auc_9: 0.9714\n",
            "Epoch 19/55\n",
            "47/47 [==============================] - 30s 627ms/step - loss: 0.4056 - accuracy: 0.8543 - auc_9: 0.9861 - val_loss: 0.3982 - val_accuracy: 0.8750 - val_auc_9: 0.9882\n",
            "Epoch 20/55\n",
            "47/47 [==============================] - 30s 633ms/step - loss: 0.2509 - accuracy: 0.9203 - auc_9: 0.9942 - val_loss: 0.3627 - val_accuracy: 0.9000 - val_auc_9: 0.9855\n",
            "Epoch 21/55\n",
            "47/47 [==============================] - 30s 621ms/step - loss: 0.2329 - accuracy: 0.9299 - auc_9: 0.9948 - val_loss: 0.3032 - val_accuracy: 0.9312 - val_auc_9: 0.9865\n"
          ],
          "name": "stdout"
        }
      ]
    },
    {
      "cell_type": "code",
      "metadata": {
        "id": "f7M0VUjRa8EX"
      },
      "source": [
        " "
      ],
      "execution_count": 113,
      "outputs": []
    },
    {
      "cell_type": "markdown",
      "metadata": {
        "id": "vYNh90-1a8EY"
      },
      "source": [
        "## Evaluations"
      ]
    },
    {
      "cell_type": "code",
      "metadata": {
        "id": "YZVpHz9sa8EY"
      },
      "source": [
        "df_epoch_hist = pd.DataFrame(epoch_hist.history)"
      ],
      "execution_count": 114,
      "outputs": []
    },
    {
      "cell_type": "code",
      "metadata": {
        "id": "Kt-rcVuna8EY",
        "colab": {
          "base_uri": "https://localhost:8080/",
          "height": 282
        },
        "outputId": "b9530996-39f8-4746-b2e9-e0fa4a784374"
      },
      "source": [
        "df_epoch_hist[['val_loss','loss']].plot()"
      ],
      "execution_count": 115,
      "outputs": [
        {
          "output_type": "execute_result",
          "data": {
            "text/plain": [
              "<matplotlib.axes._subplots.AxesSubplot at 0x7f78c3c16b10>"
            ]
          },
          "metadata": {
            "tags": []
          },
          "execution_count": 115
        },
        {
          "output_type": "display_data",
          "data": {
            "image/png": "[encoded data removed]",
            "text/plain": [
              "<Figure size 432x288 with 1 Axes>"
            ]
          },
          "metadata": {
            "tags": [],
            "needs_background": "light"
          }
        }
      ]
    },
    {
      "cell_type": "code",
      "metadata": {
        "id": "S55RWENTa8EZ"
      },
      "source": [
        ""
      ],
      "execution_count": 115,
      "outputs": []
    },
    {
      "cell_type": "code",
      "metadata": {
        "id": "8ZyYSsSaa8EZ"
      },
      "source": [
        "# depd = {'auc_1' : metrics.AUC}\n",
        "model_load5 = load_model(PATH_MODEL + 'just_cake_model-colab5.h5')"
      ],
      "execution_count": 116,
      "outputs": []
    },
    {
      "cell_type": "code",
      "metadata": {
        "colab": {
          "base_uri": "https://localhost:8080/"
        },
        "id": "k3flvFif2Oh5",
        "outputId": "ec30c3f6-ab42-423a-dc15-01fd966f6828"
      },
      "source": [
        "model_load5.evaluate(val_generator)"
      ],
      "execution_count": 118,
      "outputs": [
        {
          "output_type": "stream",
          "text": [
            "5/5 [==============================] - 2s 318ms/step - loss: 0.2832 - accuracy: 0.9000 - auc_9: 0.9944\n"
          ],
          "name": "stdout"
        },
        {
          "output_type": "execute_result",
          "data": {
            "text/plain": [
              "[0.2832368016242981, 0.8999999761581421, 0.9943639039993286]"
            ]
          },
          "metadata": {
            "tags": []
          },
          "execution_count": 118
        }
      ]
    },
    {
      "cell_type": "code",
      "metadata": {
        "id": "aPYSn6PH5e8z"
      },
      "source": [
        "def eval_model(gen_,model_load):\n",
        "  per = np.random.permutation(gen_.n)\n",
        "  gen_.index_array = per\n",
        "  y_true = gen_.classes[per]\n",
        "\n",
        "  predictions = model_load.predict(gen_)\n",
        "  y_pred = np.argmax(predictions, axis=1)\n",
        "\n",
        "  cm = sklearn.metrics.confusion_matrix(y_true, y_pred)\n",
        "  plt.figure(figsize = (12,8))\n",
        "  sns.heatmap(cm, annot= True)\n",
        "  print(classification_report(y_true, y_pred))"
      ],
      "execution_count": 119,
      "outputs": []
    },
    {
      "cell_type": "code",
      "metadata": {
        "id": "r9ORPhvoHJcS"
      },
      "source": [
        ""
      ],
      "execution_count": 119,
      "outputs": []
    },
    {
      "cell_type": "markdown",
      "metadata": {
        "id": "4XLIgNWzHJq8"
      },
      "source": [
        "#### 1. Train"
      ]
    },
    {
      "cell_type": "code",
      "metadata": {
        "colab": {
          "base_uri": "https://localhost:8080/",
          "height": 738
        },
        "id": "-q1p5srg5lUE",
        "outputId": "0a0c498d-1941-462b-fd5d-098c4a227f62"
      },
      "source": [
        "eval_model(train_generator, model_load5)"
      ],
      "execution_count": 120,
      "outputs": [
        {
          "output_type": "stream",
          "text": [
            "              precision    recall  f1-score   support\n",
            "\n",
            "           0       0.76      0.92      0.83       192\n",
            "           1       0.73      0.97      0.83       181\n",
            "           2       0.97      0.95      0.96       197\n",
            "           3       0.90      0.95      0.92       201\n",
            "           4       0.95      0.89      0.92       197\n",
            "           5       0.85      0.92      0.89       172\n",
            "           6       0.96      0.64      0.77       196\n",
            "           7       0.99      0.74      0.84       180\n",
            "\n",
            "    accuracy                           0.87      1516\n",
            "   macro avg       0.89      0.87      0.87      1516\n",
            "weighted avg       0.89      0.87      0.87      1516\n",
            "\n"
          ],
          "name": "stdout"
        },
        {
          "output_type": "display_data",
          "data": {
            "image/png": "[encoded data removed]",
            "text/plain": [
              "<Figure size 864x576 with 2 Axes>"
            ]
          },
          "metadata": {
            "tags": [],
            "needs_background": "light"
          }
        }
      ]
    },
    {
      "cell_type": "code",
      "metadata": {
        "id": "buhwuizga8Eb"
      },
      "source": [
        ""
      ],
      "execution_count": 120,
      "outputs": []
    },
    {
      "cell_type": "markdown",
      "metadata": {
        "id": "KzcEymkyHQIg"
      },
      "source": [
        "#### 2. Validations"
      ]
    },
    {
      "cell_type": "code",
      "metadata": {
        "id": "SI1iniF7HQIg",
        "colab": {
          "base_uri": "https://localhost:8080/",
          "height": 742
        },
        "outputId": "61c68a53-0109-4c20-dc13-0957c2433cf8"
      },
      "source": [
        "eval_model(val_generator, model_load5)"
      ],
      "execution_count": 121,
      "outputs": [
        {
          "output_type": "stream",
          "text": [
            "              precision    recall  f1-score   support\n",
            "\n",
            "           0       0.80      1.00      0.89        20\n",
            "           1       0.94      0.85      0.89        20\n",
            "           2       0.90      0.95      0.93        20\n",
            "           3       0.83      1.00      0.91        20\n",
            "           4       1.00      0.90      0.95        20\n",
            "           5       0.82      0.90      0.86        20\n",
            "           6       1.00      0.85      0.92        20\n",
            "           7       1.00      0.75      0.86        20\n",
            "\n",
            "    accuracy                           0.90       160\n",
            "   macro avg       0.91      0.90      0.90       160\n",
            "weighted avg       0.91      0.90      0.90       160\n",
            "\n"
          ],
          "name": "stdout"
        },
        {
          "output_type": "display_data",
          "data": {
            "image/png": "[encoded data removed]",
            "text/plain": [
              "<Figure size 864x576 with 2 Axes>"
            ]
          },
          "metadata": {
            "tags": [],
            "needs_background": "light"
          }
        }
      ]
    },
    {
      "cell_type": "code",
      "metadata": {
        "id": "xXX1k6FtHmpz"
      },
      "source": [
        ""
      ],
      "execution_count": 121,
      "outputs": []
    },
    {
      "cell_type": "markdown",
      "metadata": {
        "id": "C9hTA7_I5Akq"
      },
      "source": [
        "#### 3. Test"
      ]
    },
    {
      "cell_type": "code",
      "metadata": {
        "colab": {
          "base_uri": "https://localhost:8080/",
          "height": 738
        },
        "id": "osh2xJav5Akq",
        "outputId": "0a2f7051-223f-4434-a013-e8f77dcb2a4a"
      },
      "source": [
        "eval_model(test_generator, model_load5)"
      ],
      "execution_count": 122,
      "outputs": [
        {
          "output_type": "stream",
          "text": [
            "              precision    recall  f1-score   support\n",
            "\n",
            "           0       0.90      0.90      0.90        20\n",
            "           1       0.84      0.95      0.89        22\n",
            "           2       1.00      0.95      0.97        20\n",
            "           3       0.95      1.00      0.98        20\n",
            "           4       0.91      1.00      0.95        20\n",
            "           5       0.82      1.00      0.90        18\n",
            "           6       1.00      0.80      0.89        20\n",
            "           7       0.93      0.70      0.80        20\n",
            "\n",
            "    accuracy                           0.91       160\n",
            "   macro avg       0.92      0.91      0.91       160\n",
            "weighted avg       0.92      0.91      0.91       160\n",
            "\n"
          ],
          "name": "stdout"
        },
        {
          "output_type": "display_data",
          "data": {
            "image/png": "[encoded data removed]",
            "text/plain": [
              "<Figure size 864x576 with 2 Axes>"
            ]
          },
          "metadata": {
            "tags": [],
            "needs_background": "light"
          }
        }
      ]
    },
    {
      "cell_type": "code",
      "metadata": {
        "id": "JqCrvl236B3q"
      },
      "source": [
        ""
      ],
      "execution_count": null,
      "outputs": []
    }
  ]
}