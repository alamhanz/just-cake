{
 "cells": [
  {
   "cell_type": "markdown",
   "metadata": {},
   "source": [
    "## Kue Dataset - Model1\n"
   ]
  },
  {
   "cell_type": "code",
   "execution_count": 1,
   "metadata": {},
   "outputs": [],
   "source": [
    "# conda install -c conda-forge keras"
   ]
  },
  {
   "cell_type": "code",
   "execution_count": 2,
   "metadata": {},
   "outputs": [],
   "source": [
    "import os\n",
    "import re\n",
    "import glob\n",
    "\n",
    "import scipy.io\n",
    "import cv2\n",
    "from PIL import Image\n",
    "import pandas as pd\n",
    "import numpy as np\n",
    "import matplotlib.pyplot as plt\n",
    "import tqdm\n",
    "import shutil\n",
    "\n",
    "from sklearn.model_selection import train_test_split\n",
    "from sklearn.metrics import classification_report\n",
    "from scipy.io import loadmat\n",
    "import random\n",
    "import sklearn\n",
    "import seaborn as sns"
   ]
  },
  {
   "cell_type": "code",
   "execution_count": 3,
   "metadata": {},
   "outputs": [],
   "source": [
    "# PATH_DATA = '../data/'\n",
    "PATH_DATA_IMAGES = '../../../../My_Dataset/images/dataset257/'\n",
    "PATH_DATA_TRAIN = PATH_DATA_IMAGES+'train/'\n",
    "PATH_DATA_VAL = PATH_DATA_IMAGES+'validation/'\n",
    "PATH_DATA_TEST = PATH_DATA_IMAGES+'test/'\n",
    "PATH_MODEL = '../../tmp/'"
   ]
  },
  {
   "cell_type": "code",
   "execution_count": 4,
   "metadata": {},
   "outputs": [
    {
     "data": {
      "text/plain": [
       "['.DS_Store',\n",
       " 'kue_dadar_gulung',\n",
       " 'kue_kastengel',\n",
       " 'kue_klepon',\n",
       " 'kue_lapis',\n",
       " 'kue_lumpur',\n",
       " 'kue_putri_salju',\n",
       " 'kue_risoles',\n",
       " 'kue_serabi']"
      ]
     },
     "execution_count": 4,
     "metadata": {},
     "output_type": "execute_result"
    }
   ],
   "source": [
    "os.listdir(PATH_DATA_TRAIN)"
   ]
  },
  {
   "cell_type": "code",
   "execution_count": null,
   "metadata": {},
   "outputs": [],
   "source": []
  },
  {
   "cell_type": "markdown",
   "metadata": {},
   "source": [
    "## Modeling"
   ]
  },
  {
   "cell_type": "code",
   "execution_count": 5,
   "metadata": {},
   "outputs": [],
   "source": [
    "os.environ[\"CUDA_VISIBLE_DEVICES\"] = \"-1\""
   ]
  },
  {
   "cell_type": "code",
   "execution_count": 6,
   "metadata": {},
   "outputs": [
    {
     "name": "stderr",
     "output_type": "stream",
     "text": [
      "Using TensorFlow backend.\n"
     ]
    }
   ],
   "source": [
    "from keras.models import Sequential\n",
    "from keras.layers import Conv2D, MaxPooling2D, Activation, Dropout, Flatten, Dense\n",
    "from keras.preprocessing.image import ImageDataGenerator\n",
    "from keras import metrics, optimizers\n",
    "import keras\n",
    "import tensorflow as tf\n",
    "from keras.models import load_model\n"
   ]
  },
  {
   "cell_type": "code",
   "execution_count": 7,
   "metadata": {},
   "outputs": [
    {
     "name": "stdout",
     "output_type": "stream",
     "text": [
      "Num GPUs Available:  0\n"
     ]
    }
   ],
   "source": [
    "# sess = tf.compat.v1.Session(config=tf.compat.v1.ConfigProto(log_device_placement=True))\n",
    "# tf.debugging.set_log_device_placement(True)\n",
    "print(\"Num GPUs Available: \", len(tf.config.experimental.list_physical_devices('GPU')))"
   ]
  },
  {
   "cell_type": "code",
   "execution_count": null,
   "metadata": {},
   "outputs": [],
   "source": []
  },
  {
   "cell_type": "code",
   "execution_count": 8,
   "metadata": {},
   "outputs": [
    {
     "data": {
      "text/plain": [
       "{'kue_dadar_gulung': 0,\n",
       " 'kue_kastengel': 1,\n",
       " 'kue_klepon': 2,\n",
       " 'kue_lapis': 3,\n",
       " 'kue_lumpur': 4,\n",
       " 'kue_putri_salju': 5,\n",
       " 'kue_risoles': 6,\n",
       " 'kue_serabi': 7}"
      ]
     },
     "execution_count": 8,
     "metadata": {},
     "output_type": "execute_result"
    }
   ],
   "source": [
    "## label dict\n",
    "lab = [i for i in os.listdir(PATH_DATA_TRAIN) if '.' not in i]\n",
    "lab.sort()\n",
    "\n",
    "label_dict = dict(zip(lab,[i for i in range(len(lab))]))\n",
    "label_dict"
   ]
  },
  {
   "cell_type": "code",
   "execution_count": 9,
   "metadata": {},
   "outputs": [],
   "source": [
    "LABEL_SIZE = len(label_dict.keys())\n",
    "IMAGE_SIZE = 128"
   ]
  },
  {
   "cell_type": "code",
   "execution_count": 10,
   "metadata": {},
   "outputs": [],
   "source": [
    "just_cake_model = Sequential()\n",
    "just_cake_model.add(Conv2D(32, (3, 3), activation ='relu', input_shape=(IMAGE_SIZE, IMAGE_SIZE, 3)))\n",
    "just_cake_model.add(MaxPooling2D(pool_size=(2, 2)))\n",
    "\n",
    "just_cake_model.add(Conv2D(64, (3, 3), activation ='relu'))\n",
    "just_cake_model.add(MaxPooling2D(pool_size=(3, 3)))\n",
    "just_cake_model.add(MaxPooling2D(pool_size=(2, 2)))\n",
    "just_cake_model.add(MaxPooling2D(pool_size=(2, 2)))\n",
    "\n",
    "just_cake_model.add(Flatten())  # this converts our 3D feature maps to 1D feature vectors\n",
    "just_cake_model.add(Dense(512, activation ='relu'))\n",
    "just_cake_model.add(Dense(256, activation ='relu'))\n",
    "just_cake_model.add(Dense(LABEL_SIZE,activation ='softmax'))"
   ]
  },
  {
   "cell_type": "code",
   "execution_count": 11,
   "metadata": {},
   "outputs": [
    {
     "name": "stdout",
     "output_type": "stream",
     "text": [
      "Model: \"sequential_1\"\n",
      "_________________________________________________________________\n",
      "Layer (type)                 Output Shape              Param #   \n",
      "=================================================================\n",
      "conv2d_1 (Conv2D)            (None, 126, 126, 32)      896       \n",
      "_________________________________________________________________\n",
      "max_pooling2d_1 (MaxPooling2 (None, 63, 63, 32)        0         \n",
      "_________________________________________________________________\n",
      "conv2d_2 (Conv2D)            (None, 61, 61, 64)        18496     \n",
      "_________________________________________________________________\n",
      "max_pooling2d_2 (MaxPooling2 (None, 20, 20, 64)        0         \n",
      "_________________________________________________________________\n",
      "max_pooling2d_3 (MaxPooling2 (None, 10, 10, 64)        0         \n",
      "_________________________________________________________________\n",
      "max_pooling2d_4 (MaxPooling2 (None, 5, 5, 64)          0         \n",
      "_________________________________________________________________\n",
      "flatten_1 (Flatten)          (None, 1600)              0         \n",
      "_________________________________________________________________\n",
      "dense_1 (Dense)              (None, 512)               819712    \n",
      "_________________________________________________________________\n",
      "dense_2 (Dense)              (None, 256)               131328    \n",
      "_________________________________________________________________\n",
      "dense_3 (Dense)              (None, 8)                 2056      \n",
      "=================================================================\n",
      "Total params: 972,488\n",
      "Trainable params: 972,488\n",
      "Non-trainable params: 0\n",
      "_________________________________________________________________\n"
     ]
    }
   ],
   "source": [
    "just_cake_model.summary()"
   ]
  },
  {
   "cell_type": "code",
   "execution_count": 12,
   "metadata": {},
   "outputs": [],
   "source": [
    "## compile model\n",
    "opt = optimizers.Adam(learning_rate=0.001)\n",
    "just_cake_model.compile(loss='categorical_crossentropy',\n",
    "              #optimizer='rmsprop',\n",
    "              optimizer = opt,\n",
    "              metrics=['accuracy',metrics.AUC()])"
   ]
  },
  {
   "cell_type": "code",
   "execution_count": null,
   "metadata": {},
   "outputs": [],
   "source": []
  },
  {
   "cell_type": "code",
   "execution_count": 13,
   "metadata": {},
   "outputs": [
    {
     "name": "stdout",
     "output_type": "stream",
     "text": [
      "Found 1516 images belonging to 8 classes.\n",
      "Found 160 images belonging to 8 classes.\n",
      "Found 160 images belonging to 8 classes.\n"
     ]
    }
   ],
   "source": [
    "## data generator\n",
    "BATCH_SIZE = 128\n",
    "train_datagen = ImageDataGenerator(\n",
    "        rescale=1./255,\n",
    "        zoom_range=0.2,\n",
    "        rotation_range=35,\n",
    "        width_shift_range=0.25,\n",
    "        height_shift_range=0.25,\n",
    "        shear_range=0.25,\n",
    "        horizontal_flip=True)\n",
    "\n",
    "val_datagen = ImageDataGenerator(rescale=1./255)\n",
    "test_datagen = ImageDataGenerator(rescale=1./255)\n",
    "\n",
    "\n",
    "train_generator = train_datagen.flow_from_directory(\n",
    "        PATH_DATA_TRAIN,  \n",
    "        target_size=(IMAGE_SIZE, IMAGE_SIZE), \n",
    "        batch_size=BATCH_SIZE,\n",
    "        class_mode=\"categorical\" )  \n",
    "\n",
    "val_generator = val_datagen.flow_from_directory(\n",
    "        PATH_DATA_VAL,  \n",
    "        target_size=(IMAGE_SIZE, IMAGE_SIZE), \n",
    "        batch_size=BATCH_SIZE,\n",
    "        class_mode=\"categorical\" )  \n",
    "\n",
    "test_generator = test_datagen.flow_from_directory(\n",
    "        PATH_DATA_TEST,\n",
    "        target_size=(IMAGE_SIZE, IMAGE_SIZE),\n",
    "        batch_size=BATCH_SIZE,\n",
    "        class_mode=\"categorical\" )"
   ]
  },
  {
   "cell_type": "code",
   "execution_count": null,
   "metadata": {},
   "outputs": [],
   "source": []
  },
  {
   "cell_type": "code",
   "execution_count": 14,
   "metadata": {},
   "outputs": [
    {
     "name": "stdout",
     "output_type": "stream",
     "text": [
      "Epoch 1/250\n",
      "11/11 [==============================] - 67s 6s/step - loss: 2.0785 - accuracy: 0.1643 - auc_1: 0.5358 - val_loss: 2.0278 - val_accuracy: 0.2188 - val_auc_1: 0.6497\n",
      "Epoch 2/250\n",
      "11/11 [==============================] - 63s 6s/step - loss: 1.9165 - accuracy: 0.2622 - auc_1: 0.7050 - val_loss: 1.7506 - val_accuracy: 0.2500 - val_auc_1: 0.7609\n",
      "Epoch 3/250\n",
      "11/11 [==============================] - 66s 6s/step - loss: 1.6932 - accuracy: 0.3381 - auc_1: 0.7699 - val_loss: 1.5181 - val_accuracy: 0.4453 - val_auc_1: 0.8253\n",
      "Epoch 4/250\n",
      "11/11 [==============================] - 65s 6s/step - loss: 1.6132 - accuracy: 0.3684 - auc_1: 0.7991 - val_loss: 1.6425 - val_accuracy: 0.2812 - val_auc_1: 0.7842\n",
      "Epoch 5/250\n",
      "11/11 [==============================] - 66s 6s/step - loss: 1.5329 - accuracy: 0.4297 - auc_1: 0.8217 - val_loss: 1.4523 - val_accuracy: 0.4062 - val_auc_1: 0.8403\n",
      "Epoch 6/250\n",
      "11/11 [==============================] - 62s 6s/step - loss: 1.4776 - accuracy: 0.4388 - auc_1: 0.8359 - val_loss: 1.3913 - val_accuracy: 0.4688 - val_auc_1: 0.8490\n",
      "Epoch 7/250\n",
      "11/11 [==============================] - 69s 6s/step - loss: 1.4831 - accuracy: 0.4258 - auc_1: 0.8346 - val_loss: 1.3988 - val_accuracy: 0.4297 - val_auc_1: 0.8521\n",
      "Epoch 8/250\n",
      "11/11 [==============================] - 63s 6s/step - loss: 1.3925 - accuracy: 0.4861 - auc_1: 0.8585 - val_loss: 1.2237 - val_accuracy: 0.5000 - val_auc_1: 0.8938\n",
      "Epoch 9/250\n",
      "11/11 [==============================] - 65s 6s/step - loss: 1.3766 - accuracy: 0.4957 - auc_1: 0.8590 - val_loss: 1.3382 - val_accuracy: 0.4453 - val_auc_1: 0.8664\n",
      "Epoch 10/250\n",
      "11/11 [==============================] - 62s 6s/step - loss: 1.3902 - accuracy: 0.4820 - auc_1: 0.8565 - val_loss: 1.2766 - val_accuracy: 0.5625 - val_auc_1: 0.8793\n",
      "Epoch 11/250\n",
      "11/11 [==============================] - 63s 6s/step - loss: 1.3231 - accuracy: 0.5180 - auc_1: 0.8722 - val_loss: 1.1698 - val_accuracy: 0.5234 - val_auc_1: 0.8988\n",
      "Epoch 12/250\n",
      "11/11 [==============================] - 63s 6s/step - loss: 1.2748 - accuracy: 0.5310 - auc_1: 0.8811 - val_loss: 1.4187 - val_accuracy: 0.4375 - val_auc_1: 0.8486\n",
      "Epoch 13/250\n",
      "11/11 [==============================] - 65s 6s/step - loss: 1.2391 - accuracy: 0.5548 - auc_1: 0.8881 - val_loss: 1.2363 - val_accuracy: 0.5469 - val_auc_1: 0.8873\n",
      "Epoch 14/250\n",
      "11/11 [==============================] - 64s 6s/step - loss: 1.2790 - accuracy: 0.5375 - auc_1: 0.8805 - val_loss: 1.0601 - val_accuracy: 0.5938 - val_auc_1: 0.9187\n",
      "Epoch 15/250\n",
      "11/11 [==============================] - 68s 6s/step - loss: 1.2359 - accuracy: 0.5555 - auc_1: 0.8879 - val_loss: 1.2205 - val_accuracy: 0.5859 - val_auc_1: 0.8900\n",
      "Epoch 16/250\n",
      "11/11 [==============================] - 66s 6s/step - loss: 1.1779 - accuracy: 0.5684 - auc_1: 0.9004 - val_loss: 1.1212 - val_accuracy: 0.5000 - val_auc_1: 0.9075\n",
      "Epoch 17/250\n",
      "11/11 [==============================] - 66s 6s/step - loss: 1.2138 - accuracy: 0.5605 - auc_1: 0.8922 - val_loss: 1.1174 - val_accuracy: 0.5703 - val_auc_1: 0.9108\n",
      "Epoch 18/250\n",
      "11/11 [==============================] - 65s 6s/step - loss: 1.2158 - accuracy: 0.5793 - auc_1: 0.8923 - val_loss: 1.1775 - val_accuracy: 0.5625 - val_auc_1: 0.8988\n",
      "Epoch 19/250\n",
      "11/11 [==============================] - 68s 6s/step - loss: 1.1580 - accuracy: 0.5874 - auc_1: 0.9037 - val_loss: 1.1516 - val_accuracy: 0.5781 - val_auc_1: 0.9028\n",
      "Epoch 20/250\n",
      "11/11 [==============================] - 68s 6s/step - loss: 1.1179 - accuracy: 0.6066 - auc_1: 0.9095 - val_loss: 0.9752 - val_accuracy: 0.6250 - val_auc_1: 0.9308\n",
      "Epoch 21/250\n",
      "11/11 [==============================] - 66s 6s/step - loss: 1.1088 - accuracy: 0.6082 - auc_1: 0.9103 - val_loss: 0.9846 - val_accuracy: 0.6250 - val_auc_1: 0.9314\n",
      "Epoch 22/250\n",
      "11/11 [==============================] - 66s 6s/step - loss: 1.0523 - accuracy: 0.6264 - auc_1: 0.9196 - val_loss: 1.1859 - val_accuracy: 0.5938 - val_auc_1: 0.8986\n",
      "Epoch 23/250\n",
      "11/11 [==============================] - 67s 6s/step - loss: 1.0937 - accuracy: 0.6124 - auc_1: 0.9135 - val_loss: 1.0136 - val_accuracy: 0.6094 - val_auc_1: 0.9259\n",
      "Epoch 24/250\n",
      "11/11 [==============================] - 64s 6s/step - loss: 1.0737 - accuracy: 0.6203 - auc_1: 0.9165 - val_loss: 1.3518 - val_accuracy: 0.4062 - val_auc_1: 0.8844\n",
      "Epoch 25/250\n",
      "11/11 [==============================] - 65s 6s/step - loss: 1.0819 - accuracy: 0.6261 - auc_1: 0.9156 - val_loss: 1.0670 - val_accuracy: 0.6172 - val_auc_1: 0.9177\n",
      "Epoch 26/250\n",
      "11/11 [==============================] - 62s 6s/step - loss: 1.0534 - accuracy: 0.6174 - auc_1: 0.9194 - val_loss: 0.9361 - val_accuracy: 0.6250 - val_auc_1: 0.9411\n",
      "Epoch 27/250\n",
      "11/11 [==============================] - 64s 6s/step - loss: 1.0892 - accuracy: 0.6087 - auc_1: 0.9139 - val_loss: 1.1651 - val_accuracy: 0.5156 - val_auc_1: 0.9071\n",
      "Epoch 28/250\n",
      "11/11 [==============================] - 61s 6s/step - loss: 1.0546 - accuracy: 0.6398 - auc_1: 0.9192 - val_loss: 0.9458 - val_accuracy: 0.6250 - val_auc_1: 0.9364\n",
      "Epoch 29/250\n",
      "11/11 [==============================] - 64s 6s/step - loss: 0.9624 - accuracy: 0.6433 - auc_1: 0.9340 - val_loss: 0.8823 - val_accuracy: 0.6719 - val_auc_1: 0.9448\n",
      "Epoch 30/250\n",
      "11/11 [==============================] - 64s 6s/step - loss: 0.9623 - accuracy: 0.6542 - auc_1: 0.9332 - val_loss: 1.1692 - val_accuracy: 0.5000 - val_auc_1: 0.9109\n",
      "Epoch 31/250\n",
      "11/11 [==============================] - 63s 6s/step - loss: 0.9556 - accuracy: 0.6598 - auc_1: 0.9342 - val_loss: 0.8843 - val_accuracy: 0.6641 - val_auc_1: 0.9448\n",
      "Epoch 32/250\n",
      "11/11 [==============================] - 63s 6s/step - loss: 0.9497 - accuracy: 0.6607 - auc_1: 0.9348 - val_loss: 0.9923 - val_accuracy: 0.6562 - val_auc_1: 0.9295\n",
      "Epoch 33/250\n",
      "11/11 [==============================] - 63s 6s/step - loss: 0.8943 - accuracy: 0.6880 - auc_1: 0.9429 - val_loss: 0.9177 - val_accuracy: 0.6719 - val_auc_1: 0.9396\n",
      "Epoch 34/250\n",
      "11/11 [==============================] - 65s 6s/step - loss: 0.9121 - accuracy: 0.6693 - auc_1: 0.9406 - val_loss: 1.0060 - val_accuracy: 0.5938 - val_auc_1: 0.9266\n",
      "Epoch 35/250\n",
      "11/11 [==============================] - 68s 6s/step - loss: 0.9322 - accuracy: 0.6703 - auc_1: 0.9368 - val_loss: 0.8838 - val_accuracy: 0.6875 - val_auc_1: 0.9432\n",
      "Epoch 36/250\n",
      "11/11 [==============================] - 67s 6s/step - loss: 0.8683 - accuracy: 0.6825 - auc_1: 0.9465 - val_loss: 0.9692 - val_accuracy: 0.6875 - val_auc_1: 0.9323\n",
      "Epoch 37/250\n",
      "11/11 [==============================] - 67s 6s/step - loss: 0.9022 - accuracy: 0.6686 - auc_1: 0.9411 - val_loss: 1.1357 - val_accuracy: 0.5391 - val_auc_1: 0.9108\n",
      "Epoch 38/250\n",
      "11/11 [==============================] - 67s 6s/step - loss: 0.8992 - accuracy: 0.6693 - auc_1: 0.9420 - val_loss: 0.8546 - val_accuracy: 0.5938 - val_auc_1: 0.9479\n",
      "Epoch 39/250\n",
      "11/11 [==============================] - 69s 6s/step - loss: 0.9013 - accuracy: 0.6719 - auc_1: 0.9416 - val_loss: 0.9353 - val_accuracy: 0.6562 - val_auc_1: 0.9360\n",
      "Epoch 40/250\n",
      "11/11 [==============================] - 64s 6s/step - loss: 0.8486 - accuracy: 0.7003 - auc_1: 0.9484 - val_loss: 0.9863 - val_accuracy: 0.5938 - val_auc_1: 0.9298\n",
      "Epoch 41/250\n",
      "11/11 [==============================] - 66s 6s/step - loss: 0.9219 - accuracy: 0.6664 - auc_1: 0.9381 - val_loss: 0.9465 - val_accuracy: 0.6562 - val_auc_1: 0.9338\n",
      "Epoch 42/250\n",
      "11/11 [==============================] - 67s 6s/step - loss: 0.8578 - accuracy: 0.6932 - auc_1: 0.9469 - val_loss: 0.8141 - val_accuracy: 0.6250 - val_auc_1: 0.9528\n",
      "Epoch 43/250\n",
      "11/11 [==============================] - 67s 6s/step - loss: 0.9000 - accuracy: 0.6732 - auc_1: 0.9412 - val_loss: 0.8164 - val_accuracy: 0.7031 - val_auc_1: 0.9527\n",
      "Epoch 44/250\n",
      "11/11 [==============================] - 66s 6s/step - loss: 0.8296 - accuracy: 0.6967 - auc_1: 0.9508 - val_loss: 0.8568 - val_accuracy: 0.6875 - val_auc_1: 0.9482\n",
      "Epoch 45/250\n",
      "11/11 [==============================] - 71s 6s/step - loss: 0.7768 - accuracy: 0.7216 - auc_1: 0.9566 - val_loss: 0.8961 - val_accuracy: 0.6797 - val_auc_1: 0.9434\n",
      "Epoch 46/250\n",
      "11/11 [==============================] - 64s 6s/step - loss: 0.8130 - accuracy: 0.7025 - auc_1: 0.9523 - val_loss: 0.8329 - val_accuracy: 0.6875 - val_auc_1: 0.9502\n",
      "Epoch 47/250\n",
      "11/11 [==============================] - 67s 6s/step - loss: 0.8213 - accuracy: 0.6960 - auc_1: 0.9513 - val_loss: 0.9081 - val_accuracy: 0.6406 - val_auc_1: 0.9404\n",
      "Epoch 48/250\n",
      "11/11 [==============================] - 66s 6s/step - loss: 0.8454 - accuracy: 0.6932 - auc_1: 0.9482 - val_loss: 0.8452 - val_accuracy: 0.6250 - val_auc_1: 0.9507\n",
      "Epoch 49/250\n",
      "11/11 [==============================] - 69s 6s/step - loss: 0.8236 - accuracy: 0.7082 - auc_1: 0.9506 - val_loss: 0.9837 - val_accuracy: 0.6719 - val_auc_1: 0.9327\n",
      "Epoch 50/250\n",
      "11/11 [==============================] - 65s 6s/step - loss: 0.7995 - accuracy: 0.7219 - auc_1: 0.9539 - val_loss: 0.8308 - val_accuracy: 0.6875 - val_auc_1: 0.9524\n",
      "Epoch 51/250\n",
      "11/11 [==============================] - 66s 6s/step - loss: 0.7842 - accuracy: 0.7284 - auc_1: 0.9559 - val_loss: 0.9083 - val_accuracy: 0.6562 - val_auc_1: 0.9443\n",
      "Epoch 52/250\n",
      "11/11 [==============================] - 68s 6s/step - loss: 0.7887 - accuracy: 0.7320 - auc_1: 0.9539 - val_loss: 0.9800 - val_accuracy: 0.6562 - val_auc_1: 0.9402\n"
     ]
    }
   ],
   "source": [
    "## save best model and use early stopping\n",
    "early_stop = keras.callbacks.EarlyStopping(\n",
    "        monitor='val_loss',mode='min', patience=10) \n",
    "check_p = keras.callbacks.ModelCheckpoint(\n",
    "        filepath=PATH_MODEL+'just_cake_model_checkpoint0.h5',\n",
    "        monitor='val_loss',\n",
    "        mode='min',\n",
    "        save_best_only=True)\n",
    "\n",
    "epoch_hist = just_cake_model.fit(\n",
    "        train_generator,\n",
    "        steps_per_epoch=1516 // BATCH_SIZE,\n",
    "        validation_data=val_generator,\n",
    "        validation_steps=160 // BATCH_SIZE,\n",
    "        callbacks=[early_stop,check_p],\n",
    "        epochs=250)"
   ]
  },
  {
   "cell_type": "code",
   "execution_count": null,
   "metadata": {},
   "outputs": [],
   "source": []
  },
  {
   "cell_type": "code",
   "execution_count": null,
   "metadata": {},
   "outputs": [],
   "source": []
  },
  {
   "cell_type": "markdown",
   "metadata": {},
   "source": [
    "## Evaluations"
   ]
  },
  {
   "cell_type": "code",
   "execution_count": 16,
   "metadata": {},
   "outputs": [],
   "source": [
    "df_epoch_hist = pd.DataFrame(epoch_hist.history)"
   ]
  },
  {
   "cell_type": "code",
   "execution_count": 17,
   "metadata": {},
   "outputs": [
    {
     "data": {
      "text/plain": [
       "<AxesSubplot:>"
      ]
     },
     "execution_count": 17,
     "metadata": {},
     "output_type": "execute_result"
    },
    {
     "data": {
      "image/png": "[encoded data removed]",
      "text/plain": [
       "<Figure size 432x288 with 1 Axes>"
      ]
     },
     "metadata": {
      "needs_background": "light"
     },
     "output_type": "display_data"
    }
   ],
   "source": [
    "df_epoch_hist[['loss','val_loss']].plot()"
   ]
  },
  {
   "cell_type": "code",
   "execution_count": 18,
   "metadata": {},
   "outputs": [],
   "source": [
    "df_epoch_hist.to_csv('../artifact/epoch_hist_1.csv')"
   ]
  },
  {
   "cell_type": "code",
   "execution_count": null,
   "metadata": {},
   "outputs": [],
   "source": []
  },
  {
   "cell_type": "code",
   "execution_count": 19,
   "metadata": {},
   "outputs": [],
   "source": [
    "# depd = {'auc_1' : metrics.AUC}\n",
    "model_load = load_model(PATH_MODEL + 'just_cake_model_checkpoint0.h5',compile=False)"
   ]
  },
  {
   "cell_type": "code",
   "execution_count": 20,
   "metadata": {},
   "outputs": [],
   "source": [
    "true_labels = val_generator.classes\n",
    "predictions = model_load.predict(val_generator)\n",
    "\n",
    "y_true = true_labels\n",
    "y_pred = np.array([np.argmax(x) for x in predictions])\n",
    "\n",
    "cm = sklearn.metrics.confusion_matrix(y_true, y_pred)"
   ]
  },
  {
   "cell_type": "code",
   "execution_count": 21,
   "metadata": {},
   "outputs": [
    {
     "data": {
      "text/plain": [
       "<AxesSubplot:>"
      ]
     },
     "execution_count": 21,
     "metadata": {},
     "output_type": "execute_result"
    },
    {
     "data": {
      "image/png": "[encoded data removed]",
      "text/plain": [
       "<Figure size 864x576 with 2 Axes>"
      ]
     },
     "metadata": {
      "needs_background": "light"
     },
     "output_type": "display_data"
    }
   ],
   "source": [
    "plt.figure(figsize = (12,8))\n",
    "sns.heatmap(cm, annot= True)"
   ]
  },
  {
   "cell_type": "code",
   "execution_count": 22,
   "metadata": {},
   "outputs": [
    {
     "name": "stdout",
     "output_type": "stream",
     "text": [
      "              precision    recall  f1-score   support\n",
      "\n",
      "           0       0.16      0.15      0.15        20\n",
      "           1       0.00      0.00      0.00        20\n",
      "           2       0.13      0.20      0.16        20\n",
      "           3       0.12      0.05      0.07        20\n",
      "           4       0.09      0.10      0.09        20\n",
      "           5       0.00      0.00      0.00        20\n",
      "           6       0.08      0.10      0.09        20\n",
      "           7       0.05      0.05      0.05        20\n",
      "\n",
      "    accuracy                           0.08       160\n",
      "   macro avg       0.08      0.08      0.08       160\n",
      "weighted avg       0.08      0.08      0.08       160\n",
      "\n"
     ]
    }
   ],
   "source": [
    "print(classification_report(y_true, y_pred))"
   ]
  },
  {
   "cell_type": "code",
   "execution_count": null,
   "metadata": {},
   "outputs": [],
   "source": []
  }
 ],
 "metadata": {
  "kernelspec": {
   "display_name": "onoenv",
   "language": "python",
   "name": "onoenv"
  },
  "language_info": {
   "codemirror_mode": {
    "name": "ipython",
    "version": 3
   },
   "file_extension": ".py",
   "mimetype": "text/x-python",
   "name": "python",
   "nbconvert_exporter": "python",
   "pygments_lexer": "ipython3",
   "version": "3.7.7"
  }
 },
 "nbformat": 4,
 "nbformat_minor": 4
}
