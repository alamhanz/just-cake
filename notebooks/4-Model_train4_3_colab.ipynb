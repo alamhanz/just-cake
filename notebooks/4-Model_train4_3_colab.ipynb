{
 "cells": [
  {
   "cell_type": "markdown",
   "metadata": {
    "id": "so7LGcBSa8EC"
   },
   "source": [
    "## Kue Dataset - Model4_3\n",
    "Model4_3\n"
   ]
  },
  {
   "cell_type": "code",
   "execution_count": 198,
   "metadata": {
    "id": "HkuDEfDba8EO"
   },
   "outputs": [],
   "source": [
    "# conda install -c conda-forge keras"
   ]
  },
  {
   "cell_type": "code",
   "execution_count": 199,
   "metadata": {
    "id": "SvIbOTSWa8EP"
   },
   "outputs": [],
   "source": [
    "import os\n",
    "import re\n",
    "import glob\n",
    "\n",
    "import scipy.io\n",
    "import cv2\n",
    "from PIL import Image\n",
    "import pandas as pd\n",
    "import numpy as np\n",
    "import matplotlib.pyplot as plt\n",
    "import tqdm\n",
    "import shutil\n",
    "\n",
    "from sklearn.model_selection import train_test_split\n",
    "from sklearn.metrics import classification_report\n",
    "from scipy.io import loadmat\n",
    "import random\n",
    "import sklearn\n",
    "import seaborn as sns\n",
    "import matplotlib.pyplot as plt\n"
   ]
  },
  {
   "cell_type": "code",
   "execution_count": 200,
   "metadata": {
    "colab": {
     "base_uri": "https://localhost:8080/"
    },
    "id": "N9_-os7Sbh_c",
    "outputId": "f7c57599-4f85-4a42-96eb-3c74e6fef458"
   },
   "outputs": [
    {
     "name": "stdout",
     "output_type": "stream",
     "text": [
      "Drive already mounted at /content/drive; to attempt to forcibly remount, call drive.mount(\"/content/drive\", force_remount=True).\n"
     ]
    }
   ],
   "source": [
    "from google.colab import drive\n",
    "drive.mount('/content/drive')"
   ]
  },
  {
   "cell_type": "code",
   "execution_count": 201,
   "metadata": {
    "id": "rBaYG307a8EP"
   },
   "outputs": [],
   "source": [
    "# PATH_DATA = '../data/'\n",
    "# PATH_DATA_IMAGES = '../../../../My_Dataset/images/dataset257/'\n",
    "PATH_DATA_IMAGES = 'drive/MyDrive/Repository/Data/dataset257/'\n",
    "PATH_DATA_TRAIN = PATH_DATA_IMAGES+'train/'\n",
    "PATH_DATA_VAL = PATH_DATA_IMAGES+'validation/'\n",
    "PATH_DATA_TEST = PATH_DATA_IMAGES+'test/'\n",
    "PATH_MODEL = 'drive/MyDrive/Repository/Model/'"
   ]
  },
  {
   "cell_type": "code",
   "execution_count": 202,
   "metadata": {
    "colab": {
     "base_uri": "https://localhost:8080/"
    },
    "id": "2HonpXOsa8EQ",
    "outputId": "014b1d28-9fda-469f-ad77-9af178bbbda3"
   },
   "outputs": [
    {
     "data": {
      "text/plain": [
       "['.DS_Store',\n",
       " 'kue_kastengel',\n",
       " 'kue_dadar_gulung',\n",
       " 'kue_risoles',\n",
       " 'kue_klepon',\n",
       " 'kue_putri_salju',\n",
       " 'kue_lumpur',\n",
       " 'kue_lapis',\n",
       " 'kue_serabi']"
      ]
     },
     "execution_count": 202,
     "metadata": {
      "tags": []
     },
     "output_type": "execute_result"
    }
   ],
   "source": [
    "os.listdir(PATH_DATA_TRAIN)"
   ]
  },
  {
   "cell_type": "code",
   "execution_count": 202,
   "metadata": {
    "id": "Aef6PSaxa8ES"
   },
   "outputs": [],
   "source": []
  },
  {
   "cell_type": "markdown",
   "metadata": {
    "id": "c6iLHlmXa8ES"
   },
   "source": [
    "## Modeling"
   ]
  },
  {
   "cell_type": "code",
   "execution_count": 203,
   "metadata": {
    "id": "d8tV2RaNa8ES"
   },
   "outputs": [],
   "source": [
    "from keras.models import Sequential\n",
    "from keras.layers import Conv2D, MaxPooling2D, Activation, Dropout, Flatten, Dense\n",
    "from keras.preprocessing.image import ImageDataGenerator\n",
    "from keras import metrics, optimizers\n",
    "import keras\n",
    "import tensorflow as tf\n",
    "from keras.models import load_model\n"
   ]
  },
  {
   "cell_type": "code",
   "execution_count": 204,
   "metadata": {
    "colab": {
     "base_uri": "https://localhost:8080/"
    },
    "id": "mrEGDjjHa8ET",
    "outputId": "97a129b2-3c14-4ab4-860f-47d4b3f4ac17"
   },
   "outputs": [
    {
     "name": "stdout",
     "output_type": "stream",
     "text": [
      "Num GPUs Available:  1\n"
     ]
    }
   ],
   "source": [
    "# sess = tf.compat.v1.Session(config=tf.compat.v1.ConfigProto(log_device_placement=True))\n",
    "# tf.debugging.set_log_device_placement(True)\n",
    "print(\"Num GPUs Available: \", len(tf.config.experimental.list_physical_devices('GPU')))"
   ]
  },
  {
   "cell_type": "code",
   "execution_count": 205,
   "metadata": {
    "colab": {
     "base_uri": "https://localhost:8080/"
    },
    "id": "uXuKIpmva8EU",
    "outputId": "e51f2f3d-ef04-4c22-92c9-b9de25c5fd2f"
   },
   "outputs": [
    {
     "data": {
      "text/plain": [
       "{'kue_dadar_gulung': 0,\n",
       " 'kue_kastengel': 1,\n",
       " 'kue_klepon': 2,\n",
       " 'kue_lapis': 3,\n",
       " 'kue_lumpur': 4,\n",
       " 'kue_putri_salju': 5,\n",
       " 'kue_risoles': 6,\n",
       " 'kue_serabi': 7}"
      ]
     },
     "execution_count": 205,
     "metadata": {
      "tags": []
     },
     "output_type": "execute_result"
    }
   ],
   "source": [
    "## label dict\n",
    "lab = [i for i in os.listdir(PATH_DATA_TRAIN) if '.' not in i]\n",
    "lab.sort()\n",
    "\n",
    "label_dict = dict(zip(lab,[i for i in range(len(lab))]))\n",
    "label_dict"
   ]
  },
  {
   "cell_type": "code",
   "execution_count": 206,
   "metadata": {
    "id": "VZqirKGha8EU"
   },
   "outputs": [],
   "source": [
    "LABEL_SIZE = len(label_dict.keys())\n",
    "IMAGE_SIZE = 128"
   ]
  },
  {
   "cell_type": "code",
   "execution_count": 207,
   "metadata": {
    "id": "BeicgeK-IzHV"
   },
   "outputs": [],
   "source": [
    "# ?Conv2D"
   ]
  },
  {
   "cell_type": "code",
   "execution_count": 208,
   "metadata": {
    "id": "YzCbCVH8a8EU"
   },
   "outputs": [],
   "source": [
    "just_cake_model = load_model(PATH_MODEL +'just_cake_model-colab4_2.h5',compile=False)"
   ]
  },
  {
   "cell_type": "code",
   "execution_count": 209,
   "metadata": {
    "colab": {
     "base_uri": "https://localhost:8080/"
    },
    "id": "BeLsYMtua8EV",
    "outputId": "3861f29d-a996-482e-f77e-73453614c43e"
   },
   "outputs": [
    {
     "name": "stdout",
     "output_type": "stream",
     "text": [
      "Model: \"sequential\"\n",
      "_________________________________________________________________\n",
      "Layer (type)                 Output Shape              Param #   \n",
      "=================================================================\n",
      "conv2d (Conv2D)              (None, 126, 126, 128)     3584      \n",
      "_________________________________________________________________\n",
      "conv2d_1 (Conv2D)            (None, 126, 126, 128)     147584    \n",
      "_________________________________________________________________\n",
      "max_pooling2d (MaxPooling2D) (None, 63, 63, 128)       0         \n",
      "_________________________________________________________________\n",
      "conv2d_2 (Conv2D)            (None, 61, 61, 256)       295168    \n",
      "_________________________________________________________________\n",
      "max_pooling2d_1 (MaxPooling2 (None, 30, 30, 256)       0         \n",
      "_________________________________________________________________\n",
      "conv2d_3 (Conv2D)            (None, 28, 28, 256)       590080    \n",
      "_________________________________________________________________\n",
      "max_pooling2d_2 (MaxPooling2 (None, 14, 14, 256)       0         \n",
      "_________________________________________________________________\n",
      "conv2d_4 (Conv2D)            (None, 12, 12, 256)       590080    \n",
      "_________________________________________________________________\n",
      "max_pooling2d_3 (MaxPooling2 (None, 6, 6, 256)         0         \n",
      "_________________________________________________________________\n",
      "flatten (Flatten)            (None, 9216)              0         \n",
      "_________________________________________________________________\n",
      "dense (Dense)                (None, 64)                589888    \n",
      "_________________________________________________________________\n",
      "dense_1 (Dense)              (None, 16)                1040      \n",
      "_________________________________________________________________\n",
      "dense_2 (Dense)              (None, 8)                 136       \n",
      "_________________________________________________________________\n",
      "dense_3 (Dense)              (None, 8)                 72        \n",
      "=================================================================\n",
      "Total params: 2,217,632\n",
      "Trainable params: 2,217,632\n",
      "Non-trainable params: 0\n",
      "_________________________________________________________________\n"
     ]
    }
   ],
   "source": [
    "just_cake_model.summary()"
   ]
  },
  {
   "cell_type": "code",
   "execution_count": 209,
   "metadata": {
    "id": "bcqj7uusa8EV"
   },
   "outputs": [],
   "source": []
  },
  {
   "cell_type": "code",
   "execution_count": 210,
   "metadata": {
    "id": "I3ghe_Wxa8EV"
   },
   "outputs": [],
   "source": [
    "## compile model\n",
    "opt = optimizers.Adam(learning_rate=0.00001)\n",
    "just_cake_model.compile(\n",
    "              loss='categorical_crossentropy',\n",
    "              #optimizer='rmsprop',\n",
    "              optimizer = opt,\n",
    "              metrics=['accuracy',\n",
    "                      #  metrics.SparseCategoricalAccuracy(),\n",
    "                       metrics.AUC()])"
   ]
  },
  {
   "cell_type": "code",
   "execution_count": 210,
   "metadata": {
    "id": "mVaNvqLwa8EW"
   },
   "outputs": [],
   "source": []
  },
  {
   "cell_type": "code",
   "execution_count": 211,
   "metadata": {
    "colab": {
     "base_uri": "https://localhost:8080/"
    },
    "id": "vrqkfHQVa8EW",
    "outputId": "2bf972f2-22b1-4baa-8a01-d6d287ae2527"
   },
   "outputs": [
    {
     "name": "stdout",
     "output_type": "stream",
     "text": [
      "Found 1516 images belonging to 8 classes.\n",
      "Found 160 images belonging to 8 classes.\n",
      "Found 160 images belonging to 8 classes.\n"
     ]
    }
   ],
   "source": [
    "## data generator\n",
    "BATCH_SIZE = 32\n",
    "train_datagen = ImageDataGenerator(\n",
    "        rescale=1./255,\n",
    "        zoom_range=0.3,\n",
    "        rotation_range=75,\n",
    "        width_shift_range=0.4,\n",
    "        height_shift_range=0.4,\n",
    "        shear_range=0.75,\n",
    "        # horizontal_flip=True\n",
    "        )\n",
    "\n",
    "val_datagen = ImageDataGenerator(rescale=1./255)\n",
    "test_datagen = ImageDataGenerator(rescale=1./255)\n",
    "\n",
    "## Shuffle = True\n",
    "train_generator = train_datagen.flow_from_directory(\n",
    "        PATH_DATA_TRAIN,  \n",
    "        target_size=(IMAGE_SIZE, IMAGE_SIZE), \n",
    "        batch_size=BATCH_SIZE,\n",
    "        seed=301,\n",
    "        class_mode=\"categorical\" )  \n",
    "\n",
    "val_generator = val_datagen.flow_from_directory(\n",
    "        PATH_DATA_VAL,  \n",
    "        target_size=(IMAGE_SIZE, IMAGE_SIZE), \n",
    "        batch_size=BATCH_SIZE,\n",
    "        seed=301,\n",
    "        class_mode=\"categorical\" )  \n",
    "\n",
    "test_generator = test_datagen.flow_from_directory(\n",
    "        PATH_DATA_TEST,\n",
    "        target_size=(IMAGE_SIZE, IMAGE_SIZE),\n",
    "        batch_size=BATCH_SIZE,\n",
    "        seed=301,\n",
    "        class_mode=\"categorical\" )"
   ]
  },
  {
   "cell_type": "code",
   "execution_count": 211,
   "metadata": {
    "id": "uLEvwq7ha8EW"
   },
   "outputs": [],
   "source": []
  },
  {
   "cell_type": "code",
   "execution_count": 212,
   "metadata": {
    "colab": {
     "base_uri": "https://localhost:8080/"
    },
    "id": "le97FcMUa8EX",
    "outputId": "0edbfd70-ca85-4c10-f55b-11b6be404fca"
   },
   "outputs": [
    {
     "name": "stdout",
     "output_type": "stream",
     "text": [
      "Epoch 1/10\n",
      "47/47 [==============================] - 33s 689ms/step - loss: 0.6931 - accuracy: 0.8158 - auc_19: 0.9654 - val_loss: 1.1432 - val_accuracy: 0.7875 - val_auc_19: 0.9415\n",
      "Epoch 2/10\n",
      "47/47 [==============================] - 31s 663ms/step - loss: 0.5985 - accuracy: 0.8345 - auc_19: 0.9718 - val_loss: 1.1359 - val_accuracy: 0.7875 - val_auc_19: 0.9415\n",
      "Epoch 3/10\n",
      "47/47 [==============================] - 31s 660ms/step - loss: 0.6265 - accuracy: 0.8460 - auc_19: 0.9717 - val_loss: 1.1331 - val_accuracy: 0.7875 - val_auc_19: 0.9412\n",
      "Epoch 4/10\n",
      "47/47 [==============================] - 31s 659ms/step - loss: 0.6554 - accuracy: 0.8234 - auc_19: 0.9696 - val_loss: 1.1266 - val_accuracy: 0.7937 - val_auc_19: 0.9410\n",
      "Epoch 5/10\n",
      "47/47 [==============================] - 31s 659ms/step - loss: 0.6447 - accuracy: 0.8195 - auc_19: 0.9702 - val_loss: 1.1109 - val_accuracy: 0.7937 - val_auc_19: 0.9439\n",
      "Epoch 6/10\n",
      "47/47 [==============================] - 31s 654ms/step - loss: 0.5963 - accuracy: 0.8417 - auc_19: 0.9738 - val_loss: 1.1171 - val_accuracy: 0.7875 - val_auc_19: 0.9436\n",
      "Epoch 7/10\n",
      "47/47 [==============================] - 30s 646ms/step - loss: 0.5329 - accuracy: 0.8523 - auc_19: 0.9758 - val_loss: 1.1142 - val_accuracy: 0.7875 - val_auc_19: 0.9438\n",
      "Epoch 8/10\n",
      "47/47 [==============================] - 31s 648ms/step - loss: 0.5518 - accuracy: 0.8475 - auc_19: 0.9760 - val_loss: 1.1012 - val_accuracy: 0.7875 - val_auc_19: 0.9439\n",
      "Epoch 9/10\n",
      "47/47 [==============================] - 30s 651ms/step - loss: 0.6141 - accuracy: 0.8453 - auc_19: 0.9714 - val_loss: 1.1025 - val_accuracy: 0.7875 - val_auc_19: 0.9436\n",
      "Epoch 10/10\n",
      "47/47 [==============================] - 30s 648ms/step - loss: 0.6080 - accuracy: 0.8407 - auc_19: 0.9741 - val_loss: 1.1035 - val_accuracy: 0.7937 - val_auc_19: 0.9434\n"
     ]
    }
   ],
   "source": [
    "## save best model and use early stopping\n",
    "early_stop = keras.callbacks.EarlyStopping(\n",
    "        monitor='val_loss',mode='min', patience=8) \n",
    "check_p = keras.callbacks.ModelCheckpoint(\n",
    "        filepath=PATH_MODEL+'just_cake_model-colab4_3.h5',\n",
    "        monitor='val_loss',\n",
    "        mode='min',\n",
    "        save_best_only=True)\n",
    "\n",
    "epoch_hist = just_cake_model.fit(\n",
    "        train_generator,\n",
    "        steps_per_epoch=1516 // BATCH_SIZE,\n",
    "        validation_data=val_generator,\n",
    "        validation_steps=160 // BATCH_SIZE,\n",
    "        callbacks=[early_stop,check_p],\n",
    "        epochs=10)"
   ]
  },
  {
   "cell_type": "code",
   "execution_count": 212,
   "metadata": {
    "id": "f7M0VUjRa8EX"
   },
   "outputs": [],
   "source": [
    " "
   ]
  },
  {
   "cell_type": "markdown",
   "metadata": {
    "id": "vYNh90-1a8EY"
   },
   "source": [
    "## Evaluations"
   ]
  },
  {
   "cell_type": "code",
   "execution_count": 213,
   "metadata": {
    "id": "YZVpHz9sa8EY"
   },
   "outputs": [],
   "source": [
    "df_epoch_hist = pd.DataFrame(epoch_hist.history)"
   ]
  },
  {
   "cell_type": "code",
   "execution_count": 214,
   "metadata": {
    "colab": {
     "base_uri": "https://localhost:8080/",
     "height": 282
    },
    "id": "Kt-rcVuna8EY",
    "outputId": "8404221b-b8a6-4453-8835-0f2e1069f0fe"
   },
   "outputs": [
    {
     "data": {
      "text/plain": [
       "<matplotlib.axes._subplots.AxesSubplot at 0x7f1f56c57590>"
      ]
     },
     "execution_count": 214,
     "metadata": {
      "tags": []
     },
     "output_type": "execute_result"
    },
    {
     "data": {
      "image/png": "[encoded data removed]",
      "text/plain": [
       "<Figure size 432x288 with 1 Axes>"
      ]
     },
     "metadata": {
      "needs_background": "light",
      "tags": []
     },
     "output_type": "display_data"
    }
   ],
   "source": [
    "df_epoch_hist[['val_loss','loss']].plot()"
   ]
  },
  {
   "cell_type": "code",
   "execution_count": 214,
   "metadata": {
    "id": "S55RWENTa8EZ"
   },
   "outputs": [],
   "source": []
  },
  {
   "cell_type": "code",
   "execution_count": 215,
   "metadata": {
    "id": "8ZyYSsSaa8EZ"
   },
   "outputs": [],
   "source": [
    "# depd = {'auc_1' : metrics.AUC}\n",
    "model_load4_3 = load_model(PATH_MODEL + 'just_cake_model-colab4_3.h5')\n",
    "model_load3 = load_model(PATH_MODEL + 'just_cake_model-colab3.h5')"
   ]
  },
  {
   "cell_type": "code",
   "execution_count": 216,
   "metadata": {
    "colab": {
     "base_uri": "https://localhost:8080/"
    },
    "id": "V1Xi2fDi2SlG",
    "outputId": "8c78966b-2708-4e51-e8ec-81e8f7cef1ee"
   },
   "outputs": [
    {
     "name": "stdout",
     "output_type": "stream",
     "text": [
      "5/5 [==============================] - 2s 373ms/step - loss: 1.3944 - accuracy: 0.7688 - auc_9: 0.9383\n"
     ]
    },
    {
     "data": {
      "text/plain": [
       "[1.394446849822998, 0.768750011920929, 0.9382812976837158]"
      ]
     },
     "execution_count": 216,
     "metadata": {
      "tags": []
     },
     "output_type": "execute_result"
    }
   ],
   "source": [
    "model_load3.evaluate(val_generator)"
   ]
  },
  {
   "cell_type": "code",
   "execution_count": 217,
   "metadata": {
    "colab": {
     "base_uri": "https://localhost:8080/"
    },
    "id": "k3flvFif2Oh5",
    "outputId": "7b0342c9-fdb6-41d2-a3d8-43427a5de9a1"
   },
   "outputs": [
    {
     "name": "stdout",
     "output_type": "stream",
     "text": [
      "5/5 [==============================] - 2s 385ms/step - loss: 1.1012 - accuracy: 0.7875 - auc_19: 0.9439\n"
     ]
    },
    {
     "data": {
      "text/plain": [
       "[1.101207971572876, 0.7875000238418579, 0.9439398050308228]"
      ]
     },
     "execution_count": 217,
     "metadata": {
      "tags": []
     },
     "output_type": "execute_result"
    }
   ],
   "source": [
    "model_load4_3.evaluate(val_generator)"
   ]
  },
  {
   "cell_type": "code",
   "execution_count": 218,
   "metadata": {
    "id": "aPYSn6PH5e8z"
   },
   "outputs": [],
   "source": [
    "def eval_model(gen_,model_load):\n",
    "  per = np.random.permutation(gen_.n)\n",
    "  gen_.index_array = per\n",
    "  y_true = gen_.classes[per]\n",
    "\n",
    "  predictions = model_load.predict(gen_)\n",
    "  y_pred = np.argmax(predictions, axis=1)\n",
    "\n",
    "  cm = sklearn.metrics.confusion_matrix(y_true, y_pred)\n",
    "  plt.figure(figsize = (12,8))\n",
    "  sns.heatmap(cm, annot= True)\n",
    "  print(classification_report(y_true, y_pred))"
   ]
  },
  {
   "cell_type": "code",
   "execution_count": 218,
   "metadata": {
    "id": "r9ORPhvoHJcS"
   },
   "outputs": [],
   "source": []
  },
  {
   "cell_type": "markdown",
   "metadata": {
    "id": "4XLIgNWzHJq8"
   },
   "source": [
    "#### 1. Train"
   ]
  },
  {
   "cell_type": "code",
   "execution_count": 219,
   "metadata": {
    "colab": {
     "base_uri": "https://localhost:8080/",
     "height": 738
    },
    "id": "-q1p5srg5lUE",
    "outputId": "7606a814-2501-4444-ad95-96dec7e4f8cb"
   },
   "outputs": [
    {
     "name": "stdout",
     "output_type": "stream",
     "text": [
      "              precision    recall  f1-score   support\n",
      "\n",
      "           0       0.81      0.79      0.80       192\n",
      "           1       0.84      0.87      0.86       181\n",
      "           2       0.95      0.93      0.94       197\n",
      "           3       0.80      0.73      0.76       201\n",
      "           4       0.92      0.83      0.87       197\n",
      "           5       0.90      0.94      0.92       172\n",
      "           6       0.85      0.85      0.85       196\n",
      "           7       0.71      0.83      0.77       180\n",
      "\n",
      "    accuracy                           0.84      1516\n",
      "   macro avg       0.85      0.85      0.85      1516\n",
      "weighted avg       0.85      0.84      0.85      1516\n",
      "\n"
     ]
    },
    {
     "data": {
      "image/png": "[encoded data removed]",
      "text/plain": [
       "<Figure size 864x576 with 2 Axes>"
      ]
     },
     "metadata": {
      "needs_background": "light",
      "tags": []
     },
     "output_type": "display_data"
    }
   ],
   "source": [
    "eval_model(train_generator, model_load4_3)"
   ]
  },
  {
   "cell_type": "code",
   "execution_count": 219,
   "metadata": {
    "id": "buhwuizga8Eb"
   },
   "outputs": [],
   "source": []
  },
  {
   "cell_type": "markdown",
   "metadata": {
    "id": "KzcEymkyHQIg"
   },
   "source": [
    "#### 2. Validations"
   ]
  },
  {
   "cell_type": "code",
   "execution_count": 220,
   "metadata": {
    "colab": {
     "base_uri": "https://localhost:8080/",
     "height": 742
    },
    "id": "SI1iniF7HQIg",
    "outputId": "3c2e8ab2-62cf-4b16-c2fd-988c5c04c786"
   },
   "outputs": [
    {
     "name": "stdout",
     "output_type": "stream",
     "text": [
      "              precision    recall  f1-score   support\n",
      "\n",
      "           0       0.71      0.60      0.65        20\n",
      "           1       0.75      0.75      0.75        20\n",
      "           2       0.91      1.00      0.95        20\n",
      "           3       0.76      0.65      0.70        20\n",
      "           4       0.84      0.80      0.82        20\n",
      "           5       1.00      0.90      0.95        20\n",
      "           6       0.76      0.80      0.78        20\n",
      "           7       0.62      0.80      0.70        20\n",
      "\n",
      "    accuracy                           0.79       160\n",
      "   macro avg       0.79      0.79      0.79       160\n",
      "weighted avg       0.79      0.79      0.79       160\n",
      "\n"
     ]
    },
    {
     "data": {
      "image/png": "[encoded data removed]",
      "text/plain": [
       "<Figure size 864x576 with 2 Axes>"
      ]
     },
     "metadata": {
      "needs_background": "light",
      "tags": []
     },
     "output_type": "display_data"
    }
   ],
   "source": [
    "eval_model(val_generator, model_load4_3)"
   ]
  },
  {
   "cell_type": "code",
   "execution_count": 220,
   "metadata": {
    "id": "xXX1k6FtHmpz"
   },
   "outputs": [],
   "source": []
  },
  {
   "cell_type": "markdown",
   "metadata": {
    "id": "C9hTA7_I5Akq"
   },
   "source": [
    "#### 3. Test"
   ]
  },
  {
   "cell_type": "code",
   "execution_count": 221,
   "metadata": {
    "colab": {
     "base_uri": "https://localhost:8080/",
     "height": 742
    },
    "id": "osh2xJav5Akq",
    "outputId": "35da0064-d00f-44f2-e823-836fe4bfb2ac"
   },
   "outputs": [
    {
     "name": "stdout",
     "output_type": "stream",
     "text": [
      "              precision    recall  f1-score   support\n",
      "\n",
      "           0       0.82      0.90      0.86        20\n",
      "           1       0.87      0.91      0.89        22\n",
      "           2       0.95      1.00      0.98        20\n",
      "           3       0.88      0.70      0.78        20\n",
      "           4       0.88      0.75      0.81        20\n",
      "           5       0.89      0.94      0.92        18\n",
      "           6       0.78      0.90      0.84        20\n",
      "           7       0.79      0.75      0.77        20\n",
      "\n",
      "    accuracy                           0.86       160\n",
      "   macro avg       0.86      0.86      0.85       160\n",
      "weighted avg       0.86      0.86      0.85       160\n",
      "\n"
     ]
    },
    {
     "data": {
      "image/png": "[encoded data removed]",
      "text/plain": [
       "<Figure size 864x576 with 2 Axes>"
      ]
     },
     "metadata": {
      "needs_background": "light",
      "tags": []
     },
     "output_type": "display_data"
    }
   ],
   "source": [
    "eval_model(test_generator, model_load4_3)"
   ]
  },
  {
   "cell_type": "code",
   "execution_count": 197,
   "metadata": {
    "colab": {
     "base_uri": "https://localhost:8080/",
     "height": 742
    },
    "id": "8iO6I6qC5Ak2",
    "outputId": "6548d0c4-8224-4891-bde2-c173fa1c6b3d"
   },
   "outputs": [
    {
     "name": "stdout",
     "output_type": "stream",
     "text": [
      "              precision    recall  f1-score   support\n",
      "\n",
      "           0       0.81      0.85      0.83        20\n",
      "           1       1.00      0.77      0.87        22\n",
      "           2       1.00      1.00      1.00        20\n",
      "           3       0.78      0.70      0.74        20\n",
      "           4       0.80      0.80      0.80        20\n",
      "           5       0.90      1.00      0.95        18\n",
      "           6       0.77      1.00      0.87        20\n",
      "           7       0.83      0.75      0.79        20\n",
      "\n",
      "    accuracy                           0.86       160\n",
      "   macro avg       0.86      0.86      0.86       160\n",
      "weighted avg       0.86      0.86      0.85       160\n",
      "\n"
     ]
    },
    {
     "data": {
      "image/png": "[encoded data removed]",
      "text/plain": [
       "<Figure size 864x576 with 2 Axes>"
      ]
     },
     "metadata": {
      "needs_background": "light",
      "tags": []
     },
     "output_type": "display_data"
    }
   ],
   "source": [
    "eval_model(test_generator, model_load3)"
   ]
  },
  {
   "cell_type": "code",
   "execution_count": null,
   "metadata": {
    "id": "JqCrvl236B3q"
   },
   "outputs": [],
   "source": []
  }
 ],
 "metadata": {
  "accelerator": "GPU",
  "colab": {
   "name": "2-Model_train2-overfit2_GPU.ipynb",
   "provenance": []
  },
  "kernelspec": {
   "display_name": "Python 3",
   "language": "python",
   "name": "python3"
  },
  "language_info": {
   "codemirror_mode": {
    "name": "ipython",
    "version": 3
   },
   "file_extension": ".py",
   "mimetype": "text/x-python",
   "name": "python",
   "nbconvert_exporter": "python",
   "pygments_lexer": "ipython3",
   "version": "3.6.7"
  }
 },
 "nbformat": 4,
 "nbformat_minor": 4
}
