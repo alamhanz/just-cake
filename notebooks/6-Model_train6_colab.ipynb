{
 "cells": [
  {
   "cell_type": "markdown",
   "metadata": {
    "id": "so7LGcBSa8EC"
   },
   "source": [
    "## Kue Dataset - Model6\n",
    "Model6 --> vgg16\n"
   ]
  },
  {
   "cell_type": "code",
   "execution_count": 123,
   "metadata": {
    "id": "HkuDEfDba8EO"
   },
   "outputs": [],
   "source": [
    "# conda install -c conda-forge keras"
   ]
  },
  {
   "cell_type": "code",
   "execution_count": 124,
   "metadata": {
    "id": "SvIbOTSWa8EP"
   },
   "outputs": [],
   "source": [
    "import os\n",
    "import re\n",
    "import glob\n",
    "\n",
    "import scipy.io\n",
    "import cv2\n",
    "from PIL import Image\n",
    "import pandas as pd\n",
    "import numpy as np\n",
    "import matplotlib.pyplot as plt\n",
    "import tqdm\n",
    "import shutil\n",
    "\n",
    "from sklearn.model_selection import train_test_split\n",
    "from sklearn.metrics import classification_report\n",
    "from scipy.io import loadmat\n",
    "import random\n",
    "import sklearn\n",
    "import seaborn as sns\n",
    "import matplotlib.pyplot as plt\n"
   ]
  },
  {
   "cell_type": "code",
   "execution_count": 125,
   "metadata": {
    "colab": {
     "base_uri": "https://localhost:8080/"
    },
    "id": "N9_-os7Sbh_c",
    "outputId": "04c54f13-c565-4349-b9ab-f543c46e70dc"
   },
   "outputs": [
    {
     "name": "stdout",
     "output_type": "stream",
     "text": [
      "Drive already mounted at /content/drive; to attempt to forcibly remount, call drive.mount(\"/content/drive\", force_remount=True).\n"
     ]
    }
   ],
   "source": [
    "from google.colab import drive\n",
    "drive.mount('/content/drive')"
   ]
  },
  {
   "cell_type": "code",
   "execution_count": 126,
   "metadata": {
    "id": "rBaYG307a8EP"
   },
   "outputs": [],
   "source": [
    "# PATH_DATA = '../data/'\n",
    "# PATH_DATA_IMAGES = '../../../../My_Dataset/images/dataset257/'\n",
    "PATH_DATA_IMAGES = 'drive/MyDrive/Repository/Data/dataset257/'\n",
    "PATH_DATA_TRAIN = PATH_DATA_IMAGES+'train/'\n",
    "PATH_DATA_VAL = PATH_DATA_IMAGES+'validation/'\n",
    "PATH_DATA_TEST = PATH_DATA_IMAGES+'test/'\n",
    "PATH_MODEL = 'drive/MyDrive/Repository/Model/'"
   ]
  },
  {
   "cell_type": "code",
   "execution_count": 127,
   "metadata": {
    "colab": {
     "base_uri": "https://localhost:8080/"
    },
    "id": "2HonpXOsa8EQ",
    "outputId": "2bbbafd9-72c6-472c-98c2-a3c7decd2b86"
   },
   "outputs": [
    {
     "data": {
      "text/plain": [
       "['.DS_Store',\n",
       " 'kue_kastengel',\n",
       " 'kue_dadar_gulung',\n",
       " 'kue_risoles',\n",
       " 'kue_klepon',\n",
       " 'kue_putri_salju',\n",
       " 'kue_lumpur',\n",
       " 'kue_lapis',\n",
       " 'kue_serabi']"
      ]
     },
     "execution_count": 127,
     "metadata": {
      "tags": []
     },
     "output_type": "execute_result"
    }
   ],
   "source": [
    "os.listdir(PATH_DATA_TRAIN)"
   ]
  },
  {
   "cell_type": "code",
   "execution_count": 127,
   "metadata": {
    "id": "Aef6PSaxa8ES"
   },
   "outputs": [],
   "source": []
  },
  {
   "cell_type": "markdown",
   "metadata": {
    "id": "c6iLHlmXa8ES"
   },
   "source": [
    "## Modeling"
   ]
  },
  {
   "cell_type": "code",
   "execution_count": 128,
   "metadata": {
    "id": "d8tV2RaNa8ES"
   },
   "outputs": [],
   "source": [
    "from keras.models import Sequential, Model\n",
    "from keras.layers import Conv2D, MaxPooling2D, Activation, Dropout, Flatten, Dense\n",
    "from keras.preprocessing.image import ImageDataGenerator\n",
    "from keras import metrics, optimizers\n",
    "import keras\n",
    "import tensorflow as tf\n",
    "from keras.models import load_model\n",
    "from keras.applications import vgg16\n"
   ]
  },
  {
   "cell_type": "code",
   "execution_count": 129,
   "metadata": {
    "colab": {
     "base_uri": "https://localhost:8080/"
    },
    "id": "mrEGDjjHa8ET",
    "outputId": "d4f2711f-0a64-490b-a257-b0f9fbfa15a1"
   },
   "outputs": [
    {
     "name": "stdout",
     "output_type": "stream",
     "text": [
      "Num GPUs Available:  1\n"
     ]
    }
   ],
   "source": [
    "# sess = tf.compat.v1.Session(config=tf.compat.v1.ConfigProto(log_device_placement=True))\n",
    "# tf.debugging.set_log_device_placement(True)\n",
    "print(\"Num GPUs Available: \", len(tf.config.experimental.list_physical_devices('GPU')))"
   ]
  },
  {
   "cell_type": "code",
   "execution_count": 130,
   "metadata": {
    "colab": {
     "base_uri": "https://localhost:8080/"
    },
    "id": "uXuKIpmva8EU",
    "outputId": "0cf94161-c2f4-4674-a4bd-da507e58b80b"
   },
   "outputs": [
    {
     "data": {
      "text/plain": [
       "{'kue_dadar_gulung': 0,\n",
       " 'kue_kastengel': 1,\n",
       " 'kue_klepon': 2,\n",
       " 'kue_lapis': 3,\n",
       " 'kue_lumpur': 4,\n",
       " 'kue_putri_salju': 5,\n",
       " 'kue_risoles': 6,\n",
       " 'kue_serabi': 7}"
      ]
     },
     "execution_count": 130,
     "metadata": {
      "tags": []
     },
     "output_type": "execute_result"
    }
   ],
   "source": [
    "## label dict\n",
    "lab = [i for i in os.listdir(PATH_DATA_TRAIN) if '.' not in i]\n",
    "lab.sort()\n",
    "\n",
    "label_dict = dict(zip(lab,[i for i in range(len(lab))]))\n",
    "label_dict"
   ]
  },
  {
   "cell_type": "code",
   "execution_count": 131,
   "metadata": {
    "id": "VZqirKGha8EU"
   },
   "outputs": [],
   "source": [
    "LABEL_SIZE = len(label_dict.keys())\n",
    "IMAGE_SIZE = 224"
   ]
  },
  {
   "cell_type": "code",
   "execution_count": 132,
   "metadata": {
    "id": "BeicgeK-IzHV"
   },
   "outputs": [],
   "source": [
    "# ?Conv2D"
   ]
  },
  {
   "cell_type": "code",
   "execution_count": 133,
   "metadata": {
    "id": "YzCbCVH8a8EU"
   },
   "outputs": [],
   "source": [
    "basic = vgg16.VGG16(weights='imagenet', include_top=False, \n",
    "                        input_shape=(224,224,3))\n",
    "\n",
    "flatten = Flatten()\n",
    "new_layer2 = Dense(LABEL_SIZE, activation='softmax', name='my_dense_cake')\n",
    "\n",
    "inp2 = basic.input\n",
    "out2 = flatten(basic.output)\n",
    "out2 = new_layer2(out2)\n",
    "\n",
    "just_cake_model = Model(inp2, out2)"
   ]
  },
  {
   "cell_type": "code",
   "execution_count": 134,
   "metadata": {
    "colab": {
     "base_uri": "https://localhost:8080/"
    },
    "id": "BeLsYMtua8EV",
    "outputId": "614250cd-3f48-4c3f-ae99-9774afbca0f0"
   },
   "outputs": [
    {
     "name": "stdout",
     "output_type": "stream",
     "text": [
      "Model: \"model_2\"\n",
      "_________________________________________________________________\n",
      "Layer (type)                 Output Shape              Param #   \n",
      "=================================================================\n",
      "input_4 (InputLayer)         [(None, 224, 224, 3)]     0         \n",
      "_________________________________________________________________\n",
      "block1_conv1 (Conv2D)        (None, 224, 224, 64)      1792      \n",
      "_________________________________________________________________\n",
      "block1_conv2 (Conv2D)        (None, 224, 224, 64)      36928     \n",
      "_________________________________________________________________\n",
      "block1_pool (MaxPooling2D)   (None, 112, 112, 64)      0         \n",
      "_________________________________________________________________\n",
      "block2_conv1 (Conv2D)        (None, 112, 112, 128)     73856     \n",
      "_________________________________________________________________\n",
      "block2_conv2 (Conv2D)        (None, 112, 112, 128)     147584    \n",
      "_________________________________________________________________\n",
      "block2_pool (MaxPooling2D)   (None, 56, 56, 128)       0         \n",
      "_________________________________________________________________\n",
      "block3_conv1 (Conv2D)        (None, 56, 56, 256)       295168    \n",
      "_________________________________________________________________\n",
      "block3_conv2 (Conv2D)        (None, 56, 56, 256)       590080    \n",
      "_________________________________________________________________\n",
      "block3_conv3 (Conv2D)        (None, 56, 56, 256)       590080    \n",
      "_________________________________________________________________\n",
      "block3_pool (MaxPooling2D)   (None, 28, 28, 256)       0         \n",
      "_________________________________________________________________\n",
      "block4_conv1 (Conv2D)        (None, 28, 28, 512)       1180160   \n",
      "_________________________________________________________________\n",
      "block4_conv2 (Conv2D)        (None, 28, 28, 512)       2359808   \n",
      "_________________________________________________________________\n",
      "block4_conv3 (Conv2D)        (None, 28, 28, 512)       2359808   \n",
      "_________________________________________________________________\n",
      "block4_pool (MaxPooling2D)   (None, 14, 14, 512)       0         \n",
      "_________________________________________________________________\n",
      "block5_conv1 (Conv2D)        (None, 14, 14, 512)       2359808   \n",
      "_________________________________________________________________\n",
      "block5_conv2 (Conv2D)        (None, 14, 14, 512)       2359808   \n",
      "_________________________________________________________________\n",
      "block5_conv3 (Conv2D)        (None, 14, 14, 512)       2359808   \n",
      "_________________________________________________________________\n",
      "block5_pool (MaxPooling2D)   (None, 7, 7, 512)         0         \n",
      "_________________________________________________________________\n",
      "flatten_3 (Flatten)          (None, 25088)             0         \n",
      "_________________________________________________________________\n",
      "my_dense_cake (Dense)        (None, 8)                 200712    \n",
      "=================================================================\n",
      "Total params: 14,915,400\n",
      "Trainable params: 14,915,400\n",
      "Non-trainable params: 0\n",
      "_________________________________________________________________\n"
     ]
    }
   ],
   "source": [
    "just_cake_model.summary()"
   ]
  },
  {
   "cell_type": "code",
   "execution_count": 134,
   "metadata": {
    "id": "bcqj7uusa8EV"
   },
   "outputs": [],
   "source": []
  },
  {
   "cell_type": "code",
   "execution_count": 135,
   "metadata": {
    "id": "I3ghe_Wxa8EV"
   },
   "outputs": [],
   "source": [
    "## compile model\n",
    "opt = optimizers.Adam(learning_rate=0.00001)\n",
    "just_cake_model.compile(\n",
    "              loss='categorical_crossentropy',\n",
    "              #optimizer='rmsprop',\n",
    "              optimizer = opt,\n",
    "              metrics=['accuracy',\n",
    "                      #  metrics.SparseCategoricalAccuracy(),\n",
    "                       metrics.AUC()])"
   ]
  },
  {
   "cell_type": "code",
   "execution_count": 135,
   "metadata": {
    "id": "mVaNvqLwa8EW"
   },
   "outputs": [],
   "source": []
  },
  {
   "cell_type": "code",
   "execution_count": 136,
   "metadata": {
    "colab": {
     "base_uri": "https://localhost:8080/"
    },
    "id": "vrqkfHQVa8EW",
    "outputId": "13d12b69-8228-46d8-f7e1-2374430a7106"
   },
   "outputs": [
    {
     "name": "stdout",
     "output_type": "stream",
     "text": [
      "Found 1516 images belonging to 8 classes.\n",
      "Found 160 images belonging to 8 classes.\n",
      "Found 160 images belonging to 8 classes.\n"
     ]
    }
   ],
   "source": [
    "## data generator\n",
    "BATCH_SIZE = 32\n",
    "train_datagen = ImageDataGenerator(\n",
    "        rescale=1./255,\n",
    "        zoom_range=0.35,\n",
    "        rotation_range=75,\n",
    "        width_shift_range=0.3,\n",
    "        height_shift_range=0.2,\n",
    "        shear_range=0.6,\n",
    "        # horizontal_flip=True\n",
    "        )\n",
    "\n",
    "val_datagen = ImageDataGenerator(rescale=1./255)\n",
    "test_datagen = ImageDataGenerator(rescale=1./255)\n",
    "\n",
    "## Shuffle = True\n",
    "train_generator = train_datagen.flow_from_directory(\n",
    "        PATH_DATA_TRAIN,  \n",
    "        target_size=(IMAGE_SIZE, IMAGE_SIZE), \n",
    "        batch_size=BATCH_SIZE,\n",
    "        seed=301,\n",
    "        class_mode=\"categorical\" )  \n",
    "\n",
    "val_generator = val_datagen.flow_from_directory(\n",
    "        PATH_DATA_VAL,  \n",
    "        target_size=(IMAGE_SIZE, IMAGE_SIZE), \n",
    "        batch_size=BATCH_SIZE,\n",
    "        seed=301,\n",
    "        class_mode=\"categorical\" )  \n",
    "\n",
    "test_generator = test_datagen.flow_from_directory(\n",
    "        PATH_DATA_TEST,\n",
    "        target_size=(IMAGE_SIZE, IMAGE_SIZE),\n",
    "        batch_size=BATCH_SIZE,\n",
    "        seed=301,\n",
    "        class_mode=\"categorical\" )"
   ]
  },
  {
   "cell_type": "code",
   "execution_count": 136,
   "metadata": {
    "id": "uLEvwq7ha8EW"
   },
   "outputs": [],
   "source": []
  },
  {
   "cell_type": "code",
   "execution_count": 137,
   "metadata": {
    "colab": {
     "base_uri": "https://localhost:8080/"
    },
    "id": "le97FcMUa8EX",
    "outputId": "941efbf2-0bd1-4bf3-bd8a-299f38099290"
   },
   "outputs": [
    {
     "name": "stdout",
     "output_type": "stream",
     "text": [
      "Epoch 1/60\n",
      "47/47 [==============================] - 59s 1s/step - loss: 2.0775 - accuracy: 0.2058 - auc_10: 0.5847 - val_loss: 1.6723 - val_accuracy: 0.4062 - val_auc_10: 0.7780\n",
      "Epoch 2/60\n",
      "47/47 [==============================] - 42s 895ms/step - loss: 1.5105 - accuracy: 0.4767 - auc_10: 0.8364 - val_loss: 1.0971 - val_accuracy: 0.5875 - val_auc_10: 0.9137\n",
      "Epoch 3/60\n",
      "47/47 [==============================] - 43s 904ms/step - loss: 1.0754 - accuracy: 0.6256 - auc_10: 0.9181 - val_loss: 0.9080 - val_accuracy: 0.6812 - val_auc_10: 0.9408\n",
      "Epoch 4/60\n",
      "47/47 [==============================] - 43s 908ms/step - loss: 0.8884 - accuracy: 0.6927 - auc_10: 0.9420 - val_loss: 0.6472 - val_accuracy: 0.7750 - val_auc_10: 0.9707\n",
      "Epoch 5/60\n",
      "47/47 [==============================] - 43s 901ms/step - loss: 0.7211 - accuracy: 0.7571 - auc_10: 0.9634 - val_loss: 0.5784 - val_accuracy: 0.8313 - val_auc_10: 0.9759\n",
      "Epoch 6/60\n",
      "47/47 [==============================] - 43s 900ms/step - loss: 0.6034 - accuracy: 0.7948 - auc_10: 0.9735 - val_loss: 0.4880 - val_accuracy: 0.8313 - val_auc_10: 0.9833\n",
      "Epoch 7/60\n",
      "47/47 [==============================] - 42s 895ms/step - loss: 0.5467 - accuracy: 0.7978 - auc_10: 0.9790 - val_loss: 0.4210 - val_accuracy: 0.8375 - val_auc_10: 0.9873\n",
      "Epoch 8/60\n",
      "47/47 [==============================] - 43s 898ms/step - loss: 0.4588 - accuracy: 0.8446 - auc_10: 0.9840 - val_loss: 0.4845 - val_accuracy: 0.8250 - val_auc_10: 0.9826\n",
      "Epoch 9/60\n",
      "47/47 [==============================] - 42s 893ms/step - loss: 0.4558 - accuracy: 0.8476 - auc_10: 0.9840 - val_loss: 0.3904 - val_accuracy: 0.8750 - val_auc_10: 0.9866\n",
      "Epoch 10/60\n",
      "47/47 [==============================] - 43s 902ms/step - loss: 0.4076 - accuracy: 0.8720 - auc_10: 0.9870 - val_loss: 0.3578 - val_accuracy: 0.8750 - val_auc_10: 0.9905\n",
      "Epoch 11/60\n",
      "47/47 [==============================] - 43s 903ms/step - loss: 0.4030 - accuracy: 0.8593 - auc_10: 0.9875 - val_loss: 0.3761 - val_accuracy: 0.8750 - val_auc_10: 0.9874\n",
      "Epoch 12/60\n",
      "47/47 [==============================] - 43s 901ms/step - loss: 0.3606 - accuracy: 0.8799 - auc_10: 0.9902 - val_loss: 0.3219 - val_accuracy: 0.8687 - val_auc_10: 0.9927\n",
      "Epoch 13/60\n",
      "47/47 [==============================] - 43s 900ms/step - loss: 0.3390 - accuracy: 0.8924 - auc_10: 0.9911 - val_loss: 0.3060 - val_accuracy: 0.8813 - val_auc_10: 0.9906\n",
      "Epoch 14/60\n",
      "47/47 [==============================] - 43s 900ms/step - loss: 0.3122 - accuracy: 0.8872 - auc_10: 0.9927 - val_loss: 0.3696 - val_accuracy: 0.8750 - val_auc_10: 0.9855\n",
      "Epoch 15/60\n",
      "47/47 [==============================] - 42s 891ms/step - loss: 0.2973 - accuracy: 0.8857 - auc_10: 0.9931 - val_loss: 0.3071 - val_accuracy: 0.8938 - val_auc_10: 0.9907\n",
      "Epoch 16/60\n",
      "47/47 [==============================] - 42s 896ms/step - loss: 0.2807 - accuracy: 0.9030 - auc_10: 0.9940 - val_loss: 0.3221 - val_accuracy: 0.9062 - val_auc_10: 0.9906\n",
      "Epoch 17/60\n",
      "47/47 [==============================] - 43s 899ms/step - loss: 0.2394 - accuracy: 0.9104 - auc_10: 0.9959 - val_loss: 0.3324 - val_accuracy: 0.8813 - val_auc_10: 0.9847\n",
      "Epoch 18/60\n",
      "47/47 [==============================] - 42s 896ms/step - loss: 0.2409 - accuracy: 0.9226 - auc_10: 0.9948 - val_loss: 0.3840 - val_accuracy: 0.8938 - val_auc_10: 0.9863\n",
      "Epoch 19/60\n",
      "47/47 [==============================] - 42s 896ms/step - loss: 0.2520 - accuracy: 0.9190 - auc_10: 0.9947 - val_loss: 0.3507 - val_accuracy: 0.8813 - val_auc_10: 0.9870\n",
      "Epoch 20/60\n",
      "47/47 [==============================] - 42s 895ms/step - loss: 0.2261 - accuracy: 0.9247 - auc_10: 0.9957 - val_loss: 0.4235 - val_accuracy: 0.8875 - val_auc_10: 0.9798\n",
      "Epoch 21/60\n",
      "47/47 [==============================] - 42s 892ms/step - loss: 0.2355 - accuracy: 0.9223 - auc_10: 0.9952 - val_loss: 0.3505 - val_accuracy: 0.9000 - val_auc_10: 0.9848\n",
      "Epoch 22/60\n",
      "47/47 [==============================] - 42s 886ms/step - loss: 0.2259 - accuracy: 0.9194 - auc_10: 0.9958 - val_loss: 0.3259 - val_accuracy: 0.9062 - val_auc_10: 0.9885\n"
     ]
    }
   ],
   "source": [
    "## save best model and use early stopping\n",
    "early_stop = keras.callbacks.EarlyStopping(\n",
    "        monitor='val_loss',mode='min', patience=9) \n",
    "check_p = keras.callbacks.ModelCheckpoint(\n",
    "        filepath=PATH_MODEL+'just_cake_model-colab6.h5',\n",
    "        monitor='val_loss',\n",
    "        mode='min',\n",
    "        save_best_only=True)\n",
    "\n",
    "epoch_hist = just_cake_model.fit(\n",
    "        train_generator,\n",
    "        steps_per_epoch=1516 // BATCH_SIZE,\n",
    "        validation_data=val_generator,\n",
    "        validation_steps=160 // BATCH_SIZE,\n",
    "        callbacks=[early_stop,check_p],\n",
    "        epochs=60)"
   ]
  },
  {
   "cell_type": "code",
   "execution_count": 137,
   "metadata": {
    "id": "f7M0VUjRa8EX"
   },
   "outputs": [],
   "source": [
    " "
   ]
  },
  {
   "cell_type": "markdown",
   "metadata": {
    "id": "vYNh90-1a8EY"
   },
   "source": [
    "## Evaluations"
   ]
  },
  {
   "cell_type": "code",
   "execution_count": 138,
   "metadata": {
    "id": "YZVpHz9sa8EY"
   },
   "outputs": [],
   "source": [
    "df_epoch_hist = pd.DataFrame(epoch_hist.history)"
   ]
  },
  {
   "cell_type": "code",
   "execution_count": 139,
   "metadata": {
    "colab": {
     "base_uri": "https://localhost:8080/",
     "height": 282
    },
    "id": "Kt-rcVuna8EY",
    "outputId": "57ef8607-c59d-412c-ac98-654e896c76a8"
   },
   "outputs": [
    {
     "data": {
      "text/plain": [
       "<matplotlib.axes._subplots.AxesSubplot at 0x7f7886487390>"
      ]
     },
     "execution_count": 139,
     "metadata": {
      "tags": []
     },
     "output_type": "execute_result"
    },
    {
     "data": {
      "image/png": "[encoded data removed]",
      "text/plain": [
       "<Figure size 432x288 with 1 Axes>"
      ]
     },
     "metadata": {
      "needs_background": "light",
      "tags": []
     },
     "output_type": "display_data"
    }
   ],
   "source": [
    "df_epoch_hist[['val_loss','loss']].plot()"
   ]
  },
  {
   "cell_type": "code",
   "execution_count": 139,
   "metadata": {
    "id": "S55RWENTa8EZ"
   },
   "outputs": [],
   "source": []
  },
  {
   "cell_type": "code",
   "execution_count": 140,
   "metadata": {
    "id": "8ZyYSsSaa8EZ"
   },
   "outputs": [],
   "source": [
    "# depd = {'auc_1' : metrics.AUC}\n",
    "model_load6 = load_model(PATH_MODEL + 'just_cake_model-colab6.h5')"
   ]
  },
  {
   "cell_type": "code",
   "execution_count": 141,
   "metadata": {
    "colab": {
     "base_uri": "https://localhost:8080/"
    },
    "id": "k3flvFif2Oh5",
    "outputId": "8679fea7-568e-416d-e983-8dc6368d551d"
   },
   "outputs": [
    {
     "name": "stdout",
     "output_type": "stream",
     "text": [
      "5/5 [==============================] - 2s 340ms/step - loss: 0.3060 - accuracy: 0.8813 - auc_10: 0.9906\n"
     ]
    },
    {
     "data": {
      "text/plain": [
       "[0.3059829771518707, 0.8812500238418579, 0.9905719757080078]"
      ]
     },
     "execution_count": 141,
     "metadata": {
      "tags": []
     },
     "output_type": "execute_result"
    }
   ],
   "source": [
    "model_load6.evaluate(val_generator)"
   ]
  },
  {
   "cell_type": "code",
   "execution_count": 142,
   "metadata": {
    "id": "aPYSn6PH5e8z"
   },
   "outputs": [],
   "source": [
    "def eval_model(gen_,model_load):\n",
    "  per = np.random.permutation(gen_.n)\n",
    "  gen_.index_array = per\n",
    "  y_true = gen_.classes[per]\n",
    "\n",
    "  predictions = model_load.predict(gen_)\n",
    "  y_pred = np.argmax(predictions, axis=1)\n",
    "\n",
    "  cm = sklearn.metrics.confusion_matrix(y_true, y_pred)\n",
    "  plt.figure(figsize = (12,8))\n",
    "  sns.heatmap(cm, annot= True)\n",
    "  print(classification_report(y_true, y_pred))"
   ]
  },
  {
   "cell_type": "code",
   "execution_count": 142,
   "metadata": {
    "id": "r9ORPhvoHJcS"
   },
   "outputs": [],
   "source": []
  },
  {
   "cell_type": "markdown",
   "metadata": {
    "id": "4XLIgNWzHJq8"
   },
   "source": [
    "#### 1. Train"
   ]
  },
  {
   "cell_type": "code",
   "execution_count": 143,
   "metadata": {
    "colab": {
     "base_uri": "https://localhost:8080/",
     "height": 738
    },
    "id": "-q1p5srg5lUE",
    "outputId": "16e7c490-40a7-46f5-d7b6-76e48b2915ce"
   },
   "outputs": [
    {
     "name": "stdout",
     "output_type": "stream",
     "text": [
      "              precision    recall  f1-score   support\n",
      "\n",
      "           0       0.81      0.91      0.86       192\n",
      "           1       0.98      0.78      0.87       181\n",
      "           2       0.99      0.93      0.96       197\n",
      "           3       0.87      0.95      0.91       201\n",
      "           4       0.93      0.89      0.91       197\n",
      "           5       0.92      0.93      0.93       172\n",
      "           6       0.82      0.87      0.84       196\n",
      "           7       0.87      0.87      0.87       180\n",
      "\n",
      "    accuracy                           0.89      1516\n",
      "   macro avg       0.90      0.89      0.89      1516\n",
      "weighted avg       0.90      0.89      0.89      1516\n",
      "\n"
     ]
    },
    {
     "data": {
      "image/png": "[encoded data removed]",
      "text/plain": [
       "<Figure size 864x576 with 2 Axes>"
      ]
     },
     "metadata": {
      "needs_background": "light",
      "tags": []
     },
     "output_type": "display_data"
    }
   ],
   "source": [
    "eval_model(train_generator, model_load6)"
   ]
  },
  {
   "cell_type": "code",
   "execution_count": 143,
   "metadata": {
    "id": "buhwuizga8Eb"
   },
   "outputs": [],
   "source": []
  },
  {
   "cell_type": "markdown",
   "metadata": {
    "id": "KzcEymkyHQIg"
   },
   "source": [
    "#### 2. Validations"
   ]
  },
  {
   "cell_type": "code",
   "execution_count": 144,
   "metadata": {
    "colab": {
     "base_uri": "https://localhost:8080/",
     "height": 738
    },
    "id": "SI1iniF7HQIg",
    "outputId": "51336b04-7c0f-4c21-a6f8-61d595bc1bf8"
   },
   "outputs": [
    {
     "name": "stdout",
     "output_type": "stream",
     "text": [
      "              precision    recall  f1-score   support\n",
      "\n",
      "           0       0.86      0.90      0.88        20\n",
      "           1       1.00      0.80      0.89        20\n",
      "           2       0.95      0.90      0.92        20\n",
      "           3       0.90      0.90      0.90        20\n",
      "           4       0.88      0.75      0.81        20\n",
      "           5       0.90      0.95      0.93        20\n",
      "           6       0.82      0.90      0.86        20\n",
      "           7       0.79      0.95      0.86        20\n",
      "\n",
      "    accuracy                           0.88       160\n",
      "   macro avg       0.89      0.88      0.88       160\n",
      "weighted avg       0.89      0.88      0.88       160\n",
      "\n"
     ]
    },
    {
     "data": {
      "image/png": "[encoded data removed]",
      "text/plain": [
       "<Figure size 864x576 with 2 Axes>"
      ]
     },
     "metadata": {
      "needs_background": "light",
      "tags": []
     },
     "output_type": "display_data"
    }
   ],
   "source": [
    "eval_model(val_generator, model_load6)"
   ]
  },
  {
   "cell_type": "code",
   "execution_count": 144,
   "metadata": {
    "id": "xXX1k6FtHmpz"
   },
   "outputs": [],
   "source": []
  },
  {
   "cell_type": "markdown",
   "metadata": {
    "id": "C9hTA7_I5Akq"
   },
   "source": [
    "#### 3. Test"
   ]
  },
  {
   "cell_type": "code",
   "execution_count": 145,
   "metadata": {
    "colab": {
     "base_uri": "https://localhost:8080/",
     "height": 742
    },
    "id": "osh2xJav5Akq",
    "outputId": "fe1968ed-532d-42cc-d8c6-a9e5413422d1"
   },
   "outputs": [
    {
     "name": "stdout",
     "output_type": "stream",
     "text": [
      "              precision    recall  f1-score   support\n",
      "\n",
      "           0       1.00      0.90      0.95        20\n",
      "           1       1.00      0.82      0.90        22\n",
      "           2       1.00      0.95      0.97        20\n",
      "           3       0.95      1.00      0.98        20\n",
      "           4       0.90      0.90      0.90        20\n",
      "           5       0.85      0.94      0.89        18\n",
      "           6       0.83      1.00      0.91        20\n",
      "           7       0.85      0.85      0.85        20\n",
      "\n",
      "    accuracy                           0.92       160\n",
      "   macro avg       0.92      0.92      0.92       160\n",
      "weighted avg       0.93      0.92      0.92       160\n",
      "\n"
     ]
    },
    {
     "data": {
      "image/png": "[encoded data removed]",
      "text/plain": [
       "<Figure size 864x576 with 2 Axes>"
      ]
     },
     "metadata": {
      "needs_background": "light",
      "tags": []
     },
     "output_type": "display_data"
    }
   ],
   "source": [
    "eval_model(test_generator, model_load6)"
   ]
  },
  {
   "cell_type": "code",
   "execution_count": null,
   "metadata": {
    "id": "JqCrvl236B3q"
   },
   "outputs": [],
   "source": []
  }
 ],
 "metadata": {
  "accelerator": "GPU",
  "colab": {
   "name": "2-Model_train2-overfit2_GPU.ipynb",
   "provenance": []
  },
  "kernelspec": {
   "display_name": "Python 3",
   "language": "python",
   "name": "python3"
  },
  "language_info": {
   "codemirror_mode": {
    "name": "ipython",
    "version": 3
   },
   "file_extension": ".py",
   "mimetype": "text/x-python",
   "name": "python",
   "nbconvert_exporter": "python",
   "pygments_lexer": "ipython3",
   "version": "3.6.7"
  }
 },
 "nbformat": 4,
 "nbformat_minor": 4
}
