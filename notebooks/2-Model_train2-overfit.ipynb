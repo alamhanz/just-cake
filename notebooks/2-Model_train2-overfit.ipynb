{
 "cells": [
  {
   "cell_type": "markdown",
   "metadata": {},
   "source": [
    "## Kue Dataset - Model2\n",
    "\n",
    "overfit model\n"
   ]
  },
  {
   "cell_type": "code",
   "execution_count": 6,
   "metadata": {},
   "outputs": [],
   "source": [
    "# conda install -c conda-forge keras"
   ]
  },
  {
   "cell_type": "code",
   "execution_count": 7,
   "metadata": {},
   "outputs": [],
   "source": [
    "import os\n",
    "import re\n",
    "import glob\n",
    "\n",
    "import scipy.io\n",
    "import cv2\n",
    "from PIL import Image\n",
    "import pandas as pd\n",
    "import numpy as np\n",
    "import matplotlib.pyplot as plt\n",
    "import tqdm\n",
    "import shutil\n",
    "\n",
    "from sklearn.model_selection import train_test_split\n",
    "from sklearn.metrics import classification_report\n",
    "from scipy.io import loadmat\n",
    "import random\n",
    "import sklearn\n",
    "import seaborn as sns"
   ]
  },
  {
   "cell_type": "code",
   "execution_count": 8,
   "metadata": {},
   "outputs": [],
   "source": [
    "# PATH_DATA = '../data/'\n",
    "PATH_DATA_IMAGES = '../../../../My_Dataset/images/dataset257/'\n",
    "PATH_DATA_TRAIN = PATH_DATA_IMAGES+'train/'\n",
    "PATH_DATA_VAL = PATH_DATA_IMAGES+'validation/'\n",
    "PATH_DATA_TEST = PATH_DATA_IMAGES+'test/'\n",
    "PATH_MODEL = '../../tmp/'"
   ]
  },
  {
   "cell_type": "code",
   "execution_count": 9,
   "metadata": {},
   "outputs": [
    {
     "data": {
      "text/plain": [
       "['.DS_Store',\n",
       " 'kue_dadar_gulung',\n",
       " 'kue_kastengel',\n",
       " 'kue_klepon',\n",
       " 'kue_lapis',\n",
       " 'kue_lumpur',\n",
       " 'kue_putri_salju',\n",
       " 'kue_risoles',\n",
       " 'kue_serabi']"
      ]
     },
     "execution_count": 9,
     "metadata": {},
     "output_type": "execute_result"
    }
   ],
   "source": [
    "os.listdir(PATH_DATA_TRAIN)"
   ]
  },
  {
   "cell_type": "code",
   "execution_count": null,
   "metadata": {},
   "outputs": [],
   "source": []
  },
  {
   "cell_type": "markdown",
   "metadata": {},
   "source": [
    "## Modeling"
   ]
  },
  {
   "cell_type": "code",
   "execution_count": 10,
   "metadata": {},
   "outputs": [],
   "source": [
    "from keras.models import Sequential\n",
    "from keras.layers import Conv2D, MaxPooling2D, Activation, Dropout, Flatten, Dense\n",
    "from keras.preprocessing.image import ImageDataGenerator\n",
    "from keras import metrics, optimizers\n",
    "import keras\n",
    "import tensorflow as tf\n",
    "from keras.models import load_model\n"
   ]
  },
  {
   "cell_type": "code",
   "execution_count": 11,
   "metadata": {},
   "outputs": [
    {
     "name": "stdout",
     "output_type": "stream",
     "text": [
      "Num GPUs Available:  1\n"
     ]
    }
   ],
   "source": [
    "# sess = tf.compat.v1.Session(config=tf.compat.v1.ConfigProto(log_device_placement=True))\n",
    "# tf.debugging.set_log_device_placement(True)\n",
    "print(\"Num GPUs Available: \", len(tf.config.experimental.list_physical_devices('GPU')))"
   ]
  },
  {
   "cell_type": "code",
   "execution_count": 12,
   "metadata": {},
   "outputs": [
    {
     "name": "stdout",
     "output_type": "stream",
     "text": [
      "1 Physical GPUs, 1 Logical GPUs\n"
     ]
    }
   ],
   "source": [
    "gpus = tf.config.list_physical_devices('GPU')\n",
    "if gpus:\n",
    "    try:\n",
    "        # Currently, memory growth needs to be the same across GPUs\n",
    "        for gpu in gpus:\n",
    "            tf.config.experimental.set_memory_growth(gpu, True)\n",
    "        logical_gpus = tf.config.experimental.list_logical_devices('GPU')\n",
    "        print(len(gpus), \"Physical GPUs,\", len(logical_gpus), \"Logical GPUs\")\n",
    "    except RuntimeError as e:\n",
    "        # Memory growth must be set before GPUs have been initialized\n",
    "        print(e)"
   ]
  },
  {
   "cell_type": "code",
   "execution_count": 13,
   "metadata": {},
   "outputs": [
    {
     "data": {
      "text/plain": [
       "{'kue_dadar_gulung': 0,\n",
       " 'kue_kastengel': 1,\n",
       " 'kue_klepon': 2,\n",
       " 'kue_lapis': 3,\n",
       " 'kue_lumpur': 4,\n",
       " 'kue_putri_salju': 5,\n",
       " 'kue_risoles': 6,\n",
       " 'kue_serabi': 7}"
      ]
     },
     "execution_count": 13,
     "metadata": {},
     "output_type": "execute_result"
    }
   ],
   "source": [
    "## label dict\n",
    "lab = [i for i in os.listdir(PATH_DATA_TRAIN) if '.' not in i]\n",
    "lab.sort()\n",
    "\n",
    "label_dict = dict(zip(lab,[i for i in range(len(lab))]))\n",
    "label_dict"
   ]
  },
  {
   "cell_type": "code",
   "execution_count": 19,
   "metadata": {},
   "outputs": [],
   "source": [
    "LABEL_SIZE = len(label_dict.keys())\n",
    "IMAGE_SIZE = 128"
   ]
  },
  {
   "cell_type": "code",
   "execution_count": 20,
   "metadata": {},
   "outputs": [],
   "source": [
    "just_cake_model = Sequential()\n",
    "just_cake_model.add(Conv2D(32, (3, 3), activation ='relu', input_shape=(IMAGE_SIZE, IMAGE_SIZE, 3)))\n",
    "just_cake_model.add(Conv2D(32, (3, 3), activation ='relu'))\n",
    "just_cake_model.add(Conv2D(16, (3, 3), activation ='relu'))\n",
    "just_cake_model.add(MaxPooling2D(pool_size=(2, 2)))\n",
    "just_cake_model.add(Conv2D(8, (3, 3), activation ='relu'))\n",
    "just_cake_model.add(MaxPooling2D(pool_size=(2, 2)))\n",
    "just_cake_model.add(Conv2D(4, (3, 3), activation ='relu'))\n",
    "just_cake_model.add(MaxPooling2D(pool_size=(2, 2)))\n",
    "\n",
    "just_cake_model.add(Flatten())  # this converts our 3D feature maps to 1D feature vectors\n",
    "just_cake_model.add(Dense(512, activation ='relu'))\n",
    "just_cake_model.add(Dense(128, activation ='relu'))\n",
    "just_cake_model.add(Dense(LABEL_SIZE,activation ='softmax'))"
   ]
  },
  {
   "cell_type": "code",
   "execution_count": 21,
   "metadata": {},
   "outputs": [
    {
     "name": "stdout",
     "output_type": "stream",
     "text": [
      "Model: \"sequential_2\"\n",
      "_________________________________________________________________\n",
      "Layer (type)                 Output Shape              Param #   \n",
      "=================================================================\n",
      "conv2d_6 (Conv2D)            (None, 126, 126, 32)      896       \n",
      "_________________________________________________________________\n",
      "conv2d_7 (Conv2D)            (None, 124, 124, 32)      9248      \n",
      "_________________________________________________________________\n",
      "conv2d_8 (Conv2D)            (None, 122, 122, 16)      4624      \n",
      "_________________________________________________________________\n",
      "max_pooling2d_4 (MaxPooling2 (None, 61, 61, 16)        0         \n",
      "_________________________________________________________________\n",
      "conv2d_9 (Conv2D)            (None, 59, 59, 8)         1160      \n",
      "_________________________________________________________________\n",
      "max_pooling2d_5 (MaxPooling2 (None, 29, 29, 8)         0         \n",
      "_________________________________________________________________\n",
      "conv2d_10 (Conv2D)           (None, 27, 27, 4)         292       \n",
      "_________________________________________________________________\n",
      "max_pooling2d_6 (MaxPooling2 (None, 13, 13, 4)         0         \n",
      "_________________________________________________________________\n",
      "flatten_2 (Flatten)          (None, 676)               0         \n",
      "_________________________________________________________________\n",
      "dense_4 (Dense)              (None, 512)               346624    \n",
      "_________________________________________________________________\n",
      "dense_5 (Dense)              (None, 128)               65664     \n",
      "_________________________________________________________________\n",
      "dense_6 (Dense)              (None, 8)                 1032      \n",
      "=================================================================\n",
      "Total params: 429,540\n",
      "Trainable params: 429,540\n",
      "Non-trainable params: 0\n",
      "_________________________________________________________________\n"
     ]
    }
   ],
   "source": [
    "just_cake_model.summary()"
   ]
  },
  {
   "cell_type": "code",
   "execution_count": null,
   "metadata": {},
   "outputs": [],
   "source": []
  },
  {
   "cell_type": "code",
   "execution_count": 22,
   "metadata": {},
   "outputs": [],
   "source": [
    "## compile model\n",
    "opt = optimizers.Adam(learning_rate=0.001)\n",
    "just_cake_model.compile(loss='categorical_crossentropy',\n",
    "              #optimizer='rmsprop',\n",
    "              optimizer = opt,\n",
    "              metrics=['accuracy',metrics.AUC()])"
   ]
  },
  {
   "cell_type": "code",
   "execution_count": null,
   "metadata": {},
   "outputs": [],
   "source": []
  },
  {
   "cell_type": "code",
   "execution_count": 23,
   "metadata": {},
   "outputs": [
    {
     "name": "stdout",
     "output_type": "stream",
     "text": [
      "Found 1516 images belonging to 8 classes.\n",
      "Found 160 images belonging to 8 classes.\n",
      "Found 160 images belonging to 8 classes.\n"
     ]
    }
   ],
   "source": [
    "## data generator\n",
    "BATCH_SIZE = 64\n",
    "train_datagen = ImageDataGenerator(\n",
    "        rescale=1./255,\n",
    "        zoom_range=0.2,\n",
    "        rotation_range=35,\n",
    "        width_shift_range=0.25,\n",
    "        height_shift_range=0.25,\n",
    "        shear_range=0.25,\n",
    "        horizontal_flip=True)\n",
    "\n",
    "val_datagen = ImageDataGenerator(rescale=1./255)\n",
    "test_datagen = ImageDataGenerator(rescale=1./255)\n",
    "\n",
    "\n",
    "train_generator = train_datagen.flow_from_directory(\n",
    "        PATH_DATA_TRAIN,  \n",
    "        target_size=(IMAGE_SIZE, IMAGE_SIZE), \n",
    "        batch_size=BATCH_SIZE,\n",
    "        class_mode=\"categorical\" )  \n",
    "\n",
    "val_generator = val_datagen.flow_from_directory(\n",
    "        PATH_DATA_VAL,  \n",
    "        target_size=(IMAGE_SIZE, IMAGE_SIZE), \n",
    "        batch_size=BATCH_SIZE,\n",
    "        class_mode=\"categorical\" )  \n",
    "\n",
    "test_generator = test_datagen.flow_from_directory(\n",
    "        PATH_DATA_TEST,\n",
    "        target_size=(IMAGE_SIZE, IMAGE_SIZE),\n",
    "        batch_size=BATCH_SIZE,\n",
    "        class_mode=\"categorical\" )"
   ]
  },
  {
   "cell_type": "code",
   "execution_count": null,
   "metadata": {},
   "outputs": [],
   "source": []
  },
  {
   "cell_type": "code",
   "execution_count": 24,
   "metadata": {},
   "outputs": [
    {
     "name": "stdout",
     "output_type": "stream",
     "text": [
      "Epoch 1/250\n",
      "23/23 [==============================] - 49s 2s/step - loss: 2.0629 - accuracy: 0.1350 - auc_2: 0.5503\n",
      "Epoch 2/250\n",
      "23/23 [==============================] - 48s 2s/step - loss: 1.8417 - accuracy: 0.2369 - auc_2: 0.7124\n",
      "Epoch 3/250\n",
      "23/23 [==============================] - 47s 2s/step - loss: 1.7257 - accuracy: 0.2810 - auc_2: 0.7610\n",
      "Epoch 4/250\n",
      "23/23 [==============================] - 45s 2s/step - loss: 1.6707 - accuracy: 0.3044 - auc_2: 0.7808\n",
      "Epoch 5/250\n",
      "23/23 [==============================] - 46s 2s/step - loss: 1.6542 - accuracy: 0.3092 - auc_2: 0.7836\n",
      "Epoch 6/250\n",
      "23/23 [==============================] - 48s 2s/step - loss: 1.6241 - accuracy: 0.3417 - auc_2: 0.7961\n",
      "Epoch 7/250\n",
      "23/23 [==============================] - 46s 2s/step - loss: 1.5677 - accuracy: 0.3610 - auc_2: 0.8103\n",
      "Epoch 8/250\n",
      "23/23 [==============================] - 48s 2s/step - loss: 1.5459 - accuracy: 0.3974 - auc_2: 0.8182\n",
      "Epoch 9/250\n",
      "23/23 [==============================] - 49s 2s/step - loss: 1.5233 - accuracy: 0.3953 - auc_2: 0.8219\n",
      "Epoch 10/250\n",
      "23/23 [==============================] - 46s 2s/step - loss: 1.4941 - accuracy: 0.4077 - auc_2: 0.8311\n",
      "Epoch 11/250\n",
      "23/23 [==============================] - 49s 2s/step - loss: 1.5004 - accuracy: 0.4174 - auc_2: 0.8303\n",
      "Epoch 12/250\n",
      "23/23 [==============================] - 46s 2s/step - loss: 1.4422 - accuracy: 0.4185 - auc_2: 0.8433\n",
      "Epoch 13/250\n",
      "23/23 [==============================] - 46s 2s/step - loss: 1.4984 - accuracy: 0.4078 - auc_2: 0.8301\n",
      "Epoch 14/250\n",
      "23/23 [==============================] - 47s 2s/step - loss: 1.4521 - accuracy: 0.4552 - auc_2: 0.8438\n",
      "Epoch 15/250\n",
      "23/23 [==============================] - 48s 2s/step - loss: 1.3607 - accuracy: 0.4718 - auc_2: 0.8649\n",
      "Epoch 16/250\n",
      "23/23 [==============================] - 47s 2s/step - loss: 1.3741 - accuracy: 0.4890 - auc_2: 0.8621\n",
      "Epoch 17/250\n",
      "23/23 [==============================] - 45s 2s/step - loss: 1.3848 - accuracy: 0.4780 - auc_2: 0.8590\n",
      "Epoch 18/250\n",
      "23/23 [==============================] - 46s 2s/step - loss: 1.3799 - accuracy: 0.4888 - auc_2: 0.8608\n",
      "Epoch 19/250\n",
      "23/23 [==============================] - 48s 2s/step - loss: 1.3208 - accuracy: 0.5034 - auc_2: 0.8726\n",
      "Epoch 20/250\n",
      "23/23 [==============================] - 45s 2s/step - loss: 1.3565 - accuracy: 0.4828 - auc_2: 0.8640\n",
      "Epoch 21/250\n",
      "23/23 [==============================] - 48s 2s/step - loss: 1.2824 - accuracy: 0.5096 - auc_2: 0.8797\n",
      "Epoch 22/250\n",
      "23/23 [==============================] - 48s 2s/step - loss: 1.2927 - accuracy: 0.5062 - auc_2: 0.8786\n",
      "Epoch 23/250\n",
      "23/23 [==============================] - 49s 2s/step - loss: 1.3146 - accuracy: 0.4945 - auc_2: 0.8730\n",
      "Epoch 24/250\n",
      "23/23 [==============================] - 56s 2s/step - loss: 1.2935 - accuracy: 0.5124 - auc_2: 0.8780\n",
      "Epoch 25/250\n",
      "23/23 [==============================] - 57s 2s/step - loss: 1.2840 - accuracy: 0.5124 - auc_2: 0.8793\n",
      "Epoch 26/250\n",
      "23/23 [==============================] - 48s 2s/step - loss: 1.2751 - accuracy: 0.5076 - auc_2: 0.8825\n",
      "Epoch 27/250\n",
      "23/23 [==============================] - 46s 2s/step - loss: 1.3052 - accuracy: 0.5041 - auc_2: 0.8760\n",
      "Epoch 28/250\n",
      "23/23 [==============================] - 47s 2s/step - loss: 1.2825 - accuracy: 0.5048 - auc_2: 0.8822\n",
      "Epoch 29/250\n",
      "23/23 [==============================] - 54s 2s/step - loss: 1.2588 - accuracy: 0.5143 - auc_2: 0.8844\n",
      "Epoch 30/250\n",
      "23/23 [==============================] - 49s 2s/step - loss: 1.2251 - accuracy: 0.5258 - auc_2: 0.8909\n",
      "Epoch 31/250\n",
      "23/23 [==============================] - 48s 2s/step - loss: 1.2667 - accuracy: 0.5207 - auc_2: 0.8855\n",
      "Epoch 32/250\n",
      "23/23 [==============================] - 50s 2s/step - loss: 1.2302 - accuracy: 0.5346 - auc_2: 0.8896\n",
      "Epoch 33/250\n",
      "23/23 [==============================] - 50s 2s/step - loss: 1.2195 - accuracy: 0.5265 - auc_2: 0.8921\n",
      "Epoch 34/250\n",
      "23/23 [==============================] - 50s 2s/step - loss: 1.2354 - accuracy: 0.5344 - auc_2: 0.8896\n",
      "Epoch 35/250\n",
      "23/23 [==============================] - 48s 2s/step - loss: 1.2586 - accuracy: 0.5224 - auc_2: 0.8851\n",
      "Epoch 36/250\n",
      "23/23 [==============================] - 51s 2s/step - loss: 1.2802 - accuracy: 0.5145 - auc_2: 0.8820\n",
      "Epoch 37/250\n",
      "23/23 [==============================] - 46s 2s/step - loss: 1.2228 - accuracy: 0.5286 - auc_2: 0.8915\n",
      "Epoch 38/250\n",
      "23/23 [==============================] - 46s 2s/step - loss: 1.1958 - accuracy: 0.5599 - auc_2: 0.8963\n",
      "Epoch 39/250\n",
      "23/23 [==============================] - 47s 2s/step - loss: 1.2168 - accuracy: 0.5503 - auc_2: 0.8933\n",
      "Epoch 40/250\n",
      "23/23 [==============================] - 47s 2s/step - loss: 1.1343 - accuracy: 0.5720 - auc_2: 0.9082\n",
      "Epoch 41/250\n",
      "23/23 [==============================] - 48s 2s/step - loss: 1.1716 - accuracy: 0.5558 - auc_2: 0.9002\n",
      "Epoch 42/250\n",
      "23/23 [==============================] - 58s 3s/step - loss: 1.1782 - accuracy: 0.5489 - auc_2: 0.9001\n",
      "Epoch 43/250\n",
      "23/23 [==============================] - 57s 2s/step - loss: 1.1180 - accuracy: 0.5847 - auc_2: 0.9107\n",
      "Epoch 44/250\n",
      "23/23 [==============================] - 46s 2s/step - loss: 1.1577 - accuracy: 0.5565 - auc_2: 0.9034\n",
      "Epoch 45/250\n",
      "23/23 [==============================] - 47s 2s/step - loss: 1.1673 - accuracy: 0.5702 - auc_2: 0.9017\n",
      "Epoch 46/250\n",
      "23/23 [==============================] - 50s 2s/step - loss: 1.1217 - accuracy: 0.5888 - auc_2: 0.9091\n",
      "Epoch 47/250\n",
      "23/23 [==============================] - 47s 2s/step - loss: 1.1088 - accuracy: 0.6019 - auc_2: 0.9120\n",
      "Epoch 48/250\n",
      "23/23 [==============================] - 50s 2s/step - loss: 1.1046 - accuracy: 0.5806 - auc_2: 0.9125\n",
      "Epoch 49/250\n",
      "23/23 [==============================] - 46s 2s/step - loss: 1.1638 - accuracy: 0.5792 - auc_2: 0.9014\n",
      "Epoch 50/250\n",
      "23/23 [==============================] - 48s 2s/step - loss: 1.1236 - accuracy: 0.5682 - auc_2: 0.9095\n",
      "Epoch 51/250\n",
      "23/23 [==============================] - 48s 2s/step - loss: 1.1082 - accuracy: 0.6053 - auc_2: 0.9113\n",
      "Epoch 52/250\n",
      "23/23 [==============================] - 46s 2s/step - loss: 1.1384 - accuracy: 0.5971 - auc_2: 0.9059\n",
      "Epoch 53/250\n",
      "23/23 [==============================] - 48s 2s/step - loss: 1.0925 - accuracy: 0.5958 - auc_2: 0.9137\n",
      "Epoch 54/250\n",
      "23/23 [==============================] - 44s 2s/step - loss: 1.0898 - accuracy: 0.6020 - auc_2: 0.9147\n",
      "Epoch 55/250\n",
      "23/23 [==============================] - 48s 2s/step - loss: 1.0785 - accuracy: 0.5985 - auc_2: 0.9163\n",
      "Epoch 56/250\n",
      "23/23 [==============================] - 47s 2s/step - loss: 1.0659 - accuracy: 0.6075 - auc_2: 0.9173\n",
      "Epoch 57/250\n",
      "23/23 [==============================] - 46s 2s/step - loss: 1.0903 - accuracy: 0.5978 - auc_2: 0.9149\n",
      "Epoch 58/250\n",
      "23/23 [==============================] - 46s 2s/step - loss: 1.0807 - accuracy: 0.5854 - auc_2: 0.9163\n",
      "Epoch 59/250\n",
      "23/23 [==============================] - 48s 2s/step - loss: 1.0280 - accuracy: 0.6123 - auc_2: 0.9233\n",
      "Epoch 60/250\n",
      "23/23 [==============================] - 46s 2s/step - loss: 1.0524 - accuracy: 0.6175 - auc_2: 0.9200\n",
      "Epoch 61/250\n",
      "23/23 [==============================] - 48s 2s/step - loss: 1.0781 - accuracy: 0.6027 - auc_2: 0.9165\n",
      "Epoch 62/250\n",
      "23/23 [==============================] - 48s 2s/step - loss: 1.0925 - accuracy: 0.5965 - auc_2: 0.9144\n",
      "Epoch 63/250\n",
      "23/23 [==============================] - 54s 2s/step - loss: 1.0572 - accuracy: 0.6138 - auc_2: 0.9193\n",
      "Epoch 64/250\n",
      "23/23 [==============================] - 51s 2s/step - loss: 1.1089 - accuracy: 0.6047 - auc_2: 0.9111\n",
      "Epoch 65/250\n",
      "23/23 [==============================] - 50s 2s/step - loss: 1.0757 - accuracy: 0.6107 - auc_2: 0.9166\n",
      "Epoch 66/250\n",
      "23/23 [==============================] - 50s 2s/step - loss: 1.0286 - accuracy: 0.6191 - auc_2: 0.9243\n",
      "Epoch 67/250\n",
      "23/23 [==============================] - 51s 2s/step - loss: 1.0248 - accuracy: 0.6205 - auc_2: 0.9248\n",
      "Epoch 68/250\n",
      "23/23 [==============================] - 48s 2s/step - loss: 1.0270 - accuracy: 0.6243 - auc_2: 0.9231\n",
      "Epoch 69/250\n",
      "23/23 [==============================] - 51s 2s/step - loss: 1.0456 - accuracy: 0.6164 - auc_2: 0.9216\n",
      "Epoch 70/250\n",
      "23/23 [==============================] - 51s 2s/step - loss: 1.0298 - accuracy: 0.6135 - auc_2: 0.9236\n",
      "Epoch 71/250\n",
      "23/23 [==============================] - 68s 3s/step - loss: 1.0012 - accuracy: 0.6357 - auc_2: 0.9277\n",
      "Epoch 72/250\n",
      "23/23 [==============================] - 50s 2s/step - loss: 0.9877 - accuracy: 0.6295 - auc_2: 0.9302\n",
      "Epoch 73/250\n",
      "23/23 [==============================] - 50s 2s/step - loss: 0.9606 - accuracy: 0.6591 - auc_2: 0.9333\n",
      "Epoch 74/250\n",
      "23/23 [==============================] - 50s 2s/step - loss: 0.9789 - accuracy: 0.6364 - auc_2: 0.9302\n",
      "Epoch 75/250\n",
      "23/23 [==============================] - 50s 2s/step - loss: 0.9372 - accuracy: 0.6550 - auc_2: 0.9364\n",
      "Epoch 76/250\n",
      "23/23 [==============================] - 50s 2s/step - loss: 0.9926 - accuracy: 0.6350 - auc_2: 0.9286\n",
      "Epoch 77/250\n",
      "23/23 [==============================] - 50s 2s/step - loss: 0.9845 - accuracy: 0.6253 - auc_2: 0.9301\n",
      "Epoch 78/250\n",
      "23/23 [==============================] - 51s 2s/step - loss: 0.9849 - accuracy: 0.6427 - auc_2: 0.9293\n",
      "Epoch 79/250\n",
      "23/23 [==============================] - 51s 2s/step - loss: 0.9759 - accuracy: 0.6371 - auc_2: 0.9303\n",
      "Epoch 80/250\n",
      "23/23 [==============================] - 50s 2s/step - loss: 0.9714 - accuracy: 0.6404 - auc_2: 0.9317\n",
      "Epoch 81/250\n",
      "23/23 [==============================] - 50s 2s/step - loss: 0.9410 - accuracy: 0.6515 - auc_2: 0.9358\n",
      "Epoch 82/250\n",
      "23/23 [==============================] - 50s 2s/step - loss: 0.9651 - accuracy: 0.6334 - auc_2: 0.9322\n",
      "Epoch 83/250\n",
      "23/23 [==============================] - 51s 2s/step - loss: 0.9284 - accuracy: 0.6610 - auc_2: 0.9375\n",
      "Epoch 84/250\n",
      "23/23 [==============================] - 51s 2s/step - loss: 0.9446 - accuracy: 0.6522 - auc_2: 0.9358\n",
      "Epoch 85/250\n",
      "23/23 [==============================] - 48s 2s/step - loss: 0.9103 - accuracy: 0.6577 - auc_2: 0.9401\n",
      "Epoch 86/250\n",
      "23/23 [==============================] - 52s 2s/step - loss: 0.9761 - accuracy: 0.6494 - auc_2: 0.9318\n",
      "Epoch 87/250\n",
      "23/23 [==============================] - 51s 2s/step - loss: 0.9275 - accuracy: 0.6736 - auc_2: 0.9380\n",
      "Epoch 88/250\n",
      "23/23 [==============================] - 49s 2s/step - loss: 0.9873 - accuracy: 0.6302 - auc_2: 0.9293\n",
      "Epoch 89/250\n",
      "23/23 [==============================] - 53s 2s/step - loss: 0.9435 - accuracy: 0.6596 - auc_2: 0.9355\n",
      "Epoch 90/250\n",
      "23/23 [==============================] - 49s 2s/step - loss: 0.9108 - accuracy: 0.6697 - auc_2: 0.9413\n",
      "Epoch 91/250\n",
      "23/23 [==============================] - 49s 2s/step - loss: 0.9310 - accuracy: 0.6577 - auc_2: 0.9375\n",
      "Epoch 92/250\n",
      "23/23 [==============================] - 51s 2s/step - loss: 0.9463 - accuracy: 0.6515 - auc_2: 0.9350\n",
      "Epoch 93/250\n",
      "23/23 [==============================] - 49s 2s/step - loss: 0.9110 - accuracy: 0.6736 - auc_2: 0.9400\n",
      "Epoch 94/250\n",
      "23/23 [==============================] - 52s 2s/step - loss: 0.9023 - accuracy: 0.6694 - auc_2: 0.9420\n",
      "Epoch 95/250\n",
      "23/23 [==============================] - 49s 2s/step - loss: 0.9321 - accuracy: 0.6508 - auc_2: 0.9371\n",
      "Epoch 96/250\n",
      "23/23 [==============================] - 50s 2s/step - loss: 0.9309 - accuracy: 0.6467 - auc_2: 0.9380\n",
      "Epoch 97/250\n",
      "23/23 [==============================] - 50s 2s/step - loss: 0.9320 - accuracy: 0.6536 - auc_2: 0.9369\n",
      "Epoch 98/250\n",
      "23/23 [==============================] - 51s 2s/step - loss: 0.8890 - accuracy: 0.6742 - auc_2: 0.9428\n",
      "Epoch 99/250\n",
      "23/23 [==============================] - 53s 2s/step - loss: 0.8928 - accuracy: 0.6756 - auc_2: 0.9425\n",
      "Epoch 100/250\n",
      "23/23 [==============================] - 46s 2s/step - loss: 0.9015 - accuracy: 0.6742 - auc_2: 0.9413\n",
      "Epoch 101/250\n",
      "23/23 [==============================] - 49s 2s/step - loss: 0.9251 - accuracy: 0.6596 - auc_2: 0.9384\n",
      "Epoch 102/250\n",
      "23/23 [==============================] - 46s 2s/step - loss: 0.9220 - accuracy: 0.6536 - auc_2: 0.9394\n",
      "Epoch 103/250\n",
      "23/23 [==============================] - 46s 2s/step - loss: 0.9088 - accuracy: 0.6711 - auc_2: 0.9403\n",
      "Epoch 104/250\n",
      "23/23 [==============================] - 47s 2s/step - loss: 0.8907 - accuracy: 0.6694 - auc_2: 0.9427\n",
      "Epoch 105/250\n",
      "23/23 [==============================] - 46s 2s/step - loss: 0.9443 - accuracy: 0.6508 - auc_2: 0.9357\n",
      "Epoch 106/250\n",
      "23/23 [==============================] - 47s 2s/step - loss: 0.8691 - accuracy: 0.6827 - auc_2: 0.9455\n",
      "Epoch 107/250\n",
      "23/23 [==============================] - 44s 2s/step - loss: 0.9239 - accuracy: 0.6711 - auc_2: 0.9378\n",
      "Epoch 108/250\n",
      "23/23 [==============================] - 48s 2s/step - loss: 0.8215 - accuracy: 0.6963 - auc_2: 0.9516\n",
      "Epoch 109/250\n",
      "23/23 [==============================] - 49s 2s/step - loss: 0.8212 - accuracy: 0.7025 - auc_2: 0.9510\n",
      "Epoch 110/250\n",
      "23/23 [==============================] - 57s 2s/step - loss: 0.8675 - accuracy: 0.6868 - auc_2: 0.9457\n",
      "Epoch 111/250\n",
      "23/23 [==============================] - 48s 2s/step - loss: 0.9108 - accuracy: 0.6729 - auc_2: 0.9403\n",
      "Epoch 112/250\n",
      "23/23 [==============================] - 51s 2s/step - loss: 0.9082 - accuracy: 0.6729 - auc_2: 0.9401\n",
      "Epoch 113/250\n",
      "23/23 [==============================] - 46s 2s/step - loss: 0.8894 - accuracy: 0.6858 - auc_2: 0.9423\n",
      "Epoch 114/250\n",
      "23/23 [==============================] - 47s 2s/step - loss: 0.8608 - accuracy: 0.6943 - auc_2: 0.9464\n",
      "Epoch 115/250\n",
      "23/23 [==============================] - 46s 2s/step - loss: 0.8522 - accuracy: 0.6928 - auc_2: 0.9473\n",
      "Epoch 116/250\n",
      "23/23 [==============================] - 47s 2s/step - loss: 0.8374 - accuracy: 0.6784 - auc_2: 0.9496\n",
      "Epoch 117/250\n",
      "23/23 [==============================] - 47s 2s/step - loss: 0.8616 - accuracy: 0.6811 - auc_2: 0.9466\n"
     ]
    }
   ],
   "source": [
    "## save best model and use early stopping\n",
    "early_stop = keras.callbacks.EarlyStopping(\n",
    "        monitor='loss',mode='min', patience=8) \n",
    "check_p = keras.callbacks.ModelCheckpoint(\n",
    "        filepath=PATH_MODEL+'just_cake_model_checkpoint2-overfit.h5',\n",
    "        monitor='loss',\n",
    "        mode='min',\n",
    "        save_best_only=True)\n",
    "\n",
    "epoch_hist = just_cake_model.fit(\n",
    "        train_generator,\n",
    "        steps_per_epoch=1516 // BATCH_SIZE,\n",
    "#         validation_data=val_generator,\n",
    "#         validation_steps=160 // BATCH_SIZE,\n",
    "        callbacks=[early_stop,check_p],\n",
    "        epochs=250)"
   ]
  },
  {
   "cell_type": "code",
   "execution_count": null,
   "metadata": {},
   "outputs": [],
   "source": []
  },
  {
   "cell_type": "code",
   "execution_count": null,
   "metadata": {},
   "outputs": [],
   "source": []
  },
  {
   "cell_type": "markdown",
   "metadata": {},
   "source": [
    "## Evaluations"
   ]
  },
  {
   "cell_type": "code",
   "execution_count": 25,
   "metadata": {},
   "outputs": [],
   "source": [
    "df_epoch_hist = pd.DataFrame(epoch_hist.history)"
   ]
  },
  {
   "cell_type": "code",
   "execution_count": 26,
   "metadata": {},
   "outputs": [
    {
     "data": {
      "text/plain": [
       "<AxesSubplot:>"
      ]
     },
     "execution_count": 26,
     "metadata": {},
     "output_type": "execute_result"
    },
    {
     "data": {
      "image/png": "[encoded data removed]",
      "text/plain": [
       "<Figure size 432x288 with 1 Axes>"
      ]
     },
     "metadata": {
      "needs_background": "light"
     },
     "output_type": "display_data"
    }
   ],
   "source": [
    "df_epoch_hist[['loss','accuracy']].plot()"
   ]
  },
  {
   "cell_type": "code",
   "execution_count": null,
   "metadata": {},
   "outputs": [],
   "source": []
  },
  {
   "cell_type": "code",
   "execution_count": 27,
   "metadata": {},
   "outputs": [],
   "source": [
    "df_epoch_hist.to_csv('../artifact/epoch_hist_2-overfit.csv')"
   ]
  },
  {
   "cell_type": "code",
   "execution_count": null,
   "metadata": {},
   "outputs": [],
   "source": []
  },
  {
   "cell_type": "code",
   "execution_count": 28,
   "metadata": {},
   "outputs": [],
   "source": [
    "# depd = {'auc_1' : metrics.AUC}\n",
    "model_load = load_model(PATH_MODEL + 'just_cake_model_checkpoint2-overfit.h5',compile=False)"
   ]
  },
  {
   "cell_type": "code",
   "execution_count": 29,
   "metadata": {},
   "outputs": [],
   "source": [
    "true_labels = train_generator.classes\n",
    "predictions = model_load.predict(train_generator)\n",
    "\n",
    "y_true = true_labels\n",
    "y_pred = np.array([np.argmax(x) for x in predictions])\n",
    "\n",
    "cm = sklearn.metrics.confusion_matrix(y_true, y_pred)"
   ]
  },
  {
   "cell_type": "code",
   "execution_count": 30,
   "metadata": {},
   "outputs": [
    {
     "data": {
      "text/plain": [
       "<AxesSubplot:>"
      ]
     },
     "execution_count": 30,
     "metadata": {},
     "output_type": "execute_result"
    },
    {
     "data": {
      "image/png": "[encoded data removed]",
      "text/plain": [
       "<Figure size 864x576 with 2 Axes>"
      ]
     },
     "metadata": {
      "needs_background": "light"
     },
     "output_type": "display_data"
    }
   ],
   "source": [
    "plt.figure(figsize = (12,8))\n",
    "sns.heatmap(cm, annot= True)"
   ]
  },
  {
   "cell_type": "code",
   "execution_count": 31,
   "metadata": {},
   "outputs": [
    {
     "name": "stdout",
     "output_type": "stream",
     "text": [
      "              precision    recall  f1-score   support\n",
      "\n",
      "           0       0.11      0.10      0.11       192\n",
      "           1       0.15      0.15      0.15       181\n",
      "           2       0.13      0.15      0.14       197\n",
      "           3       0.15      0.10      0.12       201\n",
      "           4       0.13      0.12      0.13       197\n",
      "           5       0.07      0.08      0.07       172\n",
      "           6       0.16      0.19      0.18       196\n",
      "           7       0.14      0.18      0.16       180\n",
      "\n",
      "    accuracy                           0.13      1516\n",
      "   macro avg       0.13      0.13      0.13      1516\n",
      "weighted avg       0.13      0.13      0.13      1516\n",
      "\n"
     ]
    }
   ],
   "source": [
    "print(classification_report(y_true, y_pred))"
   ]
  },
  {
   "cell_type": "code",
   "execution_count": null,
   "metadata": {},
   "outputs": [],
   "source": []
  }
 ],
 "metadata": {
  "kernelspec": {
   "display_name": "onoenv",
   "language": "python",
   "name": "onoenv"
  },
  "language_info": {
   "codemirror_mode": {
    "name": "ipython",
    "version": 3
   },
   "file_extension": ".py",
   "mimetype": "text/x-python",
   "name": "python",
   "nbconvert_exporter": "python",
   "pygments_lexer": "ipython3",
   "version": "3.7.7"
  }
 },
 "nbformat": 4,
 "nbformat_minor": 4
}
