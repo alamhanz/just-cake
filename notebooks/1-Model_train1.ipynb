{
 "cells": [
  {
   "cell_type": "markdown",
   "metadata": {},
   "source": [
    "## Kue Dataset - Model1\n"
   ]
  },
  {
   "cell_type": "code",
   "execution_count": 1,
   "metadata": {},
   "outputs": [],
   "source": [
    "# conda install -c conda-forge keras"
   ]
  },
  {
   "cell_type": "code",
   "execution_count": 2,
   "metadata": {},
   "outputs": [],
   "source": [
    "import os\n",
    "import re\n",
    "import glob\n",
    "\n",
    "import scipy.io\n",
    "import cv2\n",
    "from PIL import Image\n",
    "import pandas as pd\n",
    "import numpy as np\n",
    "import matplotlib.pyplot as plt\n",
    "import tqdm\n",
    "import shutil\n",
    "\n",
    "from sklearn.model_selection import train_test_split\n",
    "from sklearn.metrics import classification_report\n",
    "from scipy.io import loadmat\n",
    "import random\n",
    "import sklearn\n",
    "import seaborn as sns"
   ]
  },
  {
   "cell_type": "code",
   "execution_count": 3,
   "metadata": {},
   "outputs": [],
   "source": [
    "# PATH_DATA = '../data/'\n",
    "PATH_DATA_IMAGES = '../../dataset257/'\n",
    "PATH_DATA_TRAIN = PATH_DATA_IMAGES+'train/'\n",
    "PATH_DATA_VAL = PATH_DATA_IMAGES+'validation/'\n",
    "PATH_DATA_TEST = PATH_DATA_IMAGES+'test/'\n",
    "PATH_MODEL = '../../tmp/'"
   ]
  },
  {
   "cell_type": "code",
   "execution_count": 4,
   "metadata": {},
   "outputs": [
    {
     "data": {
      "text/plain": [
       "['kue_kastengel',\n",
       " 'kue_dadar_gulung',\n",
       " 'kue_klepon',\n",
       " 'kue_risoles',\n",
       " 'kue_lumpur',\n",
       " 'kue_serabi',\n",
       " 'kue_lapis',\n",
       " 'kue_putri_salju']"
      ]
     },
     "execution_count": 4,
     "metadata": {},
     "output_type": "execute_result"
    }
   ],
   "source": [
    "os.listdir(PATH_DATA_TRAIN)"
   ]
  },
  {
   "cell_type": "code",
   "execution_count": null,
   "metadata": {},
   "outputs": [],
   "source": []
  },
  {
   "cell_type": "markdown",
   "metadata": {},
   "source": [
    "## Modeling"
   ]
  },
  {
   "cell_type": "code",
   "execution_count": 5,
   "metadata": {},
   "outputs": [
    {
     "name": "stderr",
     "output_type": "stream",
     "text": [
      "Using TensorFlow backend.\n"
     ]
    }
   ],
   "source": [
    "from keras.models import Sequential\n",
    "from keras.layers import Conv2D, MaxPooling2D, Activation, Dropout, Flatten, Dense\n",
    "from keras.preprocessing.image import ImageDataGenerator\n",
    "from keras import metrics, optimizers\n",
    "import keras\n",
    "import tensorflow as tf\n",
    "from keras.models import load_model\n"
   ]
  },
  {
   "cell_type": "code",
   "execution_count": 6,
   "metadata": {},
   "outputs": [
    {
     "name": "stdout",
     "output_type": "stream",
     "text": [
      "Num GPUs Available:  0\n"
     ]
    }
   ],
   "source": [
    "# sess = tf.compat.v1.Session(config=tf.compat.v1.ConfigProto(log_device_placement=True))\n",
    "# tf.debugging.set_log_device_placement(True)\n",
    "print(\"Num GPUs Available: \", len(tf.config.experimental.list_physical_devices('GPU')))"
   ]
  },
  {
   "cell_type": "code",
   "execution_count": 7,
   "metadata": {},
   "outputs": [
    {
     "data": {
      "text/plain": [
       "{'kue_dadar_gulung': 0,\n",
       " 'kue_kastengel': 1,\n",
       " 'kue_klepon': 2,\n",
       " 'kue_lapis': 3,\n",
       " 'kue_lumpur': 4,\n",
       " 'kue_putri_salju': 5,\n",
       " 'kue_risoles': 6,\n",
       " 'kue_serabi': 7}"
      ]
     },
     "execution_count": 7,
     "metadata": {},
     "output_type": "execute_result"
    }
   ],
   "source": [
    "## label dict\n",
    "lab = [i for i in os.listdir(PATH_DATA_TRAIN) if '.' not in i]\n",
    "lab.sort()\n",
    "\n",
    "label_dict = dict(zip(lab,[i for i in range(len(lab))]))\n",
    "label_dict"
   ]
  },
  {
   "cell_type": "code",
   "execution_count": 8,
   "metadata": {},
   "outputs": [],
   "source": [
    "LABEL_SIZE = len(label_dict.keys())\n",
    "IMAGE_SIZE = 150"
   ]
  },
  {
   "cell_type": "code",
   "execution_count": 9,
   "metadata": {},
   "outputs": [],
   "source": [
    "just_cake_model = Sequential()\n",
    "just_cake_model.add(Conv2D(32, (3, 3), activation ='relu', input_shape=(IMAGE_SIZE, IMAGE_SIZE, 3)))\n",
    "just_cake_model.add(MaxPooling2D(pool_size=(2, 2)))\n",
    "\n",
    "just_cake_model.add(Conv2D(64, (3, 3), activation ='relu'))\n",
    "just_cake_model.add(MaxPooling2D(pool_size=(3, 3)))\n",
    "just_cake_model.add(MaxPooling2D(pool_size=(2, 2)))\n",
    "just_cake_model.add(MaxPooling2D(pool_size=(2, 2)))\n",
    "\n",
    "just_cake_model.add(Flatten())  # this converts our 3D feature maps to 1D feature vectors\n",
    "just_cake_model.add(Dense(512, activation ='relu'))\n",
    "just_cake_model.add(Dense(256, activation ='relu'))\n",
    "# just_cake_model.add(Dropout(0.5))\n",
    "just_cake_model.add(Dense(LABEL_SIZE,activation ='softmax'))"
   ]
  },
  {
   "cell_type": "code",
   "execution_count": 10,
   "metadata": {},
   "outputs": [
    {
     "name": "stdout",
     "output_type": "stream",
     "text": [
      "Model: \"sequential_1\"\n",
      "_________________________________________________________________\n",
      "Layer (type)                 Output Shape              Param #   \n",
      "=================================================================\n",
      "conv2d_1 (Conv2D)            (None, 148, 148, 32)      896       \n",
      "_________________________________________________________________\n",
      "max_pooling2d_1 (MaxPooling2 (None, 74, 74, 32)        0         \n",
      "_________________________________________________________________\n",
      "conv2d_2 (Conv2D)            (None, 72, 72, 64)        18496     \n",
      "_________________________________________________________________\n",
      "max_pooling2d_2 (MaxPooling2 (None, 24, 24, 64)        0         \n",
      "_________________________________________________________________\n",
      "max_pooling2d_3 (MaxPooling2 (None, 12, 12, 64)        0         \n",
      "_________________________________________________________________\n",
      "max_pooling2d_4 (MaxPooling2 (None, 6, 6, 64)          0         \n",
      "_________________________________________________________________\n",
      "flatten_1 (Flatten)          (None, 2304)              0         \n",
      "_________________________________________________________________\n",
      "dense_1 (Dense)              (None, 512)               1180160   \n",
      "_________________________________________________________________\n",
      "dense_2 (Dense)              (None, 256)               131328    \n",
      "_________________________________________________________________\n",
      "dense_3 (Dense)              (None, 8)                 2056      \n",
      "=================================================================\n",
      "Total params: 1,332,936\n",
      "Trainable params: 1,332,936\n",
      "Non-trainable params: 0\n",
      "_________________________________________________________________\n"
     ]
    }
   ],
   "source": [
    "just_cake_model.summary()"
   ]
  },
  {
   "cell_type": "code",
   "execution_count": 11,
   "metadata": {},
   "outputs": [],
   "source": [
    "## compile model\n",
    "opt = optimizers.Adam(learning_rate=0.001)\n",
    "just_cake_model.compile(loss='categorical_crossentropy',\n",
    "              #optimizer='rmsprop',\n",
    "              optimizer = opt,\n",
    "              metrics=['accuracy',metrics.AUC()])"
   ]
  },
  {
   "cell_type": "code",
   "execution_count": null,
   "metadata": {},
   "outputs": [],
   "source": []
  },
  {
   "cell_type": "code",
   "execution_count": 12,
   "metadata": {},
   "outputs": [
    {
     "name": "stdout",
     "output_type": "stream",
     "text": [
      "Found 1516 images belonging to 8 classes.\n",
      "Found 160 images belonging to 8 classes.\n",
      "Found 160 images belonging to 8 classes.\n"
     ]
    }
   ],
   "source": [
    "## data generator\n",
    "BATCH_SIZE = 128\n",
    "train_datagen = ImageDataGenerator(\n",
    "        rescale=1./255,\n",
    "        zoom_range=0.2,\n",
    "        rotation_range=35,\n",
    "        width_shift_range=0.25,\n",
    "        height_shift_range=0.25,\n",
    "        shear_range=0.25,\n",
    "        horizontal_flip=True)\n",
    "\n",
    "val_datagen = ImageDataGenerator(rescale=1./255)\n",
    "test_datagen = ImageDataGenerator(rescale=1./255)\n",
    "\n",
    "\n",
    "train_generator = train_datagen.flow_from_directory(\n",
    "        PATH_DATA_TRAIN,  \n",
    "        target_size=(IMAGE_SIZE, IMAGE_SIZE), \n",
    "        batch_size=BATCH_SIZE,\n",
    "        class_mode=\"categorical\" )  \n",
    "\n",
    "val_generator = val_datagen.flow_from_directory(\n",
    "        PATH_DATA_VAL,  \n",
    "        target_size=(IMAGE_SIZE, IMAGE_SIZE), \n",
    "        batch_size=BATCH_SIZE,\n",
    "        class_mode=\"categorical\" )  \n",
    "\n",
    "test_generator = test_datagen.flow_from_directory(\n",
    "        PATH_DATA_TEST,\n",
    "        target_size=(IMAGE_SIZE, IMAGE_SIZE),\n",
    "        batch_size=BATCH_SIZE,\n",
    "        class_mode=\"categorical\" )"
   ]
  },
  {
   "cell_type": "code",
   "execution_count": null,
   "metadata": {},
   "outputs": [],
   "source": []
  },
  {
   "cell_type": "code",
   "execution_count": 13,
   "metadata": {},
   "outputs": [
    {
     "name": "stdout",
     "output_type": "stream",
     "text": [
      "Epoch 1/250\n",
      "11/11 [==============================] - 43s 4s/step - loss: 2.0678 - accuracy: 0.1549 - auc_1: 0.5507 - val_loss: 1.9843 - val_accuracy: 0.2109 - val_auc_1: 0.6335\n",
      "Epoch 2/250\n",
      "11/11 [==============================] - 34s 3s/step - loss: 1.8944 - accuracy: 0.2615 - auc_1: 0.7006 - val_loss: 1.9472 - val_accuracy: 0.3750 - val_auc_1: 0.6798\n",
      "Epoch 3/250\n",
      "11/11 [==============================] - 35s 3s/step - loss: 1.7318 - accuracy: 0.3141 - auc_1: 0.7606 - val_loss: 1.5934 - val_accuracy: 0.3594 - val_auc_1: 0.8042\n",
      "Epoch 4/250\n",
      "11/11 [==============================] - 35s 3s/step - loss: 1.6141 - accuracy: 0.3602 - auc_1: 0.7975 - val_loss: 1.4350 - val_accuracy: 0.3750 - val_auc_1: 0.8541\n",
      "Epoch 5/250\n",
      "11/11 [==============================] - 36s 3s/step - loss: 1.5415 - accuracy: 0.4041 - auc_1: 0.8209 - val_loss: 1.4652 - val_accuracy: 0.4297 - val_auc_1: 0.8344\n",
      "Epoch 6/250\n",
      "11/11 [==============================] - 35s 3s/step - loss: 1.5200 - accuracy: 0.4240 - auc_1: 0.8257 - val_loss: 1.3607 - val_accuracy: 0.4062 - val_auc_1: 0.8607\n",
      "Epoch 7/250\n",
      "11/11 [==============================] - 37s 3s/step - loss: 1.4521 - accuracy: 0.4467 - auc_1: 0.8415 - val_loss: 1.2932 - val_accuracy: 0.4844 - val_auc_1: 0.8790\n",
      "Epoch 8/250\n",
      "11/11 [==============================] - 34s 3s/step - loss: 1.3634 - accuracy: 0.5007 - auc_1: 0.8627 - val_loss: 1.1654 - val_accuracy: 0.5000 - val_auc_1: 0.9039\n",
      "Epoch 9/250\n",
      "11/11 [==============================] - 36s 3s/step - loss: 1.3216 - accuracy: 0.4986 - auc_1: 0.8721 - val_loss: 1.2199 - val_accuracy: 0.5391 - val_auc_1: 0.8910\n",
      "Epoch 10/250\n",
      "11/11 [==============================] - 35s 3s/step - loss: 1.3044 - accuracy: 0.5216 - auc_1: 0.8753 - val_loss: 1.5139 - val_accuracy: 0.3438 - val_auc_1: 0.8386\n",
      "Epoch 11/250\n",
      "11/11 [==============================] - 36s 3s/step - loss: 1.3031 - accuracy: 0.5051 - auc_1: 0.8756 - val_loss: 1.1989 - val_accuracy: 0.5625 - val_auc_1: 0.8952\n",
      "Epoch 12/250\n",
      "11/11 [==============================] - 34s 3s/step - loss: 1.2580 - accuracy: 0.5412 - auc_1: 0.8841 - val_loss: 1.0664 - val_accuracy: 0.5938 - val_auc_1: 0.9212\n",
      "Epoch 13/250\n",
      "11/11 [==============================] - 35s 3s/step - loss: 1.2263 - accuracy: 0.5756 - auc_1: 0.8912 - val_loss: 1.2023 - val_accuracy: 0.4922 - val_auc_1: 0.8961\n",
      "Epoch 14/250\n",
      "11/11 [==============================] - 35s 3s/step - loss: 1.1758 - accuracy: 0.5710 - auc_1: 0.9000 - val_loss: 0.8960 - val_accuracy: 0.7188 - val_auc_1: 0.9403\n",
      "Epoch 15/250\n",
      "11/11 [==============================] - 35s 3s/step - loss: 1.1638 - accuracy: 0.5797 - auc_1: 0.9028 - val_loss: 1.1229 - val_accuracy: 0.5703 - val_auc_1: 0.9095\n",
      "Epoch 16/250\n",
      "11/11 [==============================] - 37s 3s/step - loss: 1.2077 - accuracy: 0.5582 - auc_1: 0.8942 - val_loss: 1.1711 - val_accuracy: 0.5000 - val_auc_1: 0.9003\n",
      "Epoch 17/250\n",
      "11/11 [==============================] - 35s 3s/step - loss: 1.0814 - accuracy: 0.6153 - auc_1: 0.9169 - val_loss: 1.1045 - val_accuracy: 0.5781 - val_auc_1: 0.9117\n",
      "Epoch 18/250\n",
      "11/11 [==============================] - 39s 4s/step - loss: 1.1554 - accuracy: 0.5621 - auc_1: 0.9031 - val_loss: 0.8339 - val_accuracy: 0.5938 - val_auc_1: 0.9535\n",
      "Epoch 19/250\n",
      "11/11 [==============================] - 46s 4s/step - loss: 1.0386 - accuracy: 0.6218 - auc_1: 0.9226 - val_loss: 0.9524 - val_accuracy: 0.6484 - val_auc_1: 0.9356\n",
      "Epoch 20/250\n",
      "11/11 [==============================] - 48s 4s/step - loss: 1.0976 - accuracy: 0.5888 - auc_1: 0.9129 - val_loss: 1.3972 - val_accuracy: 0.5625 - val_auc_1: 0.8607\n",
      "Epoch 21/250\n",
      "11/11 [==============================] - 36s 3s/step - loss: 1.1099 - accuracy: 0.5814 - auc_1: 0.9120 - val_loss: 1.0935 - val_accuracy: 0.5703 - val_auc_1: 0.9160\n",
      "Epoch 22/250\n",
      "11/11 [==============================] - 35s 3s/step - loss: 1.0817 - accuracy: 0.6160 - auc_1: 0.9148 - val_loss: 1.2002 - val_accuracy: 0.6250 - val_auc_1: 0.8978\n",
      "Epoch 23/250\n",
      "11/11 [==============================] - 38s 3s/step - loss: 1.0202 - accuracy: 0.6354 - auc_1: 0.9254 - val_loss: 1.0106 - val_accuracy: 0.6016 - val_auc_1: 0.9278\n",
      "Epoch 24/250\n",
      "11/11 [==============================] - 36s 3s/step - loss: 1.0097 - accuracy: 0.6427 - auc_1: 0.9268 - val_loss: 0.9770 - val_accuracy: 0.5938 - val_auc_1: 0.9330\n",
      "Epoch 25/250\n",
      "11/11 [==============================] - 38s 3s/step - loss: 0.9819 - accuracy: 0.6506 - auc_1: 0.9302 - val_loss: 0.9562 - val_accuracy: 0.6328 - val_auc_1: 0.9355\n",
      "Epoch 26/250\n",
      "11/11 [==============================] - 36s 3s/step - loss: 0.9909 - accuracy: 0.6362 - auc_1: 0.9292 - val_loss: 1.0014 - val_accuracy: 0.6875 - val_auc_1: 0.9265\n",
      "Epoch 27/250\n",
      "11/11 [==============================] - 37s 3s/step - loss: 0.9691 - accuracy: 0.6455 - auc_1: 0.9323 - val_loss: 1.1861 - val_accuracy: 0.5625 - val_auc_1: 0.9070\n",
      "Epoch 28/250\n",
      "11/11 [==============================] - 37s 3s/step - loss: 0.9980 - accuracy: 0.6357 - auc_1: 0.9283 - val_loss: 1.0040 - val_accuracy: 0.5938 - val_auc_1: 0.9310\n",
      "Epoch 29/250\n",
      "11/11 [==============================] - 37s 3s/step - loss: 0.9974 - accuracy: 0.6326 - auc_1: 0.9290 - val_loss: 0.9275 - val_accuracy: 0.6641 - val_auc_1: 0.9389\n",
      "Epoch 30/250\n",
      "11/11 [==============================] - 37s 3s/step - loss: 0.9914 - accuracy: 0.6542 - auc_1: 0.9285 - val_loss: 1.0258 - val_accuracy: 0.6875 - val_auc_1: 0.9275\n",
      "Epoch 31/250\n",
      "11/11 [==============================] - 37s 3s/step - loss: 0.9931 - accuracy: 0.6383 - auc_1: 0.9292 - val_loss: 0.9571 - val_accuracy: 0.6250 - val_auc_1: 0.9343\n",
      "Epoch 32/250\n",
      "11/11 [==============================] - 44s 4s/step - loss: 0.8827 - accuracy: 0.6837 - auc_1: 0.9447 - val_loss: 0.8461 - val_accuracy: 0.6875 - val_auc_1: 0.9528\n",
      "Epoch 33/250\n",
      "11/11 [==============================] - 50s 5s/step - loss: 0.8783 - accuracy: 0.6837 - auc_1: 0.9451 - val_loss: 0.9248 - val_accuracy: 0.6484 - val_auc_1: 0.9369\n",
      "Epoch 34/250\n",
      "11/11 [==============================] - 53s 5s/step - loss: 0.8819 - accuracy: 0.6765 - auc_1: 0.9435 - val_loss: 0.8254 - val_accuracy: 0.6875 - val_auc_1: 0.9564\n",
      "Epoch 35/250\n",
      "11/11 [==============================] - 46s 4s/step - loss: 0.8436 - accuracy: 0.6981 - auc_1: 0.9487 - val_loss: 0.8889 - val_accuracy: 0.6719 - val_auc_1: 0.9408\n",
      "Epoch 36/250\n",
      "11/11 [==============================] - 53s 5s/step - loss: 0.8441 - accuracy: 0.6967 - auc_1: 0.9482 - val_loss: 1.0751 - val_accuracy: 0.5938 - val_auc_1: 0.9192\n",
      "Epoch 37/250\n",
      "11/11 [==============================] - 47s 4s/step - loss: 0.8354 - accuracy: 0.6888 - auc_1: 0.9505 - val_loss: 0.8892 - val_accuracy: 0.6797 - val_auc_1: 0.9434\n",
      "Epoch 38/250\n",
      "11/11 [==============================] - 45s 4s/step - loss: 0.8184 - accuracy: 0.7053 - auc_1: 0.9516 - val_loss: 1.1175 - val_accuracy: 0.5625 - val_auc_1: 0.9046\n",
      "Epoch 39/250\n",
      "11/11 [==============================] - 43s 4s/step - loss: 0.8402 - accuracy: 0.7003 - auc_1: 0.9489 - val_loss: 0.9478 - val_accuracy: 0.6328 - val_auc_1: 0.9354\n",
      "Epoch 40/250\n",
      "11/11 [==============================] - 58s 5s/step - loss: 0.8058 - accuracy: 0.7097 - auc_1: 0.9531 - val_loss: 0.7477 - val_accuracy: 0.7500 - val_auc_1: 0.9599\n",
      "Epoch 41/250\n",
      "11/11 [==============================] - 81s 7s/step - loss: 0.8338 - accuracy: 0.6989 - auc_1: 0.9490 - val_loss: 0.8764 - val_accuracy: 0.7188 - val_auc_1: 0.9449\n",
      "Epoch 42/250\n",
      "11/11 [==============================] - 99s 9s/step - loss: 0.7784 - accuracy: 0.7205 - auc_1: 0.9562 - val_loss: 1.0857 - val_accuracy: 0.7500 - val_auc_1: 0.9156\n",
      "Epoch 43/250\n",
      "11/11 [==============================] - 65s 6s/step - loss: 0.7511 - accuracy: 0.7457 - auc_1: 0.9597 - val_loss: 0.8680 - val_accuracy: 0.7188 - val_auc_1: 0.9448\n",
      "Epoch 44/250\n",
      "11/11 [==============================] - 83s 8s/step - loss: 0.7458 - accuracy: 0.7255 - auc_1: 0.9599 - val_loss: 0.9289 - val_accuracy: 0.6562 - val_auc_1: 0.9389\n",
      "Epoch 45/250\n",
      "11/11 [==============================] - 96s 9s/step - loss: 0.7360 - accuracy: 0.7471 - auc_1: 0.9608 - val_loss: 0.8185 - val_accuracy: 0.6875 - val_auc_1: 0.9499\n",
      "Epoch 46/250\n",
      "11/11 [==============================] - 57s 5s/step - loss: 0.7220 - accuracy: 0.7356 - auc_1: 0.9626 - val_loss: 1.0725 - val_accuracy: 0.5938 - val_auc_1: 0.9269\n",
      "Epoch 47/250\n",
      "11/11 [==============================] - 72s 7s/step - loss: 0.7266 - accuracy: 0.7334 - auc_1: 0.9617 - val_loss: 0.8751 - val_accuracy: 0.6875 - val_auc_1: 0.9466\n",
      "Epoch 48/250\n",
      "11/11 [==============================] - 57s 5s/step - loss: 0.7020 - accuracy: 0.7615 - auc_1: 0.9640 - val_loss: 0.7965 - val_accuracy: 0.5938 - val_auc_1: 0.9461\n",
      "Epoch 49/250\n",
      "11/11 [==============================] - 60s 5s/step - loss: 0.7463 - accuracy: 0.7341 - auc_1: 0.9594 - val_loss: 0.9146 - val_accuracy: 0.7188 - val_auc_1: 0.9410\n",
      "Epoch 50/250\n",
      "11/11 [==============================] - 56s 5s/step - loss: 0.7785 - accuracy: 0.7341 - auc_1: 0.9564 - val_loss: 1.0440 - val_accuracy: 0.6250 - val_auc_1: 0.9377\n",
      "Epoch 51/250\n",
      "11/11 [==============================] - 63s 6s/step - loss: 0.7434 - accuracy: 0.7421 - auc_1: 0.9598 - val_loss: 0.9641 - val_accuracy: 0.6953 - val_auc_1: 0.9372\n",
      "Epoch 52/250\n",
      "11/11 [==============================] - 81s 7s/step - loss: 0.6947 - accuracy: 0.7500 - auc_1: 0.9656 - val_loss: 0.8562 - val_accuracy: 0.6875 - val_auc_1: 0.9413\n",
      "Epoch 53/250\n",
      "11/11 [==============================] - 45s 4s/step - loss: 0.6798 - accuracy: 0.7543 - auc_1: 0.9665 - val_loss: 0.7396 - val_accuracy: 0.7656 - val_auc_1: 0.9583\n",
      "Epoch 54/250\n",
      "11/11 [==============================] - 69s 6s/step - loss: 0.6650 - accuracy: 0.7695 - auc_1: 0.9680 - val_loss: 1.1879 - val_accuracy: 0.5625 - val_auc_1: 0.9205\n",
      "Epoch 55/250\n",
      "11/11 [==============================] - 60s 5s/step - loss: 0.6019 - accuracy: 0.7820 - auc_1: 0.9749 - val_loss: 0.7804 - val_accuracy: 0.7344 - val_auc_1: 0.9550\n",
      "Epoch 56/250\n",
      "11/11 [==============================] - 55s 5s/step - loss: 0.6807 - accuracy: 0.7565 - auc_1: 0.9660 - val_loss: 0.8698 - val_accuracy: 0.6875 - val_auc_1: 0.9522\n",
      "Epoch 57/250\n",
      "11/11 [==============================] - 60s 5s/step - loss: 0.6391 - accuracy: 0.7709 - auc_1: 0.9706 - val_loss: 0.9719 - val_accuracy: 0.6484 - val_auc_1: 0.9368\n",
      "Epoch 58/250\n",
      "11/11 [==============================] - 90s 8s/step - loss: 0.6434 - accuracy: 0.7723 - auc_1: 0.9701 - val_loss: 1.0048 - val_accuracy: 0.6875 - val_auc_1: 0.9393\n",
      "Epoch 59/250\n",
      "11/11 [==============================] - 61s 6s/step - loss: 0.6364 - accuracy: 0.7738 - auc_1: 0.9704 - val_loss: 0.8203 - val_accuracy: 0.7031 - val_auc_1: 0.9523\n",
      "Epoch 60/250\n",
      "11/11 [==============================] - 55s 5s/step - loss: 0.6389 - accuracy: 0.7731 - auc_1: 0.9702 - val_loss: 0.6666 - val_accuracy: 0.8125 - val_auc_1: 0.9677\n",
      "Epoch 61/250\n",
      "11/11 [==============================] - 72s 7s/step - loss: 0.6352 - accuracy: 0.7774 - auc_1: 0.9712 - val_loss: 0.8735 - val_accuracy: 0.6953 - val_auc_1: 0.9479\n",
      "Epoch 62/250\n",
      "11/11 [==============================] - 54s 5s/step - loss: 0.6327 - accuracy: 0.7731 - auc_1: 0.9707 - val_loss: 0.6567 - val_accuracy: 0.7500 - val_auc_1: 0.9702\n",
      "Epoch 63/250\n",
      "11/11 [==============================] - 46s 4s/step - loss: 0.6175 - accuracy: 0.7867 - auc_1: 0.9719 - val_loss: 0.9202 - val_accuracy: 0.7109 - val_auc_1: 0.9446\n",
      "Epoch 64/250\n",
      "11/11 [==============================] - 62s 6s/step - loss: 0.6427 - accuracy: 0.7752 - auc_1: 0.9701 - val_loss: 0.8113 - val_accuracy: 0.7812 - val_auc_1: 0.9468\n",
      "Epoch 65/250\n",
      "11/11 [==============================] - 61s 6s/step - loss: 0.5910 - accuracy: 0.7947 - auc_1: 0.9745 - val_loss: 1.0627 - val_accuracy: 0.6406 - val_auc_1: 0.9320\n",
      "Epoch 66/250\n",
      "11/11 [==============================] - 59s 5s/step - loss: 0.5923 - accuracy: 0.7862 - auc_1: 0.9748 - val_loss: 0.3897 - val_accuracy: 0.9062 - val_auc_1: 0.9889\n",
      "Epoch 67/250\n",
      "11/11 [==============================] - 66s 6s/step - loss: 0.6234 - accuracy: 0.7822 - auc_1: 0.9712 - val_loss: 0.9895 - val_accuracy: 0.6875 - val_auc_1: 0.9369\n",
      "Epoch 68/250\n",
      "11/11 [==============================] - 59s 5s/step - loss: 0.5993 - accuracy: 0.7860 - auc_1: 0.9738 - val_loss: 0.8221 - val_accuracy: 0.7188 - val_auc_1: 0.9523\n",
      "Epoch 69/250\n",
      "11/11 [==============================] - 76s 7s/step - loss: 0.5646 - accuracy: 0.8134 - auc_1: 0.9763 - val_loss: 0.8405 - val_accuracy: 0.7266 - val_auc_1: 0.9500\n",
      "Epoch 70/250\n",
      "11/11 [==============================] - 97s 9s/step - loss: 0.5949 - accuracy: 0.7820 - auc_1: 0.9734 - val_loss: 0.6913 - val_accuracy: 0.8438 - val_auc_1: 0.9654\n",
      "Epoch 71/250\n",
      "11/11 [==============================] - 95s 9s/step - loss: 0.5150 - accuracy: 0.8177 - auc_1: 0.9806 - val_loss: 0.7657 - val_accuracy: 0.7500 - val_auc_1: 0.9619\n",
      "Epoch 72/250\n",
      "11/11 [==============================] - 64s 6s/step - loss: 0.5381 - accuracy: 0.8148 - auc_1: 0.9783 - val_loss: 0.9767 - val_accuracy: 0.6250 - val_auc_1: 0.9515\n",
      "Epoch 73/250\n",
      "11/11 [==============================] - 56s 5s/step - loss: 0.5210 - accuracy: 0.8170 - auc_1: 0.9801 - val_loss: 0.8537 - val_accuracy: 0.7344 - val_auc_1: 0.9445\n",
      "Epoch 74/250\n",
      "11/11 [==============================] - 67s 6s/step - loss: 0.5091 - accuracy: 0.8210 - auc_1: 0.9809 - val_loss: 0.7643 - val_accuracy: 0.6562 - val_auc_1: 0.9612\n",
      "Epoch 75/250\n",
      "11/11 [==============================] - 71s 6s/step - loss: 0.5435 - accuracy: 0.8112 - auc_1: 0.9779 - val_loss: 0.8424 - val_accuracy: 0.6719 - val_auc_1: 0.9562\n",
      "Epoch 76/250\n",
      "11/11 [==============================] - 86s 8s/step - loss: 0.4985 - accuracy: 0.8329 - auc_1: 0.9820 - val_loss: 0.8429 - val_accuracy: 0.7812 - val_auc_1: 0.9551\n",
      "Epoch 77/250\n",
      "11/11 [==============================] - 98s 9s/step - loss: 0.5052 - accuracy: 0.8264 - auc_1: 0.9809 - val_loss: 0.9034 - val_accuracy: 0.7266 - val_auc_1: 0.9452\n",
      "Epoch 78/250\n",
      "11/11 [==============================] - 74s 7s/step - loss: 0.5118 - accuracy: 0.8092 - auc_1: 0.9805 - val_loss: 0.7749 - val_accuracy: 0.6562 - val_auc_1: 0.9592\n",
      "Epoch 79/250\n",
      "11/11 [==============================] - 85s 8s/step - loss: 0.5029 - accuracy: 0.8264 - auc_1: 0.9815 - val_loss: 0.8765 - val_accuracy: 0.7344 - val_auc_1: 0.9528\n",
      "Epoch 80/250\n",
      "11/11 [==============================] - 109s 10s/step - loss: 0.4941 - accuracy: 0.8300 - auc_1: 0.9814 - val_loss: 1.1322 - val_accuracy: 0.6875 - val_auc_1: 0.9326\n",
      "Epoch 81/250\n",
      "11/11 [==============================] - 111s 10s/step - loss: 0.4754 - accuracy: 0.8331 - auc_1: 0.9832 - val_loss: 0.8999 - val_accuracy: 0.7109 - val_auc_1: 0.9485\n",
      "Epoch 82/250\n",
      "11/11 [==============================] - 87s 8s/step - loss: 0.4657 - accuracy: 0.8494 - auc_1: 0.9840 - val_loss: 0.7571 - val_accuracy: 0.7188 - val_auc_1: 0.9651\n",
      "Epoch 83/250\n",
      "11/11 [==============================] - 78s 7s/step - loss: 0.4137 - accuracy: 0.8537 - auc_1: 0.9877 - val_loss: 0.8773 - val_accuracy: 0.7188 - val_auc_1: 0.9502\n",
      "Epoch 84/250\n",
      "11/11 [==============================] - 86s 8s/step - loss: 0.4334 - accuracy: 0.8473 - auc_1: 0.9859 - val_loss: 0.6091 - val_accuracy: 0.8750 - val_auc_1: 0.9626\n",
      "Epoch 85/250\n",
      "11/11 [==============================] - 65s 6s/step - loss: 0.4347 - accuracy: 0.8451 - auc_1: 0.9856 - val_loss: 0.9175 - val_accuracy: 0.7188 - val_auc_1: 0.9472\n",
      "Epoch 86/250\n",
      "11/11 [==============================] - 62s 6s/step - loss: 0.4566 - accuracy: 0.8408 - auc_1: 0.9839 - val_loss: 0.8208 - val_accuracy: 0.7188 - val_auc_1: 0.9628\n",
      "Epoch 87/250\n",
      "11/11 [==============================] - 54s 5s/step - loss: 0.4738 - accuracy: 0.8281 - auc_1: 0.9827 - val_loss: 0.8659 - val_accuracy: 0.7266 - val_auc_1: 0.9518\n",
      "Epoch 88/250\n",
      "11/11 [==============================] - 71s 6s/step - loss: 0.4708 - accuracy: 0.8392 - auc_1: 0.9833 - val_loss: 0.7149 - val_accuracy: 0.7812 - val_auc_1: 0.9701\n",
      "Epoch 89/250\n",
      "11/11 [==============================] - 60s 5s/step - loss: 0.4283 - accuracy: 0.8480 - auc_1: 0.9871 - val_loss: 0.8728 - val_accuracy: 0.7109 - val_auc_1: 0.9531\n",
      "Epoch 90/250\n",
      "11/11 [==============================] - 48s 4s/step - loss: 0.3912 - accuracy: 0.8622 - auc_1: 0.9892 - val_loss: 1.1610 - val_accuracy: 0.5938 - val_auc_1: 0.9237\n",
      "Epoch 91/250\n",
      "11/11 [==============================] - 65s 6s/step - loss: 0.4039 - accuracy: 0.8523 - auc_1: 0.9881 - val_loss: 0.7752 - val_accuracy: 0.7812 - val_auc_1: 0.9594\n",
      "Epoch 92/250\n",
      "11/11 [==============================] - 59s 5s/step - loss: 0.3896 - accuracy: 0.8651 - auc_1: 0.9885 - val_loss: 1.7138 - val_accuracy: 0.5312 - val_auc_1: 0.8977\n",
      "Epoch 93/250\n",
      "11/11 [==============================] - 49s 4s/step - loss: 0.4410 - accuracy: 0.8350 - auc_1: 0.9850 - val_loss: 0.7879 - val_accuracy: 0.7422 - val_auc_1: 0.9559\n",
      "Epoch 94/250\n",
      "11/11 [==============================] - 37s 3s/step - loss: 0.4143 - accuracy: 0.8566 - auc_1: 0.9871 - val_loss: 1.5264 - val_accuracy: 0.6250 - val_auc_1: 0.9164\n",
      "Epoch 95/250\n",
      "11/11 [==============================] - 41s 4s/step - loss: 0.4490 - accuracy: 0.8343 - auc_1: 0.9846 - val_loss: 0.9752 - val_accuracy: 0.7422 - val_auc_1: 0.9405\n",
      "Epoch 96/250\n",
      "11/11 [==============================] - 34s 3s/step - loss: 0.3856 - accuracy: 0.8725 - auc_1: 0.9891 - val_loss: 0.7053 - val_accuracy: 0.7500 - val_auc_1: 0.9720\n",
      "Epoch 97/250\n",
      "11/11 [==============================] - 36s 3s/step - loss: 0.3570 - accuracy: 0.8840 - auc_1: 0.9910 - val_loss: 0.8025 - val_accuracy: 0.7344 - val_auc_1: 0.9665\n",
      "Epoch 98/250\n",
      "11/11 [==============================] - 38s 3s/step - loss: 0.3561 - accuracy: 0.8800 - auc_1: 0.9905 - val_loss: 0.7791 - val_accuracy: 0.7812 - val_auc_1: 0.9600\n",
      "Epoch 99/250\n",
      "11/11 [==============================] - 41s 4s/step - loss: 0.3769 - accuracy: 0.8757 - auc_1: 0.9885 - val_loss: 0.9338 - val_accuracy: 0.7344 - val_auc_1: 0.9535\n",
      "Epoch 100/250\n",
      "11/11 [==============================] - 44s 4s/step - loss: 0.3315 - accuracy: 0.8898 - auc_1: 0.9918 - val_loss: 0.5577 - val_accuracy: 0.8125 - val_auc_1: 0.9668\n",
      "Epoch 101/250\n",
      "11/11 [==============================] - 965s 88s/step - loss: 0.3712 - accuracy: 0.8674 - auc_1: 0.9892 - val_loss: 1.0158 - val_accuracy: 0.7188 - val_auc_1: 0.9423\n",
      "Epoch 102/250\n",
      "11/11 [==============================] - 533s 48s/step - loss: 0.3190 - accuracy: 0.8920 - auc_1: 0.9925 - val_loss: 0.6212 - val_accuracy: 0.8438 - val_auc_1: 0.9739\n",
      "Epoch 103/250\n",
      "11/11 [==============================] - 41s 4s/step - loss: 0.3971 - accuracy: 0.8667 - auc_1: 0.9880 - val_loss: 0.8396 - val_accuracy: 0.7656 - val_auc_1: 0.9522\n",
      "Epoch 104/250\n",
      "11/11 [==============================] - 41s 4s/step - loss: 0.3678 - accuracy: 0.8754 - auc_1: 0.9892 - val_loss: 1.3500 - val_accuracy: 0.6250 - val_auc_1: 0.9104\n",
      "Epoch 105/250\n",
      "11/11 [==============================] - 36s 3s/step - loss: 0.3660 - accuracy: 0.8718 - auc_1: 0.9901 - val_loss: 0.6916 - val_accuracy: 0.7969 - val_auc_1: 0.9649\n",
      "Epoch 106/250\n",
      "11/11 [==============================] - 37s 3s/step - loss: 0.3606 - accuracy: 0.8754 - auc_1: 0.9903 - val_loss: 1.5002 - val_accuracy: 0.5938 - val_auc_1: 0.9178\n",
      "Epoch 107/250\n",
      "11/11 [==============================] - 37s 3s/step - loss: 0.3225 - accuracy: 0.8919 - auc_1: 0.9926 - val_loss: 0.8288 - val_accuracy: 0.7188 - val_auc_1: 0.9564\n",
      "Epoch 108/250\n",
      "11/11 [==============================] - 35s 3s/step - loss: 0.2932 - accuracy: 0.8977 - auc_1: 0.9939 - val_loss: 1.0455 - val_accuracy: 0.8125 - val_auc_1: 0.9357\n",
      "Epoch 109/250\n",
      "11/11 [==============================] - 37s 3s/step - loss: 0.3305 - accuracy: 0.8854 - auc_1: 0.9914 - val_loss: 1.0231 - val_accuracy: 0.6797 - val_auc_1: 0.9465\n",
      "Epoch 110/250\n",
      "11/11 [==============================] - 34s 3s/step - loss: 0.3272 - accuracy: 0.8782 - auc_1: 0.9920 - val_loss: 0.7890 - val_accuracy: 0.7188 - val_auc_1: 0.9574\n",
      "Epoch 111/250\n",
      "11/11 [==============================] - 35s 3s/step - loss: 0.3460 - accuracy: 0.8768 - auc_1: 0.9906 - val_loss: 1.0256 - val_accuracy: 0.6641 - val_auc_1: 0.9484\n",
      "Epoch 112/250\n",
      "11/11 [==============================] - 36s 3s/step - loss: 0.3195 - accuracy: 0.8977 - auc_1: 0.9904 - val_loss: 0.7668 - val_accuracy: 0.8125 - val_auc_1: 0.9630\n",
      "Epoch 113/250\n",
      "11/11 [==============================] - 36s 3s/step - loss: 0.2951 - accuracy: 0.8977 - auc_1: 0.9931 - val_loss: 0.8534 - val_accuracy: 0.7656 - val_auc_1: 0.9587\n",
      "Epoch 114/250\n",
      "11/11 [==============================] - 37s 3s/step - loss: 0.2708 - accuracy: 0.9055 - auc_1: 0.9943 - val_loss: 1.0918 - val_accuracy: 0.7188 - val_auc_1: 0.9241\n",
      "Epoch 115/250\n",
      "11/11 [==============================] - 35s 3s/step - loss: 0.2942 - accuracy: 0.8984 - auc_1: 0.9926 - val_loss: 1.0243 - val_accuracy: 0.6953 - val_auc_1: 0.9407\n",
      "Epoch 116/250\n",
      "11/11 [==============================] - 36s 3s/step - loss: 0.2925 - accuracy: 0.8963 - auc_1: 0.9937 - val_loss: 0.3863 - val_accuracy: 0.8125 - val_auc_1: 0.9890\n",
      "Epoch 117/250\n",
      "11/11 [==============================] - 35s 3s/step - loss: 0.2626 - accuracy: 0.9128 - auc_1: 0.9942 - val_loss: 0.8342 - val_accuracy: 0.7422 - val_auc_1: 0.9547\n",
      "Epoch 118/250\n",
      "11/11 [==============================] - 34s 3s/step - loss: 0.2833 - accuracy: 0.9013 - auc_1: 0.9938 - val_loss: 1.7360 - val_accuracy: 0.6250 - val_auc_1: 0.9077\n",
      "Epoch 119/250\n",
      "11/11 [==============================] - 37s 3s/step - loss: 0.2598 - accuracy: 0.9056 - auc_1: 0.9952 - val_loss: 0.7447 - val_accuracy: 0.7734 - val_auc_1: 0.9641\n",
      "Epoch 120/250\n",
      "11/11 [==============================] - 35s 3s/step - loss: 0.2887 - accuracy: 0.8955 - auc_1: 0.9937 - val_loss: 1.5709 - val_accuracy: 0.6562 - val_auc_1: 0.9034\n",
      "Epoch 121/250\n",
      "11/11 [==============================] - 37s 3s/step - loss: 0.2827 - accuracy: 0.8977 - auc_1: 0.9939 - val_loss: 0.8863 - val_accuracy: 0.7422 - val_auc_1: 0.9563\n",
      "Epoch 122/250\n",
      "11/11 [==============================] - 34s 3s/step - loss: 0.2843 - accuracy: 0.9013 - auc_1: 0.9932 - val_loss: 1.3972 - val_accuracy: 0.6562 - val_auc_1: 0.9188\n",
      "Epoch 123/250\n",
      "11/11 [==============================] - 36s 3s/step - loss: 0.2549 - accuracy: 0.9070 - auc_1: 0.9952 - val_loss: 0.9727 - val_accuracy: 0.7344 - val_auc_1: 0.9504\n",
      "Epoch 124/250\n",
      "11/11 [==============================] - 37s 3s/step - loss: 0.2294 - accuracy: 0.9269 - auc_1: 0.9952 - val_loss: 0.9213 - val_accuracy: 0.7188 - val_auc_1: 0.9562\n",
      "Epoch 125/250\n",
      "11/11 [==============================] - 37s 3s/step - loss: 0.2473 - accuracy: 0.9205 - auc_1: 0.9945 - val_loss: 1.1094 - val_accuracy: 0.7422 - val_auc_1: 0.9436\n",
      "Epoch 126/250\n",
      "11/11 [==============================] - 33s 3s/step - loss: 0.2743 - accuracy: 0.9072 - auc_1: 0.9939 - val_loss: 1.1918 - val_accuracy: 0.6562 - val_auc_1: 0.9418\n",
      "Epoch 127/250\n",
      "11/11 [==============================] - 37s 3s/step - loss: 0.2624 - accuracy: 0.9070 - auc_1: 0.9947 - val_loss: 0.9424 - val_accuracy: 0.7656 - val_auc_1: 0.9488\n",
      "Epoch 128/250\n",
      "11/11 [==============================] - 34s 3s/step - loss: 0.2511 - accuracy: 0.9157 - auc_1: 0.9951 - val_loss: 1.0942 - val_accuracy: 0.5625 - val_auc_1: 0.9441\n",
      "Epoch 129/250\n",
      "11/11 [==============================] - 38s 3s/step - loss: 0.2429 - accuracy: 0.9164 - auc_1: 0.9953 - val_loss: 0.8401 - val_accuracy: 0.7422 - val_auc_1: 0.9598\n",
      "Epoch 130/250\n",
      "11/11 [==============================] - 35s 3s/step - loss: 0.2201 - accuracy: 0.9280 - auc_1: 0.9949 - val_loss: 1.8354 - val_accuracy: 0.6875 - val_auc_1: 0.8872\n",
      "Epoch 131/250\n",
      "11/11 [==============================] - 36s 3s/step - loss: 0.2243 - accuracy: 0.9200 - auc_1: 0.9964 - val_loss: 0.9936 - val_accuracy: 0.6953 - val_auc_1: 0.9424\n",
      "Epoch 132/250\n",
      "11/11 [==============================] - 34s 3s/step - loss: 0.2550 - accuracy: 0.9200 - auc_1: 0.9942 - val_loss: 1.2555 - val_accuracy: 0.7500 - val_auc_1: 0.9390\n",
      "Epoch 133/250\n",
      "11/11 [==============================] - 37s 3s/step - loss: 0.2365 - accuracy: 0.9193 - auc_1: 0.9953 - val_loss: 1.1363 - val_accuracy: 0.7344 - val_auc_1: 0.9387\n",
      "Epoch 134/250\n",
      "11/11 [==============================] - 35s 3s/step - loss: 0.2551 - accuracy: 0.9114 - auc_1: 0.9948 - val_loss: 0.8284 - val_accuracy: 0.7188 - val_auc_1: 0.9649\n",
      "Epoch 135/250\n",
      "11/11 [==============================] - 37s 3s/step - loss: 0.2697 - accuracy: 0.9135 - auc_1: 0.9926 - val_loss: 0.9488 - val_accuracy: 0.7812 - val_auc_1: 0.9522\n",
      "Epoch 136/250\n",
      "11/11 [==============================] - 34s 3s/step - loss: 0.2343 - accuracy: 0.9143 - auc_1: 0.9958 - val_loss: 1.3284 - val_accuracy: 0.5938 - val_auc_1: 0.9118\n",
      "Epoch 137/250\n",
      "11/11 [==============================] - 34s 3s/step - loss: 0.2597 - accuracy: 0.9035 - auc_1: 0.9941 - val_loss: 1.0659 - val_accuracy: 0.7188 - val_auc_1: 0.9434\n",
      "Epoch 138/250\n",
      "11/11 [==============================] - 36s 3s/step - loss: 0.1977 - accuracy: 0.9352 - auc_1: 0.9966 - val_loss: 1.0304 - val_accuracy: 0.7188 - val_auc_1: 0.9515\n",
      "Epoch 139/250\n",
      "11/11 [==============================] - 37s 3s/step - loss: 0.1948 - accuracy: 0.9403 - auc_1: 0.9968 - val_loss: 0.8888 - val_accuracy: 0.7422 - val_auc_1: 0.9562\n",
      "Epoch 140/250\n",
      "11/11 [==============================] - 34s 3s/step - loss: 0.2473 - accuracy: 0.9107 - auc_1: 0.9955 - val_loss: 1.0368 - val_accuracy: 0.6562 - val_auc_1: 0.9332\n",
      "Epoch 141/250\n",
      "11/11 [==============================] - 36s 3s/step - loss: 0.2318 - accuracy: 0.9186 - auc_1: 0.9955 - val_loss: 1.2096 - val_accuracy: 0.6875 - val_auc_1: 0.9256\n",
      "Epoch 142/250\n",
      "11/11 [==============================] - 35s 3s/step - loss: 0.2155 - accuracy: 0.9265 - auc_1: 0.9967 - val_loss: 0.8610 - val_accuracy: 0.6562 - val_auc_1: 0.9617\n",
      "Epoch 143/250\n",
      "11/11 [==============================] - 40s 4s/step - loss: 0.2588 - accuracy: 0.9078 - auc_1: 0.9944 - val_loss: 0.9082 - val_accuracy: 0.7656 - val_auc_1: 0.9545\n",
      "Epoch 144/250\n",
      "11/11 [==============================] - 36s 3s/step - loss: 0.2209 - accuracy: 0.9236 - auc_1: 0.9953 - val_loss: 1.8458 - val_accuracy: 0.5625 - val_auc_1: 0.8936\n",
      "Epoch 145/250\n",
      "11/11 [==============================] - 36s 3s/step - loss: 0.2078 - accuracy: 0.9308 - auc_1: 0.9964 - val_loss: 0.9019 - val_accuracy: 0.7266 - val_auc_1: 0.9480\n",
      "Epoch 146/250\n",
      "11/11 [==============================] - 35s 3s/step - loss: 0.2039 - accuracy: 0.9330 - auc_1: 0.9956 - val_loss: 1.5003 - val_accuracy: 0.7188 - val_auc_1: 0.9289\n",
      "Epoch 147/250\n",
      "11/11 [==============================] - 37s 3s/step - loss: 0.1954 - accuracy: 0.9308 - auc_1: 0.9964 - val_loss: 0.9982 - val_accuracy: 0.7109 - val_auc_1: 0.9506\n",
      "Epoch 148/250\n",
      "11/11 [==============================] - 35s 3s/step - loss: 0.1828 - accuracy: 0.9366 - auc_1: 0.9973 - val_loss: 1.0893 - val_accuracy: 0.7500 - val_auc_1: 0.9382\n",
      "Epoch 149/250\n",
      "11/11 [==============================] - 38s 3s/step - loss: 0.1770 - accuracy: 0.9467 - auc_1: 0.9970 - val_loss: 1.3298 - val_accuracy: 0.7109 - val_auc_1: 0.9211\n",
      "Epoch 150/250\n",
      "11/11 [==============================] - 37s 3s/step - loss: 0.1841 - accuracy: 0.9395 - auc_1: 0.9972 - val_loss: 0.5286 - val_accuracy: 0.9062 - val_auc_1: 0.9586\n",
      "Epoch 151/250\n",
      "11/11 [==============================] - 39s 4s/step - loss: 0.1697 - accuracy: 0.9411 - auc_1: 0.9978 - val_loss: 1.1279 - val_accuracy: 0.7500 - val_auc_1: 0.9385\n",
      "Epoch 152/250\n",
      "11/11 [==============================] - 36s 3s/step - loss: 0.1754 - accuracy: 0.9380 - auc_1: 0.9978 - val_loss: 0.6362 - val_accuracy: 0.8438 - val_auc_1: 0.9651\n",
      "Epoch 153/250\n",
      "11/11 [==============================] - 40s 4s/step - loss: 0.2068 - accuracy: 0.9280 - auc_1: 0.9966 - val_loss: 1.1530 - val_accuracy: 0.7656 - val_auc_1: 0.9300\n",
      "Epoch 154/250\n",
      "11/11 [==============================] - 36s 3s/step - loss: 0.2160 - accuracy: 0.9229 - auc_1: 0.9956 - val_loss: 0.8235 - val_accuracy: 0.7812 - val_auc_1: 0.9533\n",
      "Epoch 155/250\n",
      "11/11 [==============================] - 40s 4s/step - loss: 0.1756 - accuracy: 0.9402 - auc_1: 0.9971 - val_loss: 1.0597 - val_accuracy: 0.7188 - val_auc_1: 0.9417\n",
      "Epoch 156/250\n",
      "11/11 [==============================] - 36s 3s/step - loss: 0.1792 - accuracy: 0.9438 - auc_1: 0.9971 - val_loss: 1.4844 - val_accuracy: 0.6875 - val_auc_1: 0.9133\n",
      "Epoch 157/250\n",
      "11/11 [==============================] - 38s 3s/step - loss: 0.1526 - accuracy: 0.9496 - auc_1: 0.9982 - val_loss: 0.9793 - val_accuracy: 0.7188 - val_auc_1: 0.9471\n",
      "Epoch 158/250\n",
      "11/11 [==============================] - 39s 4s/step - loss: 0.1605 - accuracy: 0.9453 - auc_1: 0.9978 - val_loss: 1.2028 - val_accuracy: 0.7188 - val_auc_1: 0.9269\n",
      "Epoch 159/250\n",
      "11/11 [==============================] - 38s 3s/step - loss: 0.1635 - accuracy: 0.9393 - auc_1: 0.9981 - val_loss: 1.2332 - val_accuracy: 0.7188 - val_auc_1: 0.9355\n",
      "Epoch 160/250\n",
      "11/11 [==============================] - 36s 3s/step - loss: 0.1758 - accuracy: 0.9380 - auc_1: 0.9971 - val_loss: 0.6735 - val_accuracy: 0.7812 - val_auc_1: 0.9664\n",
      "Epoch 161/250\n",
      "11/11 [==============================] - 42s 4s/step - loss: 0.2046 - accuracy: 0.9244 - auc_1: 0.9961 - val_loss: 0.9352 - val_accuracy: 0.7344 - val_auc_1: 0.9515\n",
      "Epoch 162/250\n",
      "11/11 [==============================] - 37s 3s/step - loss: 0.2317 - accuracy: 0.9155 - auc_1: 0.9954 - val_loss: 1.4248 - val_accuracy: 0.6875 - val_auc_1: 0.9207\n",
      "Epoch 163/250\n",
      "11/11 [==============================] - 40s 4s/step - loss: 0.1844 - accuracy: 0.9371 - auc_1: 0.9971 - val_loss: 1.0201 - val_accuracy: 0.7344 - val_auc_1: 0.9485\n",
      "Epoch 164/250\n",
      "11/11 [==============================] - 38s 3s/step - loss: 0.1573 - accuracy: 0.9445 - auc_1: 0.9977 - val_loss: 0.8976 - val_accuracy: 0.7812 - val_auc_1: 0.9515\n",
      "Epoch 165/250\n",
      "11/11 [==============================] - 41s 4s/step - loss: 0.1362 - accuracy: 0.9503 - auc_1: 0.9985 - val_loss: 0.9369 - val_accuracy: 0.7422 - val_auc_1: 0.9471\n",
      "Epoch 166/250\n",
      "11/11 [==============================] - 38s 3s/step - loss: 0.1697 - accuracy: 0.9408 - auc_1: 0.9976 - val_loss: 1.8433 - val_accuracy: 0.6562 - val_auc_1: 0.8899\n"
     ]
    }
   ],
   "source": [
    "## save best model and use early stopping\n",
    "early_stop = tf.keras.callbacks.EarlyStopping(\n",
    "        monitor='val_loss',mode='min', patience=50) \n",
    "check_p = tf.keras.callbacks.ModelCheckpoint(\n",
    "        filepath=PATH_MODEL+'just_cake_model_checkpoint0.h5',\n",
    "        monitor='val_loss',\n",
    "        mode='min',\n",
    "        save_best_only=True)\n",
    "\n",
    "epoch_hist = just_cake_model.fit(\n",
    "        train_generator,\n",
    "        steps_per_epoch=1516 // BATCH_SIZE,\n",
    "        validation_data=val_generator,\n",
    "        validation_steps=160 // BATCH_SIZE,\n",
    "        callbacks=[early_stop,check_p],\n",
    "        epochs=250)"
   ]
  },
  {
   "cell_type": "code",
   "execution_count": null,
   "metadata": {},
   "outputs": [],
   "source": []
  },
  {
   "cell_type": "code",
   "execution_count": null,
   "metadata": {},
   "outputs": [],
   "source": []
  },
  {
   "cell_type": "markdown",
   "metadata": {},
   "source": [
    "## Evaluations"
   ]
  },
  {
   "cell_type": "code",
   "execution_count": 13,
   "metadata": {},
   "outputs": [
    {
     "ename": "NameError",
     "evalue": "name 'epoch_hist' is not defined",
     "output_type": "error",
     "traceback": [
      "\u001b[0;31m---------------------------------------------------------------------------\u001b[0m",
      "\u001b[0;31mNameError\u001b[0m                                 Traceback (most recent call last)",
      "\u001b[0;32m<ipython-input-13-8c8eca15282f>\u001b[0m in \u001b[0;36m<module>\u001b[0;34m\u001b[0m\n\u001b[0;32m----> 1\u001b[0;31m \u001b[0mdf_epoch_hist\u001b[0m \u001b[0;34m=\u001b[0m \u001b[0mpd\u001b[0m\u001b[0;34m.\u001b[0m\u001b[0mDataFrame\u001b[0m\u001b[0;34m(\u001b[0m\u001b[0mepoch_hist\u001b[0m\u001b[0;34m.\u001b[0m\u001b[0mhistory\u001b[0m\u001b[0;34m)\u001b[0m\u001b[0;34m\u001b[0m\u001b[0;34m\u001b[0m\u001b[0m\n\u001b[0m",
      "\u001b[0;31mNameError\u001b[0m: name 'epoch_hist' is not defined"
     ]
    }
   ],
   "source": [
    "df_epoch_hist = pd.DataFrame(epoch_hist.history)"
   ]
  },
  {
   "cell_type": "code",
   "execution_count": 15,
   "metadata": {},
   "outputs": [
    {
     "data": {
      "text/plain": [
       "<matplotlib.axes._subplots.AxesSubplot at 0x15f28eb50>"
      ]
     },
     "execution_count": 15,
     "metadata": {},
     "output_type": "execute_result"
    },
    {
     "data": {
      "image/png": "[encoded data removed]",
      "text/plain": [
       "<Figure size 432x288 with 1 Axes>"
      ]
     },
     "metadata": {
      "needs_background": "light"
     },
     "output_type": "display_data"
    }
   ],
   "source": [
    "df_epoch_hist[['loss','val_loss']].plot()"
   ]
  },
  {
   "cell_type": "code",
   "execution_count": 16,
   "metadata": {},
   "outputs": [],
   "source": [
    "df_epoch_hist.to_csv('../artifact/epoch_hist_1.csv')"
   ]
  },
  {
   "cell_type": "code",
   "execution_count": null,
   "metadata": {},
   "outputs": [],
   "source": []
  },
  {
   "cell_type": "code",
   "execution_count": 14,
   "metadata": {},
   "outputs": [],
   "source": [
    "# depd = {'auc_1' : metrics.AUC}\n",
    "model_load = load_model(PATH_MODEL + 'just_cake_model_checkpoint0.h5',compile=False)"
   ]
  },
  {
   "cell_type": "code",
   "execution_count": 15,
   "metadata": {},
   "outputs": [],
   "source": [
    "true_labels = val_generator.classes\n",
    "predictions = model_load.predict(val_generator)\n",
    "\n",
    "y_true = true_labels\n",
    "y_pred = np.array([np.argmax(x) for x in predictions])\n",
    "\n",
    "cm = sklearn.metrics.confusion_matrix(y_true, y_pred)"
   ]
  },
  {
   "cell_type": "code",
   "execution_count": 16,
   "metadata": {},
   "outputs": [
    {
     "data": {
      "text/plain": [
       "<matplotlib.axes._subplots.AxesSubplot at 0x148324610>"
      ]
     },
     "execution_count": 16,
     "metadata": {},
     "output_type": "execute_result"
    },
    {
     "data": {
      "image/png": "[encoded data removed]",
      "text/plain": [
       "<Figure size 864x576 with 2 Axes>"
      ]
     },
     "metadata": {
      "needs_background": "light"
     },
     "output_type": "display_data"
    }
   ],
   "source": [
    "plt.figure(figsize = (12,8))\n",
    "sns.heatmap(cm, annot= True)"
   ]
  },
  {
   "cell_type": "code",
   "execution_count": 17,
   "metadata": {},
   "outputs": [
    {
     "name": "stdout",
     "output_type": "stream",
     "text": [
      "              precision    recall  f1-score   support\n",
      "\n",
      "           0       0.14      0.10      0.12        20\n",
      "           1       0.12      0.15      0.13        20\n",
      "           2       0.14      0.15      0.14        20\n",
      "           3       0.04      0.05      0.04        20\n",
      "           4       0.09      0.05      0.06        20\n",
      "           5       0.16      0.15      0.15        20\n",
      "           6       0.32      0.30      0.31        20\n",
      "           7       0.04      0.05      0.05        20\n",
      "\n",
      "    accuracy                           0.12       160\n",
      "   macro avg       0.13      0.12      0.13       160\n",
      "weighted avg       0.13      0.12      0.13       160\n",
      "\n"
     ]
    }
   ],
   "source": [
    "print(classification_report(y_true, y_pred))"
   ]
  },
  {
   "cell_type": "code",
   "execution_count": null,
   "metadata": {},
   "outputs": [],
   "source": []
  }
 ],
 "metadata": {
  "kernelspec": {
   "display_name": "p37",
   "language": "python",
   "name": "p37"
  },
  "language_info": {
   "codemirror_mode": {
    "name": "ipython",
    "version": 3
   },
   "file_extension": ".py",
   "mimetype": "text/x-python",
   "name": "python",
   "nbconvert_exporter": "python",
   "pygments_lexer": "ipython3",
   "version": "3.7.9"
  }
 },
 "nbformat": 4,
 "nbformat_minor": 4
}
