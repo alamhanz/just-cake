{
  "nbformat": 4,
  "nbformat_minor": 0,
  "metadata": {
    "kernelspec": {
      "name": "python3",
      "display_name": "Python 3"
    },
    "colab": {
      "name": "2-Model_train2-overfit2_GPU.ipynb",
      "provenance": []
    },
    "language_info": {
      "name": "python"
    },
    "accelerator": "GPU"
  },
  "cells": [
    {
      "cell_type": "markdown",
      "metadata": {
        "id": "so7LGcBSa8EC"
      },
      "source": [
        "## Kue Dataset - Model6_2\n",
        "Model6_2 --> continue Model6\n"
      ]
    },
    {
      "cell_type": "code",
      "metadata": {
        "id": "HkuDEfDba8EO"
      },
      "source": [
        "# conda install -c conda-forge keras"
      ],
      "execution_count": 146,
      "outputs": []
    },
    {
      "cell_type": "code",
      "metadata": {
        "id": "SvIbOTSWa8EP"
      },
      "source": [
        "import os\n",
        "import re\n",
        "import glob\n",
        "\n",
        "import scipy.io\n",
        "import cv2\n",
        "from PIL import Image\n",
        "import pandas as pd\n",
        "import numpy as np\n",
        "import matplotlib.pyplot as plt\n",
        "import tqdm\n",
        "import shutil\n",
        "\n",
        "from sklearn.model_selection import train_test_split\n",
        "from sklearn.metrics import classification_report\n",
        "from scipy.io import loadmat\n",
        "import random\n",
        "import sklearn\n",
        "import seaborn as sns\n",
        "import matplotlib.pyplot as plt\n"
      ],
      "execution_count": 147,
      "outputs": []
    },
    {
      "cell_type": "code",
      "metadata": {
        "id": "N9_-os7Sbh_c",
        "colab": {
          "base_uri": "https://localhost:8080/"
        },
        "outputId": "95ed74fb-c1f5-4261-ec2f-4a00db5c9b0a"
      },
      "source": [
        "from google.colab import drive\n",
        "drive.mount('/content/drive')"
      ],
      "execution_count": 148,
      "outputs": [
        {
          "output_type": "stream",
          "text": [
            "Drive already mounted at /content/drive; to attempt to forcibly remount, call drive.mount(\"/content/drive\", force_remount=True).\n"
          ],
          "name": "stdout"
        }
      ]
    },
    {
      "cell_type": "code",
      "metadata": {
        "id": "rBaYG307a8EP"
      },
      "source": [
        "# PATH_DATA = '../data/'\n",
        "# PATH_DATA_IMAGES = '../../../../My_Dataset/images/dataset257/'\n",
        "PATH_DATA_IMAGES = 'drive/MyDrive/Repository/Data/dataset257/'\n",
        "PATH_DATA_TRAIN = PATH_DATA_IMAGES+'train/'\n",
        "PATH_DATA_VAL = PATH_DATA_IMAGES+'validation/'\n",
        "PATH_DATA_TEST = PATH_DATA_IMAGES+'test/'\n",
        "PATH_MODEL = 'drive/MyDrive/Repository/Model/'"
      ],
      "execution_count": 149,
      "outputs": []
    },
    {
      "cell_type": "code",
      "metadata": {
        "id": "2HonpXOsa8EQ",
        "colab": {
          "base_uri": "https://localhost:8080/"
        },
        "outputId": "0a71a14a-5266-43e6-a207-e100a6b034d6"
      },
      "source": [
        "os.listdir(PATH_DATA_TRAIN)"
      ],
      "execution_count": 150,
      "outputs": [
        {
          "output_type": "execute_result",
          "data": {
            "text/plain": [
              "['.DS_Store',\n",
              " 'kue_kastengel',\n",
              " 'kue_dadar_gulung',\n",
              " 'kue_risoles',\n",
              " 'kue_klepon',\n",
              " 'kue_putri_salju',\n",
              " 'kue_lumpur',\n",
              " 'kue_lapis',\n",
              " 'kue_serabi']"
            ]
          },
          "metadata": {
            "tags": []
          },
          "execution_count": 150
        }
      ]
    },
    {
      "cell_type": "code",
      "metadata": {
        "id": "Aef6PSaxa8ES"
      },
      "source": [
        ""
      ],
      "execution_count": 150,
      "outputs": []
    },
    {
      "cell_type": "markdown",
      "metadata": {
        "id": "c6iLHlmXa8ES"
      },
      "source": [
        "## Modeling"
      ]
    },
    {
      "cell_type": "code",
      "metadata": {
        "id": "d8tV2RaNa8ES"
      },
      "source": [
        "from keras.models import Sequential, Model\n",
        "from keras.layers import Conv2D, MaxPooling2D, Activation, Dropout, Flatten, Dense\n",
        "from keras.preprocessing.image import ImageDataGenerator\n",
        "from keras import metrics, optimizers\n",
        "import keras\n",
        "import tensorflow as tf\n",
        "from keras.models import load_model\n",
        "from keras.applications import vgg16\n"
      ],
      "execution_count": 151,
      "outputs": []
    },
    {
      "cell_type": "code",
      "metadata": {
        "id": "mrEGDjjHa8ET",
        "colab": {
          "base_uri": "https://localhost:8080/"
        },
        "outputId": "1d8c6dac-0dab-4637-8be0-34e40fbc1181"
      },
      "source": [
        "# sess = tf.compat.v1.Session(config=tf.compat.v1.ConfigProto(log_device_placement=True))\n",
        "# tf.debugging.set_log_device_placement(True)\n",
        "print(\"Num GPUs Available: \", len(tf.config.experimental.list_physical_devices('GPU')))"
      ],
      "execution_count": 152,
      "outputs": [
        {
          "output_type": "stream",
          "text": [
            "Num GPUs Available:  1\n"
          ],
          "name": "stdout"
        }
      ]
    },
    {
      "cell_type": "code",
      "metadata": {
        "id": "uXuKIpmva8EU",
        "colab": {
          "base_uri": "https://localhost:8080/"
        },
        "outputId": "fd391589-d663-42b9-c8e7-32f5f046447b"
      },
      "source": [
        "## label dict\n",
        "lab = [i for i in os.listdir(PATH_DATA_TRAIN) if '.' not in i]\n",
        "lab.sort()\n",
        "\n",
        "label_dict = dict(zip(lab,[i for i in range(len(lab))]))\n",
        "label_dict"
      ],
      "execution_count": 153,
      "outputs": [
        {
          "output_type": "execute_result",
          "data": {
            "text/plain": [
              "{'kue_dadar_gulung': 0,\n",
              " 'kue_kastengel': 1,\n",
              " 'kue_klepon': 2,\n",
              " 'kue_lapis': 3,\n",
              " 'kue_lumpur': 4,\n",
              " 'kue_putri_salju': 5,\n",
              " 'kue_risoles': 6,\n",
              " 'kue_serabi': 7}"
            ]
          },
          "metadata": {
            "tags": []
          },
          "execution_count": 153
        }
      ]
    },
    {
      "cell_type": "code",
      "metadata": {
        "id": "VZqirKGha8EU"
      },
      "source": [
        "LABEL_SIZE = len(label_dict.keys())\n",
        "IMAGE_SIZE = 224"
      ],
      "execution_count": 154,
      "outputs": []
    },
    {
      "cell_type": "code",
      "metadata": {
        "id": "BeicgeK-IzHV"
      },
      "source": [
        "# ?Conv2D"
      ],
      "execution_count": 132,
      "outputs": []
    },
    {
      "cell_type": "code",
      "metadata": {
        "id": "YzCbCVH8a8EU"
      },
      "source": [
        "just_cake_model = load_model(PATH_MODEL + 'just_cake_model-colab6.h5')"
      ],
      "execution_count": 155,
      "outputs": []
    },
    {
      "cell_type": "code",
      "metadata": {
        "id": "BeLsYMtua8EV",
        "colab": {
          "base_uri": "https://localhost:8080/"
        },
        "outputId": "d063cd19-b95f-476f-a731-9ab0b9871e87"
      },
      "source": [
        "just_cake_model.summary()"
      ],
      "execution_count": 156,
      "outputs": [
        {
          "output_type": "stream",
          "text": [
            "Model: \"model_2\"\n",
            "_________________________________________________________________\n",
            "Layer (type)                 Output Shape              Param #   \n",
            "=================================================================\n",
            "input_4 (InputLayer)         [(None, 224, 224, 3)]     0         \n",
            "_________________________________________________________________\n",
            "block1_conv1 (Conv2D)        (None, 224, 224, 64)      1792      \n",
            "_________________________________________________________________\n",
            "block1_conv2 (Conv2D)        (None, 224, 224, 64)      36928     \n",
            "_________________________________________________________________\n",
            "block1_pool (MaxPooling2D)   (None, 112, 112, 64)      0         \n",
            "_________________________________________________________________\n",
            "block2_conv1 (Conv2D)        (None, 112, 112, 128)     73856     \n",
            "_________________________________________________________________\n",
            "block2_conv2 (Conv2D)        (None, 112, 112, 128)     147584    \n",
            "_________________________________________________________________\n",
            "block2_pool (MaxPooling2D)   (None, 56, 56, 128)       0         \n",
            "_________________________________________________________________\n",
            "block3_conv1 (Conv2D)        (None, 56, 56, 256)       295168    \n",
            "_________________________________________________________________\n",
            "block3_conv2 (Conv2D)        (None, 56, 56, 256)       590080    \n",
            "_________________________________________________________________\n",
            "block3_conv3 (Conv2D)        (None, 56, 56, 256)       590080    \n",
            "_________________________________________________________________\n",
            "block3_pool (MaxPooling2D)   (None, 28, 28, 256)       0         \n",
            "_________________________________________________________________\n",
            "block4_conv1 (Conv2D)        (None, 28, 28, 512)       1180160   \n",
            "_________________________________________________________________\n",
            "block4_conv2 (Conv2D)        (None, 28, 28, 512)       2359808   \n",
            "_________________________________________________________________\n",
            "block4_conv3 (Conv2D)        (None, 28, 28, 512)       2359808   \n",
            "_________________________________________________________________\n",
            "block4_pool (MaxPooling2D)   (None, 14, 14, 512)       0         \n",
            "_________________________________________________________________\n",
            "block5_conv1 (Conv2D)        (None, 14, 14, 512)       2359808   \n",
            "_________________________________________________________________\n",
            "block5_conv2 (Conv2D)        (None, 14, 14, 512)       2359808   \n",
            "_________________________________________________________________\n",
            "block5_conv3 (Conv2D)        (None, 14, 14, 512)       2359808   \n",
            "_________________________________________________________________\n",
            "block5_pool (MaxPooling2D)   (None, 7, 7, 512)         0         \n",
            "_________________________________________________________________\n",
            "flatten_3 (Flatten)          (None, 25088)             0         \n",
            "_________________________________________________________________\n",
            "my_dense_cake (Dense)        (None, 8)                 200712    \n",
            "=================================================================\n",
            "Total params: 14,915,400\n",
            "Trainable params: 14,915,400\n",
            "Non-trainable params: 0\n",
            "_________________________________________________________________\n"
          ],
          "name": "stdout"
        }
      ]
    },
    {
      "cell_type": "code",
      "metadata": {
        "id": "bcqj7uusa8EV"
      },
      "source": [
        ""
      ],
      "execution_count": 156,
      "outputs": []
    },
    {
      "cell_type": "code",
      "metadata": {
        "id": "I3ghe_Wxa8EV"
      },
      "source": [
        "## compile model\n",
        "opt = optimizers.Adam(learning_rate=0.00001)\n",
        "just_cake_model.compile(\n",
        "              loss='categorical_crossentropy',\n",
        "              optimizer = opt,\n",
        "              metrics=['accuracy',\n",
        "                       metrics.AUC()])"
      ],
      "execution_count": 158,
      "outputs": []
    },
    {
      "cell_type": "code",
      "metadata": {
        "id": "mVaNvqLwa8EW"
      },
      "source": [
        ""
      ],
      "execution_count": 158,
      "outputs": []
    },
    {
      "cell_type": "code",
      "metadata": {
        "id": "vrqkfHQVa8EW",
        "colab": {
          "base_uri": "https://localhost:8080/"
        },
        "outputId": "2b2cca5e-1a23-48be-c3df-e410f0e23970"
      },
      "source": [
        "## data generator\n",
        "BATCH_SIZE = 32\n",
        "train_datagen = ImageDataGenerator(\n",
        "        rescale=1./255,\n",
        "        zoom_range=0.4,\n",
        "        rotation_range=90,\n",
        "        width_shift_range=0.4,\n",
        "        height_shift_range=0.4,\n",
        "        shear_range=0.75,\n",
        "        horizontal_flip=True\n",
        "        )\n",
        "\n",
        "val_datagen = ImageDataGenerator(rescale=1./255)\n",
        "test_datagen = ImageDataGenerator(rescale=1./255)\n",
        "\n",
        "## Shuffle = True\n",
        "train_generator = train_datagen.flow_from_directory(\n",
        "        PATH_DATA_TRAIN,  \n",
        "        target_size=(IMAGE_SIZE, IMAGE_SIZE), \n",
        "        batch_size=BATCH_SIZE,\n",
        "        seed=301,\n",
        "        class_mode=\"categorical\" )  \n",
        "\n",
        "val_generator = val_datagen.flow_from_directory(\n",
        "        PATH_DATA_VAL,  \n",
        "        target_size=(IMAGE_SIZE, IMAGE_SIZE), \n",
        "        batch_size=BATCH_SIZE,\n",
        "        seed=301,\n",
        "        class_mode=\"categorical\" )  \n",
        "\n",
        "test_generator = test_datagen.flow_from_directory(\n",
        "        PATH_DATA_TEST,\n",
        "        target_size=(IMAGE_SIZE, IMAGE_SIZE),\n",
        "        batch_size=BATCH_SIZE,\n",
        "        seed=301,\n",
        "        class_mode=\"categorical\" )"
      ],
      "execution_count": 159,
      "outputs": [
        {
          "output_type": "stream",
          "text": [
            "Found 1516 images belonging to 8 classes.\n",
            "Found 160 images belonging to 8 classes.\n",
            "Found 160 images belonging to 8 classes.\n"
          ],
          "name": "stdout"
        }
      ]
    },
    {
      "cell_type": "code",
      "metadata": {
        "id": "uLEvwq7ha8EW"
      },
      "source": [
        ""
      ],
      "execution_count": 159,
      "outputs": []
    },
    {
      "cell_type": "code",
      "metadata": {
        "id": "le97FcMUa8EX",
        "colab": {
          "base_uri": "https://localhost:8080/"
        },
        "outputId": "45e42515-d63d-45e8-d29c-099eb7b6bb48"
      },
      "source": [
        "## save best model and use early stopping\n",
        "early_stop = keras.callbacks.EarlyStopping(\n",
        "        monitor='val_loss',mode='min', patience=9) \n",
        "check_p = keras.callbacks.ModelCheckpoint(\n",
        "        filepath=PATH_MODEL+'just_cake_model-colab6_2.h5',\n",
        "        monitor='val_loss',\n",
        "        mode='min',\n",
        "        save_best_only=True)\n",
        "\n",
        "epoch_hist = just_cake_model.fit(\n",
        "        train_generator,\n",
        "        steps_per_epoch=1516 // BATCH_SIZE,\n",
        "        validation_data=val_generator,\n",
        "        validation_steps=160 // BATCH_SIZE,\n",
        "        callbacks=[early_stop,check_p],\n",
        "        epochs=60)"
      ],
      "execution_count": 160,
      "outputs": [
        {
          "output_type": "stream",
          "text": [
            "Epoch 1/60\n",
            "47/47 [==============================] - 44s 922ms/step - loss: 0.5322 - accuracy: 0.8157 - auc_12: 0.9783 - val_loss: 0.3454 - val_accuracy: 0.8750 - val_auc_12: 0.9894\n",
            "Epoch 2/60\n",
            "47/47 [==============================] - 43s 911ms/step - loss: 0.4773 - accuracy: 0.8275 - auc_12: 0.9820 - val_loss: 0.3517 - val_accuracy: 0.8813 - val_auc_12: 0.9892\n",
            "Epoch 3/60\n",
            "47/47 [==============================] - 43s 902ms/step - loss: 0.4156 - accuracy: 0.8623 - auc_12: 0.9864 - val_loss: 0.4206 - val_accuracy: 0.8562 - val_auc_12: 0.9811\n",
            "Epoch 4/60\n",
            "47/47 [==============================] - 43s 903ms/step - loss: 0.4474 - accuracy: 0.8430 - auc_12: 0.9835 - val_loss: 0.3645 - val_accuracy: 0.8813 - val_auc_12: 0.9893\n",
            "Epoch 5/60\n",
            "47/47 [==============================] - 43s 901ms/step - loss: 0.3970 - accuracy: 0.8728 - auc_12: 0.9871 - val_loss: 0.2587 - val_accuracy: 0.9000 - val_auc_12: 0.9932\n",
            "Epoch 6/60\n",
            "47/47 [==============================] - 44s 924ms/step - loss: 0.3892 - accuracy: 0.8706 - auc_12: 0.9887 - val_loss: 0.2710 - val_accuracy: 0.9062 - val_auc_12: 0.9894\n",
            "Epoch 7/60\n",
            "47/47 [==============================] - 43s 915ms/step - loss: 0.3299 - accuracy: 0.8873 - auc_12: 0.9920 - val_loss: 0.2399 - val_accuracy: 0.9000 - val_auc_12: 0.9932\n",
            "Epoch 8/60\n",
            "47/47 [==============================] - 44s 916ms/step - loss: 0.3632 - accuracy: 0.8685 - auc_12: 0.9902 - val_loss: 0.2856 - val_accuracy: 0.8938 - val_auc_12: 0.9920\n",
            "Epoch 9/60\n",
            "47/47 [==============================] - 43s 907ms/step - loss: 0.3768 - accuracy: 0.8819 - auc_12: 0.9872 - val_loss: 0.3444 - val_accuracy: 0.8687 - val_auc_12: 0.9865\n",
            "Epoch 10/60\n",
            "47/47 [==============================] - 43s 905ms/step - loss: 0.3332 - accuracy: 0.8852 - auc_12: 0.9923 - val_loss: 0.2313 - val_accuracy: 0.9312 - val_auc_12: 0.9908\n",
            "Epoch 11/60\n",
            "47/47 [==============================] - 43s 912ms/step - loss: 0.3301 - accuracy: 0.8807 - auc_12: 0.9912 - val_loss: 0.3094 - val_accuracy: 0.9062 - val_auc_12: 0.9918\n",
            "Epoch 12/60\n",
            "47/47 [==============================] - 43s 901ms/step - loss: 0.3401 - accuracy: 0.8850 - auc_12: 0.9904 - val_loss: 0.3267 - val_accuracy: 0.9187 - val_auc_12: 0.9856\n",
            "Epoch 13/60\n",
            "47/47 [==============================] - 43s 902ms/step - loss: 0.3238 - accuracy: 0.9013 - auc_12: 0.9908 - val_loss: 0.1871 - val_accuracy: 0.9563 - val_auc_12: 0.9945\n",
            "Epoch 14/60\n",
            "47/47 [==============================] - 44s 914ms/step - loss: 0.3025 - accuracy: 0.8999 - auc_12: 0.9931 - val_loss: 0.2872 - val_accuracy: 0.9000 - val_auc_12: 0.9899\n",
            "Epoch 15/60\n",
            "47/47 [==============================] - 43s 914ms/step - loss: 0.3168 - accuracy: 0.8977 - auc_12: 0.9901 - val_loss: 0.4758 - val_accuracy: 0.9000 - val_auc_12: 0.9795\n",
            "Epoch 16/60\n",
            "47/47 [==============================] - 43s 905ms/step - loss: 0.2589 - accuracy: 0.9119 - auc_12: 0.9942 - val_loss: 0.2061 - val_accuracy: 0.9438 - val_auc_12: 0.9939\n",
            "Epoch 17/60\n",
            "47/47 [==============================] - 43s 907ms/step - loss: 0.2536 - accuracy: 0.9071 - auc_12: 0.9945 - val_loss: 0.2571 - val_accuracy: 0.9250 - val_auc_12: 0.9907\n",
            "Epoch 18/60\n",
            "47/47 [==============================] - 43s 907ms/step - loss: 0.2592 - accuracy: 0.9102 - auc_12: 0.9938 - val_loss: 0.2836 - val_accuracy: 0.9125 - val_auc_12: 0.9870\n",
            "Epoch 19/60\n",
            "47/47 [==============================] - 43s 903ms/step - loss: 0.2675 - accuracy: 0.9119 - auc_12: 0.9942 - val_loss: 0.2774 - val_accuracy: 0.9312 - val_auc_12: 0.9839\n",
            "Epoch 20/60\n",
            "47/47 [==============================] - 43s 905ms/step - loss: 0.1960 - accuracy: 0.9358 - auc_12: 0.9968 - val_loss: 0.4985 - val_accuracy: 0.8625 - val_auc_12: 0.9776\n",
            "Epoch 21/60\n",
            "47/47 [==============================] - 43s 917ms/step - loss: 0.2272 - accuracy: 0.9159 - auc_12: 0.9961 - val_loss: 0.2970 - val_accuracy: 0.9250 - val_auc_12: 0.9874\n",
            "Epoch 22/60\n",
            "47/47 [==============================] - 43s 911ms/step - loss: 0.2119 - accuracy: 0.9352 - auc_12: 0.9958 - val_loss: 0.2292 - val_accuracy: 0.9312 - val_auc_12: 0.9939\n"
          ],
          "name": "stdout"
        }
      ]
    },
    {
      "cell_type": "code",
      "metadata": {
        "id": "f7M0VUjRa8EX"
      },
      "source": [
        " "
      ],
      "execution_count": 160,
      "outputs": []
    },
    {
      "cell_type": "markdown",
      "metadata": {
        "id": "vYNh90-1a8EY"
      },
      "source": [
        "## Evaluations"
      ]
    },
    {
      "cell_type": "code",
      "metadata": {
        "id": "YZVpHz9sa8EY"
      },
      "source": [
        "df_epoch_hist = pd.DataFrame(epoch_hist.history)"
      ],
      "execution_count": 161,
      "outputs": []
    },
    {
      "cell_type": "code",
      "metadata": {
        "id": "Kt-rcVuna8EY",
        "colab": {
          "base_uri": "https://localhost:8080/",
          "height": 282
        },
        "outputId": "c228d71d-0566-4738-9bb9-36aeeaa77377"
      },
      "source": [
        "df_epoch_hist[['val_loss','loss']].plot()"
      ],
      "execution_count": 162,
      "outputs": [
        {
          "output_type": "execute_result",
          "data": {
            "text/plain": [
              "<matplotlib.axes._subplots.AxesSubplot at 0x7f781c632910>"
            ]
          },
          "metadata": {
            "tags": []
          },
          "execution_count": 162
        },
        {
          "output_type": "display_data",
          "data": {
            "image/png": "[encoded data removed]",
            "text/plain": [
              "<Figure size 432x288 with 1 Axes>"
            ]
          },
          "metadata": {
            "tags": [],
            "needs_background": "light"
          }
        }
      ]
    },
    {
      "cell_type": "code",
      "metadata": {
        "id": "S55RWENTa8EZ"
      },
      "source": [
        ""
      ],
      "execution_count": 162,
      "outputs": []
    },
    {
      "cell_type": "code",
      "metadata": {
        "id": "8ZyYSsSaa8EZ"
      },
      "source": [
        "# depd = {'auc_1' : metrics.AUC}\n",
        "model_load6_2 = load_model(PATH_MODEL + 'just_cake_model-colab6_2.h5')"
      ],
      "execution_count": 163,
      "outputs": []
    },
    {
      "cell_type": "code",
      "metadata": {
        "colab": {
          "base_uri": "https://localhost:8080/"
        },
        "id": "k3flvFif2Oh5",
        "outputId": "0fe9fd02-49cb-44c1-ed3c-7036deca54aa"
      },
      "source": [
        "model_load6_2.evaluate(val_generator)"
      ],
      "execution_count": 168,
      "outputs": [
        {
          "output_type": "stream",
          "text": [
            "5/5 [==============================] - 2s 375ms/step - loss: 0.1871 - accuracy: 0.9563 - auc_12: 0.9945\n"
          ],
          "name": "stdout"
        },
        {
          "output_type": "execute_result",
          "data": {
            "text/plain": [
              "[0.187102273106575, 0.956250011920929, 0.9944642186164856]"
            ]
          },
          "metadata": {
            "tags": []
          },
          "execution_count": 168
        }
      ]
    },
    {
      "cell_type": "code",
      "metadata": {
        "id": "aPYSn6PH5e8z"
      },
      "source": [
        "def eval_model(gen_,model_load):\n",
        "  per = np.random.permutation(gen_.n)\n",
        "  gen_.index_array = per\n",
        "  y_true = gen_.classes[per]\n",
        "\n",
        "  predictions = model_load.predict(gen_)\n",
        "  y_pred = np.argmax(predictions, axis=1)\n",
        "\n",
        "  cm = sklearn.metrics.confusion_matrix(y_true, y_pred)\n",
        "  plt.figure(figsize = (12,8))\n",
        "  sns.heatmap(cm, annot= True)\n",
        "  print(classification_report(y_true, y_pred))"
      ],
      "execution_count": 165,
      "outputs": []
    },
    {
      "cell_type": "code",
      "metadata": {
        "id": "r9ORPhvoHJcS"
      },
      "source": [
        ""
      ],
      "execution_count": 165,
      "outputs": []
    },
    {
      "cell_type": "markdown",
      "metadata": {
        "id": "4XLIgNWzHJq8"
      },
      "source": [
        "#### 1. Train"
      ]
    },
    {
      "cell_type": "code",
      "metadata": {
        "colab": {
          "base_uri": "https://localhost:8080/",
          "height": 738
        },
        "id": "-q1p5srg5lUE",
        "outputId": "7485f1e8-d9b6-4f1a-b368-6793eb417bc4"
      },
      "source": [
        "eval_model(train_generator, model_load6_2)"
      ],
      "execution_count": 167,
      "outputs": [
        {
          "output_type": "stream",
          "text": [
            "              precision    recall  f1-score   support\n",
            "\n",
            "           0       0.89      0.88      0.88       192\n",
            "           1       0.84      0.96      0.90       181\n",
            "           2       0.99      0.94      0.96       197\n",
            "           3       0.89      0.94      0.91       201\n",
            "           4       0.91      0.92      0.91       197\n",
            "           5       0.97      0.88      0.93       172\n",
            "           6       0.88      0.90      0.89       196\n",
            "           7       0.92      0.84      0.88       180\n",
            "\n",
            "    accuracy                           0.91      1516\n",
            "   macro avg       0.91      0.91      0.91      1516\n",
            "weighted avg       0.91      0.91      0.91      1516\n",
            "\n"
          ],
          "name": "stdout"
        },
        {
          "output_type": "display_data",
          "data": {
            "image/png": "[encoded data removed]",
            "text/plain": [
              "<Figure size 864x576 with 2 Axes>"
            ]
          },
          "metadata": {
            "tags": [],
            "needs_background": "light"
          }
        }
      ]
    },
    {
      "cell_type": "code",
      "metadata": {
        "id": "buhwuizga8Eb"
      },
      "source": [
        ""
      ],
      "execution_count": 143,
      "outputs": []
    },
    {
      "cell_type": "markdown",
      "metadata": {
        "id": "KzcEymkyHQIg"
      },
      "source": [
        "#### 2. Validations"
      ]
    },
    {
      "cell_type": "code",
      "metadata": {
        "id": "SI1iniF7HQIg",
        "colab": {
          "base_uri": "https://localhost:8080/",
          "height": 742
        },
        "outputId": "5219b8ab-f5c8-4d8c-d7b9-df05efe468ff"
      },
      "source": [
        "eval_model(val_generator, model_load6_2)"
      ],
      "execution_count": 166,
      "outputs": [
        {
          "output_type": "stream",
          "text": [
            "              precision    recall  f1-score   support\n",
            "\n",
            "           0       0.95      0.90      0.92        20\n",
            "           1       0.91      1.00      0.95        20\n",
            "           2       0.90      0.95      0.93        20\n",
            "           3       1.00      0.90      0.95        20\n",
            "           4       1.00      0.95      0.97        20\n",
            "           5       1.00      0.95      0.97        20\n",
            "           6       0.95      1.00      0.98        20\n",
            "           7       0.95      1.00      0.98        20\n",
            "\n",
            "    accuracy                           0.96       160\n",
            "   macro avg       0.96      0.96      0.96       160\n",
            "weighted avg       0.96      0.96      0.96       160\n",
            "\n"
          ],
          "name": "stdout"
        },
        {
          "output_type": "display_data",
          "data": {
            "image/png": "[encoded data removed]",
            "text/plain": [
              "<Figure size 864x576 with 2 Axes>"
            ]
          },
          "metadata": {
            "tags": [],
            "needs_background": "light"
          }
        }
      ]
    },
    {
      "cell_type": "code",
      "metadata": {
        "id": "xXX1k6FtHmpz"
      },
      "source": [
        ""
      ],
      "execution_count": 144,
      "outputs": []
    },
    {
      "cell_type": "markdown",
      "metadata": {
        "id": "C9hTA7_I5Akq"
      },
      "source": [
        "#### 3. Test"
      ]
    },
    {
      "cell_type": "code",
      "metadata": {
        "colab": {
          "base_uri": "https://localhost:8080/",
          "height": 738
        },
        "id": "osh2xJav5Akq",
        "outputId": "9d114078-f04b-446e-d33a-4322e65ed848"
      },
      "source": [
        "eval_model(test_generator, model_load6_2)"
      ],
      "execution_count": 169,
      "outputs": [
        {
          "output_type": "stream",
          "text": [
            "              precision    recall  f1-score   support\n",
            "\n",
            "           0       1.00      0.90      0.95        20\n",
            "           1       0.95      0.95      0.95        22\n",
            "           2       1.00      0.95      0.97        20\n",
            "           3       1.00      1.00      1.00        20\n",
            "           4       0.77      1.00      0.87        20\n",
            "           5       0.94      0.89      0.91        18\n",
            "           6       1.00      0.95      0.97        20\n",
            "           7       0.89      0.85      0.87        20\n",
            "\n",
            "    accuracy                           0.94       160\n",
            "   macro avg       0.94      0.94      0.94       160\n",
            "weighted avg       0.95      0.94      0.94       160\n",
            "\n"
          ],
          "name": "stdout"
        },
        {
          "output_type": "display_data",
          "data": {
            "image/png": "[encoded data removed]",
            "text/plain": [
              "<Figure size 864x576 with 2 Axes>"
            ]
          },
          "metadata": {
            "tags": [],
            "needs_background": "light"
          }
        }
      ]
    },
    {
      "cell_type": "code",
      "metadata": {
        "id": "JqCrvl236B3q"
      },
      "source": [
        ""
      ],
      "execution_count": null,
      "outputs": []
    }
  ]
}